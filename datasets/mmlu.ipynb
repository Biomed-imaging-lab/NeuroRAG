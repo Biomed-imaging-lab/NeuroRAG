{
 "cells": [
  {
   "cell_type": "code",
   "execution_count": 12,
   "metadata": {},
   "outputs": [],
   "source": [
    "import datasets\n",
    "import pandas as pd\n",
    "from tqdm import tqdm"
   ]
  },
  {
   "cell_type": "code",
   "execution_count": 13,
   "metadata": {},
   "outputs": [
    {
     "data": {
      "text/html": [
       "<div>\n",
       "<style scoped>\n",
       "    .dataframe tbody tr th:only-of-type {\n",
       "        vertical-align: middle;\n",
       "    }\n",
       "\n",
       "    .dataframe tbody tr th {\n",
       "        vertical-align: top;\n",
       "    }\n",
       "\n",
       "    .dataframe thead th {\n",
       "        text-align: right;\n",
       "    }\n",
       "</style>\n",
       "<table border=\"1\" class=\"dataframe\">\n",
       "  <thead>\n",
       "    <tr style=\"text-align: right;\">\n",
       "      <th></th>\n",
       "      <th>question</th>\n",
       "      <th>answer</th>\n",
       "    </tr>\n",
       "  </thead>\n",
       "  <tbody>\n",
       "  </tbody>\n",
       "</table>\n",
       "</div>"
      ],
      "text/plain": [
       "Empty DataFrame\n",
       "Columns: [question, answer]\n",
       "Index: []"
      ]
     },
     "execution_count": 13,
     "metadata": {},
     "output_type": "execute_result"
    }
   ],
   "source": [
    "df = pd.DataFrame(columns=['question', 'answer'])\n",
    "df"
   ]
  },
  {
   "cell_type": "code",
   "execution_count": 14,
   "metadata": {},
   "outputs": [
    {
     "name": "stderr",
     "output_type": "stream",
     "text": [
      "Subsets: 100%|██████████| 8/8 [00:57<00:00,  7.13s/it]\n"
     ]
    },
    {
     "data": {
      "text/html": [
       "<div>\n",
       "<style scoped>\n",
       "    .dataframe tbody tr th:only-of-type {\n",
       "        vertical-align: middle;\n",
       "    }\n",
       "\n",
       "    .dataframe tbody tr th {\n",
       "        vertical-align: top;\n",
       "    }\n",
       "\n",
       "    .dataframe thead th {\n",
       "        text-align: right;\n",
       "    }\n",
       "</style>\n",
       "<table border=\"1\" class=\"dataframe\">\n",
       "  <thead>\n",
       "    <tr style=\"text-align: right;\">\n",
       "      <th></th>\n",
       "      <th>question</th>\n",
       "      <th>answer</th>\n",
       "    </tr>\n",
       "  </thead>\n",
       "  <tbody>\n",
       "    <tr>\n",
       "      <th>0</th>\n",
       "      <td>A lesion causing compression of the facial ner...</td>\n",
       "      <td>paralysis of the facial muscles.</td>\n",
       "    </tr>\n",
       "    <tr>\n",
       "      <th>1</th>\n",
       "      <td>A \"dished face\" profile is often associated with</td>\n",
       "      <td>a recessive maxilla due to failure of elongati...</td>\n",
       "    </tr>\n",
       "    <tr>\n",
       "      <th>2</th>\n",
       "      <td>Which of the following best describes the stru...</td>\n",
       "      <td>Bladder</td>\n",
       "    </tr>\n",
       "    <tr>\n",
       "      <th>3</th>\n",
       "      <td>Which of the following structures is derived f...</td>\n",
       "      <td>Melanocytes</td>\n",
       "    </tr>\n",
       "    <tr>\n",
       "      <th>4</th>\n",
       "      <td>Which of the following describes the cluster o...</td>\n",
       "      <td>Glomerulus</td>\n",
       "    </tr>\n",
       "    <tr>\n",
       "      <th>...</th>\n",
       "      <td>...</td>\n",
       "      <td>...</td>\n",
       "    </tr>\n",
       "    <tr>\n",
       "      <th>55</th>\n",
       "      <td>Which of the following conditions best charact...</td>\n",
       "      <td>Observable events</td>\n",
       "    </tr>\n",
       "    <tr>\n",
       "      <th>56</th>\n",
       "      <td>Which of the following endocrine glands is NOT...</td>\n",
       "      <td>hypothalamus–thyroid-stimulating hormone</td>\n",
       "    </tr>\n",
       "    <tr>\n",
       "      <th>57</th>\n",
       "      <td>Which of the following drugs is classified as ...</td>\n",
       "      <td>nicotine</td>\n",
       "    </tr>\n",
       "    <tr>\n",
       "      <th>58</th>\n",
       "      <td>School psychologists serve a variety of client...</td>\n",
       "      <td>student</td>\n",
       "    </tr>\n",
       "    <tr>\n",
       "      <th>59</th>\n",
       "      <td>Why are psychoanalysts sometimes interested in...</td>\n",
       "      <td>Some psychoanalysts believe that dream symbols...</td>\n",
       "    </tr>\n",
       "  </tbody>\n",
       "</table>\n",
       "<p>2546 rows × 2 columns</p>\n",
       "</div>"
      ],
      "text/plain": [
       "                                             question  \\\n",
       "0   A lesion causing compression of the facial ner...   \n",
       "1    A \"dished face\" profile is often associated with   \n",
       "2   Which of the following best describes the stru...   \n",
       "3   Which of the following structures is derived f...   \n",
       "4   Which of the following describes the cluster o...   \n",
       "..                                                ...   \n",
       "55  Which of the following conditions best charact...   \n",
       "56  Which of the following endocrine glands is NOT...   \n",
       "57  Which of the following drugs is classified as ...   \n",
       "58  School psychologists serve a variety of client...   \n",
       "59  Why are psychoanalysts sometimes interested in...   \n",
       "\n",
       "                                               answer  \n",
       "0                    paralysis of the facial muscles.  \n",
       "1   a recessive maxilla due to failure of elongati...  \n",
       "2                                             Bladder  \n",
       "3                                         Melanocytes  \n",
       "4                                          Glomerulus  \n",
       "..                                                ...  \n",
       "55                                  Observable events  \n",
       "56           hypothalamus–thyroid-stimulating hormone  \n",
       "57                                           nicotine  \n",
       "58                                            student  \n",
       "59  Some psychoanalysts believe that dream symbols...  \n",
       "\n",
       "[2546 rows x 2 columns]"
      ]
     },
     "execution_count": 14,
     "metadata": {},
     "output_type": "execute_result"
    }
   ],
   "source": [
    "mmlu_subsets = [\n",
    "  'anatomy',\n",
    "  'college_biology',\n",
    "  'high_school_biology',\n",
    "  'college_medicine',\n",
    "  'professional_medicine',\n",
    "  'medical_genetics',\n",
    "  'professional_psychology',\n",
    "  'high_school_psychology',\n",
    "]\n",
    "\n",
    "for subset in tqdm(mmlu_subsets, desc='Subsets'):\n",
    "  dataset = datasets.load_dataset('cais/mmlu', subset)\n",
    "  test_df = dataset['test'].to_pandas()\n",
    "  validation_df = dataset['validation'].to_pandas()\n",
    "  subset_df = pd.concat((test_df, validation_df))\n",
    "  subset_df['answer'] = subset_df.apply(lambda x: x['choices'][x['answer']], axis=1)\n",
    "\n",
    "  df = pd.concat((df, subset_df[['question', 'answer']]))\n",
    "\n",
    "df"
   ]
  },
  {
   "cell_type": "code",
   "execution_count": 15,
   "metadata": {},
   "outputs": [],
   "source": [
    "df.to_csv('mmlu.csv', index=False)"
   ]
  }
 ],
 "metadata": {
  "kernelspec": {
   "display_name": "base",
   "language": "python",
   "name": "python3"
  },
  "language_info": {
   "codemirror_mode": {
    "name": "ipython",
    "version": 3
   },
   "file_extension": ".py",
   "mimetype": "text/x-python",
   "name": "python",
   "nbconvert_exporter": "python",
   "pygments_lexer": "ipython3",
   "version": "3.12.2"
  }
 },
 "nbformat": 4,
 "nbformat_minor": 2
}
