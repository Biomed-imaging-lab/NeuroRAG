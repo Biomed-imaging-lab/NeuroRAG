{
 "cells": [
  {
   "cell_type": "markdown",
   "metadata": {},
   "source": [
    "# MMLU (Massive Multitask Language Understanding) RAG Evaluation\n",
    "\n",
    "The MMLU benchmark evaluates language models across over 50 diverse domains, from basic subjects like history and mathematics to advanced fields such as law and medicine. This comprehensive framework measures the generalization and robustness of language models, making it a crucial tool for advancing natural language processing and developing more versatile AI systems.\n",
    "\n",
    "Within this notebook, we will be conducting an evaluation of LangChain's RAG models.\n",
    "\n",
    "https://huggingface.co/datasets/cais/mmlu\n",
    "https://docs.confident-ai.com/docs/benchmarks-mmlu\n",
    "https://luv-bansal.medium.com/benchmarking-llms-how-to-evaluate-language-model-performance-b5d061cc8679\n",
    "https://www.kaggle.com/code/debarshichanda/llm-evaluation-mmlu-style\n",
    "https://deepgram.com/learn/mmlu-llm-benchmark-guide"
   ]
  },
  {
   "cell_type": "markdown",
   "metadata": {},
   "source": [
    "## Import packages"
   ]
  },
  {
   "cell_type": "code",
   "execution_count": 7,
   "metadata": {},
   "outputs": [
    {
     "name": "stdout",
     "output_type": "stream",
     "text": [
      "Requirement already satisfied: datasets in /opt/homebrew/Caskroom/miniconda/base/envs/test/lib/python3.8/site-packages (2.21.0)\n",
      "Requirement already satisfied: langchain in /opt/homebrew/Caskroom/miniconda/base/envs/test/lib/python3.8/site-packages (0.2.16)\n",
      "Requirement already satisfied: langchain-core in /opt/homebrew/Caskroom/miniconda/base/envs/test/lib/python3.8/site-packages (0.2.38)\n",
      "Requirement already satisfied: langchain-community in /opt/homebrew/Caskroom/miniconda/base/envs/test/lib/python3.8/site-packages (0.2.16)\n",
      "Requirement already satisfied: docarray in /opt/homebrew/Caskroom/miniconda/base/envs/test/lib/python3.8/site-packages (0.40.0)\n",
      "Requirement already satisfied: filelock in /opt/homebrew/Caskroom/miniconda/base/envs/test/lib/python3.8/site-packages (from datasets) (3.16.0)\n",
      "Requirement already satisfied: numpy>=1.17 in /opt/homebrew/Caskroom/miniconda/base/envs/test/lib/python3.8/site-packages (from datasets) (1.24.4)\n",
      "Requirement already satisfied: pyarrow>=15.0.0 in /opt/homebrew/Caskroom/miniconda/base/envs/test/lib/python3.8/site-packages (from datasets) (17.0.0)\n",
      "Requirement already satisfied: dill<0.3.9,>=0.3.0 in /opt/homebrew/Caskroom/miniconda/base/envs/test/lib/python3.8/site-packages (from datasets) (0.3.8)\n",
      "Requirement already satisfied: pandas in /opt/homebrew/Caskroom/miniconda/base/envs/test/lib/python3.8/site-packages (from datasets) (2.0.3)\n",
      "Requirement already satisfied: requests>=2.32.2 in /opt/homebrew/Caskroom/miniconda/base/envs/test/lib/python3.8/site-packages (from datasets) (2.32.3)\n",
      "Requirement already satisfied: tqdm>=4.66.3 in /opt/homebrew/Caskroom/miniconda/base/envs/test/lib/python3.8/site-packages (from datasets) (4.66.5)\n",
      "Requirement already satisfied: xxhash in /opt/homebrew/Caskroom/miniconda/base/envs/test/lib/python3.8/site-packages (from datasets) (3.5.0)\n",
      "Requirement already satisfied: multiprocess in /opt/homebrew/Caskroom/miniconda/base/envs/test/lib/python3.8/site-packages (from datasets) (0.70.16)\n",
      "Requirement already satisfied: fsspec<=2024.6.1,>=2023.1.0 in /opt/homebrew/Caskroom/miniconda/base/envs/test/lib/python3.8/site-packages (from fsspec[http]<=2024.6.1,>=2023.1.0->datasets) (2024.6.1)\n",
      "Requirement already satisfied: aiohttp in /opt/homebrew/Caskroom/miniconda/base/envs/test/lib/python3.8/site-packages (from datasets) (3.10.5)\n",
      "Requirement already satisfied: huggingface-hub>=0.21.2 in /opt/homebrew/Caskroom/miniconda/base/envs/test/lib/python3.8/site-packages (from datasets) (0.24.6)\n",
      "Requirement already satisfied: packaging in /opt/homebrew/Caskroom/miniconda/base/envs/test/lib/python3.8/site-packages (from datasets) (24.1)\n",
      "Requirement already satisfied: pyyaml>=5.1 in /opt/homebrew/Caskroom/miniconda/base/envs/test/lib/python3.8/site-packages (from datasets) (6.0.2)\n",
      "Requirement already satisfied: SQLAlchemy<3,>=1.4 in /opt/homebrew/Caskroom/miniconda/base/envs/test/lib/python3.8/site-packages (from langchain) (2.0.34)\n",
      "Requirement already satisfied: async-timeout<5.0.0,>=4.0.0 in /opt/homebrew/Caskroom/miniconda/base/envs/test/lib/python3.8/site-packages (from langchain) (4.0.3)\n",
      "Requirement already satisfied: langchain-text-splitters<0.3.0,>=0.2.0 in /opt/homebrew/Caskroom/miniconda/base/envs/test/lib/python3.8/site-packages (from langchain) (0.2.4)\n",
      "Requirement already satisfied: langsmith<0.2.0,>=0.1.17 in /opt/homebrew/Caskroom/miniconda/base/envs/test/lib/python3.8/site-packages (from langchain) (0.1.116)\n",
      "Requirement already satisfied: pydantic<3,>=1 in /opt/homebrew/Caskroom/miniconda/base/envs/test/lib/python3.8/site-packages (from langchain) (2.9.1)\n",
      "Requirement already satisfied: tenacity!=8.4.0,<9.0.0,>=8.1.0 in /opt/homebrew/Caskroom/miniconda/base/envs/test/lib/python3.8/site-packages (from langchain) (8.5.0)\n",
      "Requirement already satisfied: jsonpatch<2.0,>=1.33 in /opt/homebrew/Caskroom/miniconda/base/envs/test/lib/python3.8/site-packages (from langchain-core) (1.33)\n",
      "Requirement already satisfied: typing-extensions>=4.7 in /opt/homebrew/Caskroom/miniconda/base/envs/test/lib/python3.8/site-packages (from langchain-core) (4.12.2)\n",
      "Requirement already satisfied: dataclasses-json<0.7,>=0.5.7 in /opt/homebrew/Caskroom/miniconda/base/envs/test/lib/python3.8/site-packages (from langchain-community) (0.6.7)\n",
      "Requirement already satisfied: orjson>=3.8.2 in /opt/homebrew/Caskroom/miniconda/base/envs/test/lib/python3.8/site-packages (from docarray) (3.10.7)\n",
      "Requirement already satisfied: rich>=13.1.0 in /opt/homebrew/Caskroom/miniconda/base/envs/test/lib/python3.8/site-packages (from docarray) (13.8.0)\n",
      "Requirement already satisfied: types-requests>=2.28.11.6 in /opt/homebrew/Caskroom/miniconda/base/envs/test/lib/python3.8/site-packages (from docarray) (2.32.0.20240907)\n",
      "Requirement already satisfied: typing-inspect>=0.8.0 in /opt/homebrew/Caskroom/miniconda/base/envs/test/lib/python3.8/site-packages (from docarray) (0.9.0)\n",
      "Requirement already satisfied: aiohappyeyeballs>=2.3.0 in /opt/homebrew/Caskroom/miniconda/base/envs/test/lib/python3.8/site-packages (from aiohttp->datasets) (2.4.0)\n",
      "Requirement already satisfied: aiosignal>=1.1.2 in /opt/homebrew/Caskroom/miniconda/base/envs/test/lib/python3.8/site-packages (from aiohttp->datasets) (1.3.1)\n",
      "Requirement already satisfied: attrs>=17.3.0 in /opt/homebrew/Caskroom/miniconda/base/envs/test/lib/python3.8/site-packages (from aiohttp->datasets) (24.2.0)\n",
      "Requirement already satisfied: frozenlist>=1.1.1 in /opt/homebrew/Caskroom/miniconda/base/envs/test/lib/python3.8/site-packages (from aiohttp->datasets) (1.4.1)\n",
      "Requirement already satisfied: multidict<7.0,>=4.5 in /opt/homebrew/Caskroom/miniconda/base/envs/test/lib/python3.8/site-packages (from aiohttp->datasets) (6.0.5)\n",
      "Requirement already satisfied: yarl<2.0,>=1.0 in /opt/homebrew/Caskroom/miniconda/base/envs/test/lib/python3.8/site-packages (from aiohttp->datasets) (1.11.0)\n",
      "Requirement already satisfied: marshmallow<4.0.0,>=3.18.0 in /opt/homebrew/Caskroom/miniconda/base/envs/test/lib/python3.8/site-packages (from dataclasses-json<0.7,>=0.5.7->langchain-community) (3.22.0)\n",
      "Requirement already satisfied: jsonpointer>=1.9 in /opt/homebrew/Caskroom/miniconda/base/envs/test/lib/python3.8/site-packages (from jsonpatch<2.0,>=1.33->langchain-core) (3.0.0)\n",
      "Requirement already satisfied: httpx<1,>=0.23.0 in /opt/homebrew/Caskroom/miniconda/base/envs/test/lib/python3.8/site-packages (from langsmith<0.2.0,>=0.1.17->langchain) (0.27.2)\n",
      "Requirement already satisfied: annotated-types>=0.6.0 in /opt/homebrew/Caskroom/miniconda/base/envs/test/lib/python3.8/site-packages (from pydantic<3,>=1->langchain) (0.7.0)\n",
      "Requirement already satisfied: pydantic-core==2.23.3 in /opt/homebrew/Caskroom/miniconda/base/envs/test/lib/python3.8/site-packages (from pydantic<3,>=1->langchain) (2.23.3)\n",
      "Requirement already satisfied: charset-normalizer<4,>=2 in /opt/homebrew/Caskroom/miniconda/base/envs/test/lib/python3.8/site-packages (from requests>=2.32.2->datasets) (3.3.2)\n",
      "Requirement already satisfied: idna<4,>=2.5 in /opt/homebrew/Caskroom/miniconda/base/envs/test/lib/python3.8/site-packages (from requests>=2.32.2->datasets) (3.8)\n",
      "Requirement already satisfied: urllib3<3,>=1.21.1 in /opt/homebrew/Caskroom/miniconda/base/envs/test/lib/python3.8/site-packages (from requests>=2.32.2->datasets) (2.2.2)\n",
      "Requirement already satisfied: certifi>=2017.4.17 in /opt/homebrew/Caskroom/miniconda/base/envs/test/lib/python3.8/site-packages (from requests>=2.32.2->datasets) (2024.8.30)\n",
      "Requirement already satisfied: markdown-it-py>=2.2.0 in /opt/homebrew/Caskroom/miniconda/base/envs/test/lib/python3.8/site-packages (from rich>=13.1.0->docarray) (3.0.0)\n",
      "Requirement already satisfied: pygments<3.0.0,>=2.13.0 in /opt/homebrew/Caskroom/miniconda/base/envs/test/lib/python3.8/site-packages (from rich>=13.1.0->docarray) (2.18.0)\n",
      "Requirement already satisfied: mypy-extensions>=0.3.0 in /opt/homebrew/Caskroom/miniconda/base/envs/test/lib/python3.8/site-packages (from typing-inspect>=0.8.0->docarray) (1.0.0)\n",
      "Requirement already satisfied: python-dateutil>=2.8.2 in /opt/homebrew/Caskroom/miniconda/base/envs/test/lib/python3.8/site-packages (from pandas->datasets) (2.9.0)\n",
      "Requirement already satisfied: pytz>=2020.1 in /opt/homebrew/Caskroom/miniconda/base/envs/test/lib/python3.8/site-packages (from pandas->datasets) (2024.1)\n",
      "Requirement already satisfied: tzdata>=2022.1 in /opt/homebrew/Caskroom/miniconda/base/envs/test/lib/python3.8/site-packages (from pandas->datasets) (2024.1)\n",
      "Requirement already satisfied: anyio in /opt/homebrew/Caskroom/miniconda/base/envs/test/lib/python3.8/site-packages (from httpx<1,>=0.23.0->langsmith<0.2.0,>=0.1.17->langchain) (4.4.0)\n",
      "Requirement already satisfied: httpcore==1.* in /opt/homebrew/Caskroom/miniconda/base/envs/test/lib/python3.8/site-packages (from httpx<1,>=0.23.0->langsmith<0.2.0,>=0.1.17->langchain) (1.0.5)\n",
      "Requirement already satisfied: sniffio in /opt/homebrew/Caskroom/miniconda/base/envs/test/lib/python3.8/site-packages (from httpx<1,>=0.23.0->langsmith<0.2.0,>=0.1.17->langchain) (1.3.1)\n",
      "Requirement already satisfied: h11<0.15,>=0.13 in /opt/homebrew/Caskroom/miniconda/base/envs/test/lib/python3.8/site-packages (from httpcore==1.*->httpx<1,>=0.23.0->langsmith<0.2.0,>=0.1.17->langchain) (0.14.0)\n",
      "Requirement already satisfied: mdurl~=0.1 in /opt/homebrew/Caskroom/miniconda/base/envs/test/lib/python3.8/site-packages (from markdown-it-py>=2.2.0->rich>=13.1.0->docarray) (0.1.2)\n",
      "Requirement already satisfied: six>=1.5 in /opt/homebrew/Caskroom/miniconda/base/envs/test/lib/python3.8/site-packages (from python-dateutil>=2.8.2->pandas->datasets) (1.16.0)\n",
      "Requirement already satisfied: exceptiongroup>=1.0.2 in /opt/homebrew/Caskroom/miniconda/base/envs/test/lib/python3.8/site-packages (from anyio->httpx<1,>=0.23.0->langsmith<0.2.0,>=0.1.17->langchain) (1.2.2)\n"
     ]
    }
   ],
   "source": [
    "! pip install datasets langchain langchain-core langchain-community docarray"
   ]
  },
  {
   "cell_type": "code",
   "execution_count": 8,
   "metadata": {},
   "outputs": [],
   "source": [
    "from datasets import load_dataset\n",
    "from tqdm import tqdm\n",
    "import re\n",
    "\n",
    "from langchain_community.llms import Ollama\n",
    "from langchain.indexes import VectorstoreIndexCreator\n",
    "from langchain.vectorstores import DocArrayInMemorySearch\n",
    "from langchain_community.embeddings import OllamaEmbeddings\n",
    "from langchain_core.output_parsers import StrOutputParser\n",
    "from operator import itemgetter"
   ]
  },
  {
   "cell_type": "markdown",
   "metadata": {},
   "source": [
    "## Define evaluation function"
   ]
  },
  {
   "cell_type": "code",
   "execution_count": 9,
   "metadata": {},
   "outputs": [],
   "source": [
    "letter_to_number = { 'a': 0, 'b': 1, 'c': 2, 'd': 3 }\n",
    "\n",
    "def eval_rag(model: object, subsets: list) -> float:\n",
    "  accuracies = {}\n",
    "\n",
    "  for subset in tqdm(subsets, desc='Subsets'):\n",
    "    dataset = load_dataset('cais/mmlu', subset)\n",
    "    test_df = dataset['test'].to_pandas()\n",
    "\n",
    "    correct_answers_count = 0\n",
    "\n",
    "    for index, row in tqdm(list(test_df.iterrows()), desc='Questions'):\n",
    "      question = row['question']\n",
    "      choices = row['choices']\n",
    "      correct_answer = row['answer']\n",
    "\n",
    "      llm_answer = model.invoke({\n",
    "        'question': question,\n",
    "        'a': choices[0],\n",
    "        'b': choices[1],\n",
    "        'c': choices[2],\n",
    "        'd': choices[3],\n",
    "      })\n",
    "\n",
    "      if not llm_answer in letter_to_number:\n",
    "        continue\n",
    "\n",
    "      llm_answer_num = letter_to_number[llm_answer]\n",
    "\n",
    "      if llm_answer_num == correct_answer:\n",
    "        correct_answers_count += 1\n",
    "\n",
    "    accuracies[subset] = correct_answers_count / len(test_df)\n",
    "\n",
    "  return sum(accuracies.values()) / len(accuracies.values())"
   ]
  },
  {
   "cell_type": "markdown",
   "metadata": {},
   "source": [
    "## Define prompt"
   ]
  },
  {
   "cell_type": "code",
   "execution_count": 10,
   "metadata": {},
   "outputs": [],
   "source": [
    "from langchain.prompts import ChatPromptTemplate\n",
    "\n",
    "template = \"\"\"Answer the following multiple choice question by giving the most appropriate response. Answer should be one among [A, B, C, D].\n",
    "Tell only the correct letter and nothing else. Use the following pieces of context to answer the question at the end.\n",
    "\n",
    "{context}\n",
    "\n",
    "Question: {question}\\n\n",
    "A) {a}\\n\n",
    "B) {b}\\n\n",
    "C) {c}\\n\n",
    "D) {d}\\n\n",
    "\n",
    "\n",
    "Answer:\"\"\"\n",
    "\n",
    "prompt = ChatPromptTemplate.from_template(template)"
   ]
  },
  {
   "cell_type": "markdown",
   "metadata": {},
   "source": [
    "## Build test model"
   ]
  },
  {
   "cell_type": "code",
   "execution_count": 11,
   "metadata": {},
   "outputs": [],
   "source": [
    "llm = Ollama(model='llama3', temperature=0)\n",
    "embeddings = OllamaEmbeddings(model='llama3')\n",
    "index = VectorstoreIndexCreator(\n",
    "  vectorstore_cls=DocArrayInMemorySearch,\n",
    "  embedding=embeddings,\n",
    ").from_documents([])\n",
    "vector_store = index.vectorstore\n",
    "\n",
    "def format_docs(docs):\n",
    "  return '\\n\\n'.join(doc.page_content for doc in docs)\n",
    "\n",
    "def test_answer_parser(result):\n",
    "  result = result.lower().strip()\n",
    "\n",
    "  if re.match(r'^[abcd](?:$|\\))', result):\n",
    "    return result[0]\n",
    "\n",
    "  return None\n",
    "\n",
    "qa_chain = (\n",
    "  {\n",
    "    'context': itemgetter('question') | vector_store.as_retriever() | format_docs,\n",
    "    'question': itemgetter('question'),\n",
    "    'a': itemgetter('a'),\n",
    "    'b': itemgetter('b'),\n",
    "    'c': itemgetter('c'),\n",
    "    'd': itemgetter('d'),\n",
    "  }\n",
    "  | prompt\n",
    "  | llm\n",
    "  | StrOutputParser()\n",
    "  | test_answer_parser\n",
    ")"
   ]
  },
  {
   "cell_type": "markdown",
   "metadata": {},
   "source": [
    "## Evaluate the model\n",
    "\n",
    "Here we take only a subset of all MMLU subjects close to neurobiology."
   ]
  },
  {
   "cell_type": "code",
   "execution_count": 12,
   "metadata": {},
   "outputs": [
    {
     "name": "stderr",
     "output_type": "stream",
     "text": [
      "Questions: 100%|██████████| 135/135 [00:46<00:00,  2.91it/s]\n",
      "Questions: 100%|██████████| 144/144 [00:55<00:00,  2.61it/s]\n",
      "Questions: 100%|██████████| 310/310 [02:06<00:00,  2.45it/s]\n",
      "Questions: 100%|██████████| 173/173 [01:44<00:00,  1.65it/s]\n",
      "Questions: 100%|██████████| 272/272 [03:52<00:00,  1.17it/s]\n",
      "Questions: 100%|██████████| 100/100 [00:33<00:00,  2.98it/s]\n",
      "Questions: 100%|██████████| 612/612 [03:57<00:00,  2.58it/s]\n",
      "Questions: 100%|██████████| 545/545 [03:17<00:00,  2.76it/s]\n",
      "Subsets: 100%|██████████| 8/8 [17:42<00:00, 132.87s/it]\n"
     ]
    },
    {
     "data": {
      "text/plain": [
       "0.6462949556814584"
      ]
     },
     "execution_count": 12,
     "metadata": {},
     "output_type": "execute_result"
    }
   ],
   "source": [
    "eval_subsets = [\n",
    "  'anatomy',\n",
    "  'college_biology',\n",
    "  'high_school_biology',\n",
    "  'college_medicine',\n",
    "  'professional_medicine',\n",
    "  'medical_genetics',\n",
    "  'professional_psychology',\n",
    "  'high_school_psychology',\n",
    "]\n",
    "\n",
    "eval_rag(qa_chain, eval_subsets)"
   ]
  }
 ],
 "metadata": {
  "kernelspec": {
   "display_name": "base",
   "language": "python",
   "name": "python3"
  },
  "language_info": {
   "codemirror_mode": {
    "name": "ipython",
    "version": 3
   },
   "file_extension": ".py",
   "mimetype": "text/x-python",
   "name": "python",
   "nbconvert_exporter": "python",
   "pygments_lexer": "ipython3",
   "version": "3.9.19"
  }
 },
 "nbformat": 4,
 "nbformat_minor": 2
}
