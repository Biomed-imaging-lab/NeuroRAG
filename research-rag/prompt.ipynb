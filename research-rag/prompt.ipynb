{
 "cells": [
  {
   "cell_type": "code",
   "execution_count": 392,
   "metadata": {},
   "outputs": [],
   "source": [
    "import os\n",
    "import json\n",
    "import nltk\n",
    "import string\n",
    "import numpy as np\n",
    "import pandas as pd\n",
    "from unidecode import unidecode\n",
    "import transformers\n",
    "import torch\n",
    "from sklearn.metrics.pairwise import cosine_similarity\n",
    "from pathlib import Path\n",
    "from tqdm import tqdm\n",
    "import seaborn as sns\n",
    "from dotenv import load_dotenv\n",
    "\n",
    "from langchain_community.document_loaders import PDFMinerLoader\n",
    "from langchain_text_splitters import RecursiveCharacterTextSplitter\n",
    "from langchain_community.embeddings import OllamaEmbeddings\n",
    "from langchain_community.llms import Ollama\n",
    "from langchain.indexes import VectorstoreIndexCreator\n",
    "from langchain.vectorstores import DocArrayInMemorySearch\n",
    "from langchain.chains import RetrievalQA\n",
    "from langchain_community.llms.huggingface_pipeline import HuggingFacePipeline"
   ]
  },
  {
   "cell_type": "markdown",
   "metadata": {},
   "source": [
    "## Setup metric"
   ]
  },
  {
   "cell_type": "code",
   "execution_count": 393,
   "metadata": {},
   "outputs": [],
   "source": [
    "lemmatizer = nltk.stem.WordNetLemmatizer()\n",
    "\n",
    "def preprocess(corpus):\n",
    "  corpus = corpus.lower()\n",
    "  stopset = nltk.corpus.stopwords.words('english') + nltk.corpus.stopwords.words('russian') + list(string.punctuation)\n",
    "  tokens = nltk.word_tokenize(corpus)\n",
    "  tokens = [t for t in tokens if t not in stopset]\n",
    "  tokens = [lemmatizer.lemmatize(t) for t in tokens]\n",
    "  corpus = ' '.join(tokens)\n",
    "  corpus = unidecode(corpus)\n",
    "  return corpus"
   ]
  },
  {
   "cell_type": "code",
   "execution_count": 394,
   "metadata": {},
   "outputs": [],
   "source": [
    "embeddings = OllamaEmbeddings(model='llama3')"
   ]
  },
  {
   "cell_type": "code",
   "execution_count": 395,
   "metadata": {},
   "outputs": [],
   "source": [
    "def embeddings_cosine_sim_metric(expected_answers, predicted_answers):\n",
    "  results = []\n",
    "\n",
    "  for expected_answer, predicted_answer in zip(expected_answers, predicted_answers):\n",
    "    expected_answer = preprocess(expected_answer)\n",
    "    predicted_answer = preprocess(predicted_answer)\n",
    "\n",
    "    expected_embedding = np.array(embeddings.embed_query(expected_answer))\n",
    "    predicted_embedding = np.array(embeddings.embed_query(predicted_answer))\n",
    "\n",
    "    sim = cosine_similarity(\n",
    "      expected_embedding.reshape(1, -1),\n",
    "      predicted_embedding.reshape(1, -1),\n",
    "    )[0][0]\n",
    "\n",
    "    results.append(sim)\n",
    "\n",
    "  return np.mean(results), results"
   ]
  },
  {
   "cell_type": "markdown",
   "metadata": {},
   "source": [
    "## Load QA dataset"
   ]
  },
  {
   "cell_type": "code",
   "execution_count": 396,
   "metadata": {},
   "outputs": [
    {
     "data": {
      "text/html": [
       "<div>\n",
       "<style scoped>\n",
       "    .dataframe tbody tr th:only-of-type {\n",
       "        vertical-align: middle;\n",
       "    }\n",
       "\n",
       "    .dataframe tbody tr th {\n",
       "        vertical-align: top;\n",
       "    }\n",
       "\n",
       "    .dataframe thead th {\n",
       "        text-align: right;\n",
       "    }\n",
       "</style>\n",
       "<table border=\"1\" class=\"dataframe\">\n",
       "  <thead>\n",
       "    <tr style=\"text-align: right;\">\n",
       "      <th></th>\n",
       "      <th>question</th>\n",
       "      <th>answer</th>\n",
       "    </tr>\n",
       "  </thead>\n",
       "  <tbody>\n",
       "    <tr>\n",
       "      <th>0</th>\n",
       "      <td>What are the afferent cranial nerve nuclei?</td>\n",
       "      <td>Trigeminal sensory nucleus- fibres carry gener...</td>\n",
       "    </tr>\n",
       "    <tr>\n",
       "      <th>1</th>\n",
       "      <td>What is the order of the cranial nerves ?</td>\n",
       "      <td>1-olfactory\\n2-optic\\n3-oculomotor\\n4-trochlea...</td>\n",
       "    </tr>\n",
       "    <tr>\n",
       "      <th>2</th>\n",
       "      <td>What are the efferent cranial nerve nuclei?</td>\n",
       "      <td>Edinger-westphal nucleus\\nOculomotor nucleus\\n...</td>\n",
       "    </tr>\n",
       "    <tr>\n",
       "      <th>3</th>\n",
       "      <td>Which nuclei share the embryo logical origin -...</td>\n",
       "      <td>Oculomotor nucleus Trochlear nucleus Abducens ...</td>\n",
       "    </tr>\n",
       "    <tr>\n",
       "      <th>4</th>\n",
       "      <td>Which nuclei share the embryo logical origin- ...</td>\n",
       "      <td>Trigeminal motor nucleus Facial motor nucleus ...</td>\n",
       "    </tr>\n",
       "    <tr>\n",
       "      <th>...</th>\n",
       "      <td>...</td>\n",
       "      <td>...</td>\n",
       "    </tr>\n",
       "    <tr>\n",
       "      <th>1047</th>\n",
       "      <td>What is the purpose of gephyrin in the glycine...</td>\n",
       "      <td>Involved in anchoring the receptor to a specif...</td>\n",
       "    </tr>\n",
       "    <tr>\n",
       "      <th>1048</th>\n",
       "      <td>What is the glycine receptor involved in ?</td>\n",
       "      <td>Reflex response\\nCauses reciprocal inhibition ...</td>\n",
       "    </tr>\n",
       "    <tr>\n",
       "      <th>1049</th>\n",
       "      <td>What happens in hyperperplexia ?</td>\n",
       "      <td>It’s an exaggerated reflex Often caused by a m...</td>\n",
       "    </tr>\n",
       "    <tr>\n",
       "      <th>1050</th>\n",
       "      <td>What is hyperperplexia treated with ?</td>\n",
       "      <td>Benzodiazepine</td>\n",
       "    </tr>\n",
       "    <tr>\n",
       "      <th>1051</th>\n",
       "      <td>What increases glycine release ?</td>\n",
       "      <td>Tetanus toxin</td>\n",
       "    </tr>\n",
       "  </tbody>\n",
       "</table>\n",
       "<p>1052 rows × 2 columns</p>\n",
       "</div>"
      ],
      "text/plain": [
       "                                               question  \\\n",
       "0           What are the afferent cranial nerve nuclei?   \n",
       "1             What is the order of the cranial nerves ?   \n",
       "2           What are the efferent cranial nerve nuclei?   \n",
       "3     Which nuclei share the embryo logical origin -...   \n",
       "4     Which nuclei share the embryo logical origin- ...   \n",
       "...                                                 ...   \n",
       "1047  What is the purpose of gephyrin in the glycine...   \n",
       "1048         What is the glycine receptor involved in ?   \n",
       "1049                   What happens in hyperperplexia ?   \n",
       "1050              What is hyperperplexia treated with ?   \n",
       "1051                   What increases glycine release ?   \n",
       "\n",
       "                                                 answer  \n",
       "0     Trigeminal sensory nucleus- fibres carry gener...  \n",
       "1     1-olfactory\\n2-optic\\n3-oculomotor\\n4-trochlea...  \n",
       "2     Edinger-westphal nucleus\\nOculomotor nucleus\\n...  \n",
       "3     Oculomotor nucleus Trochlear nucleus Abducens ...  \n",
       "4     Trigeminal motor nucleus Facial motor nucleus ...  \n",
       "...                                                 ...  \n",
       "1047  Involved in anchoring the receptor to a specif...  \n",
       "1048  Reflex response\\nCauses reciprocal inhibition ...  \n",
       "1049  It’s an exaggerated reflex Often caused by a m...  \n",
       "1050                                     Benzodiazepine  \n",
       "1051                                      Tetanus toxin  \n",
       "\n",
       "[1052 rows x 2 columns]"
      ]
     },
     "execution_count": 396,
     "metadata": {},
     "output_type": "execute_result"
    }
   ],
   "source": [
    "qa_df = pd.read_csv('../research-neurobiology-qa-dataset/brainscape.csv')\n",
    "qa_df"
   ]
  },
  {
   "cell_type": "markdown",
   "metadata": {},
   "source": [
    "## Setup LLMs"
   ]
  },
  {
   "cell_type": "code",
   "execution_count": 397,
   "metadata": {},
   "outputs": [],
   "source": [
    "def get_llama3_llm():\n",
    "  return Ollama(temperature=0, model='llama3')"
   ]
  },
  {
   "cell_type": "markdown",
   "metadata": {},
   "source": [
    "## Setup index stores"
   ]
  },
  {
   "cell_type": "code",
   "execution_count": 398,
   "metadata": {},
   "outputs": [],
   "source": [
    "def get_doc_array_vector_store(docs=[]):\n",
    "  index = VectorstoreIndexCreator(\n",
    "    vectorstore_cls=DocArrayInMemorySearch,\n",
    "    embedding=embeddings,\n",
    "  ).from_documents(docs)\n",
    "  return index.vectorstore"
   ]
  },
  {
   "cell_type": "markdown",
   "metadata": {},
   "source": [
    "## Setup experiments"
   ]
  },
  {
   "cell_type": "code",
   "execution_count": 399,
   "metadata": {},
   "outputs": [],
   "source": [
    "llms = [\n",
    "  ('LLaMA 3', get_llama3_llm()),\n",
    "]\n",
    "\n",
    "vector_stores = [\n",
    "  ('DocArray', get_doc_array_vector_store),\n",
    "]"
   ]
  },
  {
   "cell_type": "code",
   "execution_count": 400,
   "metadata": {},
   "outputs": [],
   "source": [
    "from langchain.prompts import (\n",
    "    ChatPromptTemplate,\n",
    "    FewShotChatMessagePromptTemplate,\n",
    ")\n",
    "example_prompt_template = \"\"\"\n",
    "Use the following pieces of context to answer the question at the end. If you don't know the answer, just say that you don't know, don't try to make up an answer.\n",
    "Question: {question}\n",
    "\"\"\"\n",
    "few_shot_examples = [\n",
    "  {\n",
    "    \"question\": \"Which cranial nerves are motor?\",\n",
    "    \"answer\": \"Oculomotor\\nTrochlear \\nAbducens\\nAccessory\\nHypoglossal\"\n",
    "  },\n",
    "  {\n",
    "    \"question\": \"ich of the cranial nerves have both sensory and motor control ?\",\n",
    "    \"answer\": \"TrigeminalFacial GlossopharyngealVagus\"\n",
    "  },\n",
    "  {\n",
    "    \"question\": \"Which regions of the cross section of the spinal cord have a larger ventral horn ?\",\n",
    "    \"answer\": \"The cervical and lumbar regions have larger ventral horns. The thoracic region has a smaller ventral horn region because it controls the trunk so not many motor neurones are coming out. Thoracic region has a more prominent lateral horn where preganglionic neurones are present\"\n",
    "  },\n",
    "  {\n",
    "    \"question\": \"What are the subdivisions of the vertebral column ?\",\n",
    "    \"answer\": \"Cervical = 8\\nThoracic= 12\\nLumbar=5 \\nSacral=5 \\nCoccygeal\"\n",
    "  },\n",
    "]\n",
    "example_prompt = ChatPromptTemplate.from_messages(\n",
    "  [\n",
    "    (\"human\", example_prompt_template),\n",
    "    (\"ai\", \"{answer}\\n\"),\n",
    "  ],\n",
    ")\n",
    "few_shot_prompt = FewShotChatMessagePromptTemplate(\n",
    "  example_prompt=example_prompt,\n",
    "  examples=few_shot_examples,\n",
    "  input_variables=[\"question\"],\n",
    ")\n",
    "base_prompt = ChatPromptTemplate.from_template(\"\"\"\n",
    "Use the following pieces of context to answer the question at the end.\n",
    "If you don't know the answer, just say that you don't know, don't try to make up an answer.\n",
    "You answer in very short sentences and do not include extra information.\n",
    "\n",
    "{context}\n",
    "\n",
    "Question: {question}\n",
    "Helpful Answer:\"\n",
    "\"\"\")\n",
    "final_prompt = ChatPromptTemplate.from_messages(\n",
    "  [\n",
    "    few_shot_prompt,\n",
    "    base_prompt\n",
    "  ]\n",
    ")"
   ]
  },
  {
   "cell_type": "code",
   "execution_count": 401,
   "metadata": {},
   "outputs": [
    {
     "name": "stderr",
     "output_type": "stream",
     "text": [
      "                                  \r"
     ]
    },
    {
     "data": {
      "text/plain": [
       "0.5859193451762141"
      ]
     },
     "execution_count": 401,
     "metadata": {},
     "output_type": "execute_result"
    }
   ],
   "source": [
    "sample_df = qa_df[:40]\n",
    "questions = sample_df['question'].tolist()\n",
    "expected_answers = sample_df['answer'].tolist()\n",
    "\n",
    "llm = get_llama3_llm()\n",
    "vector_store = get_doc_array_vector_store([])\n",
    "qa_llm = RetrievalQA.from_chain_type(\n",
    "  llm=llm,\n",
    "  chain_type='stuff',\n",
    "  retriever=vector_store.as_retriever(search_kwargs={\"k\" : 10}),\n",
    "  verbose=False,\n",
    "  chain_type_kwargs = {\n",
    "    'prompt': final_prompt,\n",
    "    'document_separator': '<<<<<>>>>>'\n",
    "  },\n",
    ")\n",
    "\n",
    "predicted_answers = []\n",
    "\n",
    "for index, question in tqdm(enumerate(questions), desc='Questions', leave=False):\n",
    "  answer = qa_llm.invoke(question)['result']\n",
    "  predicted_answers.append(answer)\n",
    "\n",
    "accuracy, results = embeddings_cosine_sim_metric(expected_answers, predicted_answers)\n",
    "accuracy"
   ]
  },
  {
   "cell_type": "code",
   "execution_count": 402,
   "metadata": {},
   "outputs": [
    {
     "name": "stdout",
     "output_type": "stream",
     "text": [
      "0.5931178953240189\n",
      "Trigeminal sensory nucleus- fibres carry general sensory info (pain, touch, pressure, temperature) and terminate at this nucleus Vestibular and cochlear nucleus- fibres carrying special senses of hearing and positional sense run in the vestibulocochlear nerve to these nuclei Nucleus solitarius - visceral afferents terminate at this nucleus of the medulla\n",
      "Oculomotor, Trochlear, Abducens, Trigeminal, Facial, Glossopharyngeal, Vagus.\n",
      "\n",
      "0.5941926252779224\n",
      "1-olfactory\\n2-optic\\n3-oculomotor\\n4-trochlear\\n5-trigeminal \\n6-abducens\\n7-facial\\n8-vestibulocochlear\\n9-glossopharyngeal\\n10-vagus\\n11-accessory\\n12-hypoglossal\n",
      "I'll keep my answers brief!\n",
      "\n",
      "The order of the cranial nerves is: Olfactory, Optic, Oculomotor, Trochlear, Trigeminal, Abducens, Facial, Auditory-Vestibular, Glossopharyngeal, Vagus, Spinal Accessory, Hypoglossal.\n",
      "\n",
      "0.4352944087757432\n",
      "Edinger-westphal nucleus\\nOculomotor nucleus\\nTrochlear nucleus\\nTrigeminal motor nucleus \\nAbducens nucleus \\nFacial motor nucleus \\nSalivatory nuclei \\nNucleus ambiguus\\nDorsal motor nucleus of vagus \\nHypoglossal nucleus\n",
      "Oculomotor, Trochlear, Abducens, Trigeminal, Facial, Glossopharyngeal, Vagus, Spinal Accessory, Hypoglossal.\n",
      "\n",
      "0.8962127952440777\n",
      "Oculomotor nucleus Trochlear nucleus Abducens nucleus Hypoglossal nucleus\n",
      "The motor cranial nerves are:\n",
      "\n",
      "* Oculomotor\n",
      "* Trochlear\n",
      "* Abducens\n",
      "* Accessory\n",
      "* Hypoglossal\n",
      "\n",
      "0.7875596864925332\n",
      "Trigeminal motor nucleus Facial motor nucleus Nucleus ambiguus\n",
      "The nucleus ambiguus and the dorsal motor nucleus of the vagus.\n",
      "\n",
      "0.833065187663247\n",
      "Edinger-Westphal nucleus Superior and inferior salivatory nucleus Dorsal motor nucleus of the vagus\n",
      "Dorsal nucleus of vagus and nucleus ambiguus.\n",
      "\n",
      "0.9280221246732926\n",
      "Olfactory Optic Vestibulocochlear\n",
      "Olfactory\n",
      "Optic\n",
      "Trigeminal\n",
      "Facial\n",
      "Vestibulocochlear\n",
      "\n",
      "0.39075308980962936\n",
      "Oculomotor\\nTrochlear \\nAbducens\\nAccessory\\nHypoglossal\n",
      "Accessory\n",
      "Hypoglossal\n",
      "\n",
      "0.8830480692844137\n",
      "TrigeminalFacial GlossopharyngealVagus\n",
      "Trigeminal, Facial, Glossopharyngeal, Vagus.\n",
      "\n",
      "0.6047307214077086\n",
      "The olfactory nerve is a sensory fibre for the nose\n",
      "Olfactory.\n",
      "\n",
      "0.6010750052649243\n",
      "It’s component fibres are sensory and it’s involved in olfaction It innervates olfactory epithelium via the olfactory bulb\n",
      "Transmits smell information.\n",
      "\n",
      "0.5864620341044177\n",
      "It’s component fibres are sensory and they are involved in vision It innervate retina\n",
      "Transmits visual information from eye to brain.\n",
      "\n",
      "0.40560020488194704\n",
      "Its component motor fibres are involved in the movement of the eye by innervating the superior, inferior and medial rectus, inferior oblique ( it’s able to elevate, depress and addict the eye) and levator palebrae muscles - motor neurons going to these extra ocular muscles have their cell bodies in the oculomotor nucleus\\nIts component parasympathetic fibres are involved in pupil construction and accommodation by innervating pupillary constrictor and ciliary muscles of the eye via ciliary ganglion -these preganglionic fibres arise from the Edinburgh-Westphal nucleus\n",
      "Control eye movement.\n",
      "\n",
      "0.5315806207242136\n",
      "It’s component motor fibres are involved in the movement if the eye by innervating the superior oblique muscle (moves eye downwards and medially) - the motor neurons arise from the trochlear nucleus IT IS THE ONLY CRANIAL NERVE THAT EMERGES FROM THE DORSAL ASPECT OF THE BRAINSTEM.\n",
      "Superior oblique muscle control.\n",
      "\n",
      "0.49234332206816855\n",
      "It’s component sensory fibres are involved in general sensations by innervating the face, scalp, cornea, nasal and oral cavities and cranial dura mater\\nIt’s component motor fibres are involved in opening and closing of the mouth by innervating the muscles of mastication and they are also involved in tension on tympanic membrane by innervating tensor tympani muscles\n",
      "Sensory: face, jaw, mouth. Motor: muscles of mastication.\n",
      "\n",
      "0.5938062160451172\n",
      "It’s component motor fibres are involved in the movement of the eye by innervating the lateral rectus muscles\n",
      "Abducens nerve is motor. It controls lateral rectus muscle of eye.\n",
      "\n",
      "0.47214444960557145\n",
      "It’s component sensory fibres are involved in taste by innervating the anterior 2/3 of the tongue\\nIt’s component motor fibres are involved in facial movements by innervating the muscles of facial expression\\nIt’s component parasympathetic fibres are involved in salivation and lacrimination by innervating the salivary and lacrimal glands via submandibular and pyerygopalatine ganglia\n",
      "Motor control of face muscles.\n",
      "\n",
      "0.5040008899632504\n",
      "It’s component sensory fibres are involved in position and movement of the head by innervating vestibular apparatus\\nIt’s other component sensory fibres are involved in hearing by innervating cochlea I\n",
      "Auditory and balance.\n",
      "\n",
      "0.36035802254670946\n",
      "It’s component sensory fibres are involved in general sensation and taste by innervating the pharynx and posterior 1/3 of the tongue\\nOther component sensory fibres are involved in general sensation by innervating the Eustachian tube and middle ear\\nOther component sensory fibres are involved in chemo and Baro-reception by innervating the carotid body and carotid sinus\\nIts component motor fibres are involved in swallowing by innervating the stylopharyngeus muscles\\nIt’s component parasympathetic fibres are involved in salivation by innervating parotid salivary gland via otic ganglion\n",
      "Motor control of tongue muscles. Sensory input from taste buds on posterior one-third of tongue.\n",
      "\n",
      "0.4877134532011453\n",
      "It’s component sensory fibres are involved in general sensation by innervating the pharynx, larynx, oesophagus and external ear\\nOther sensory fibres are involved in chemo and bro reception by innervating thee aortic bodies and aortic arch\\nOther sensory fibres are involved in visual sensation by innervating the thoracic and abdminal viscera\\nIt’s component motor fibres are involved in speech and swallowing by innervating the soft palate, pharynx, larynx, upper oesophagus\\nIt’s parasympathetic fibres are involved in control of cardiovascular system, respiratory and gastrointestinal tracts by innervating the thoracic and abdominal viscera\n",
      "Motor: Oculomotor, Trochlear, Abducens, Accessory, Hypoglossal.\n",
      "\n",
      "Sensory and motor: Trigeminal, Facial, Glossopharyngeal, Vagus.\n",
      "\n",
      "Larger ventral horn: Cervical, Lumbar.\n",
      "\n",
      "Subdivisions of vertebral column: Cervical (8), Thoracic (12), Lumbar (5), Sacral (5), Coccygeal.\n",
      "\n",
      "Functions of vagus nerve: Parasympathetic, swallowing, heart rate regulation.\n",
      "\n",
      "0.8948104790196791\n",
      "Its component motor fibres are involved in the movement of the head and shoulder by innervating the sternomastoid and trapezius muscles\n",
      "Accessory nerve:\n",
      "Motor. Controls sternocleidomastoid and trapezius muscles.\n",
      "\n",
      "0.6402756432140237\n",
      "It’s component motor fibres are involved in the movement of the tongue by innervating the intrinsic and extrinsic muscles of the tongue\n",
      "Motor control of tongue muscles.\n",
      "\n",
      "0.07485212058873751\n",
      "From the foramen magnum to the 1st/2nd lumbar vertebrae\n",
      "From T1 to L2.\n",
      "\n",
      "0.5292602847949396\n",
      "The cervical and lumbar regions have larger ventral horns. The thoracic region has a smaller ventral horn region because it controls the trunk so not many motor neurones are coming out. Thoracic region has a more prominent lateral horn where preganglionic neurones are present\n",
      "Cervical and lumbar.\n",
      "\n",
      "0.7274006861733014\n",
      "Nucleus posteromarginalis\n",
      "Lamina I is called the substantia gelatinosa.\n",
      "\n",
      "0.8961868454850235\n",
      "Substantia gelatinosa\n",
      "Lamina 2 is called substantia gelatinosa.\n",
      "\n",
      "0.49533554562755644\n",
      "N.proprius\n",
      "Laminae 3, 4, and 5 are called the gray matter.\n",
      "\n",
      "0.7473673310309211\n",
      "Situated in the intermediate horn. It’s called the interomediolateral nucleus. Contains inter neurones to connect different laminae\n",
      "Lamina 7 is situated in the thoracic region. It's called the sympathetic ganglion.\n",
      "\n",
      "0.5132951767815636\n",
      "Laminae is in the ventral horn and it’s a motor nucleus\n",
      "Lamina IX.\n",
      "\n",
      "0.4998241854217678\n",
      "Cervical = 8\\nThoracic= 12\\nLumbar=5 \\nSacral=5 \\nCoccygeal\n",
      "Cervical, Thoracic, Lumbar, Sacral, Coccygeal.\n",
      "\n",
      "0.3478662124849339\n",
      "Neuronal cells bodies \\nDendrites \\nAxons \\nAfferent terminals \\nGlia\n",
      "Neurons.\n",
      "\n",
      "0.3801565761063429\n",
      "Axons of ascending and descending tracts\n",
      "Axons.\n",
      "\n",
      "0.7655065782899803\n",
      "Lamina 1- nucleus posteromarginalis Lamina 2- substantia gelatinosa Lamina 3,4 and 5 - N.propius\n",
      "Laminae I-IV.\n",
      "\n",
      "0.5536319908506889\n",
      "Lamina 7 - intermediolateral nucleus\n",
      "Lamina 1.\n",
      "\n",
      "0.45233728802414286\n",
      "Lamina 9 -motor nucleus\n",
      "Lamina 8.\n",
      "\n",
      "0.2906457494613325\n",
      "Medial part controls the neck and trunk Lateral part controls the digits Organisation is important because descending pathways can be in close proximity but not interfere with each other\n",
      "Muscles.\n",
      "\n",
      "0.6185713352851117\n",
      "Protect the spinal cord Dura mater = thickest outer layer which attaches to the skull Arachnoid mater= this is in very close association with the dura mater Pia mater- this is the layer closest to the spinal cord and it is very thin\n",
      "Dura mater, arachnoid mater, pia mater.\n",
      "\n",
      "0.5805288992319906\n",
      "Thoracic and lumbar levels =thoraco-lumbar\n",
      "T1-L2 spinal cord.\n",
      "\n",
      "0.7581984791565162\n",
      "Sacral levels or BRAINSTEM\n",
      "Dorsal nucleus of the vagus nerve.\n",
      "\n",
      "0.6896415776619611\n",
      "Sympathetic chain\n",
      "Thoracic spinal cord.\n",
      "\n"
     ]
    }
   ],
   "source": [
    "for expected_answer, predicted_answer, result in zip(expected_answers, predicted_answers, results):\n",
    "  print(result)\n",
    "  print(expected_answer)\n",
    "  print(predicted_answer)\n",
    "  print()"
   ]
  },
  {
   "cell_type": "code",
   "execution_count": 403,
   "metadata": {},
   "outputs": [
    {
     "data": {
      "text/plain": [
       "<Axes: ylabel='Count'>"
      ]
     },
     "execution_count": 403,
     "metadata": {},
     "output_type": "execute_result"
    },
    {
     "data": {
      "image/png": "[encoded data removed]",
      "text/plain": [
       "<Figure size 640x480 with 1 Axes>"
      ]
     },
     "metadata": {},
     "output_type": "display_data"
    }
   ],
   "source": [
    "sns.histplot(results, binwidth=0.05)"
   ]
  },
  {
   "cell_type": "code",
   "execution_count": 404,
   "metadata": {},
   "outputs": [
    {
     "data": {
      "text/plain": [
       "94.5"
      ]
     },
     "execution_count": 404,
     "metadata": {},
     "output_type": "execute_result"
    }
   ],
   "source": [
    "np.median(qa_df['answer'].map(len))"
   ]
  },
  {
   "cell_type": "code",
   "execution_count": null,
   "metadata": {},
   "outputs": [],
   "source": []
  }
 ],
 "metadata": {
  "kernelspec": {
   "display_name": "base",
   "language": "python",
   "name": "python3"
  },
  "language_info": {
   "codemirror_mode": {
    "name": "ipython",
    "version": 3
   },
   "file_extension": ".py",
   "mimetype": "text/x-python",
   "name": "python",
   "nbconvert_exporter": "python",
   "pygments_lexer": "ipython3",
   "version": "3.12.2"
  }
 },
 "nbformat": 4,
 "nbformat_minor": 2
}
