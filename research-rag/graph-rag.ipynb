{
 "cells": [
  {
   "cell_type": "markdown",
   "metadata": {},
   "source": [
    "# GraphRAG"
   ]
  },
  {
   "cell_type": "markdown",
   "metadata": {},
   "source": [
    "## Import packages"
   ]
  },
  {
   "cell_type": "code",
   "execution_count": 1,
   "metadata": {},
   "outputs": [
    {
     "name": "stdout",
     "output_type": "stream",
     "text": [
      "Requirement already satisfied: nltk in /home/super-pc-linux/miniconda3/envs/biorag/lib/python3.9/site-packages (3.9.1)\n",
      "Requirement already satisfied: numpy in /home/super-pc-linux/miniconda3/envs/biorag/lib/python3.9/site-packages (1.26.4)\n",
      "Requirement already satisfied: pandas in /home/super-pc-linux/miniconda3/envs/biorag/lib/python3.9/site-packages (2.2.2)\n",
      "Requirement already satisfied: unidecode in /home/super-pc-linux/miniconda3/envs/biorag/lib/python3.9/site-packages (1.3.8)\n",
      "Requirement already satisfied: scikit-learn in /home/super-pc-linux/miniconda3/envs/biorag/lib/python3.9/site-packages (1.5.2)\n",
      "Requirement already satisfied: tqdm in /home/super-pc-linux/miniconda3/envs/biorag/lib/python3.9/site-packages (4.66.5)\n",
      "Requirement already satisfied: click in /home/super-pc-linux/miniconda3/envs/biorag/lib/python3.9/site-packages (from nltk) (8.1.7)\n",
      "Requirement already satisfied: joblib in /home/super-pc-linux/miniconda3/envs/biorag/lib/python3.9/site-packages (from nltk) (1.4.2)\n",
      "Requirement already satisfied: regex>=2021.8.3 in /home/super-pc-linux/miniconda3/envs/biorag/lib/python3.9/site-packages (from nltk) (2024.9.11)\n",
      "Requirement already satisfied: python-dateutil>=2.8.2 in /home/super-pc-linux/miniconda3/envs/biorag/lib/python3.9/site-packages (from pandas) (2.9.0)\n",
      "Requirement already satisfied: pytz>=2020.1 in /home/super-pc-linux/miniconda3/envs/biorag/lib/python3.9/site-packages (from pandas) (2024.2)\n",
      "Requirement already satisfied: tzdata>=2022.7 in /home/super-pc-linux/miniconda3/envs/biorag/lib/python3.9/site-packages (from pandas) (2024.1)\n",
      "Requirement already satisfied: scipy>=1.6.0 in /home/super-pc-linux/miniconda3/envs/biorag/lib/python3.9/site-packages (from scikit-learn) (1.13.1)\n",
      "Requirement already satisfied: threadpoolctl>=3.1.0 in /home/super-pc-linux/miniconda3/envs/biorag/lib/python3.9/site-packages (from scikit-learn) (3.5.0)\n",
      "Requirement already satisfied: six>=1.5 in /home/super-pc-linux/miniconda3/envs/biorag/lib/python3.9/site-packages (from python-dateutil>=2.8.2->pandas) (1.16.0)\n",
      "Requirement already satisfied: langchain in /home/super-pc-linux/miniconda3/envs/biorag/lib/python3.9/site-packages (0.2.16)\n",
      "Requirement already satisfied: langchain-core in /home/super-pc-linux/miniconda3/envs/biorag/lib/python3.9/site-packages (0.2.40)\n",
      "Requirement already satisfied: langchain-community in /home/super-pc-linux/miniconda3/envs/biorag/lib/python3.9/site-packages (0.2.17)\n",
      "Requirement already satisfied: langchain_experimental in /home/super-pc-linux/miniconda3/envs/biorag/lib/python3.9/site-packages (0.0.65)\n",
      "Requirement already satisfied: langchain-chroma in /home/super-pc-linux/miniconda3/envs/biorag/lib/python3.9/site-packages (0.1.4)\n",
      "Requirement already satisfied: langchain_mistralai in /home/super-pc-linux/miniconda3/envs/biorag/lib/python3.9/site-packages (0.1.13)\n",
      "Requirement already satisfied: langgraph in /home/super-pc-linux/miniconda3/envs/biorag/lib/python3.9/site-packages (0.2.21)\n",
      "Requirement already satisfied: PyYAML>=5.3 in /home/super-pc-linux/miniconda3/envs/biorag/lib/python3.9/site-packages (from langchain) (6.0.2)\n",
      "Requirement already satisfied: SQLAlchemy<3,>=1.4 in /home/super-pc-linux/miniconda3/envs/biorag/lib/python3.9/site-packages (from langchain) (2.0.34)\n",
      "Requirement already satisfied: aiohttp<4.0.0,>=3.8.3 in /home/super-pc-linux/miniconda3/envs/biorag/lib/python3.9/site-packages (from langchain) (3.10.5)\n",
      "Requirement already satisfied: async-timeout<5.0.0,>=4.0.0 in /home/super-pc-linux/miniconda3/envs/biorag/lib/python3.9/site-packages (from langchain) (4.0.3)\n",
      "Requirement already satisfied: langchain-text-splitters<0.3.0,>=0.2.0 in /home/super-pc-linux/miniconda3/envs/biorag/lib/python3.9/site-packages (from langchain) (0.2.4)\n",
      "Requirement already satisfied: langsmith<0.2.0,>=0.1.17 in /home/super-pc-linux/miniconda3/envs/biorag/lib/python3.9/site-packages (from langchain) (0.1.120)\n",
      "Requirement already satisfied: numpy<2,>=1 in /home/super-pc-linux/miniconda3/envs/biorag/lib/python3.9/site-packages (from langchain) (1.26.4)\n",
      "Requirement already satisfied: pydantic<3,>=1 in /home/super-pc-linux/miniconda3/envs/biorag/lib/python3.9/site-packages (from langchain) (2.9.1)\n",
      "Requirement already satisfied: requests<3,>=2 in /home/super-pc-linux/miniconda3/envs/biorag/lib/python3.9/site-packages (from langchain) (2.32.3)\n",
      "Requirement already satisfied: tenacity!=8.4.0,<9.0.0,>=8.1.0 in /home/super-pc-linux/miniconda3/envs/biorag/lib/python3.9/site-packages (from langchain) (8.5.0)\n",
      "Requirement already satisfied: jsonpatch<2.0,>=1.33 in /home/super-pc-linux/miniconda3/envs/biorag/lib/python3.9/site-packages (from langchain-core) (1.33)\n",
      "Requirement already satisfied: packaging<25,>=23.2 in /home/super-pc-linux/miniconda3/envs/biorag/lib/python3.9/site-packages (from langchain-core) (24.1)\n",
      "Requirement already satisfied: typing-extensions>=4.7 in /home/super-pc-linux/miniconda3/envs/biorag/lib/python3.9/site-packages (from langchain-core) (4.12.2)\n",
      "Requirement already satisfied: dataclasses-json<0.7,>=0.5.7 in /home/super-pc-linux/miniconda3/envs/biorag/lib/python3.9/site-packages (from langchain-community) (0.6.7)\n",
      "Requirement already satisfied: chromadb!=0.5.4,!=0.5.5,<0.6.0,>=0.4.0 in /home/super-pc-linux/miniconda3/envs/biorag/lib/python3.9/site-packages (from langchain-chroma) (0.5.3)\n",
      "Requirement already satisfied: fastapi<1,>=0.95.2 in /home/super-pc-linux/miniconda3/envs/biorag/lib/python3.9/site-packages (from langchain-chroma) (0.114.2)\n",
      "Requirement already satisfied: httpx<1,>=0.25.2 in /home/super-pc-linux/miniconda3/envs/biorag/lib/python3.9/site-packages (from langchain_mistralai) (0.27.2)\n",
      "Requirement already satisfied: httpx-sse<1,>=0.3.1 in /home/super-pc-linux/miniconda3/envs/biorag/lib/python3.9/site-packages (from langchain_mistralai) (0.4.0)\n",
      "Requirement already satisfied: tokenizers<1,>=0.15.1 in /home/super-pc-linux/miniconda3/envs/biorag/lib/python3.9/site-packages (from langchain_mistralai) (0.19.1)\n",
      "Requirement already satisfied: langgraph-checkpoint<2.0.0,>=1.0.2 in /home/super-pc-linux/miniconda3/envs/biorag/lib/python3.9/site-packages (from langgraph) (1.0.9)\n",
      "Requirement already satisfied: aiohappyeyeballs>=2.3.0 in /home/super-pc-linux/miniconda3/envs/biorag/lib/python3.9/site-packages (from aiohttp<4.0.0,>=3.8.3->langchain) (2.4.0)\n",
      "Requirement already satisfied: aiosignal>=1.1.2 in /home/super-pc-linux/miniconda3/envs/biorag/lib/python3.9/site-packages (from aiohttp<4.0.0,>=3.8.3->langchain) (1.3.1)\n",
      "Requirement already satisfied: attrs>=17.3.0 in /home/super-pc-linux/miniconda3/envs/biorag/lib/python3.9/site-packages (from aiohttp<4.0.0,>=3.8.3->langchain) (24.2.0)\n",
      "Requirement already satisfied: frozenlist>=1.1.1 in /home/super-pc-linux/miniconda3/envs/biorag/lib/python3.9/site-packages (from aiohttp<4.0.0,>=3.8.3->langchain) (1.4.1)\n",
      "Requirement already satisfied: multidict<7.0,>=4.5 in /home/super-pc-linux/miniconda3/envs/biorag/lib/python3.9/site-packages (from aiohttp<4.0.0,>=3.8.3->langchain) (6.1.0)\n",
      "Requirement already satisfied: yarl<2.0,>=1.0 in /home/super-pc-linux/miniconda3/envs/biorag/lib/python3.9/site-packages (from aiohttp<4.0.0,>=3.8.3->langchain) (1.11.1)\n",
      "Requirement already satisfied: build>=1.0.3 in /home/super-pc-linux/miniconda3/envs/biorag/lib/python3.9/site-packages (from chromadb!=0.5.4,!=0.5.5,<0.6.0,>=0.4.0->langchain-chroma) (1.2.2)\n",
      "Requirement already satisfied: chroma-hnswlib==0.7.3 in /home/super-pc-linux/miniconda3/envs/biorag/lib/python3.9/site-packages (from chromadb!=0.5.4,!=0.5.5,<0.6.0,>=0.4.0->langchain-chroma) (0.7.3)\n",
      "Requirement already satisfied: uvicorn>=0.18.3 in /home/super-pc-linux/miniconda3/envs/biorag/lib/python3.9/site-packages (from uvicorn[standard]>=0.18.3->chromadb!=0.5.4,!=0.5.5,<0.6.0,>=0.4.0->langchain-chroma) (0.30.6)\n",
      "Requirement already satisfied: posthog>=2.4.0 in /home/super-pc-linux/miniconda3/envs/biorag/lib/python3.9/site-packages (from chromadb!=0.5.4,!=0.5.5,<0.6.0,>=0.4.0->langchain-chroma) (3.6.5)\n",
      "Requirement already satisfied: onnxruntime>=1.14.1 in /home/super-pc-linux/miniconda3/envs/biorag/lib/python3.9/site-packages (from chromadb!=0.5.4,!=0.5.5,<0.6.0,>=0.4.0->langchain-chroma) (1.19.2)\n",
      "Requirement already satisfied: opentelemetry-api>=1.2.0 in /home/super-pc-linux/miniconda3/envs/biorag/lib/python3.9/site-packages (from chromadb!=0.5.4,!=0.5.5,<0.6.0,>=0.4.0->langchain-chroma) (1.27.0)\n",
      "Requirement already satisfied: opentelemetry-exporter-otlp-proto-grpc>=1.2.0 in /home/super-pc-linux/miniconda3/envs/biorag/lib/python3.9/site-packages (from chromadb!=0.5.4,!=0.5.5,<0.6.0,>=0.4.0->langchain-chroma) (1.27.0)\n",
      "Requirement already satisfied: opentelemetry-instrumentation-fastapi>=0.41b0 in /home/super-pc-linux/miniconda3/envs/biorag/lib/python3.9/site-packages (from chromadb!=0.5.4,!=0.5.5,<0.6.0,>=0.4.0->langchain-chroma) (0.48b0)\n",
      "Requirement already satisfied: opentelemetry-sdk>=1.2.0 in /home/super-pc-linux/miniconda3/envs/biorag/lib/python3.9/site-packages (from chromadb!=0.5.4,!=0.5.5,<0.6.0,>=0.4.0->langchain-chroma) (1.27.0)\n",
      "Requirement already satisfied: pypika>=0.48.9 in /home/super-pc-linux/miniconda3/envs/biorag/lib/python3.9/site-packages (from chromadb!=0.5.4,!=0.5.5,<0.6.0,>=0.4.0->langchain-chroma) (0.48.9)\n",
      "Requirement already satisfied: tqdm>=4.65.0 in /home/super-pc-linux/miniconda3/envs/biorag/lib/python3.9/site-packages (from chromadb!=0.5.4,!=0.5.5,<0.6.0,>=0.4.0->langchain-chroma) (4.66.5)\n",
      "Requirement already satisfied: overrides>=7.3.1 in /home/super-pc-linux/miniconda3/envs/biorag/lib/python3.9/site-packages (from chromadb!=0.5.4,!=0.5.5,<0.6.0,>=0.4.0->langchain-chroma) (7.7.0)\n",
      "Requirement already satisfied: importlib-resources in /home/super-pc-linux/miniconda3/envs/biorag/lib/python3.9/site-packages (from chromadb!=0.5.4,!=0.5.5,<0.6.0,>=0.4.0->langchain-chroma) (6.4.5)\n",
      "Requirement already satisfied: grpcio>=1.58.0 in /home/super-pc-linux/miniconda3/envs/biorag/lib/python3.9/site-packages (from chromadb!=0.5.4,!=0.5.5,<0.6.0,>=0.4.0->langchain-chroma) (1.66.1)\n",
      "Requirement already satisfied: bcrypt>=4.0.1 in /home/super-pc-linux/miniconda3/envs/biorag/lib/python3.9/site-packages (from chromadb!=0.5.4,!=0.5.5,<0.6.0,>=0.4.0->langchain-chroma) (4.2.0)\n",
      "Requirement already satisfied: typer>=0.9.0 in /home/super-pc-linux/miniconda3/envs/biorag/lib/python3.9/site-packages (from chromadb!=0.5.4,!=0.5.5,<0.6.0,>=0.4.0->langchain-chroma) (0.12.5)\n",
      "Requirement already satisfied: kubernetes>=28.1.0 in /home/super-pc-linux/miniconda3/envs/biorag/lib/python3.9/site-packages (from chromadb!=0.5.4,!=0.5.5,<0.6.0,>=0.4.0->langchain-chroma) (30.1.0)\n",
      "Requirement already satisfied: mmh3>=4.0.1 in /home/super-pc-linux/miniconda3/envs/biorag/lib/python3.9/site-packages (from chromadb!=0.5.4,!=0.5.5,<0.6.0,>=0.4.0->langchain-chroma) (4.1.0)\n",
      "Requirement already satisfied: orjson>=3.9.12 in /home/super-pc-linux/miniconda3/envs/biorag/lib/python3.9/site-packages (from chromadb!=0.5.4,!=0.5.5,<0.6.0,>=0.4.0->langchain-chroma) (3.10.7)\n",
      "Requirement already satisfied: marshmallow<4.0.0,>=3.18.0 in /home/super-pc-linux/miniconda3/envs/biorag/lib/python3.9/site-packages (from dataclasses-json<0.7,>=0.5.7->langchain-community) (3.22.0)\n",
      "Requirement already satisfied: typing-inspect<1,>=0.4.0 in /home/super-pc-linux/miniconda3/envs/biorag/lib/python3.9/site-packages (from dataclasses-json<0.7,>=0.5.7->langchain-community) (0.9.0)\n",
      "Requirement already satisfied: starlette<0.39.0,>=0.37.2 in /home/super-pc-linux/miniconda3/envs/biorag/lib/python3.9/site-packages (from fastapi<1,>=0.95.2->langchain-chroma) (0.38.5)\n",
      "Requirement already satisfied: anyio in /home/super-pc-linux/miniconda3/envs/biorag/lib/python3.9/site-packages (from httpx<1,>=0.25.2->langchain_mistralai) (4.4.0)\n",
      "Requirement already satisfied: certifi in /home/super-pc-linux/miniconda3/envs/biorag/lib/python3.9/site-packages (from httpx<1,>=0.25.2->langchain_mistralai) (2024.8.30)\n",
      "Requirement already satisfied: httpcore==1.* in /home/super-pc-linux/miniconda3/envs/biorag/lib/python3.9/site-packages (from httpx<1,>=0.25.2->langchain_mistralai) (1.0.5)\n",
      "Requirement already satisfied: idna in /home/super-pc-linux/miniconda3/envs/biorag/lib/python3.9/site-packages (from httpx<1,>=0.25.2->langchain_mistralai) (3.10)\n",
      "Requirement already satisfied: sniffio in /home/super-pc-linux/miniconda3/envs/biorag/lib/python3.9/site-packages (from httpx<1,>=0.25.2->langchain_mistralai) (1.3.1)\n",
      "Requirement already satisfied: h11<0.15,>=0.13 in /home/super-pc-linux/miniconda3/envs/biorag/lib/python3.9/site-packages (from httpcore==1.*->httpx<1,>=0.25.2->langchain_mistralai) (0.14.0)\n",
      "Requirement already satisfied: jsonpointer>=1.9 in /home/super-pc-linux/miniconda3/envs/biorag/lib/python3.9/site-packages (from jsonpatch<2.0,>=1.33->langchain-core) (3.0.0)\n",
      "Requirement already satisfied: annotated-types>=0.6.0 in /home/super-pc-linux/miniconda3/envs/biorag/lib/python3.9/site-packages (from pydantic<3,>=1->langchain) (0.7.0)\n",
      "Requirement already satisfied: pydantic-core==2.23.3 in /home/super-pc-linux/miniconda3/envs/biorag/lib/python3.9/site-packages (from pydantic<3,>=1->langchain) (2.23.3)\n",
      "Requirement already satisfied: charset-normalizer<4,>=2 in /home/super-pc-linux/miniconda3/envs/biorag/lib/python3.9/site-packages (from requests<3,>=2->langchain) (3.3.2)\n",
      "Requirement already satisfied: urllib3<3,>=1.21.1 in /home/super-pc-linux/miniconda3/envs/biorag/lib/python3.9/site-packages (from requests<3,>=2->langchain) (2.2.3)\n",
      "Requirement already satisfied: greenlet!=0.4.17 in /home/super-pc-linux/miniconda3/envs/biorag/lib/python3.9/site-packages (from SQLAlchemy<3,>=1.4->langchain) (3.1.0)\n",
      "Requirement already satisfied: huggingface-hub<1.0,>=0.16.4 in /home/super-pc-linux/miniconda3/envs/biorag/lib/python3.9/site-packages (from tokenizers<1,>=0.15.1->langchain_mistralai) (0.24.7)\n",
      "Requirement already satisfied: pyproject_hooks in /home/super-pc-linux/miniconda3/envs/biorag/lib/python3.9/site-packages (from build>=1.0.3->chromadb!=0.5.4,!=0.5.5,<0.6.0,>=0.4.0->langchain-chroma) (1.1.0)\n",
      "Requirement already satisfied: importlib-metadata>=4.6 in /home/super-pc-linux/miniconda3/envs/biorag/lib/python3.9/site-packages (from build>=1.0.3->chromadb!=0.5.4,!=0.5.5,<0.6.0,>=0.4.0->langchain-chroma) (8.4.0)\n",
      "Requirement already satisfied: tomli>=1.1.0 in /home/super-pc-linux/miniconda3/envs/biorag/lib/python3.9/site-packages (from build>=1.0.3->chromadb!=0.5.4,!=0.5.5,<0.6.0,>=0.4.0->langchain-chroma) (2.0.1)\n",
      "Requirement already satisfied: filelock in /home/super-pc-linux/miniconda3/envs/biorag/lib/python3.9/site-packages (from huggingface-hub<1.0,>=0.16.4->tokenizers<1,>=0.15.1->langchain_mistralai) (3.16.0)\n",
      "Requirement already satisfied: fsspec>=2023.5.0 in /home/super-pc-linux/miniconda3/envs/biorag/lib/python3.9/site-packages (from huggingface-hub<1.0,>=0.16.4->tokenizers<1,>=0.15.1->langchain_mistralai) (2024.6.1)\n",
      "Requirement already satisfied: six>=1.9.0 in /home/super-pc-linux/miniconda3/envs/biorag/lib/python3.9/site-packages (from kubernetes>=28.1.0->chromadb!=0.5.4,!=0.5.5,<0.6.0,>=0.4.0->langchain-chroma) (1.16.0)\n",
      "Requirement already satisfied: python-dateutil>=2.5.3 in /home/super-pc-linux/miniconda3/envs/biorag/lib/python3.9/site-packages (from kubernetes>=28.1.0->chromadb!=0.5.4,!=0.5.5,<0.6.0,>=0.4.0->langchain-chroma) (2.9.0)\n",
      "Requirement already satisfied: google-auth>=1.0.1 in /home/super-pc-linux/miniconda3/envs/biorag/lib/python3.9/site-packages (from kubernetes>=28.1.0->chromadb!=0.5.4,!=0.5.5,<0.6.0,>=0.4.0->langchain-chroma) (2.34.0)\n",
      "Requirement already satisfied: websocket-client!=0.40.0,!=0.41.*,!=0.42.*,>=0.32.0 in /home/super-pc-linux/miniconda3/envs/biorag/lib/python3.9/site-packages (from kubernetes>=28.1.0->chromadb!=0.5.4,!=0.5.5,<0.6.0,>=0.4.0->langchain-chroma) (1.8.0)\n",
      "Requirement already satisfied: requests-oauthlib in /home/super-pc-linux/miniconda3/envs/biorag/lib/python3.9/site-packages (from kubernetes>=28.1.0->chromadb!=0.5.4,!=0.5.5,<0.6.0,>=0.4.0->langchain-chroma) (2.0.0)\n",
      "Requirement already satisfied: oauthlib>=3.2.2 in /home/super-pc-linux/miniconda3/envs/biorag/lib/python3.9/site-packages (from kubernetes>=28.1.0->chromadb!=0.5.4,!=0.5.5,<0.6.0,>=0.4.0->langchain-chroma) (3.2.2)\n",
      "Requirement already satisfied: coloredlogs in /home/super-pc-linux/miniconda3/envs/biorag/lib/python3.9/site-packages (from onnxruntime>=1.14.1->chromadb!=0.5.4,!=0.5.5,<0.6.0,>=0.4.0->langchain-chroma) (15.0.1)\n",
      "Requirement already satisfied: flatbuffers in /home/super-pc-linux/miniconda3/envs/biorag/lib/python3.9/site-packages (from onnxruntime>=1.14.1->chromadb!=0.5.4,!=0.5.5,<0.6.0,>=0.4.0->langchain-chroma) (24.3.25)\n",
      "Requirement already satisfied: protobuf in /home/super-pc-linux/miniconda3/envs/biorag/lib/python3.9/site-packages (from onnxruntime>=1.14.1->chromadb!=0.5.4,!=0.5.5,<0.6.0,>=0.4.0->langchain-chroma) (4.25.4)\n",
      "Requirement already satisfied: sympy in /home/super-pc-linux/miniconda3/envs/biorag/lib/python3.9/site-packages (from onnxruntime>=1.14.1->chromadb!=0.5.4,!=0.5.5,<0.6.0,>=0.4.0->langchain-chroma) (1.13.2)\n",
      "Requirement already satisfied: deprecated>=1.2.6 in /home/super-pc-linux/miniconda3/envs/biorag/lib/python3.9/site-packages (from opentelemetry-api>=1.2.0->chromadb!=0.5.4,!=0.5.5,<0.6.0,>=0.4.0->langchain-chroma) (1.2.14)\n",
      "Requirement already satisfied: googleapis-common-protos~=1.52 in /home/super-pc-linux/miniconda3/envs/biorag/lib/python3.9/site-packages (from opentelemetry-exporter-otlp-proto-grpc>=1.2.0->chromadb!=0.5.4,!=0.5.5,<0.6.0,>=0.4.0->langchain-chroma) (1.65.0)\n",
      "Requirement already satisfied: opentelemetry-exporter-otlp-proto-common==1.27.0 in /home/super-pc-linux/miniconda3/envs/biorag/lib/python3.9/site-packages (from opentelemetry-exporter-otlp-proto-grpc>=1.2.0->chromadb!=0.5.4,!=0.5.5,<0.6.0,>=0.4.0->langchain-chroma) (1.27.0)\n",
      "Requirement already satisfied: opentelemetry-proto==1.27.0 in /home/super-pc-linux/miniconda3/envs/biorag/lib/python3.9/site-packages (from opentelemetry-exporter-otlp-proto-grpc>=1.2.0->chromadb!=0.5.4,!=0.5.5,<0.6.0,>=0.4.0->langchain-chroma) (1.27.0)\n",
      "Requirement already satisfied: opentelemetry-instrumentation-asgi==0.48b0 in /home/super-pc-linux/miniconda3/envs/biorag/lib/python3.9/site-packages (from opentelemetry-instrumentation-fastapi>=0.41b0->chromadb!=0.5.4,!=0.5.5,<0.6.0,>=0.4.0->langchain-chroma) (0.48b0)\n",
      "Requirement already satisfied: opentelemetry-instrumentation==0.48b0 in /home/super-pc-linux/miniconda3/envs/biorag/lib/python3.9/site-packages (from opentelemetry-instrumentation-fastapi>=0.41b0->chromadb!=0.5.4,!=0.5.5,<0.6.0,>=0.4.0->langchain-chroma) (0.48b0)\n",
      "Requirement already satisfied: opentelemetry-semantic-conventions==0.48b0 in /home/super-pc-linux/miniconda3/envs/biorag/lib/python3.9/site-packages (from opentelemetry-instrumentation-fastapi>=0.41b0->chromadb!=0.5.4,!=0.5.5,<0.6.0,>=0.4.0->langchain-chroma) (0.48b0)\n",
      "Requirement already satisfied: opentelemetry-util-http==0.48b0 in /home/super-pc-linux/miniconda3/envs/biorag/lib/python3.9/site-packages (from opentelemetry-instrumentation-fastapi>=0.41b0->chromadb!=0.5.4,!=0.5.5,<0.6.0,>=0.4.0->langchain-chroma) (0.48b0)\n",
      "Requirement already satisfied: setuptools>=16.0 in /home/super-pc-linux/miniconda3/envs/biorag/lib/python3.9/site-packages (from opentelemetry-instrumentation==0.48b0->opentelemetry-instrumentation-fastapi>=0.41b0->chromadb!=0.5.4,!=0.5.5,<0.6.0,>=0.4.0->langchain-chroma) (73.0.1)\n",
      "Requirement already satisfied: wrapt<2.0.0,>=1.0.0 in /home/super-pc-linux/miniconda3/envs/biorag/lib/python3.9/site-packages (from opentelemetry-instrumentation==0.48b0->opentelemetry-instrumentation-fastapi>=0.41b0->chromadb!=0.5.4,!=0.5.5,<0.6.0,>=0.4.0->langchain-chroma) (1.16.0)\n",
      "Requirement already satisfied: asgiref~=3.0 in /home/super-pc-linux/miniconda3/envs/biorag/lib/python3.9/site-packages (from opentelemetry-instrumentation-asgi==0.48b0->opentelemetry-instrumentation-fastapi>=0.41b0->chromadb!=0.5.4,!=0.5.5,<0.6.0,>=0.4.0->langchain-chroma) (3.8.1)\n",
      "Requirement already satisfied: monotonic>=1.5 in /home/super-pc-linux/miniconda3/envs/biorag/lib/python3.9/site-packages (from posthog>=2.4.0->chromadb!=0.5.4,!=0.5.5,<0.6.0,>=0.4.0->langchain-chroma) (1.6)\n",
      "Requirement already satisfied: backoff>=1.10.0 in /home/super-pc-linux/miniconda3/envs/biorag/lib/python3.9/site-packages (from posthog>=2.4.0->chromadb!=0.5.4,!=0.5.5,<0.6.0,>=0.4.0->langchain-chroma) (2.2.1)\n",
      "Requirement already satisfied: exceptiongroup>=1.0.2 in /home/super-pc-linux/miniconda3/envs/biorag/lib/python3.9/site-packages (from anyio->httpx<1,>=0.25.2->langchain_mistralai) (1.2.2)\n",
      "Requirement already satisfied: click>=8.0.0 in /home/super-pc-linux/miniconda3/envs/biorag/lib/python3.9/site-packages (from typer>=0.9.0->chromadb!=0.5.4,!=0.5.5,<0.6.0,>=0.4.0->langchain-chroma) (8.1.7)\n",
      "Requirement already satisfied: shellingham>=1.3.0 in /home/super-pc-linux/miniconda3/envs/biorag/lib/python3.9/site-packages (from typer>=0.9.0->chromadb!=0.5.4,!=0.5.5,<0.6.0,>=0.4.0->langchain-chroma) (1.5.4)\n",
      "Requirement already satisfied: rich>=10.11.0 in /home/super-pc-linux/miniconda3/envs/biorag/lib/python3.9/site-packages (from typer>=0.9.0->chromadb!=0.5.4,!=0.5.5,<0.6.0,>=0.4.0->langchain-chroma) (13.8.1)\n",
      "Requirement already satisfied: mypy-extensions>=0.3.0 in /home/super-pc-linux/miniconda3/envs/biorag/lib/python3.9/site-packages (from typing-inspect<1,>=0.4.0->dataclasses-json<0.7,>=0.5.7->langchain-community) (1.0.0)\n",
      "Requirement already satisfied: httptools>=0.5.0 in /home/super-pc-linux/miniconda3/envs/biorag/lib/python3.9/site-packages (from uvicorn[standard]>=0.18.3->chromadb!=0.5.4,!=0.5.5,<0.6.0,>=0.4.0->langchain-chroma) (0.6.1)\n",
      "Requirement already satisfied: python-dotenv>=0.13 in /home/super-pc-linux/miniconda3/envs/biorag/lib/python3.9/site-packages (from uvicorn[standard]>=0.18.3->chromadb!=0.5.4,!=0.5.5,<0.6.0,>=0.4.0->langchain-chroma) (1.0.1)\n",
      "Requirement already satisfied: uvloop!=0.15.0,!=0.15.1,>=0.14.0 in /home/super-pc-linux/miniconda3/envs/biorag/lib/python3.9/site-packages (from uvicorn[standard]>=0.18.3->chromadb!=0.5.4,!=0.5.5,<0.6.0,>=0.4.0->langchain-chroma) (0.20.0)\n",
      "Requirement already satisfied: watchfiles>=0.13 in /home/super-pc-linux/miniconda3/envs/biorag/lib/python3.9/site-packages (from uvicorn[standard]>=0.18.3->chromadb!=0.5.4,!=0.5.5,<0.6.0,>=0.4.0->langchain-chroma) (0.24.0)\n",
      "Requirement already satisfied: websockets>=10.4 in /home/super-pc-linux/miniconda3/envs/biorag/lib/python3.9/site-packages (from uvicorn[standard]>=0.18.3->chromadb!=0.5.4,!=0.5.5,<0.6.0,>=0.4.0->langchain-chroma) (13.0.1)\n",
      "Requirement already satisfied: zipp>=3.1.0 in /home/super-pc-linux/miniconda3/envs/biorag/lib/python3.9/site-packages (from importlib-resources->chromadb!=0.5.4,!=0.5.5,<0.6.0,>=0.4.0->langchain-chroma) (3.20.2)\n",
      "Requirement already satisfied: cachetools<6.0,>=2.0.0 in /home/super-pc-linux/miniconda3/envs/biorag/lib/python3.9/site-packages (from google-auth>=1.0.1->kubernetes>=28.1.0->chromadb!=0.5.4,!=0.5.5,<0.6.0,>=0.4.0->langchain-chroma) (5.5.0)\n",
      "Requirement already satisfied: pyasn1-modules>=0.2.1 in /home/super-pc-linux/miniconda3/envs/biorag/lib/python3.9/site-packages (from google-auth>=1.0.1->kubernetes>=28.1.0->chromadb!=0.5.4,!=0.5.5,<0.6.0,>=0.4.0->langchain-chroma) (0.4.1)\n",
      "Requirement already satisfied: rsa<5,>=3.1.4 in /home/super-pc-linux/miniconda3/envs/biorag/lib/python3.9/site-packages (from google-auth>=1.0.1->kubernetes>=28.1.0->chromadb!=0.5.4,!=0.5.5,<0.6.0,>=0.4.0->langchain-chroma) (4.9)\n",
      "Requirement already satisfied: markdown-it-py>=2.2.0 in /home/super-pc-linux/miniconda3/envs/biorag/lib/python3.9/site-packages (from rich>=10.11.0->typer>=0.9.0->chromadb!=0.5.4,!=0.5.5,<0.6.0,>=0.4.0->langchain-chroma) (3.0.0)\n",
      "Requirement already satisfied: pygments<3.0.0,>=2.13.0 in /home/super-pc-linux/miniconda3/envs/biorag/lib/python3.9/site-packages (from rich>=10.11.0->typer>=0.9.0->chromadb!=0.5.4,!=0.5.5,<0.6.0,>=0.4.0->langchain-chroma) (2.18.0)\n",
      "Requirement already satisfied: humanfriendly>=9.1 in /home/super-pc-linux/miniconda3/envs/biorag/lib/python3.9/site-packages (from coloredlogs->onnxruntime>=1.14.1->chromadb!=0.5.4,!=0.5.5,<0.6.0,>=0.4.0->langchain-chroma) (10.0)\n",
      "Requirement already satisfied: mpmath<1.4,>=1.1.0 in /home/super-pc-linux/miniconda3/envs/biorag/lib/python3.9/site-packages (from sympy->onnxruntime>=1.14.1->chromadb!=0.5.4,!=0.5.5,<0.6.0,>=0.4.0->langchain-chroma) (1.3.0)\n",
      "Requirement already satisfied: mdurl~=0.1 in /home/super-pc-linux/miniconda3/envs/biorag/lib/python3.9/site-packages (from markdown-it-py>=2.2.0->rich>=10.11.0->typer>=0.9.0->chromadb!=0.5.4,!=0.5.5,<0.6.0,>=0.4.0->langchain-chroma) (0.1.2)\n",
      "Requirement already satisfied: pyasn1<0.7.0,>=0.4.6 in /home/super-pc-linux/miniconda3/envs/biorag/lib/python3.9/site-packages (from pyasn1-modules>=0.2.1->google-auth>=1.0.1->kubernetes>=28.1.0->chromadb!=0.5.4,!=0.5.5,<0.6.0,>=0.4.0->langchain-chroma) (0.6.1)\n"
     ]
    }
   ],
   "source": [
    "! pip install nltk numpy pandas unidecode scikit-learn tqdm\n",
    "! pip install langchain langchain-core langchain-community langchain_experimental langchain-chroma langchain_mistralai langgraph"
   ]
  },
  {
   "cell_type": "code",
   "execution_count": 2,
   "metadata": {},
   "outputs": [],
   "source": [
    "import os\n",
    "import re\n",
    "import nltk\n",
    "import string\n",
    "import numpy as np\n",
    "import pandas as pd\n",
    "from unidecode import unidecode\n",
    "from sklearn.metrics.pairwise import cosine_similarity\n",
    "from tqdm import tqdm\n",
    "from pathlib import Path\n",
    "import pickle\n",
    "from rouge_score import rouge_scorer\n",
    "\n",
    "from langchain_community.document_loaders import PDFMinerLoader\n",
    "from langchain_text_splitters import RecursiveCharacterTextSplitter\n",
    "from langchain_chroma import Chroma\n",
    "from langchain_community.embeddings import OllamaEmbeddings\n",
    "from langchain.embeddings.cache import CacheBackedEmbeddings\n",
    "from langchain.storage import LocalFileStore\n",
    "from langchain_community.llms import Ollama\n",
    "from langgraph.graph import END, StateGraph\n",
    "from langchain_core.output_parsers import PydanticOutputParser\n",
    "from langchain.output_parsers import RetryOutputParser\n",
    "from typing import Literal\n",
    "from langchain_core.prompts import PromptTemplate\n",
    "from langchain_core.pydantic_v1 import BaseModel, Field\n",
    "from langchain_core.runnables import RunnableLambda, RunnableParallel\n",
    "from langchain import hub\n",
    "from langchain_core.output_parsers import StrOutputParser"
   ]
  },
  {
   "cell_type": "markdown",
   "metadata": {},
   "source": [
    "## Disable warnings"
   ]
  },
  {
   "cell_type": "code",
   "execution_count": 3,
   "metadata": {},
   "outputs": [],
   "source": [
    "import warnings\n",
    "warnings.filterwarnings('ignore')"
   ]
  },
  {
   "cell_type": "markdown",
   "metadata": {},
   "source": [
    "## Setup metrics"
   ]
  },
  {
   "cell_type": "markdown",
   "metadata": {},
   "source": [
    "### Download NLTK dictionaries\n",
    "\n",
    "These dictionaries are needed for further text preprocessing."
   ]
  },
  {
   "cell_type": "code",
   "execution_count": 4,
   "metadata": {},
   "outputs": [],
   "source": [
    "dict_ids = [\n",
    "  'punkt_tab',\n",
    "  'punkt',\n",
    "  'stopwords',\n",
    "  'wordnet',\n",
    "]\n",
    "\n",
    "for dict_id in dict_ids:\n",
    "  nltk.download(dict_id, quiet=True)"
   ]
  },
  {
   "cell_type": "markdown",
   "metadata": {},
   "source": [
    "### Text preprocessing\n",
    "\n",
    "Define a function for text preprocessing, which is an important step before calculating any metrics. This preprocessing function will help in cleaning the text data, making it ready for further analysis. The preprocessing involves several steps:\n",
    "1. Lowercasing\n",
    "2. Stopwords removal\n",
    "3. Lemmatization\n",
    "4. Remove accents from characters"
   ]
  },
  {
   "cell_type": "code",
   "execution_count": 5,
   "metadata": {},
   "outputs": [],
   "source": [
    "lemmatizer = nltk.stem.WordNetLemmatizer()\n",
    "\n",
    "def preprocess(corpus: str) -> str:\n",
    "  corpus = corpus.lower()\n",
    "  stopset = nltk.corpus.stopwords.words('english') + nltk.corpus.stopwords.words('russian') + list(string.punctuation)\n",
    "  tokens = nltk.word_tokenize(corpus)\n",
    "  tokens = [t for t in tokens if t not in stopset]\n",
    "  tokens = [lemmatizer.lemmatize(t) for t in tokens]\n",
    "  corpus = ' '.join(tokens)\n",
    "  corpus = unidecode(corpus)\n",
    "  return corpus"
   ]
  },
  {
   "cell_type": "markdown",
   "metadata": {},
   "source": [
    "### Embedding Initialization\n",
    "\n",
    "Here we are initializing the Llama 3 embeddings model. The `OllamaEmbeddings` class is a component of the Ollama library, a set of pre-trained language models. This model is capable of embedding corpora of any length into a 4096-dimensional vector.\n",
    "\n",
    "The use of `OllamaEmbeddings` requires the installation of a local Ollama server, which can be found at https://ollama.com."
   ]
  },
  {
   "cell_type": "code",
   "execution_count": 6,
   "metadata": {},
   "outputs": [],
   "source": [
    "embeddings = OllamaEmbeddings(model='llama3.1')\n",
    "store = LocalFileStore(\"./.embeddings_cache\")\n",
    "\n",
    "cached_embeddings = CacheBackedEmbeddings.from_bytes_store(\n",
    "  embeddings,\n",
    "  store,\n",
    "  namespace=embeddings.model,\n",
    ")"
   ]
  },
  {
   "cell_type": "markdown",
   "metadata": {},
   "source": [
    "### Average embeddings cosine similarity metric\n",
    "\n",
    "This function calculates the average cosine similarity between expected answers and LLM predicted answers using their respective embeddings. Cosine similarity is a measure of similarity between two non-zero vectors of an inner product space that measures the cosine of the angle between them:\n",
    "\n",
    "$$\n",
    "K(a, b) = \\frac{\\sum \\limits_{i=1}^n a_i b_i}{\\sqrt{\\sum \\limits_{i=1}^n a_i^2} \\cdot \\sqrt{\\sum \\limits_{i=1}^n b_i^2}}\n",
    "$$"
   ]
  },
  {
   "cell_type": "code",
   "execution_count": 7,
   "metadata": {},
   "outputs": [],
   "source": [
    "def embeddings_cosine_sim_metric(expected_answers: list[str], predicted_answers: list[str]) -> float:\n",
    "  results = []\n",
    "\n",
    "  for expected_answer, predicted_answer in zip(expected_answers, predicted_answers):\n",
    "    expected_answer = preprocess(expected_answer)\n",
    "    predicted_answer = preprocess(predicted_answer)\n",
    "\n",
    "    expected_embedding = np.array(cached_embeddings.embed_query(expected_answer))\n",
    "    predicted_embedding = np.array(cached_embeddings.embed_query(predicted_answer))\n",
    "\n",
    "    sim = cosine_similarity(\n",
    "      expected_embedding.reshape(1, -1),\n",
    "      predicted_embedding.reshape(1, -1),\n",
    "    )[0][0]\n",
    "\n",
    "    results.append(sim)\n",
    "\n",
    "  return np.mean(results)"
   ]
  },
  {
   "cell_type": "code",
   "execution_count": 8,
   "metadata": {},
   "outputs": [],
   "source": [
    "smoothie_f = nltk.translate.bleu_score.SmoothingFunction().method4\n",
    "\n",
    "def bleu_metric(expected_answers, predicted_answers):\n",
    "  scores = []\n",
    "\n",
    "  for expected_answer, predicted_answer in zip(expected_answers, predicted_answers):\n",
    "    expected_answer = preprocess(expected_answer)\n",
    "    predicted_answer = preprocess(predicted_answer)\n",
    "\n",
    "    predicted_tokens = nltk.word_tokenize(predicted_answer)\n",
    "    expected_tokens = [nltk.word_tokenize(expected_answer)]\n",
    "\n",
    "    score = nltk.translate.bleu_score.sentence_bleu(\n",
    "      expected_tokens,\n",
    "      predicted_tokens,\n",
    "      smoothing_function=smoothie_f,\n",
    "    )\n",
    "\n",
    "    scores.append(score)\n",
    "\n",
    "  return np.mean(scores)"
   ]
  },
  {
   "cell_type": "code",
   "execution_count": 9,
   "metadata": {},
   "outputs": [],
   "source": [
    "rogue_1_scorer = rouge_scorer.RougeScorer(['rouge1'], use_stemmer=True)\n",
    "\n",
    "def rogue_1_metric(expected_answers, predicted_answers):\n",
    "  scores = []\n",
    "\n",
    "  for expected_answer, predicted_answer in zip(expected_answers, predicted_answers):\n",
    "    expected_answer = preprocess(expected_answer)\n",
    "    predicted_answer = preprocess(predicted_answer)\n",
    "\n",
    "    result = rogue_1_scorer.score(expected_answer, predicted_answer)\n",
    "\n",
    "    scores.append(result['rouge1'])\n",
    "\n",
    "  return np.mean(scores)"
   ]
  },
  {
   "cell_type": "code",
   "execution_count": 10,
   "metadata": {},
   "outputs": [],
   "source": [
    "rogue_l_scorer = rouge_scorer.RougeScorer(['rougeL'], use_stemmer=True)\n",
    "\n",
    "def rogue_l_metric(expected_answers, predicted_answers):\n",
    "  scores = []\n",
    "\n",
    "  for expected_answer, predicted_answer in zip(expected_answers, predicted_answers):\n",
    "    expected_answer = preprocess(expected_answer)\n",
    "    predicted_answer = preprocess(predicted_answer)\n",
    "\n",
    "    result = rogue_l_scorer.score(expected_answer, predicted_answer)\n",
    "\n",
    "    scores.append(result['rougeL'])\n",
    "\n",
    "  return np.mean(scores)"
   ]
  },
  {
   "cell_type": "markdown",
   "metadata": {},
   "source": [
    "## Load documents"
   ]
  },
  {
   "cell_type": "code",
   "execution_count": 11,
   "metadata": {},
   "outputs": [],
   "source": [
    "docs_dir = Path('./docs')\n",
    "docs_cache_dir = Path('./.docs_cache')\n",
    "raw_docs_pkl_path = docs_cache_dir / 'parsed_docs_cache.pkl'\n",
    "\n",
    "docs = None\n",
    "\n",
    "if os.path.exists(raw_docs_pkl_path):\n",
    "  with open(raw_docs_pkl_path, 'rb') as f:\n",
    "    docs = pickle.load(f)\n",
    "else:\n",
    "  docs = []\n",
    "  for file in docs_dir.iterdir():\n",
    "    docs.extend(PDFMinerLoader(file).load())\n",
    "\n",
    "  with open(raw_docs_pkl_path, 'wb') as f:\n",
    "    pickle.dump(docs, f)"
   ]
  },
  {
   "cell_type": "markdown",
   "metadata": {},
   "source": [
    "## Split documents"
   ]
  },
  {
   "cell_type": "code",
   "execution_count": 12,
   "metadata": {},
   "outputs": [
    {
     "data": {
      "text/plain": [
       "17443"
      ]
     },
     "execution_count": 12,
     "metadata": {},
     "output_type": "execute_result"
    }
   ],
   "source": [
    "from langchain_text_splitters import RecursiveCharacterTextSplitter\n",
    "\n",
    "splitted_docs_pkl_path = docs_cache_dir / 'splitted_docs_cache.pkl'\n",
    "\n",
    "if os.path.exists(splitted_docs_pkl_path):\n",
    "  with open(splitted_docs_pkl_path, 'rb') as f:\n",
    "    splitted_docs = pickle.load(f)\n",
    "else:\n",
    "  text_splitter = RecursiveCharacterTextSplitter(\n",
    "    chunk_size=1500,\n",
    "    chunk_overlap=500,\n",
    "    length_function=len,\n",
    "    is_separator_regex=False,\n",
    "  )\n",
    "  splitted_docs = text_splitter.create_documents([doc.page_content for doc in docs])\n",
    "\n",
    "  with open(splitted_docs_pkl_path, 'wb') as f:\n",
    "    pickle.dump(splitted_docs, f)\n",
    "\n",
    "len(splitted_docs)"
   ]
  },
  {
   "cell_type": "markdown",
   "metadata": {},
   "source": [
    "## Setup vector store"
   ]
  },
  {
   "cell_type": "code",
   "execution_count": 13,
   "metadata": {},
   "outputs": [],
   "source": [
    "vector_store = Chroma.from_documents(\n",
    "  documents=splitted_docs,\n",
    "  embedding=cached_embeddings,\n",
    ")\n",
    "retriever = vector_store.as_retriever()"
   ]
  },
  {
   "cell_type": "markdown",
   "metadata": {},
   "source": [
    "## Define JSON extractor"
   ]
  },
  {
   "cell_type": "code",
   "execution_count": 14,
   "metadata": {},
   "outputs": [],
   "source": [
    "def extract_json(response):\n",
    "  json_pattern = r'\\{.*?\\}'\n",
    "  match = re.search(json_pattern, response, re.DOTALL)\n",
    "\n",
    "  if match:\n",
    "    return match.group().strip()\n",
    "\n",
    "  return response"
   ]
  },
  {
   "cell_type": "markdown",
   "metadata": {},
   "source": [
    "## Build LLM"
   ]
  },
  {
   "cell_type": "code",
   "execution_count": 15,
   "metadata": {},
   "outputs": [],
   "source": [
    "llm = Ollama(model='llama3.1', temperature=0)"
   ]
  },
  {
   "cell_type": "markdown",
   "metadata": {},
   "source": [
    "## Build chains"
   ]
  },
  {
   "cell_type": "markdown",
   "metadata": {},
   "source": [
    "### Route chain"
   ]
  },
  {
   "cell_type": "code",
   "execution_count": 16,
   "metadata": {},
   "outputs": [
    {
     "name": "stdout",
     "output_type": "stream",
     "text": [
      "data_source='websearch'\n",
      "data_source='vectorstore'\n"
     ]
    }
   ],
   "source": [
    "class RouteQuery(BaseModel):\n",
    "  data_source: Literal['vectorstore', 'websearch'] = Field(\n",
    "    description='Given a user question choose to route it to web search or a vectorstore.',\n",
    "  )\n",
    "\n",
    "route_parser = PydanticOutputParser(pydantic_object=RouteQuery)\n",
    "route_retry_parser = RetryOutputParser.from_llm(\n",
    "  parser=route_parser,\n",
    "  llm=llm,\n",
    "  max_retries=3,\n",
    ")\n",
    "\n",
    "route_template = \"\"\"\n",
    "You are an expert at routing a user question to a vectorstore or web search.\n",
    "The vectorstore contains documents related to neurobiology and medicine.\n",
    "Use the vectorstore for questions on these topics. For all else, use web-search.\n",
    "\n",
    "{format_instructions}\n",
    "\n",
    "{question}\n",
    "\"\"\"\n",
    "route_prompt = PromptTemplate(\n",
    "  template=route_template,\n",
    "  input_variables=['question'],\n",
    "  partial_variables={'format_instructions': route_parser.get_format_instructions()},\n",
    ")\n",
    "\n",
    "question_router = RunnableParallel(\n",
    "  completion=route_prompt | llm | extract_json, prompt_value=route_prompt\n",
    ") | RunnableLambda(lambda x: route_retry_parser.parse_with_prompt(**x))\n",
    "print(question_router.invoke({'question': 'Who will the Bears draft first in the NFL draft?'}))\n",
    "print(question_router.invoke({'question': 'What is the order of the cranial nerves?'}))"
   ]
  },
  {
   "cell_type": "markdown",
   "metadata": {},
   "source": [
    "### Grade documents chain"
   ]
  },
  {
   "cell_type": "code",
   "execution_count": 17,
   "metadata": {},
   "outputs": [
    {
     "data": {
      "text/plain": [
       "GradeDocuments(binary_score='yes')"
      ]
     },
     "execution_count": 17,
     "metadata": {},
     "output_type": "execute_result"
    }
   ],
   "source": [
    "class GradeDocuments(BaseModel):\n",
    "  binary_score: str = Field(description=\"Documents are relevant to the question, 'yes' or 'no'\")\n",
    "\n",
    "docs_grade_parser = PydanticOutputParser(pydantic_object=GradeDocuments)\n",
    "docs_grade_retry_parser = RetryOutputParser.from_llm(\n",
    "  parser=docs_grade_parser,\n",
    "  llm=llm,\n",
    "  max_retries=3,\n",
    ")\n",
    "\n",
    "docs_grade_template = \"\"\"\n",
    "You are a grader assessing relevance of a retrieved document to a user question.\n",
    "If the document contains keyword(s) or semantic meaning related to the question, grade it as relevant.\n",
    "Give a binary score 'yes' or 'no' score to indicate whether the document is relevant to the question.\n",
    "\n",
    "{format_instructions}\n",
    "\n",
    "User question:\n",
    "{question}\n",
    "\n",
    "Retrieved document:\n",
    "{document}\n",
    "\"\"\"\n",
    "docs_grade_prompt = PromptTemplate(\n",
    "  template=docs_grade_template,\n",
    "  input_variables=['document', 'question'],\n",
    "  partial_variables={'format_instructions': docs_grade_parser.get_format_instructions()},\n",
    ")\n",
    "\n",
    "docs_grade_grader = RunnableParallel(\n",
    "  completion=docs_grade_prompt | llm | extract_json, prompt_value=docs_grade_prompt\n",
    ") | RunnableLambda(lambda x: docs_grade_retry_parser.parse_with_prompt(**x))\n",
    "docs_grade_grader.invoke({'question': 'What is the color of the sky?', 'document': 'The color of the sky is blue'})"
   ]
  },
  {
   "cell_type": "markdown",
   "metadata": {},
   "source": [
    "### Hallucinations chain"
   ]
  },
  {
   "cell_type": "code",
   "execution_count": 18,
   "metadata": {},
   "outputs": [
    {
     "name": "stdout",
     "output_type": "stream",
     "text": [
      "binary_score='yes'\n"
     ]
    }
   ],
   "source": [
    "class GradeHallucinations(BaseModel):\n",
    "  binary_score: str = Field(description=\"Answer is grounded in the facts, 'yes' or 'no'\")\n",
    "\n",
    "hallucination_parser = PydanticOutputParser(pydantic_object=GradeHallucinations)\n",
    "hallucination_retry_parser = RetryOutputParser.from_llm(\n",
    "  parser=hallucination_parser,\n",
    "  llm=llm,\n",
    "  max_retries=3,\n",
    ")\n",
    "\n",
    "hallucination_template = \"\"\"\n",
    "You are a grader assessing whether an LLM generation is grounded in / supported by a set of retrieved facts. \\n\n",
    "Give a binary score 'yes' or 'no'. 'Yes' means that the answer is grounded in / supported by the set of facts.\"\n",
    "\n",
    "{format_instructions}\n",
    "\n",
    "Set of facts:\n",
    "{documents}\n",
    "\n",
    "LLM generation:\n",
    "{generation}\n",
    "\"\"\"\n",
    "hallucination_prompt = PromptTemplate(\n",
    "  template=hallucination_template,\n",
    "  input_variables=['question', 'generation'],\n",
    "  partial_variables={'format_instructions': hallucination_parser.get_format_instructions()},\n",
    ")\n",
    "\n",
    "hallucination_grader = RunnableParallel(\n",
    "  completion=hallucination_prompt | llm | extract_json, prompt_value=hallucination_prompt\n",
    ") | RunnableLambda(lambda x: hallucination_retry_parser.parse_with_prompt(**x))\n",
    "print(hallucination_grader.invoke({'documents': ['Sky is blue'], 'generation': 'The color of the sky is blue'}))"
   ]
  },
  {
   "cell_type": "markdown",
   "metadata": {},
   "source": [
    "### Answer grade chain"
   ]
  },
  {
   "cell_type": "code",
   "execution_count": 19,
   "metadata": {},
   "outputs": [
    {
     "name": "stdout",
     "output_type": "stream",
     "text": [
      "binary_score='no'\n"
     ]
    }
   ],
   "source": [
    "class GradeAnswer(BaseModel):\n",
    "  binary_score: str = Field(description=\"Answer addresses the question, 'yes' or 'no'\")\n",
    "\n",
    "grade_parser = PydanticOutputParser(pydantic_object=GradeAnswer)\n",
    "grade_retry_parser = RetryOutputParser.from_llm(\n",
    "  parser=grade_parser,\n",
    "  llm=llm,\n",
    "  max_retries=3,\n",
    ")\n",
    "\n",
    "grade_template = \"\"\"\n",
    "You are a grader assessing whether an answer addresses / resolves a question. \\n\n",
    "Give a binary score 'yes' or 'no'. 'yes' means that the answer resolves the question.\n",
    "\n",
    "User question:\n",
    "{question}\n",
    "\n",
    "LLM generation:\n",
    "{generation}\n",
    "\n",
    "{format_instructions}\n",
    "\"\"\"\n",
    "grade_prompt = PromptTemplate(\n",
    "  template=grade_template,\n",
    "  input_variables=['question', 'generation'],\n",
    "  partial_variables={'format_instructions': grade_parser.get_format_instructions()},\n",
    ")\n",
    "\n",
    "answer_grader = RunnableParallel(\n",
    "  completion=grade_prompt | llm | extract_json, prompt_value=grade_prompt\n",
    ") | RunnableLambda(lambda x: grade_retry_parser.parse_with_prompt(**x))\n",
    "print(answer_grader.invoke({\"question\": \"What is the order of the cranial nerves?\", 'generation': 'I do not know.'}))"
   ]
  },
  {
   "cell_type": "markdown",
   "metadata": {},
   "source": [
    "## HyDE chain"
   ]
  },
  {
   "cell_type": "code",
   "execution_count": 20,
   "metadata": {},
   "outputs": [
    {
     "data": {
      "text/plain": [
       "\"Here's a scientific paper-style passage answering the question:\\n\\n**Title:** The Cranial Nerve Order: A Review and Classification\\n\\n**Abstract:**\\nThe cranial nerves are a complex group of 12 pairs of nerves that arise from the brain and play crucial roles in various physiological functions, including sensory perception, motor control, and autonomic regulation. Despite their importance, the order of the cranial nerves has been a subject of debate among neuroscientists and anatomists for centuries. In this review, we provide an overview of the current classification system and discuss the historical context that led to the establishment of the traditional order.\\n\\n**Introduction:**\\nThe cranial nerves are named according to their point of origin from the brainstem, with the first nerve arising from the forebrain (olfactory nerve) and the subsequent nerves emerging in a caudal direction. The traditional order of the cranial nerves is as follows:\\n\\nI. Olfactory nerve (CN I)\\nII. Optic nerve (CN II)\\nIII. Occulomotor nerve (CN III)\\nIV. Trochlear nerve (CN IV)\\nV. Trigeminal nerve (CN V)\\nVI. Abducens nerve (CN VI)\\nVII. Facial nerve (CN VII)\\nVIII. Auditory (vestibulocochlear) nerve (CN VIII)\\nIX. Glossopharyngeal nerve (CN IX)\\nX. Vagus nerve (CN X)\\nXI. Spinal accessory nerve (CN XI)\\nXII. Hypoglossal nerve (CN XII)\\n\\n**Discussion:**\\nThe order of the cranial nerves is based on their anatomical origin from the brainstem, with the most rostral nerve being the olfactory nerve and the most caudal nerve being the hypoglossal nerve. This classification system has been widely adopted in neuroanatomy and clinical practice, allowing for a standardized nomenclature and facilitating communication among healthcare professionals.\\n\\n**Conclusion:**\\nIn conclusion, the traditional order of the cranial nerves is well-established and widely accepted within the scientific community. Understanding this classification system is essential for accurate identification and localization of cranial nerve lesions, which can have significant implications for patient diagnosis and treatment.\""
      ]
     },
     "execution_count": 20,
     "metadata": {},
     "output_type": "execute_result"
    }
   ],
   "source": [
    "from langchain_core.prompts import ChatPromptTemplate\n",
    "from langchain_core.output_parsers import StrOutputParser\n",
    "\n",
    "hyde_template = \"\"\"\n",
    "Please write a scientific paper passage to answer the question\n",
    "\n",
    "Question: {question}\n",
    "\n",
    "Passage:\n",
    "\"\"\"\n",
    "hyde_prompt = ChatPromptTemplate.from_template(hyde_template)\n",
    "hyde_chain = hyde_prompt | llm | StrOutputParser()\n",
    "\n",
    "hyde_chain.invoke({\"question\": 'What is the order of the cranial nerves ?'})"
   ]
  },
  {
   "cell_type": "code",
   "execution_count": 21,
   "metadata": {},
   "outputs": [
    {
     "data": {
      "text/plain": [
       "'The order of the 12 cranial nerves is as follows:\\n\\nI. Olfactory nerve\\nII. Optic nerve\\nIII. Occulomotor nerve\\nIV. Trochlear nerve\\nV. Trigeminal nerve\\nVI. Abducens nerve\\nVII. Facial nerve\\nVIII. Auditory (or vestibulocochlear) nerve\\nIX. Glossopharyngeal nerve\\nX. Vagus nerve\\nXI. Spinal accessory nerve\\nXII. Hypoglossal nerve'"
      ]
     },
     "execution_count": 21,
     "metadata": {},
     "output_type": "execute_result"
    }
   ],
   "source": [
    "prompt = hub.pull('rlm/rag-prompt')\n",
    "rag_chain = prompt | llm | StrOutputParser()\n",
    "\n",
    "rag_chain.invoke({\"context\": '', \"question\": 'What is the order of the cranial nerves ?'})"
   ]
  },
  {
   "cell_type": "markdown",
   "metadata": {},
   "source": [
    "### Web search chain"
   ]
  },
  {
   "cell_type": "code",
   "execution_count": 22,
   "metadata": {},
   "outputs": [],
   "source": [
    "from langchain_community.tools.tavily_search import TavilySearchResults\n",
    "os.environ['TAVILY_API_KEY'] = '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'\n",
    "web_search_tool = TavilySearchResults(k=5)"
   ]
  },
  {
   "cell_type": "markdown",
   "metadata": {},
   "source": [
    "## Build graph app"
   ]
  },
  {
   "cell_type": "code",
   "execution_count": 23,
   "metadata": {},
   "outputs": [],
   "source": [
    "from typing_extensions import TypedDict\n",
    "from typing import List\n",
    "from langchain.schema import Document\n",
    "\n",
    "class GraphState(TypedDict):\n",
    "  question: str\n",
    "  generated_doc: str\n",
    "  documents: List[str]\n",
    "  web_search: str\n",
    "  generation: str\n",
    "  generations_num: int\n",
    "\n",
    "def route_question(state):\n",
    "  print('---ROUTE QUESTION---')\n",
    "\n",
    "  question = state['question']\n",
    "\n",
    "  source = question_router.invoke({'question': question})\n",
    "\n",
    "  if source.data_source == 'websearch':\n",
    "    print('---ROUTE QUESTION TO WEB SEARCH---')\n",
    "    return 'websearch'\n",
    "  elif source.data_source == 'vectorstore':\n",
    "    print('---ROUTE QUESTION TO VECTOR STORE---')\n",
    "    return 'vectorstore'\n",
    "\n",
    "def generate_doc(state):\n",
    "  print('---GENERATE DOCUMENT---')\n",
    "\n",
    "  question = state['question']\n",
    "\n",
    "  generated_doc = hyde_chain.invoke({'question': question})\n",
    "\n",
    "  return {'question': question, 'generated_doc': generated_doc}\n",
    "\n",
    "def retrieve(state):\n",
    "  print('---RETRIEVE---')\n",
    "\n",
    "  question = state['question']\n",
    "  generated_doc = state['generated_doc']\n",
    "\n",
    "  documents = retriever.invoke(generated_doc)\n",
    "\n",
    "  return {'question': question, 'documents': documents}\n",
    "\n",
    "def grade_documents(state):\n",
    "  print('---CHECK DOCUMENT RELEVANCE TO QUESTION---')\n",
    "\n",
    "  question = state['question']\n",
    "  documents = state['documents']\n",
    "\n",
    "  # Score each doc\n",
    "  filtered_docs = []\n",
    "  web_search = 'No'\n",
    "  for index, d in enumerate(documents):\n",
    "    print(f'---GRADE DOCUMENT ({index + 1}/{len(documents)})---')\n",
    "    try:\n",
    "      score = docs_grade_grader.invoke({'question': question, 'document': d.page_content})\n",
    "      grade = score.binary_score\n",
    "    except:\n",
    "      grade = 'No'\n",
    "    # Document relevant\n",
    "    if grade.lower() == 'yes':\n",
    "      print('---GRADE: DOCUMENT RELEVANT---')\n",
    "      filtered_docs.append(d)\n",
    "    # Document not relevant\n",
    "    else:\n",
    "      print('---GRADE: DOCUMENT NOT RELEVANT---')\n",
    "      # We do not include the document in filtered_docs\n",
    "      # We set a flag to indicate that we want to run web search\n",
    "      web_search = 'Yes'\n",
    "      continue\n",
    "\n",
    "  print('final len', len(filtered_docs))\n",
    "\n",
    "  return {\n",
    "    'question': question,\n",
    "    'documents': filtered_docs,\n",
    "    'web_search': web_search,\n",
    "  }\n",
    "\n",
    "def decide_to_generate(state):\n",
    "  print('---ASSESS GRADED DOCUMENTS---')\n",
    "\n",
    "  web_search = state['web_search']\n",
    "\n",
    "  if web_search == 'Yes':\n",
    "    # All documents have been filtered check_relevance\n",
    "    # We will re-generate a new query\n",
    "    print('---DECISION: ALL DOCUMENTS ARE NOT RELEVANT TO QUESTION, INCLUDE WEB SEARCH---')\n",
    "    return 'websearch'\n",
    "  else:\n",
    "    # We have relevant documents, so generate answer\n",
    "    print('---DECISION: GENERATE---')\n",
    "    return 'generate'\n",
    "\n",
    "def web_search(state):\n",
    "  print('---WEB SEARCH---')\n",
    "\n",
    "  question = state['question']\n",
    "  documents = state.get('documents')\n",
    "\n",
    "  try:\n",
    "    docs = web_search_tool.invoke({'query': question})\n",
    "    web_results = '\\n'.join([d['content'] for d in docs])\n",
    "    web_results = Document(page_content=web_results)\n",
    "    if documents is not None:\n",
    "      documents.append(web_results)\n",
    "    else:\n",
    "      documents = [web_results]\n",
    "  except:\n",
    "    pass\n",
    "\n",
    "  return {\n",
    "    'question': question,\n",
    "    'documents': documents,\n",
    "  }\n",
    "\n",
    "def generate(state):\n",
    "  print('---GENERATE---')\n",
    "\n",
    "  question = state['question']\n",
    "  documents = state['documents']\n",
    "  generations_num = state.get('generations_num', 0)\n",
    "\n",
    "  # RAG generation\n",
    "  generation = rag_chain.invoke({'context': documents, 'question': question})\n",
    "  return {\n",
    "    'question': question,\n",
    "    'documents': documents,\n",
    "    'generation': generation,\n",
    "    'generations_num': generations_num + 1,\n",
    "  }\n",
    "\n",
    "def grade_generation(state):\n",
    "  print('---CHECK HALLUCINATIONS---')\n",
    "\n",
    "  question = state['question']\n",
    "  documents = state['documents']\n",
    "  generation = state['generation']\n",
    "  generations_num = state['generations_num']\n",
    "\n",
    "  if generations_num >= 2:\n",
    "    return 'useful'\n",
    "\n",
    "  try:\n",
    "    score = hallucination_grader.invoke({'documents': documents, 'generation': generation})\n",
    "    grade = score.binary_score\n",
    "  except:\n",
    "    grade = 'no'\n",
    "\n",
    "  # Check hallucination\n",
    "  if grade == 'yes':\n",
    "    print('---DECISION: GENERATION IS GROUNDED IN DOCUMENTS---')\n",
    "    # Check question-answering\n",
    "    print('---GRADE GENERATION vs QUESTION---')\n",
    "    try:\n",
    "      score = answer_grader.invoke({'question': question,'generation': generation})\n",
    "      grade = score.binary_score\n",
    "    except:\n",
    "      grade = 'no'\n",
    "\n",
    "    if grade == 'yes':\n",
    "      print('---DECISION: GENERATION ADDRESSES QUESTION---')\n",
    "      return 'useful'\n",
    "    else:\n",
    "      print('---DECISION: GENERATION DOES NOT ADDRESS QUESTION---')\n",
    "      return 'not useful'\n",
    "  else:\n",
    "    print('---DECISION: GENERATION IS NOT GROUNDED IN DOCUMENTS, RE-TRY---')\n",
    "    return 'not supported'\n",
    "\n",
    "workflow = StateGraph(GraphState)\n",
    "workflow.add_node('generate_doc', generate_doc)\n",
    "workflow.add_node('retrieve', retrieve)\n",
    "workflow.add_node('websearch', web_search)\n",
    "workflow.add_node('generate', generate)\n",
    "workflow.add_node('grade_documents', grade_documents)\n",
    "workflow.set_conditional_entry_point(\n",
    "  route_question,\n",
    "  {\n",
    "    'websearch': 'websearch',\n",
    "    'vectorstore': 'generate_doc',\n",
    "  },\n",
    ")\n",
    "workflow.add_edge('generate_doc', 'retrieve')\n",
    "workflow.add_edge('retrieve', 'grade_documents')\n",
    "workflow.add_conditional_edges(\n",
    "  'grade_documents',\n",
    "  decide_to_generate,\n",
    "  {\n",
    "    'websearch': 'websearch',\n",
    "    'generate': 'generate',\n",
    "  },\n",
    ")\n",
    "workflow.add_edge('websearch', 'generate')\n",
    "workflow.add_conditional_edges(\n",
    "  'generate',\n",
    "  grade_generation,\n",
    "  {\n",
    "    'not supported': 'generate',\n",
    "    'useful': END,\n",
    "    'not useful': 'websearch',\n",
    "  },\n",
    ")\n",
    "\n",
    "app = workflow.compile()"
   ]
  },
  {
   "cell_type": "code",
   "execution_count": 24,
   "metadata": {},
   "outputs": [
    {
     "name": "stdout",
     "output_type": "stream",
     "text": [
      "---ROUTE QUESTION---\n",
      "---ROUTE QUESTION TO VECTOR STORE---\n",
      "---GENERATE DOCUMENT---\n",
      "---RETRIEVE---\n",
      "---CHECK DOCUMENT RELEVANCE TO QUESTION---\n",
      "---GRADE DOCUMENT (1/4)---\n",
      "---GRADE: DOCUMENT NOT RELEVANT---\n",
      "---GRADE DOCUMENT (2/4)---\n",
      "---GRADE: DOCUMENT NOT RELEVANT---\n",
      "---GRADE DOCUMENT (3/4)---\n",
      "---GRADE: DOCUMENT NOT RELEVANT---\n",
      "---GRADE DOCUMENT (4/4)---\n",
      "---GRADE: DOCUMENT NOT RELEVANT---\n",
      "final len 0\n",
      "---ASSESS GRADED DOCUMENTS---\n",
      "---DECISION: ALL DOCUMENTS ARE NOT RELEVANT TO QUESTION, INCLUDE WEB SEARCH---\n",
      "---WEB SEARCH---\n",
      "---GENERATE---\n",
      "---CHECK HALLUCINATIONS---\n",
      "---DECISION: GENERATION IS GROUNDED IN DOCUMENTS---\n",
      "---GRADE GENERATION vs QUESTION---\n",
      "---DECISION: GENERATION ADDRESSES QUESTION---\n"
     ]
    },
    {
     "data": {
      "text/plain": [
       "{'question': 'What is the order of the cranial nerves?',\n",
       " 'generated_doc': \"Here's a scientific paper-style passage answering the question:\\n\\n**Title:** The Cranial Nerve Plexus: A Review of the Anatomical and Neurological Organization\\n\\n**Abstract:**\\n\\nThe cranial nerves, a complex network of 12 pairs of nerves that arise from the brainstem, play a crucial role in regulating various physiological functions. Understanding their organization is essential for appreciating the intricate relationships between the central nervous system and the peripheral nervous system. This review aims to provide an overview of the order of the cranial nerves, highlighting their anatomical and neurological characteristics.\\n\\n**Introduction:**\\n\\nThe cranial nerves are a group of nerves that emerge from the brainstem, which includes the midbrain, pons, and medulla oblongata. These nerves are responsible for controlling various functions such as sensation, movement, and autonomic regulation. The order of the cranial nerves is a fundamental concept in neuroanatomy, and their correct identification is essential for clinical diagnosis and treatment.\\n\\n**The Order of the Cranial Nerves:**\\n\\nThe 12 pairs of cranial nerves are listed in the following order:\\n\\n1. **Olfactory nerve (I)**: The first cranial nerve to arise from the forebrain, responsible for transmitting sensory information related to smell.\\n2. **Optic nerve (II)**: The second cranial nerve, which conveys visual information from the retina to the brain.\\n3. **Occulomotor nerve (III)**: The third cranial nerve, which controls eye movement and pupil constriction.\\n4. **Trochlear nerve (IV)**: The fourth cranial nerve, responsible for controlling superior oblique muscle function.\\n5. **Trigeminal nerve (V)**: A complex nerve that arises from the pons, with three branches (ophthalmic, maxillary, and mandibular) that regulate facial sensation and motor functions.\\n6. **Abducens nerve (VI)**: The sixth cranial nerve, which controls lateral rectus muscle function.\\n7. **Facial nerve (VII)**: A multifunctional nerve that arises from the pons, responsible for controlling facial expression, taste, and hearing.\\n8. **Vestibulocochlear nerve (VIII)**: A paired nerve that conveys auditory and vestibular information to the brain.\\n9. **Glossopharyngeal nerve (IX)**: The ninth cranial nerve, which regulates swallowing, taste, and motor functions of the pharynx.\\n10. **Vagus nerve (X)**: A complex nerve that arises from the medulla oblongata, responsible for regulating various visceral functions such as heart rate, digestion, and respiration.\\n11. **Spinal accessory nerve (XI)**: The eleventh cranial nerve, which controls sternocleidomastoid and trapezius muscle function.\\n12. **Hypoglossal nerve (XII)**: The twelfth and final cranial nerve, responsible for controlling tongue movement.\\n\\n**Conclusion:**\\n\\nIn conclusion, the order of the cranial nerves is a fundamental concept in neuroanatomy that has significant implications for clinical diagnosis and treatment. Understanding the anatomical and neurological characteristics of each cranial nerve is essential for appreciating their complex relationships with the central nervous system and peripheral nervous system.\",\n",
       " 'documents': [Document(page_content='Anatomy. Cranial nerves are the 12 nerves of the peripheral nervous system that emerge from the foramina and fissures of the cranium.Their numerical order (1-12) is determined by their skull exit location (rostral to caudal). All cranial nerves originate from nuclei in the brain.Two originate from the forebrain (Olfactory and Optic), one has a nucleus in the spinal cord (Accessory) while the ...\\nThe numbering of the cranial nerves is based on the order in which they emerge from the brain and brainstem, from front to back. [2] The terminal nerves (0), olfactory nerves (I) and optic nerves (II) emerge from the cerebrum, and the remaining ten pairs arise from the brainstem, which is the lower part of the brain. [3]\\nThe cranial nerves are numbered by their location on the brainstem (superior to inferior, then medial to lateral) and the order of their exit from the cranium (anterior to posterior) (Figures 1 & 2). By Patrick J. Lynch, medical illustrator derivative work: Beao derivative work: Dwstultz [CC BY 2.5], via Wikimedia Commons\\nThe 12 cranial nerves are essential nerve pathways that originate in the brain and serve critical functions in the body, primarily in the head and neck. These nerves are: I. Olfactory (smell), II. Optic (vision), III. Oculomotor (eye movement), IV. Trochlear (eye movement), V. Trigeminal (facial sensation and chewing), VI. Abducent (eye movement), VII.\\nCranial nerve mnemonics are memory devices to help you remember the names of the nerves in order of one through 12. They can also help you remember whether the nerves are sensory, motor or both. Cranial nerve mnemonics to remember the names of the nerves in order include:')],\n",
       " 'web_search': 'Yes',\n",
       " 'generation': 'The cranial nerves emerge from the brain and brainstem in a specific order, with the terminal nerves (0), olfactory nerves (I), and optic nerves (II) emerging first, followed by the remaining ten pairs arising from the brainstem. The numbering of the cranial nerves is based on their location on the brainstem and the order of their exit from the cranium. The 12 cranial nerves are numbered I to XII.',\n",
       " 'generations_num': 1}"
      ]
     },
     "execution_count": 24,
     "metadata": {},
     "output_type": "execute_result"
    }
   ],
   "source": [
    "app.invoke({\"question\": 'What is the order of the cranial nerves?'})"
   ]
  },
  {
   "cell_type": "markdown",
   "metadata": {},
   "source": [
    "## Evaluate RAG"
   ]
  },
  {
   "cell_type": "code",
   "execution_count": 25,
   "metadata": {},
   "outputs": [
    {
     "data": {
      "text/html": [
       "<div>\n",
       "<style scoped>\n",
       "    .dataframe tbody tr th:only-of-type {\n",
       "        vertical-align: middle;\n",
       "    }\n",
       "\n",
       "    .dataframe tbody tr th {\n",
       "        vertical-align: top;\n",
       "    }\n",
       "\n",
       "    .dataframe thead th {\n",
       "        text-align: right;\n",
       "    }\n",
       "</style>\n",
       "<table border=\"1\" class=\"dataframe\">\n",
       "  <thead>\n",
       "    <tr style=\"text-align: right;\">\n",
       "      <th></th>\n",
       "      <th>question</th>\n",
       "      <th>answer</th>\n",
       "    </tr>\n",
       "  </thead>\n",
       "  <tbody>\n",
       "    <tr>\n",
       "      <th>0</th>\n",
       "      <td>What are the afferent cranial nerve nuclei?</td>\n",
       "      <td>Trigeminal sensory nucleus- fibres carry gener...</td>\n",
       "    </tr>\n",
       "    <tr>\n",
       "      <th>1</th>\n",
       "      <td>What is the order of the cranial nerves ?</td>\n",
       "      <td>1-olfactory\\n2-optic\\n3-oculomotor\\n4-trochlea...</td>\n",
       "    </tr>\n",
       "    <tr>\n",
       "      <th>2</th>\n",
       "      <td>What are the efferent cranial nerve nuclei?</td>\n",
       "      <td>Edinger-westphal nucleus\\nOculomotor nucleus\\n...</td>\n",
       "    </tr>\n",
       "    <tr>\n",
       "      <th>3</th>\n",
       "      <td>Which nuclei share the embryo logical origin -...</td>\n",
       "      <td>Oculomotor nucleus Trochlear nucleus Abducens ...</td>\n",
       "    </tr>\n",
       "    <tr>\n",
       "      <th>4</th>\n",
       "      <td>Which nuclei share the embryo logical origin- ...</td>\n",
       "      <td>Trigeminal motor nucleus Facial motor nucleus ...</td>\n",
       "    </tr>\n",
       "    <tr>\n",
       "      <th>...</th>\n",
       "      <td>...</td>\n",
       "      <td>...</td>\n",
       "    </tr>\n",
       "    <tr>\n",
       "      <th>209</th>\n",
       "      <td>What are spontaneous active bursting neurones ?</td>\n",
       "      <td>These are pacemaker neurons They don’t require...</td>\n",
       "    </tr>\n",
       "    <tr>\n",
       "      <th>210</th>\n",
       "      <td>What is the patch-clamp technique ?</td>\n",
       "      <td>Enables recordings of electrical activity of a...</td>\n",
       "    </tr>\n",
       "    <tr>\n",
       "      <th>211</th>\n",
       "      <td>What toxin can be used to block sodium currents ?</td>\n",
       "      <td>Tetrodotoxin-it blocks sodium channels</td>\n",
       "    </tr>\n",
       "    <tr>\n",
       "      <th>212</th>\n",
       "      <td>What toxin can block potassium currents ?</td>\n",
       "      <td>Tetrammonium - blocks potassium channels</td>\n",
       "    </tr>\n",
       "    <tr>\n",
       "      <th>213</th>\n",
       "      <td>What is the benefit of blocking the sodium and...</td>\n",
       "      <td>It enables the ability to see the effects of c...</td>\n",
       "    </tr>\n",
       "  </tbody>\n",
       "</table>\n",
       "<p>214 rows × 2 columns</p>\n",
       "</div>"
      ],
      "text/plain": [
       "                                              question  \\\n",
       "0          What are the afferent cranial nerve nuclei?   \n",
       "1            What is the order of the cranial nerves ?   \n",
       "2          What are the efferent cranial nerve nuclei?   \n",
       "3    Which nuclei share the embryo logical origin -...   \n",
       "4    Which nuclei share the embryo logical origin- ...   \n",
       "..                                                 ...   \n",
       "209    What are spontaneous active bursting neurones ?   \n",
       "210                What is the patch-clamp technique ?   \n",
       "211  What toxin can be used to block sodium currents ?   \n",
       "212          What toxin can block potassium currents ?   \n",
       "213  What is the benefit of blocking the sodium and...   \n",
       "\n",
       "                                                answer  \n",
       "0    Trigeminal sensory nucleus- fibres carry gener...  \n",
       "1    1-olfactory\\n2-optic\\n3-oculomotor\\n4-trochlea...  \n",
       "2    Edinger-westphal nucleus\\nOculomotor nucleus\\n...  \n",
       "3    Oculomotor nucleus Trochlear nucleus Abducens ...  \n",
       "4    Trigeminal motor nucleus Facial motor nucleus ...  \n",
       "..                                                 ...  \n",
       "209  These are pacemaker neurons They don’t require...  \n",
       "210  Enables recordings of electrical activity of a...  \n",
       "211             Tetrodotoxin-it blocks sodium channels  \n",
       "212           Tetrammonium - blocks potassium channels  \n",
       "213  It enables the ability to see the effects of c...  \n",
       "\n",
       "[214 rows x 2 columns]"
      ]
     },
     "execution_count": 25,
     "metadata": {},
     "output_type": "execute_result"
    }
   ],
   "source": [
    "qa_df = pd.read_csv('brainscape.csv')[:214]\n",
    "qa_df"
   ]
  },
  {
   "cell_type": "code",
   "execution_count": 26,
   "metadata": {},
   "outputs": [
    {
     "name": "stderr",
     "output_type": "stream",
     "text": [
      "0it [00:00, ?it/s]"
     ]
    },
    {
     "name": "stdout",
     "output_type": "stream",
     "text": [
      "---ROUTE QUESTION---\n",
      "---ROUTE QUESTION TO VECTOR STORE---\n",
      "---GENERATE DOCUMENT---\n",
      "---RETRIEVE---\n",
      "---CHECK DOCUMENT RELEVANCE TO QUESTION---\n",
      "---GRADE DOCUMENT (1/4)---\n",
      "---GRADE: DOCUMENT NOT RELEVANT---\n",
      "---GRADE DOCUMENT (2/4)---\n",
      "---GRADE: DOCUMENT NOT RELEVANT---\n",
      "---GRADE DOCUMENT (3/4)---\n",
      "---GRADE: DOCUMENT NOT RELEVANT---\n",
      "---GRADE DOCUMENT (4/4)---\n",
      "---GRADE: DOCUMENT NOT RELEVANT---\n",
      "final len 0\n",
      "---ASSESS GRADED DOCUMENTS---\n",
      "---DECISION: ALL DOCUMENTS ARE NOT RELEVANT TO QUESTION, INCLUDE WEB SEARCH---\n",
      "---WEB SEARCH---\n",
      "---GENERATE---\n",
      "---CHECK HALLUCINATIONS---\n",
      "---DECISION: GENERATION IS GROUNDED IN DOCUMENTS---\n",
      "---GRADE GENERATION vs QUESTION---\n"
     ]
    },
    {
     "name": "stderr",
     "output_type": "stream",
     "text": [
      "1it [00:14, 14.31s/it]"
     ]
    },
    {
     "name": "stdout",
     "output_type": "stream",
     "text": [
      "---DECISION: GENERATION ADDRESSES QUESTION---\n",
      "---ROUTE QUESTION---\n",
      "---ROUTE QUESTION TO VECTOR STORE---\n",
      "---GENERATE DOCUMENT---\n",
      "---RETRIEVE---\n",
      "---CHECK DOCUMENT RELEVANCE TO QUESTION---\n",
      "---GRADE DOCUMENT (1/4)---\n",
      "---GRADE: DOCUMENT NOT RELEVANT---\n",
      "---GRADE DOCUMENT (2/4)---\n",
      "---GRADE: DOCUMENT NOT RELEVANT---\n",
      "---GRADE DOCUMENT (3/4)---\n",
      "---GRADE: DOCUMENT NOT RELEVANT---\n",
      "---GRADE DOCUMENT (4/4)---\n",
      "---GRADE: DOCUMENT NOT RELEVANT---\n",
      "final len 0\n",
      "---ASSESS GRADED DOCUMENTS---\n",
      "---DECISION: ALL DOCUMENTS ARE NOT RELEVANT TO QUESTION, INCLUDE WEB SEARCH---\n",
      "---WEB SEARCH---\n",
      "---GENERATE---\n",
      "---CHECK HALLUCINATIONS---\n",
      "---DECISION: GENERATION IS GROUNDED IN DOCUMENTS---\n",
      "---GRADE GENERATION vs QUESTION---\n"
     ]
    },
    {
     "name": "stderr",
     "output_type": "stream",
     "text": [
      "2it [00:25, 12.26s/it]"
     ]
    },
    {
     "name": "stdout",
     "output_type": "stream",
     "text": [
      "---DECISION: GENERATION ADDRESSES QUESTION---\n",
      "---ROUTE QUESTION---\n",
      "---ROUTE QUESTION TO VECTOR STORE---\n",
      "---GENERATE DOCUMENT---\n",
      "---RETRIEVE---\n",
      "---CHECK DOCUMENT RELEVANCE TO QUESTION---\n",
      "---GRADE DOCUMENT (1/4)---\n",
      "---GRADE: DOCUMENT NOT RELEVANT---\n",
      "---GRADE DOCUMENT (2/4)---\n",
      "---GRADE: DOCUMENT NOT RELEVANT---\n",
      "---GRADE DOCUMENT (3/4)---\n",
      "---GRADE: DOCUMENT NOT RELEVANT---\n",
      "---GRADE DOCUMENT (4/4)---\n",
      "---GRADE: DOCUMENT NOT RELEVANT---\n",
      "final len 0\n",
      "---ASSESS GRADED DOCUMENTS---\n",
      "---DECISION: ALL DOCUMENTS ARE NOT RELEVANT TO QUESTION, INCLUDE WEB SEARCH---\n",
      "---WEB SEARCH---\n",
      "---GENERATE---\n",
      "---CHECK HALLUCINATIONS---\n",
      "---DECISION: GENERATION IS GROUNDED IN DOCUMENTS---\n",
      "---GRADE GENERATION vs QUESTION---\n"
     ]
    },
    {
     "name": "stderr",
     "output_type": "stream",
     "text": [
      "3it [00:45, 16.11s/it]"
     ]
    },
    {
     "name": "stdout",
     "output_type": "stream",
     "text": [
      "---DECISION: GENERATION ADDRESSES QUESTION---\n",
      "---ROUTE QUESTION---\n",
      "---ROUTE QUESTION TO VECTOR STORE---\n",
      "---GENERATE DOCUMENT---\n",
      "---RETRIEVE---\n",
      "---CHECK DOCUMENT RELEVANCE TO QUESTION---\n",
      "---GRADE DOCUMENT (1/4)---\n",
      "---GRADE: DOCUMENT NOT RELEVANT---\n",
      "---GRADE DOCUMENT (2/4)---\n",
      "---GRADE: DOCUMENT NOT RELEVANT---\n",
      "---GRADE DOCUMENT (3/4)---\n",
      "---GRADE: DOCUMENT NOT RELEVANT---\n",
      "---GRADE DOCUMENT (4/4)---\n",
      "---GRADE: DOCUMENT NOT RELEVANT---\n",
      "final len 0\n",
      "---ASSESS GRADED DOCUMENTS---\n",
      "---DECISION: ALL DOCUMENTS ARE NOT RELEVANT TO QUESTION, INCLUDE WEB SEARCH---\n",
      "---WEB SEARCH---\n",
      "---GENERATE---\n",
      "---CHECK HALLUCINATIONS---\n",
      "---DECISION: GENERATION IS NOT GROUNDED IN DOCUMENTS, RE-TRY---\n",
      "---GENERATE---\n"
     ]
    },
    {
     "name": "stderr",
     "output_type": "stream",
     "text": [
      "4it [01:04, 17.23s/it]"
     ]
    },
    {
     "name": "stdout",
     "output_type": "stream",
     "text": [
      "---CHECK HALLUCINATIONS---\n",
      "---ROUTE QUESTION---\n",
      "---ROUTE QUESTION TO VECTOR STORE---\n",
      "---GENERATE DOCUMENT---\n",
      "---RETRIEVE---\n",
      "---CHECK DOCUMENT RELEVANCE TO QUESTION---\n",
      "---GRADE DOCUMENT (1/4)---\n",
      "---GRADE: DOCUMENT NOT RELEVANT---\n",
      "---GRADE DOCUMENT (2/4)---\n",
      "---GRADE: DOCUMENT NOT RELEVANT---\n",
      "---GRADE DOCUMENT (3/4)---\n",
      "---GRADE: DOCUMENT NOT RELEVANT---\n",
      "---GRADE DOCUMENT (4/4)---\n",
      "---GRADE: DOCUMENT NOT RELEVANT---\n",
      "final len 0\n",
      "---ASSESS GRADED DOCUMENTS---\n",
      "---DECISION: ALL DOCUMENTS ARE NOT RELEVANT TO QUESTION, INCLUDE WEB SEARCH---\n",
      "---WEB SEARCH---\n",
      "---GENERATE---\n",
      "---CHECK HALLUCINATIONS---\n",
      "---DECISION: GENERATION IS GROUNDED IN DOCUMENTS---\n",
      "---GRADE GENERATION vs QUESTION---\n"
     ]
    },
    {
     "name": "stderr",
     "output_type": "stream",
     "text": [
      "5it [01:14, 14.57s/it]"
     ]
    },
    {
     "name": "stdout",
     "output_type": "stream",
     "text": [
      "---DECISION: GENERATION ADDRESSES QUESTION---\n",
      "---ROUTE QUESTION---\n",
      "---ROUTE QUESTION TO VECTOR STORE---\n",
      "---GENERATE DOCUMENT---\n",
      "---RETRIEVE---\n",
      "---CHECK DOCUMENT RELEVANCE TO QUESTION---\n",
      "---GRADE DOCUMENT (1/4)---\n",
      "---GRADE: DOCUMENT NOT RELEVANT---\n",
      "---GRADE DOCUMENT (2/4)---\n",
      "---GRADE: DOCUMENT NOT RELEVANT---\n",
      "---GRADE DOCUMENT (3/4)---\n",
      "---GRADE: DOCUMENT NOT RELEVANT---\n",
      "---GRADE DOCUMENT (4/4)---\n",
      "---GRADE: DOCUMENT NOT RELEVANT---\n",
      "final len 0\n",
      "---ASSESS GRADED DOCUMENTS---\n",
      "---DECISION: ALL DOCUMENTS ARE NOT RELEVANT TO QUESTION, INCLUDE WEB SEARCH---\n",
      "---WEB SEARCH---\n",
      "---GENERATE---\n",
      "---CHECK HALLUCINATIONS---\n",
      "---DECISION: GENERATION IS GROUNDED IN DOCUMENTS---\n",
      "---GRADE GENERATION vs QUESTION---\n"
     ]
    },
    {
     "name": "stderr",
     "output_type": "stream",
     "text": [
      "6it [01:24, 12.89s/it]"
     ]
    },
    {
     "name": "stdout",
     "output_type": "stream",
     "text": [
      "---DECISION: GENERATION ADDRESSES QUESTION---\n",
      "---ROUTE QUESTION---\n",
      "---ROUTE QUESTION TO VECTOR STORE---\n",
      "---GENERATE DOCUMENT---\n",
      "---RETRIEVE---\n",
      "---CHECK DOCUMENT RELEVANCE TO QUESTION---\n",
      "---GRADE DOCUMENT (1/4)---\n",
      "---GRADE: DOCUMENT NOT RELEVANT---\n",
      "---GRADE DOCUMENT (2/4)---\n",
      "---GRADE: DOCUMENT NOT RELEVANT---\n",
      "---GRADE DOCUMENT (3/4)---\n",
      "---GRADE: DOCUMENT NOT RELEVANT---\n",
      "---GRADE DOCUMENT (4/4)---\n",
      "---GRADE: DOCUMENT NOT RELEVANT---\n",
      "final len 0\n",
      "---ASSESS GRADED DOCUMENTS---\n",
      "---DECISION: ALL DOCUMENTS ARE NOT RELEVANT TO QUESTION, INCLUDE WEB SEARCH---\n",
      "---WEB SEARCH---\n",
      "---GENERATE---\n",
      "---CHECK HALLUCINATIONS---\n",
      "---DECISION: GENERATION IS GROUNDED IN DOCUMENTS---\n",
      "---GRADE GENERATION vs QUESTION---\n"
     ]
    },
    {
     "name": "stderr",
     "output_type": "stream",
     "text": [
      "7it [01:35, 12.37s/it]"
     ]
    },
    {
     "name": "stdout",
     "output_type": "stream",
     "text": [
      "---DECISION: GENERATION ADDRESSES QUESTION---\n",
      "---ROUTE QUESTION---\n",
      "---ROUTE QUESTION TO VECTOR STORE---\n",
      "---GENERATE DOCUMENT---\n",
      "---RETRIEVE---\n",
      "---CHECK DOCUMENT RELEVANCE TO QUESTION---\n",
      "---GRADE DOCUMENT (1/4)---\n",
      "---GRADE: DOCUMENT NOT RELEVANT---\n",
      "---GRADE DOCUMENT (2/4)---\n",
      "---GRADE: DOCUMENT NOT RELEVANT---\n",
      "---GRADE DOCUMENT (3/4)---\n",
      "---GRADE: DOCUMENT NOT RELEVANT---\n",
      "---GRADE DOCUMENT (4/4)---\n",
      "---GRADE: DOCUMENT NOT RELEVANT---\n",
      "final len 0\n",
      "---ASSESS GRADED DOCUMENTS---\n",
      "---DECISION: ALL DOCUMENTS ARE NOT RELEVANT TO QUESTION, INCLUDE WEB SEARCH---\n",
      "---WEB SEARCH---\n",
      "---GENERATE---\n",
      "---CHECK HALLUCINATIONS---\n",
      "---DECISION: GENERATION IS GROUNDED IN DOCUMENTS---\n",
      "---GRADE GENERATION vs QUESTION---\n"
     ]
    },
    {
     "name": "stderr",
     "output_type": "stream",
     "text": [
      "8it [01:47, 12.24s/it]"
     ]
    },
    {
     "name": "stdout",
     "output_type": "stream",
     "text": [
      "---DECISION: GENERATION ADDRESSES QUESTION---\n",
      "---ROUTE QUESTION---\n",
      "---ROUTE QUESTION TO VECTOR STORE---\n",
      "---GENERATE DOCUMENT---\n",
      "---RETRIEVE---\n",
      "---CHECK DOCUMENT RELEVANCE TO QUESTION---\n",
      "---GRADE DOCUMENT (1/4)---\n",
      "---GRADE: DOCUMENT NOT RELEVANT---\n",
      "---GRADE DOCUMENT (2/4)---\n",
      "---GRADE: DOCUMENT NOT RELEVANT---\n",
      "---GRADE DOCUMENT (3/4)---\n",
      "---GRADE: DOCUMENT NOT RELEVANT---\n",
      "---GRADE DOCUMENT (4/4)---\n",
      "---GRADE: DOCUMENT NOT RELEVANT---\n",
      "final len 0\n",
      "---ASSESS GRADED DOCUMENTS---\n",
      "---DECISION: ALL DOCUMENTS ARE NOT RELEVANT TO QUESTION, INCLUDE WEB SEARCH---\n",
      "---WEB SEARCH---\n",
      "---GENERATE---\n",
      "---CHECK HALLUCINATIONS---\n",
      "---DECISION: GENERATION IS GROUNDED IN DOCUMENTS---\n",
      "---GRADE GENERATION vs QUESTION---\n"
     ]
    },
    {
     "name": "stderr",
     "output_type": "stream",
     "text": [
      "9it [01:56, 11.22s/it]"
     ]
    },
    {
     "name": "stdout",
     "output_type": "stream",
     "text": [
      "---DECISION: GENERATION ADDRESSES QUESTION---\n",
      "---ROUTE QUESTION---\n",
      "---ROUTE QUESTION TO VECTOR STORE---\n",
      "---GENERATE DOCUMENT---\n",
      "---RETRIEVE---\n",
      "---CHECK DOCUMENT RELEVANCE TO QUESTION---\n",
      "---GRADE DOCUMENT (1/4)---\n",
      "---GRADE: DOCUMENT NOT RELEVANT---\n",
      "---GRADE DOCUMENT (2/4)---\n",
      "---GRADE: DOCUMENT NOT RELEVANT---\n",
      "---GRADE DOCUMENT (3/4)---\n",
      "---GRADE: DOCUMENT NOT RELEVANT---\n",
      "---GRADE DOCUMENT (4/4)---\n",
      "---GRADE: DOCUMENT NOT RELEVANT---\n",
      "final len 0\n",
      "---ASSESS GRADED DOCUMENTS---\n",
      "---DECISION: ALL DOCUMENTS ARE NOT RELEVANT TO QUESTION, INCLUDE WEB SEARCH---\n",
      "---WEB SEARCH---\n",
      "---GENERATE---\n",
      "---CHECK HALLUCINATIONS---\n",
      "---DECISION: GENERATION IS GROUNDED IN DOCUMENTS---\n",
      "---GRADE GENERATION vs QUESTION---\n"
     ]
    },
    {
     "name": "stderr",
     "output_type": "stream",
     "text": [
      "10it [02:12, 12.56s/it]"
     ]
    },
    {
     "name": "stdout",
     "output_type": "stream",
     "text": [
      "---DECISION: GENERATION ADDRESSES QUESTION---\n",
      "---ROUTE QUESTION---\n",
      "---ROUTE QUESTION TO VECTOR STORE---\n",
      "---GENERATE DOCUMENT---\n",
      "---RETRIEVE---\n",
      "---CHECK DOCUMENT RELEVANCE TO QUESTION---\n",
      "---GRADE DOCUMENT (1/4)---\n",
      "---GRADE: DOCUMENT NOT RELEVANT---\n",
      "---GRADE DOCUMENT (2/4)---\n",
      "---GRADE: DOCUMENT NOT RELEVANT---\n",
      "---GRADE DOCUMENT (3/4)---\n",
      "---GRADE: DOCUMENT NOT RELEVANT---\n",
      "---GRADE DOCUMENT (4/4)---\n",
      "---GRADE: DOCUMENT NOT RELEVANT---\n",
      "final len 0\n",
      "---ASSESS GRADED DOCUMENTS---\n",
      "---DECISION: ALL DOCUMENTS ARE NOT RELEVANT TO QUESTION, INCLUDE WEB SEARCH---\n",
      "---WEB SEARCH---\n",
      "---GENERATE---\n",
      "---CHECK HALLUCINATIONS---\n",
      "---DECISION: GENERATION IS GROUNDED IN DOCUMENTS---\n",
      "---GRADE GENERATION vs QUESTION---\n"
     ]
    },
    {
     "name": "stderr",
     "output_type": "stream",
     "text": [
      "11it [02:27, 13.48s/it]"
     ]
    },
    {
     "name": "stdout",
     "output_type": "stream",
     "text": [
      "---DECISION: GENERATION ADDRESSES QUESTION---\n",
      "---ROUTE QUESTION---\n",
      "---ROUTE QUESTION TO VECTOR STORE---\n",
      "---GENERATE DOCUMENT---\n",
      "---RETRIEVE---\n",
      "---CHECK DOCUMENT RELEVANCE TO QUESTION---\n",
      "---GRADE DOCUMENT (1/4)---\n",
      "---GRADE: DOCUMENT NOT RELEVANT---\n",
      "---GRADE DOCUMENT (2/4)---\n",
      "---GRADE: DOCUMENT NOT RELEVANT---\n",
      "---GRADE DOCUMENT (3/4)---\n",
      "---GRADE: DOCUMENT NOT RELEVANT---\n",
      "---GRADE DOCUMENT (4/4)---\n",
      "---GRADE: DOCUMENT NOT RELEVANT---\n",
      "final len 0\n",
      "---ASSESS GRADED DOCUMENTS---\n",
      "---DECISION: ALL DOCUMENTS ARE NOT RELEVANT TO QUESTION, INCLUDE WEB SEARCH---\n",
      "---WEB SEARCH---\n",
      "---GENERATE---\n",
      "---CHECK HALLUCINATIONS---\n",
      "---DECISION: GENERATION IS GROUNDED IN DOCUMENTS---\n",
      "---GRADE GENERATION vs QUESTION---\n"
     ]
    },
    {
     "name": "stderr",
     "output_type": "stream",
     "text": [
      "12it [02:38, 12.80s/it]"
     ]
    },
    {
     "name": "stdout",
     "output_type": "stream",
     "text": [
      "---DECISION: GENERATION ADDRESSES QUESTION---\n",
      "---ROUTE QUESTION---\n",
      "---ROUTE QUESTION TO VECTOR STORE---\n",
      "---GENERATE DOCUMENT---\n",
      "---RETRIEVE---\n",
      "---CHECK DOCUMENT RELEVANCE TO QUESTION---\n",
      "---GRADE DOCUMENT (1/4)---\n",
      "---GRADE: DOCUMENT NOT RELEVANT---\n",
      "---GRADE DOCUMENT (2/4)---\n",
      "---GRADE: DOCUMENT NOT RELEVANT---\n",
      "---GRADE DOCUMENT (3/4)---\n",
      "---GRADE: DOCUMENT NOT RELEVANT---\n",
      "---GRADE DOCUMENT (4/4)---\n",
      "---GRADE: DOCUMENT NOT RELEVANT---\n",
      "final len 0\n",
      "---ASSESS GRADED DOCUMENTS---\n",
      "---DECISION: ALL DOCUMENTS ARE NOT RELEVANT TO QUESTION, INCLUDE WEB SEARCH---\n",
      "---WEB SEARCH---\n",
      "---GENERATE---\n",
      "---CHECK HALLUCINATIONS---\n",
      "---DECISION: GENERATION IS GROUNDED IN DOCUMENTS---\n",
      "---GRADE GENERATION vs QUESTION---\n"
     ]
    },
    {
     "name": "stderr",
     "output_type": "stream",
     "text": [
      "13it [02:50, 12.29s/it]"
     ]
    },
    {
     "name": "stdout",
     "output_type": "stream",
     "text": [
      "---DECISION: GENERATION ADDRESSES QUESTION---\n",
      "---ROUTE QUESTION---\n",
      "---ROUTE QUESTION TO VECTOR STORE---\n",
      "---GENERATE DOCUMENT---\n",
      "---RETRIEVE---\n",
      "---CHECK DOCUMENT RELEVANCE TO QUESTION---\n",
      "---GRADE DOCUMENT (1/4)---\n",
      "---GRADE: DOCUMENT NOT RELEVANT---\n",
      "---GRADE DOCUMENT (2/4)---\n",
      "---GRADE: DOCUMENT NOT RELEVANT---\n",
      "---GRADE DOCUMENT (3/4)---\n",
      "---GRADE: DOCUMENT NOT RELEVANT---\n",
      "---GRADE DOCUMENT (4/4)---\n",
      "---GRADE: DOCUMENT NOT RELEVANT---\n",
      "final len 0\n",
      "---ASSESS GRADED DOCUMENTS---\n",
      "---DECISION: ALL DOCUMENTS ARE NOT RELEVANT TO QUESTION, INCLUDE WEB SEARCH---\n",
      "---WEB SEARCH---\n",
      "---GENERATE---\n",
      "---CHECK HALLUCINATIONS---\n",
      "---DECISION: GENERATION IS GROUNDED IN DOCUMENTS---\n",
      "---GRADE GENERATION vs QUESTION---\n"
     ]
    },
    {
     "name": "stderr",
     "output_type": "stream",
     "text": [
      "14it [03:00, 11.69s/it]"
     ]
    },
    {
     "name": "stdout",
     "output_type": "stream",
     "text": [
      "---DECISION: GENERATION ADDRESSES QUESTION---\n",
      "---ROUTE QUESTION---\n",
      "---ROUTE QUESTION TO VECTOR STORE---\n",
      "---GENERATE DOCUMENT---\n",
      "---RETRIEVE---\n",
      "---CHECK DOCUMENT RELEVANCE TO QUESTION---\n",
      "---GRADE DOCUMENT (1/4)---\n",
      "---GRADE: DOCUMENT NOT RELEVANT---\n",
      "---GRADE DOCUMENT (2/4)---\n",
      "---GRADE: DOCUMENT NOT RELEVANT---\n",
      "---GRADE DOCUMENT (3/4)---\n",
      "---GRADE: DOCUMENT NOT RELEVANT---\n",
      "---GRADE DOCUMENT (4/4)---\n",
      "---GRADE: DOCUMENT NOT RELEVANT---\n",
      "final len 0\n",
      "---ASSESS GRADED DOCUMENTS---\n",
      "---DECISION: ALL DOCUMENTS ARE NOT RELEVANT TO QUESTION, INCLUDE WEB SEARCH---\n",
      "---WEB SEARCH---\n",
      "---GENERATE---\n",
      "---CHECK HALLUCINATIONS---\n",
      "---DECISION: GENERATION IS GROUNDED IN DOCUMENTS---\n",
      "---GRADE GENERATION vs QUESTION---\n"
     ]
    },
    {
     "name": "stderr",
     "output_type": "stream",
     "text": [
      "15it [03:12, 11.98s/it]"
     ]
    },
    {
     "name": "stdout",
     "output_type": "stream",
     "text": [
      "---DECISION: GENERATION ADDRESSES QUESTION---\n",
      "---ROUTE QUESTION---\n",
      "---ROUTE QUESTION TO VECTOR STORE---\n",
      "---GENERATE DOCUMENT---\n",
      "---RETRIEVE---\n",
      "---CHECK DOCUMENT RELEVANCE TO QUESTION---\n",
      "---GRADE DOCUMENT (1/4)---\n",
      "---GRADE: DOCUMENT NOT RELEVANT---\n",
      "---GRADE DOCUMENT (2/4)---\n",
      "---GRADE: DOCUMENT NOT RELEVANT---\n",
      "---GRADE DOCUMENT (3/4)---\n",
      "---GRADE: DOCUMENT NOT RELEVANT---\n",
      "---GRADE DOCUMENT (4/4)---\n",
      "---GRADE: DOCUMENT NOT RELEVANT---\n",
      "final len 0\n",
      "---ASSESS GRADED DOCUMENTS---\n",
      "---DECISION: ALL DOCUMENTS ARE NOT RELEVANT TO QUESTION, INCLUDE WEB SEARCH---\n",
      "---WEB SEARCH---\n",
      "---GENERATE---\n",
      "---CHECK HALLUCINATIONS---\n",
      "---DECISION: GENERATION IS GROUNDED IN DOCUMENTS---\n",
      "---GRADE GENERATION vs QUESTION---\n"
     ]
    },
    {
     "name": "stderr",
     "output_type": "stream",
     "text": [
      "16it [03:23, 11.68s/it]"
     ]
    },
    {
     "name": "stdout",
     "output_type": "stream",
     "text": [
      "---DECISION: GENERATION ADDRESSES QUESTION---\n",
      "---ROUTE QUESTION---\n",
      "---ROUTE QUESTION TO VECTOR STORE---\n",
      "---GENERATE DOCUMENT---\n",
      "---RETRIEVE---\n",
      "---CHECK DOCUMENT RELEVANCE TO QUESTION---\n",
      "---GRADE DOCUMENT (1/4)---\n",
      "---GRADE: DOCUMENT NOT RELEVANT---\n",
      "---GRADE DOCUMENT (2/4)---\n",
      "---GRADE: DOCUMENT NOT RELEVANT---\n",
      "---GRADE DOCUMENT (3/4)---\n",
      "---GRADE: DOCUMENT NOT RELEVANT---\n",
      "---GRADE DOCUMENT (4/4)---\n",
      "---GRADE: DOCUMENT NOT RELEVANT---\n",
      "final len 0\n",
      "---ASSESS GRADED DOCUMENTS---\n",
      "---DECISION: ALL DOCUMENTS ARE NOT RELEVANT TO QUESTION, INCLUDE WEB SEARCH---\n",
      "---WEB SEARCH---\n",
      "---GENERATE---\n",
      "---CHECK HALLUCINATIONS---\n",
      "---DECISION: GENERATION IS GROUNDED IN DOCUMENTS---\n",
      "---GRADE GENERATION vs QUESTION---\n"
     ]
    },
    {
     "name": "stderr",
     "output_type": "stream",
     "text": [
      "17it [03:37, 12.11s/it]"
     ]
    },
    {
     "name": "stdout",
     "output_type": "stream",
     "text": [
      "---DECISION: GENERATION ADDRESSES QUESTION---\n",
      "---ROUTE QUESTION---\n",
      "---ROUTE QUESTION TO VECTOR STORE---\n",
      "---GENERATE DOCUMENT---\n",
      "---RETRIEVE---\n",
      "---CHECK DOCUMENT RELEVANCE TO QUESTION---\n",
      "---GRADE DOCUMENT (1/4)---\n",
      "---GRADE: DOCUMENT NOT RELEVANT---\n",
      "---GRADE DOCUMENT (2/4)---\n",
      "---GRADE: DOCUMENT NOT RELEVANT---\n",
      "---GRADE DOCUMENT (3/4)---\n",
      "---GRADE: DOCUMENT NOT RELEVANT---\n",
      "---GRADE DOCUMENT (4/4)---\n",
      "---GRADE: DOCUMENT NOT RELEVANT---\n",
      "final len 0\n",
      "---ASSESS GRADED DOCUMENTS---\n",
      "---DECISION: ALL DOCUMENTS ARE NOT RELEVANT TO QUESTION, INCLUDE WEB SEARCH---\n",
      "---WEB SEARCH---\n",
      "---GENERATE---\n",
      "---CHECK HALLUCINATIONS---\n",
      "---DECISION: GENERATION IS GROUNDED IN DOCUMENTS---\n",
      "---GRADE GENERATION vs QUESTION---\n"
     ]
    },
    {
     "name": "stderr",
     "output_type": "stream",
     "text": [
      "18it [03:49, 12.31s/it]"
     ]
    },
    {
     "name": "stdout",
     "output_type": "stream",
     "text": [
      "---DECISION: GENERATION ADDRESSES QUESTION---\n",
      "---ROUTE QUESTION---\n",
      "---ROUTE QUESTION TO VECTOR STORE---\n",
      "---GENERATE DOCUMENT---\n",
      "---RETRIEVE---\n",
      "---CHECK DOCUMENT RELEVANCE TO QUESTION---\n",
      "---GRADE DOCUMENT (1/4)---\n",
      "---GRADE: DOCUMENT NOT RELEVANT---\n",
      "---GRADE DOCUMENT (2/4)---\n",
      "---GRADE: DOCUMENT NOT RELEVANT---\n",
      "---GRADE DOCUMENT (3/4)---\n",
      "---GRADE: DOCUMENT NOT RELEVANT---\n",
      "---GRADE DOCUMENT (4/4)---\n",
      "---GRADE: DOCUMENT NOT RELEVANT---\n",
      "final len 0\n",
      "---ASSESS GRADED DOCUMENTS---\n",
      "---DECISION: ALL DOCUMENTS ARE NOT RELEVANT TO QUESTION, INCLUDE WEB SEARCH---\n",
      "---WEB SEARCH---\n",
      "---GENERATE---\n",
      "---CHECK HALLUCINATIONS---\n",
      "---DECISION: GENERATION IS GROUNDED IN DOCUMENTS---\n",
      "---GRADE GENERATION vs QUESTION---\n"
     ]
    },
    {
     "name": "stderr",
     "output_type": "stream",
     "text": [
      "19it [03:59, 11.43s/it]"
     ]
    },
    {
     "name": "stdout",
     "output_type": "stream",
     "text": [
      "---DECISION: GENERATION ADDRESSES QUESTION---\n",
      "---ROUTE QUESTION---\n",
      "---ROUTE QUESTION TO VECTOR STORE---\n",
      "---GENERATE DOCUMENT---\n",
      "---RETRIEVE---\n",
      "---CHECK DOCUMENT RELEVANCE TO QUESTION---\n",
      "---GRADE DOCUMENT (1/4)---\n",
      "---GRADE: DOCUMENT NOT RELEVANT---\n",
      "---GRADE DOCUMENT (2/4)---\n",
      "---GRADE: DOCUMENT NOT RELEVANT---\n",
      "---GRADE DOCUMENT (3/4)---\n",
      "---GRADE: DOCUMENT NOT RELEVANT---\n",
      "---GRADE DOCUMENT (4/4)---\n",
      "---GRADE: DOCUMENT NOT RELEVANT---\n",
      "final len 0\n",
      "---ASSESS GRADED DOCUMENTS---\n",
      "---DECISION: ALL DOCUMENTS ARE NOT RELEVANT TO QUESTION, INCLUDE WEB SEARCH---\n",
      "---WEB SEARCH---\n",
      "---GENERATE---\n",
      "---CHECK HALLUCINATIONS---\n",
      "---DECISION: GENERATION IS GROUNDED IN DOCUMENTS---\n",
      "---GRADE GENERATION vs QUESTION---\n"
     ]
    },
    {
     "name": "stderr",
     "output_type": "stream",
     "text": [
      "20it [04:13, 12.43s/it]"
     ]
    },
    {
     "name": "stdout",
     "output_type": "stream",
     "text": [
      "---DECISION: GENERATION ADDRESSES QUESTION---\n",
      "---ROUTE QUESTION---\n",
      "---ROUTE QUESTION TO VECTOR STORE---\n",
      "---GENERATE DOCUMENT---\n",
      "---RETRIEVE---\n",
      "---CHECK DOCUMENT RELEVANCE TO QUESTION---\n",
      "---GRADE DOCUMENT (1/4)---\n",
      "---GRADE: DOCUMENT NOT RELEVANT---\n",
      "---GRADE DOCUMENT (2/4)---\n",
      "---GRADE: DOCUMENT NOT RELEVANT---\n",
      "---GRADE DOCUMENT (3/4)---\n",
      "---GRADE: DOCUMENT NOT RELEVANT---\n",
      "---GRADE DOCUMENT (4/4)---\n",
      "---GRADE: DOCUMENT NOT RELEVANT---\n",
      "final len 0\n",
      "---ASSESS GRADED DOCUMENTS---\n",
      "---DECISION: ALL DOCUMENTS ARE NOT RELEVANT TO QUESTION, INCLUDE WEB SEARCH---\n",
      "---WEB SEARCH---\n",
      "---GENERATE---\n",
      "---CHECK HALLUCINATIONS---\n",
      "---DECISION: GENERATION IS GROUNDED IN DOCUMENTS---\n",
      "---GRADE GENERATION vs QUESTION---\n"
     ]
    },
    {
     "name": "stderr",
     "output_type": "stream",
     "text": [
      "21it [04:24, 11.99s/it]"
     ]
    },
    {
     "name": "stdout",
     "output_type": "stream",
     "text": [
      "---DECISION: GENERATION ADDRESSES QUESTION---\n",
      "---ROUTE QUESTION---\n",
      "---ROUTE QUESTION TO VECTOR STORE---\n",
      "---GENERATE DOCUMENT---\n",
      "---RETRIEVE---\n",
      "---CHECK DOCUMENT RELEVANCE TO QUESTION---\n",
      "---GRADE DOCUMENT (1/4)---\n",
      "---GRADE: DOCUMENT NOT RELEVANT---\n",
      "---GRADE DOCUMENT (2/4)---\n",
      "---GRADE: DOCUMENT NOT RELEVANT---\n",
      "---GRADE DOCUMENT (3/4)---\n",
      "---GRADE: DOCUMENT NOT RELEVANT---\n",
      "---GRADE DOCUMENT (4/4)---\n",
      "---GRADE: DOCUMENT NOT RELEVANT---\n",
      "final len 0\n",
      "---ASSESS GRADED DOCUMENTS---\n",
      "---DECISION: ALL DOCUMENTS ARE NOT RELEVANT TO QUESTION, INCLUDE WEB SEARCH---\n",
      "---WEB SEARCH---\n",
      "---GENERATE---\n",
      "---CHECK HALLUCINATIONS---\n",
      "---DECISION: GENERATION IS GROUNDED IN DOCUMENTS---\n",
      "---GRADE GENERATION vs QUESTION---\n"
     ]
    },
    {
     "name": "stderr",
     "output_type": "stream",
     "text": [
      "22it [04:39, 12.84s/it]"
     ]
    },
    {
     "name": "stdout",
     "output_type": "stream",
     "text": [
      "---DECISION: GENERATION ADDRESSES QUESTION---\n",
      "---ROUTE QUESTION---\n",
      "---ROUTE QUESTION TO VECTOR STORE---\n",
      "---GENERATE DOCUMENT---\n",
      "---RETRIEVE---\n",
      "---CHECK DOCUMENT RELEVANCE TO QUESTION---\n",
      "---GRADE DOCUMENT (1/4)---\n",
      "---GRADE: DOCUMENT NOT RELEVANT---\n",
      "---GRADE DOCUMENT (2/4)---\n",
      "---GRADE: DOCUMENT RELEVANT---\n",
      "---GRADE DOCUMENT (3/4)---\n",
      "---GRADE: DOCUMENT NOT RELEVANT---\n",
      "---GRADE DOCUMENT (4/4)---\n",
      "---GRADE: DOCUMENT NOT RELEVANT---\n",
      "final len 1\n",
      "---ASSESS GRADED DOCUMENTS---\n",
      "---DECISION: ALL DOCUMENTS ARE NOT RELEVANT TO QUESTION, INCLUDE WEB SEARCH---\n",
      "---WEB SEARCH---\n",
      "---GENERATE---\n",
      "---CHECK HALLUCINATIONS---\n",
      "---DECISION: GENERATION IS GROUNDED IN DOCUMENTS---\n",
      "---GRADE GENERATION vs QUESTION---\n"
     ]
    },
    {
     "name": "stderr",
     "output_type": "stream",
     "text": [
      "23it [04:48, 11.53s/it]"
     ]
    },
    {
     "name": "stdout",
     "output_type": "stream",
     "text": [
      "---DECISION: GENERATION ADDRESSES QUESTION---\n",
      "---ROUTE QUESTION---\n",
      "---ROUTE QUESTION TO VECTOR STORE---\n",
      "---GENERATE DOCUMENT---\n",
      "---RETRIEVE---\n",
      "---CHECK DOCUMENT RELEVANCE TO QUESTION---\n",
      "---GRADE DOCUMENT (1/4)---\n",
      "---GRADE: DOCUMENT NOT RELEVANT---\n",
      "---GRADE DOCUMENT (2/4)---\n",
      "---GRADE: DOCUMENT NOT RELEVANT---\n",
      "---GRADE DOCUMENT (3/4)---\n",
      "---GRADE: DOCUMENT NOT RELEVANT---\n",
      "---GRADE DOCUMENT (4/4)---\n",
      "---GRADE: DOCUMENT NOT RELEVANT---\n",
      "final len 0\n",
      "---ASSESS GRADED DOCUMENTS---\n",
      "---DECISION: ALL DOCUMENTS ARE NOT RELEVANT TO QUESTION, INCLUDE WEB SEARCH---\n",
      "---WEB SEARCH---\n",
      "---GENERATE---\n",
      "---CHECK HALLUCINATIONS---\n",
      "---DECISION: GENERATION IS GROUNDED IN DOCUMENTS---\n",
      "---GRADE GENERATION vs QUESTION---\n"
     ]
    },
    {
     "name": "stderr",
     "output_type": "stream",
     "text": [
      "24it [04:59, 11.45s/it]"
     ]
    },
    {
     "name": "stdout",
     "output_type": "stream",
     "text": [
      "---DECISION: GENERATION ADDRESSES QUESTION---\n",
      "---ROUTE QUESTION---\n",
      "---ROUTE QUESTION TO VECTOR STORE---\n",
      "---GENERATE DOCUMENT---\n",
      "---RETRIEVE---\n",
      "---CHECK DOCUMENT RELEVANCE TO QUESTION---\n",
      "---GRADE DOCUMENT (1/4)---\n",
      "---GRADE: DOCUMENT NOT RELEVANT---\n",
      "---GRADE DOCUMENT (2/4)---\n",
      "---GRADE: DOCUMENT NOT RELEVANT---\n",
      "---GRADE DOCUMENT (3/4)---\n",
      "---GRADE: DOCUMENT NOT RELEVANT---\n",
      "---GRADE DOCUMENT (4/4)---\n",
      "---GRADE: DOCUMENT NOT RELEVANT---\n",
      "final len 0\n",
      "---ASSESS GRADED DOCUMENTS---\n",
      "---DECISION: ALL DOCUMENTS ARE NOT RELEVANT TO QUESTION, INCLUDE WEB SEARCH---\n",
      "---WEB SEARCH---\n",
      "---GENERATE---\n",
      "---CHECK HALLUCINATIONS---\n",
      "---DECISION: GENERATION IS GROUNDED IN DOCUMENTS---\n",
      "---GRADE GENERATION vs QUESTION---\n",
      "---DECISION: GENERATION DOES NOT ADDRESS QUESTION---\n",
      "---WEB SEARCH---\n",
      "---GENERATE---\n"
     ]
    },
    {
     "name": "stderr",
     "output_type": "stream",
     "text": [
      "25it [05:11, 11.72s/it]"
     ]
    },
    {
     "name": "stdout",
     "output_type": "stream",
     "text": [
      "---CHECK HALLUCINATIONS---\n",
      "---ROUTE QUESTION---\n",
      "---ROUTE QUESTION TO VECTOR STORE---\n",
      "---GENERATE DOCUMENT---\n",
      "---RETRIEVE---\n",
      "---CHECK DOCUMENT RELEVANCE TO QUESTION---\n",
      "---GRADE DOCUMENT (1/4)---\n",
      "---GRADE: DOCUMENT NOT RELEVANT---\n",
      "---GRADE DOCUMENT (2/4)---\n",
      "---GRADE: DOCUMENT NOT RELEVANT---\n",
      "---GRADE DOCUMENT (3/4)---\n",
      "---GRADE: DOCUMENT NOT RELEVANT---\n",
      "---GRADE DOCUMENT (4/4)---\n",
      "---GRADE: DOCUMENT NOT RELEVANT---\n",
      "final len 0\n",
      "---ASSESS GRADED DOCUMENTS---\n",
      "---DECISION: ALL DOCUMENTS ARE NOT RELEVANT TO QUESTION, INCLUDE WEB SEARCH---\n",
      "---WEB SEARCH---\n",
      "---GENERATE---\n",
      "---CHECK HALLUCINATIONS---\n",
      "---DECISION: GENERATION IS NOT GROUNDED IN DOCUMENTS, RE-TRY---\n",
      "---GENERATE---\n"
     ]
    },
    {
     "name": "stderr",
     "output_type": "stream",
     "text": [
      "26it [05:20, 10.88s/it]"
     ]
    },
    {
     "name": "stdout",
     "output_type": "stream",
     "text": [
      "---CHECK HALLUCINATIONS---\n",
      "---ROUTE QUESTION---\n",
      "---ROUTE QUESTION TO VECTOR STORE---\n",
      "---GENERATE DOCUMENT---\n",
      "---RETRIEVE---\n",
      "---CHECK DOCUMENT RELEVANCE TO QUESTION---\n",
      "---GRADE DOCUMENT (1/4)---\n",
      "---GRADE: DOCUMENT NOT RELEVANT---\n",
      "---GRADE DOCUMENT (2/4)---\n",
      "---GRADE: DOCUMENT NOT RELEVANT---\n",
      "---GRADE DOCUMENT (3/4)---\n",
      "---GRADE: DOCUMENT NOT RELEVANT---\n",
      "---GRADE DOCUMENT (4/4)---\n",
      "---GRADE: DOCUMENT NOT RELEVANT---\n",
      "final len 0\n",
      "---ASSESS GRADED DOCUMENTS---\n",
      "---DECISION: ALL DOCUMENTS ARE NOT RELEVANT TO QUESTION, INCLUDE WEB SEARCH---\n",
      "---WEB SEARCH---\n",
      "---GENERATE---\n",
      "---CHECK HALLUCINATIONS---\n",
      "---DECISION: GENERATION IS NOT GROUNDED IN DOCUMENTS, RE-TRY---\n",
      "---GENERATE---\n"
     ]
    },
    {
     "name": "stderr",
     "output_type": "stream",
     "text": [
      "27it [05:29, 10.35s/it]"
     ]
    },
    {
     "name": "stdout",
     "output_type": "stream",
     "text": [
      "---CHECK HALLUCINATIONS---\n",
      "---ROUTE QUESTION---\n",
      "---ROUTE QUESTION TO VECTOR STORE---\n",
      "---GENERATE DOCUMENT---\n",
      "---RETRIEVE---\n",
      "---CHECK DOCUMENT RELEVANCE TO QUESTION---\n",
      "---GRADE DOCUMENT (1/4)---\n",
      "---GRADE: DOCUMENT NOT RELEVANT---\n",
      "---GRADE DOCUMENT (2/4)---\n",
      "---GRADE: DOCUMENT NOT RELEVANT---\n",
      "---GRADE DOCUMENT (3/4)---\n",
      "---GRADE: DOCUMENT NOT RELEVANT---\n",
      "---GRADE DOCUMENT (4/4)---\n",
      "---GRADE: DOCUMENT NOT RELEVANT---\n",
      "final len 0\n",
      "---ASSESS GRADED DOCUMENTS---\n",
      "---DECISION: ALL DOCUMENTS ARE NOT RELEVANT TO QUESTION, INCLUDE WEB SEARCH---\n",
      "---WEB SEARCH---\n",
      "---GENERATE---\n",
      "---CHECK HALLUCINATIONS---\n",
      "---DECISION: GENERATION IS NOT GROUNDED IN DOCUMENTS, RE-TRY---\n",
      "---GENERATE---\n"
     ]
    },
    {
     "name": "stderr",
     "output_type": "stream",
     "text": [
      "28it [05:39, 10.10s/it]"
     ]
    },
    {
     "name": "stdout",
     "output_type": "stream",
     "text": [
      "---CHECK HALLUCINATIONS---\n",
      "---ROUTE QUESTION---\n",
      "---ROUTE QUESTION TO VECTOR STORE---\n",
      "---GENERATE DOCUMENT---\n",
      "---RETRIEVE---\n",
      "---CHECK DOCUMENT RELEVANCE TO QUESTION---\n",
      "---GRADE DOCUMENT (1/4)---\n",
      "---GRADE: DOCUMENT NOT RELEVANT---\n",
      "---GRADE DOCUMENT (2/4)---\n",
      "---GRADE: DOCUMENT NOT RELEVANT---\n",
      "---GRADE DOCUMENT (3/4)---\n",
      "---GRADE: DOCUMENT NOT RELEVANT---\n",
      "---GRADE DOCUMENT (4/4)---\n",
      "---GRADE: DOCUMENT NOT RELEVANT---\n",
      "final len 0\n",
      "---ASSESS GRADED DOCUMENTS---\n",
      "---DECISION: ALL DOCUMENTS ARE NOT RELEVANT TO QUESTION, INCLUDE WEB SEARCH---\n",
      "---WEB SEARCH---\n",
      "---GENERATE---\n",
      "---CHECK HALLUCINATIONS---\n",
      "---DECISION: GENERATION IS NOT GROUNDED IN DOCUMENTS, RE-TRY---\n",
      "---GENERATE---\n"
     ]
    },
    {
     "name": "stderr",
     "output_type": "stream",
     "text": [
      "29it [05:49,  9.99s/it]"
     ]
    },
    {
     "name": "stdout",
     "output_type": "stream",
     "text": [
      "---CHECK HALLUCINATIONS---\n",
      "---ROUTE QUESTION---\n",
      "---ROUTE QUESTION TO VECTOR STORE---\n",
      "---GENERATE DOCUMENT---\n",
      "---RETRIEVE---\n",
      "---CHECK DOCUMENT RELEVANCE TO QUESTION---\n",
      "---GRADE DOCUMENT (1/4)---\n",
      "---GRADE: DOCUMENT NOT RELEVANT---\n",
      "---GRADE DOCUMENT (2/4)---\n",
      "---GRADE: DOCUMENT NOT RELEVANT---\n",
      "---GRADE DOCUMENT (3/4)---\n",
      "---GRADE: DOCUMENT NOT RELEVANT---\n",
      "---GRADE DOCUMENT (4/4)---\n",
      "---GRADE: DOCUMENT NOT RELEVANT---\n",
      "final len 0\n",
      "---ASSESS GRADED DOCUMENTS---\n",
      "---DECISION: ALL DOCUMENTS ARE NOT RELEVANT TO QUESTION, INCLUDE WEB SEARCH---\n",
      "---WEB SEARCH---\n",
      "---GENERATE---\n",
      "---CHECK HALLUCINATIONS---\n",
      "---DECISION: GENERATION IS NOT GROUNDED IN DOCUMENTS, RE-TRY---\n",
      "---GENERATE---\n"
     ]
    },
    {
     "name": "stderr",
     "output_type": "stream",
     "text": [
      "30it [06:00, 10.42s/it]"
     ]
    },
    {
     "name": "stdout",
     "output_type": "stream",
     "text": [
      "---CHECK HALLUCINATIONS---\n",
      "---ROUTE QUESTION---\n",
      "---ROUTE QUESTION TO VECTOR STORE---\n",
      "---GENERATE DOCUMENT---\n",
      "---RETRIEVE---\n",
      "---CHECK DOCUMENT RELEVANCE TO QUESTION---\n",
      "---GRADE DOCUMENT (1/4)---\n",
      "---GRADE: DOCUMENT NOT RELEVANT---\n",
      "---GRADE DOCUMENT (2/4)---\n",
      "---GRADE: DOCUMENT NOT RELEVANT---\n",
      "---GRADE DOCUMENT (3/4)---\n",
      "---GRADE: DOCUMENT NOT RELEVANT---\n",
      "---GRADE DOCUMENT (4/4)---\n",
      "---GRADE: DOCUMENT NOT RELEVANT---\n",
      "final len 0\n",
      "---ASSESS GRADED DOCUMENTS---\n",
      "---DECISION: ALL DOCUMENTS ARE NOT RELEVANT TO QUESTION, INCLUDE WEB SEARCH---\n",
      "---WEB SEARCH---\n",
      "---GENERATE---\n",
      "---CHECK HALLUCINATIONS---\n",
      "---DECISION: GENERATION IS GROUNDED IN DOCUMENTS---\n",
      "---GRADE GENERATION vs QUESTION---\n"
     ]
    },
    {
     "name": "stderr",
     "output_type": "stream",
     "text": [
      "31it [06:11, 10.53s/it]"
     ]
    },
    {
     "name": "stdout",
     "output_type": "stream",
     "text": [
      "---DECISION: GENERATION ADDRESSES QUESTION---\n",
      "---ROUTE QUESTION---\n",
      "---ROUTE QUESTION TO VECTOR STORE---\n",
      "---GENERATE DOCUMENT---\n",
      "---RETRIEVE---\n",
      "---CHECK DOCUMENT RELEVANCE TO QUESTION---\n",
      "---GRADE DOCUMENT (1/4)---\n",
      "---GRADE: DOCUMENT NOT RELEVANT---\n",
      "---GRADE DOCUMENT (2/4)---\n",
      "---GRADE: DOCUMENT NOT RELEVANT---\n",
      "---GRADE DOCUMENT (3/4)---\n",
      "---GRADE: DOCUMENT NOT RELEVANT---\n",
      "---GRADE DOCUMENT (4/4)---\n",
      "---GRADE: DOCUMENT NOT RELEVANT---\n",
      "final len 0\n",
      "---ASSESS GRADED DOCUMENTS---\n",
      "---DECISION: ALL DOCUMENTS ARE NOT RELEVANT TO QUESTION, INCLUDE WEB SEARCH---\n",
      "---WEB SEARCH---\n",
      "---GENERATE---\n",
      "---CHECK HALLUCINATIONS---\n",
      "---DECISION: GENERATION IS GROUNDED IN DOCUMENTS---\n",
      "---GRADE GENERATION vs QUESTION---\n"
     ]
    },
    {
     "name": "stderr",
     "output_type": "stream",
     "text": [
      "32it [06:23, 11.11s/it]"
     ]
    },
    {
     "name": "stdout",
     "output_type": "stream",
     "text": [
      "---DECISION: GENERATION ADDRESSES QUESTION---\n",
      "---ROUTE QUESTION---\n",
      "---ROUTE QUESTION TO VECTOR STORE---\n",
      "---GENERATE DOCUMENT---\n",
      "---RETRIEVE---\n",
      "---CHECK DOCUMENT RELEVANCE TO QUESTION---\n",
      "---GRADE DOCUMENT (1/4)---\n",
      "---GRADE: DOCUMENT NOT RELEVANT---\n",
      "---GRADE DOCUMENT (2/4)---\n",
      "---GRADE: DOCUMENT NOT RELEVANT---\n",
      "---GRADE DOCUMENT (3/4)---\n",
      "---GRADE: DOCUMENT NOT RELEVANT---\n",
      "---GRADE DOCUMENT (4/4)---\n",
      "---GRADE: DOCUMENT NOT RELEVANT---\n",
      "final len 0\n",
      "---ASSESS GRADED DOCUMENTS---\n",
      "---DECISION: ALL DOCUMENTS ARE NOT RELEVANT TO QUESTION, INCLUDE WEB SEARCH---\n",
      "---WEB SEARCH---\n",
      "---GENERATE---\n",
      "---CHECK HALLUCINATIONS---\n",
      "---DECISION: GENERATION IS GROUNDED IN DOCUMENTS---\n",
      "---GRADE GENERATION vs QUESTION---\n"
     ]
    },
    {
     "name": "stderr",
     "output_type": "stream",
     "text": [
      "33it [06:36, 11.46s/it]"
     ]
    },
    {
     "name": "stdout",
     "output_type": "stream",
     "text": [
      "---DECISION: GENERATION ADDRESSES QUESTION---\n",
      "---ROUTE QUESTION---\n",
      "---ROUTE QUESTION TO VECTOR STORE---\n",
      "---GENERATE DOCUMENT---\n",
      "---RETRIEVE---\n",
      "---CHECK DOCUMENT RELEVANCE TO QUESTION---\n",
      "---GRADE DOCUMENT (1/4)---\n",
      "---GRADE: DOCUMENT NOT RELEVANT---\n",
      "---GRADE DOCUMENT (2/4)---\n",
      "---GRADE: DOCUMENT NOT RELEVANT---\n",
      "---GRADE DOCUMENT (3/4)---\n",
      "---GRADE: DOCUMENT NOT RELEVANT---\n",
      "---GRADE DOCUMENT (4/4)---\n",
      "---GRADE: DOCUMENT NOT RELEVANT---\n",
      "final len 0\n",
      "---ASSESS GRADED DOCUMENTS---\n",
      "---DECISION: ALL DOCUMENTS ARE NOT RELEVANT TO QUESTION, INCLUDE WEB SEARCH---\n",
      "---WEB SEARCH---\n",
      "---GENERATE---\n",
      "---CHECK HALLUCINATIONS---\n",
      "---DECISION: GENERATION IS GROUNDED IN DOCUMENTS---\n",
      "---GRADE GENERATION vs QUESTION---\n"
     ]
    },
    {
     "name": "stderr",
     "output_type": "stream",
     "text": [
      "34it [06:43, 10.36s/it]"
     ]
    },
    {
     "name": "stdout",
     "output_type": "stream",
     "text": [
      "---DECISION: GENERATION ADDRESSES QUESTION---\n",
      "---ROUTE QUESTION---\n",
      "---ROUTE QUESTION TO VECTOR STORE---\n",
      "---GENERATE DOCUMENT---\n",
      "---RETRIEVE---\n",
      "---CHECK DOCUMENT RELEVANCE TO QUESTION---\n",
      "---GRADE DOCUMENT (1/4)---\n",
      "---GRADE: DOCUMENT NOT RELEVANT---\n",
      "---GRADE DOCUMENT (2/4)---\n",
      "---GRADE: DOCUMENT NOT RELEVANT---\n",
      "---GRADE DOCUMENT (3/4)---\n",
      "---GRADE: DOCUMENT NOT RELEVANT---\n",
      "---GRADE DOCUMENT (4/4)---\n",
      "---GRADE: DOCUMENT NOT RELEVANT---\n",
      "final len 0\n",
      "---ASSESS GRADED DOCUMENTS---\n",
      "---DECISION: ALL DOCUMENTS ARE NOT RELEVANT TO QUESTION, INCLUDE WEB SEARCH---\n",
      "---WEB SEARCH---\n",
      "---GENERATE---\n",
      "---CHECK HALLUCINATIONS---\n",
      "---DECISION: GENERATION IS GROUNDED IN DOCUMENTS---\n",
      "---GRADE GENERATION vs QUESTION---\n"
     ]
    },
    {
     "name": "stderr",
     "output_type": "stream",
     "text": [
      "35it [06:52,  9.88s/it]"
     ]
    },
    {
     "name": "stdout",
     "output_type": "stream",
     "text": [
      "---DECISION: GENERATION ADDRESSES QUESTION---\n",
      "---ROUTE QUESTION---\n",
      "---ROUTE QUESTION TO VECTOR STORE---\n",
      "---GENERATE DOCUMENT---\n",
      "---RETRIEVE---\n",
      "---CHECK DOCUMENT RELEVANCE TO QUESTION---\n",
      "---GRADE DOCUMENT (1/4)---\n",
      "---GRADE: DOCUMENT NOT RELEVANT---\n",
      "---GRADE DOCUMENT (2/4)---\n",
      "---GRADE: DOCUMENT NOT RELEVANT---\n",
      "---GRADE DOCUMENT (3/4)---\n",
      "---GRADE: DOCUMENT NOT RELEVANT---\n",
      "---GRADE DOCUMENT (4/4)---\n",
      "---GRADE: DOCUMENT NOT RELEVANT---\n",
      "final len 0\n",
      "---ASSESS GRADED DOCUMENTS---\n",
      "---DECISION: ALL DOCUMENTS ARE NOT RELEVANT TO QUESTION, INCLUDE WEB SEARCH---\n",
      "---WEB SEARCH---\n",
      "---GENERATE---\n",
      "---CHECK HALLUCINATIONS---\n",
      "---DECISION: GENERATION IS GROUNDED IN DOCUMENTS---\n",
      "---GRADE GENERATION vs QUESTION---\n"
     ]
    },
    {
     "name": "stderr",
     "output_type": "stream",
     "text": [
      "36it [07:01,  9.60s/it]"
     ]
    },
    {
     "name": "stdout",
     "output_type": "stream",
     "text": [
      "---DECISION: GENERATION ADDRESSES QUESTION---\n",
      "---ROUTE QUESTION---\n",
      "---ROUTE QUESTION TO VECTOR STORE---\n",
      "---GENERATE DOCUMENT---\n",
      "---RETRIEVE---\n",
      "---CHECK DOCUMENT RELEVANCE TO QUESTION---\n",
      "---GRADE DOCUMENT (1/4)---\n",
      "---GRADE: DOCUMENT NOT RELEVANT---\n",
      "---GRADE DOCUMENT (2/4)---\n",
      "---GRADE: DOCUMENT NOT RELEVANT---\n",
      "---GRADE DOCUMENT (3/4)---\n",
      "---GRADE: DOCUMENT NOT RELEVANT---\n",
      "---GRADE DOCUMENT (4/4)---\n",
      "---GRADE: DOCUMENT NOT RELEVANT---\n",
      "final len 0\n",
      "---ASSESS GRADED DOCUMENTS---\n",
      "---DECISION: ALL DOCUMENTS ARE NOT RELEVANT TO QUESTION, INCLUDE WEB SEARCH---\n",
      "---WEB SEARCH---\n",
      "---GENERATE---\n",
      "---CHECK HALLUCINATIONS---\n",
      "---DECISION: GENERATION IS GROUNDED IN DOCUMENTS---\n",
      "---GRADE GENERATION vs QUESTION---\n"
     ]
    },
    {
     "name": "stderr",
     "output_type": "stream",
     "text": [
      "37it [07:10,  9.43s/it]"
     ]
    },
    {
     "name": "stdout",
     "output_type": "stream",
     "text": [
      "---DECISION: GENERATION ADDRESSES QUESTION---\n",
      "---ROUTE QUESTION---\n",
      "---ROUTE QUESTION TO VECTOR STORE---\n",
      "---GENERATE DOCUMENT---\n",
      "---RETRIEVE---\n",
      "---CHECK DOCUMENT RELEVANCE TO QUESTION---\n",
      "---GRADE DOCUMENT (1/4)---\n",
      "---GRADE: DOCUMENT NOT RELEVANT---\n",
      "---GRADE DOCUMENT (2/4)---\n",
      "---GRADE: DOCUMENT NOT RELEVANT---\n",
      "---GRADE DOCUMENT (3/4)---\n",
      "---GRADE: DOCUMENT NOT RELEVANT---\n",
      "---GRADE DOCUMENT (4/4)---\n",
      "---GRADE: DOCUMENT NOT RELEVANT---\n",
      "final len 0\n",
      "---ASSESS GRADED DOCUMENTS---\n",
      "---DECISION: ALL DOCUMENTS ARE NOT RELEVANT TO QUESTION, INCLUDE WEB SEARCH---\n",
      "---WEB SEARCH---\n",
      "---GENERATE---\n",
      "---CHECK HALLUCINATIONS---\n",
      "---DECISION: GENERATION IS GROUNDED IN DOCUMENTS---\n",
      "---GRADE GENERATION vs QUESTION---\n"
     ]
    },
    {
     "name": "stderr",
     "output_type": "stream",
     "text": [
      "38it [07:20,  9.45s/it]"
     ]
    },
    {
     "name": "stdout",
     "output_type": "stream",
     "text": [
      "---DECISION: GENERATION ADDRESSES QUESTION---\n",
      "---ROUTE QUESTION---\n",
      "---ROUTE QUESTION TO VECTOR STORE---\n",
      "---GENERATE DOCUMENT---\n",
      "---RETRIEVE---\n",
      "---CHECK DOCUMENT RELEVANCE TO QUESTION---\n",
      "---GRADE DOCUMENT (1/4)---\n",
      "---GRADE: DOCUMENT NOT RELEVANT---\n",
      "---GRADE DOCUMENT (2/4)---\n",
      "---GRADE: DOCUMENT NOT RELEVANT---\n",
      "---GRADE DOCUMENT (3/4)---\n",
      "---GRADE: DOCUMENT NOT RELEVANT---\n",
      "---GRADE DOCUMENT (4/4)---\n",
      "---GRADE: DOCUMENT NOT RELEVANT---\n",
      "final len 0\n",
      "---ASSESS GRADED DOCUMENTS---\n",
      "---DECISION: ALL DOCUMENTS ARE NOT RELEVANT TO QUESTION, INCLUDE WEB SEARCH---\n",
      "---WEB SEARCH---\n",
      "---GENERATE---\n",
      "---CHECK HALLUCINATIONS---\n",
      "---DECISION: GENERATION IS GROUNDED IN DOCUMENTS---\n",
      "---GRADE GENERATION vs QUESTION---\n"
     ]
    },
    {
     "name": "stderr",
     "output_type": "stream",
     "text": [
      "39it [07:29,  9.39s/it]"
     ]
    },
    {
     "name": "stdout",
     "output_type": "stream",
     "text": [
      "---DECISION: GENERATION ADDRESSES QUESTION---\n",
      "---ROUTE QUESTION---\n",
      "---ROUTE QUESTION TO VECTOR STORE---\n",
      "---GENERATE DOCUMENT---\n",
      "---RETRIEVE---\n",
      "---CHECK DOCUMENT RELEVANCE TO QUESTION---\n",
      "---GRADE DOCUMENT (1/4)---\n",
      "---GRADE: DOCUMENT NOT RELEVANT---\n",
      "---GRADE DOCUMENT (2/4)---\n",
      "---GRADE: DOCUMENT NOT RELEVANT---\n",
      "---GRADE DOCUMENT (3/4)---\n",
      "---GRADE: DOCUMENT NOT RELEVANT---\n",
      "---GRADE DOCUMENT (4/4)---\n",
      "---GRADE: DOCUMENT NOT RELEVANT---\n",
      "final len 0\n",
      "---ASSESS GRADED DOCUMENTS---\n",
      "---DECISION: ALL DOCUMENTS ARE NOT RELEVANT TO QUESTION, INCLUDE WEB SEARCH---\n",
      "---WEB SEARCH---\n",
      "---GENERATE---\n",
      "---CHECK HALLUCINATIONS---\n",
      "---DECISION: GENERATION IS GROUNDED IN DOCUMENTS---\n",
      "---GRADE GENERATION vs QUESTION---\n"
     ]
    },
    {
     "name": "stderr",
     "output_type": "stream",
     "text": [
      "40it [07:39,  9.67s/it]"
     ]
    },
    {
     "name": "stdout",
     "output_type": "stream",
     "text": [
      "---DECISION: GENERATION ADDRESSES QUESTION---\n",
      "---ROUTE QUESTION---\n",
      "---ROUTE QUESTION TO VECTOR STORE---\n",
      "---GENERATE DOCUMENT---\n",
      "---RETRIEVE---\n",
      "---CHECK DOCUMENT RELEVANCE TO QUESTION---\n",
      "---GRADE DOCUMENT (1/4)---\n",
      "---GRADE: DOCUMENT NOT RELEVANT---\n",
      "---GRADE DOCUMENT (2/4)---\n",
      "---GRADE: DOCUMENT NOT RELEVANT---\n",
      "---GRADE DOCUMENT (3/4)---\n",
      "---GRADE: DOCUMENT NOT RELEVANT---\n",
      "---GRADE DOCUMENT (4/4)---\n",
      "---GRADE: DOCUMENT NOT RELEVANT---\n",
      "final len 0\n",
      "---ASSESS GRADED DOCUMENTS---\n",
      "---DECISION: ALL DOCUMENTS ARE NOT RELEVANT TO QUESTION, INCLUDE WEB SEARCH---\n",
      "---WEB SEARCH---\n",
      "---GENERATE---\n",
      "---CHECK HALLUCINATIONS---\n",
      "---DECISION: GENERATION IS GROUNDED IN DOCUMENTS---\n",
      "---GRADE GENERATION vs QUESTION---\n"
     ]
    },
    {
     "name": "stderr",
     "output_type": "stream",
     "text": [
      "41it [07:48,  9.39s/it]"
     ]
    },
    {
     "name": "stdout",
     "output_type": "stream",
     "text": [
      "---DECISION: GENERATION ADDRESSES QUESTION---\n",
      "---ROUTE QUESTION---\n",
      "---ROUTE QUESTION TO VECTOR STORE---\n",
      "---GENERATE DOCUMENT---\n",
      "---RETRIEVE---\n",
      "---CHECK DOCUMENT RELEVANCE TO QUESTION---\n",
      "---GRADE DOCUMENT (1/4)---\n",
      "---GRADE: DOCUMENT NOT RELEVANT---\n",
      "---GRADE DOCUMENT (2/4)---\n",
      "---GRADE: DOCUMENT NOT RELEVANT---\n",
      "---GRADE DOCUMENT (3/4)---\n",
      "---GRADE: DOCUMENT NOT RELEVANT---\n",
      "---GRADE DOCUMENT (4/4)---\n",
      "---GRADE: DOCUMENT NOT RELEVANT---\n",
      "final len 0\n",
      "---ASSESS GRADED DOCUMENTS---\n",
      "---DECISION: ALL DOCUMENTS ARE NOT RELEVANT TO QUESTION, INCLUDE WEB SEARCH---\n",
      "---WEB SEARCH---\n",
      "---GENERATE---\n",
      "---CHECK HALLUCINATIONS---\n",
      "---DECISION: GENERATION IS GROUNDED IN DOCUMENTS---\n",
      "---GRADE GENERATION vs QUESTION---\n"
     ]
    },
    {
     "name": "stderr",
     "output_type": "stream",
     "text": [
      "42it [07:59,  9.79s/it]"
     ]
    },
    {
     "name": "stdout",
     "output_type": "stream",
     "text": [
      "---DECISION: GENERATION ADDRESSES QUESTION---\n",
      "---ROUTE QUESTION---\n",
      "---ROUTE QUESTION TO VECTOR STORE---\n",
      "---GENERATE DOCUMENT---\n",
      "---RETRIEVE---\n",
      "---CHECK DOCUMENT RELEVANCE TO QUESTION---\n",
      "---GRADE DOCUMENT (1/4)---\n",
      "---GRADE: DOCUMENT NOT RELEVANT---\n",
      "---GRADE DOCUMENT (2/4)---\n",
      "---GRADE: DOCUMENT NOT RELEVANT---\n",
      "---GRADE DOCUMENT (3/4)---\n",
      "---GRADE: DOCUMENT NOT RELEVANT---\n",
      "---GRADE DOCUMENT (4/4)---\n",
      "---GRADE: DOCUMENT NOT RELEVANT---\n",
      "final len 0\n",
      "---ASSESS GRADED DOCUMENTS---\n",
      "---DECISION: ALL DOCUMENTS ARE NOT RELEVANT TO QUESTION, INCLUDE WEB SEARCH---\n",
      "---WEB SEARCH---\n",
      "---GENERATE---\n",
      "---CHECK HALLUCINATIONS---\n",
      "---DECISION: GENERATION IS GROUNDED IN DOCUMENTS---\n",
      "---GRADE GENERATION vs QUESTION---\n"
     ]
    },
    {
     "name": "stderr",
     "output_type": "stream",
     "text": [
      "43it [08:11, 10.55s/it]"
     ]
    },
    {
     "name": "stdout",
     "output_type": "stream",
     "text": [
      "---DECISION: GENERATION ADDRESSES QUESTION---\n",
      "---ROUTE QUESTION---\n",
      "---ROUTE QUESTION TO VECTOR STORE---\n",
      "---GENERATE DOCUMENT---\n",
      "---RETRIEVE---\n",
      "---CHECK DOCUMENT RELEVANCE TO QUESTION---\n",
      "---GRADE DOCUMENT (1/4)---\n",
      "---GRADE: DOCUMENT NOT RELEVANT---\n",
      "---GRADE DOCUMENT (2/4)---\n",
      "---GRADE: DOCUMENT NOT RELEVANT---\n",
      "---GRADE DOCUMENT (3/4)---\n",
      "---GRADE: DOCUMENT NOT RELEVANT---\n",
      "---GRADE DOCUMENT (4/4)---\n",
      "---GRADE: DOCUMENT NOT RELEVANT---\n",
      "final len 0\n",
      "---ASSESS GRADED DOCUMENTS---\n",
      "---DECISION: ALL DOCUMENTS ARE NOT RELEVANT TO QUESTION, INCLUDE WEB SEARCH---\n",
      "---WEB SEARCH---\n",
      "---GENERATE---\n",
      "---CHECK HALLUCINATIONS---\n",
      "---DECISION: GENERATION IS NOT GROUNDED IN DOCUMENTS, RE-TRY---\n",
      "---GENERATE---\n"
     ]
    },
    {
     "name": "stderr",
     "output_type": "stream",
     "text": [
      "44it [08:25, 11.49s/it]"
     ]
    },
    {
     "name": "stdout",
     "output_type": "stream",
     "text": [
      "---CHECK HALLUCINATIONS---\n",
      "---ROUTE QUESTION---\n",
      "---ROUTE QUESTION TO VECTOR STORE---\n",
      "---GENERATE DOCUMENT---\n",
      "---RETRIEVE---\n",
      "---CHECK DOCUMENT RELEVANCE TO QUESTION---\n",
      "---GRADE DOCUMENT (1/4)---\n",
      "---GRADE: DOCUMENT NOT RELEVANT---\n",
      "---GRADE DOCUMENT (2/4)---\n",
      "---GRADE: DOCUMENT NOT RELEVANT---\n",
      "---GRADE DOCUMENT (3/4)---\n",
      "---GRADE: DOCUMENT NOT RELEVANT---\n",
      "---GRADE DOCUMENT (4/4)---\n",
      "---GRADE: DOCUMENT NOT RELEVANT---\n",
      "final len 0\n",
      "---ASSESS GRADED DOCUMENTS---\n",
      "---DECISION: ALL DOCUMENTS ARE NOT RELEVANT TO QUESTION, INCLUDE WEB SEARCH---\n",
      "---WEB SEARCH---\n",
      "---GENERATE---\n",
      "---CHECK HALLUCINATIONS---\n",
      "---DECISION: GENERATION IS GROUNDED IN DOCUMENTS---\n",
      "---GRADE GENERATION vs QUESTION---\n"
     ]
    },
    {
     "name": "stderr",
     "output_type": "stream",
     "text": [
      "45it [08:34, 10.94s/it]"
     ]
    },
    {
     "name": "stdout",
     "output_type": "stream",
     "text": [
      "---DECISION: GENERATION ADDRESSES QUESTION---\n",
      "---ROUTE QUESTION---\n",
      "---ROUTE QUESTION TO VECTOR STORE---\n",
      "---GENERATE DOCUMENT---\n",
      "---RETRIEVE---\n",
      "---CHECK DOCUMENT RELEVANCE TO QUESTION---\n",
      "---GRADE DOCUMENT (1/4)---\n",
      "---GRADE: DOCUMENT NOT RELEVANT---\n",
      "---GRADE DOCUMENT (2/4)---\n",
      "---GRADE: DOCUMENT NOT RELEVANT---\n",
      "---GRADE DOCUMENT (3/4)---\n",
      "---GRADE: DOCUMENT NOT RELEVANT---\n",
      "---GRADE DOCUMENT (4/4)---\n",
      "---GRADE: DOCUMENT NOT RELEVANT---\n",
      "final len 0\n",
      "---ASSESS GRADED DOCUMENTS---\n",
      "---DECISION: ALL DOCUMENTS ARE NOT RELEVANT TO QUESTION, INCLUDE WEB SEARCH---\n",
      "---WEB SEARCH---\n",
      "---GENERATE---\n",
      "---CHECK HALLUCINATIONS---\n",
      "---DECISION: GENERATION IS GROUNDED IN DOCUMENTS---\n",
      "---GRADE GENERATION vs QUESTION---\n"
     ]
    },
    {
     "name": "stderr",
     "output_type": "stream",
     "text": [
      "46it [08:44, 10.52s/it]"
     ]
    },
    {
     "name": "stdout",
     "output_type": "stream",
     "text": [
      "---DECISION: GENERATION ADDRESSES QUESTION---\n",
      "---ROUTE QUESTION---\n",
      "---ROUTE QUESTION TO VECTOR STORE---\n",
      "---GENERATE DOCUMENT---\n",
      "---RETRIEVE---\n",
      "---CHECK DOCUMENT RELEVANCE TO QUESTION---\n",
      "---GRADE DOCUMENT (1/4)---\n",
      "---GRADE: DOCUMENT NOT RELEVANT---\n",
      "---GRADE DOCUMENT (2/4)---\n",
      "---GRADE: DOCUMENT NOT RELEVANT---\n",
      "---GRADE DOCUMENT (3/4)---\n",
      "---GRADE: DOCUMENT NOT RELEVANT---\n",
      "---GRADE DOCUMENT (4/4)---\n",
      "---GRADE: DOCUMENT NOT RELEVANT---\n",
      "final len 0\n",
      "---ASSESS GRADED DOCUMENTS---\n",
      "---DECISION: ALL DOCUMENTS ARE NOT RELEVANT TO QUESTION, INCLUDE WEB SEARCH---\n",
      "---WEB SEARCH---\n",
      "---GENERATE---\n",
      "---CHECK HALLUCINATIONS---\n",
      "---DECISION: GENERATION IS GROUNDED IN DOCUMENTS---\n",
      "---GRADE GENERATION vs QUESTION---\n"
     ]
    },
    {
     "name": "stderr",
     "output_type": "stream",
     "text": [
      "47it [08:56, 11.02s/it]"
     ]
    },
    {
     "name": "stdout",
     "output_type": "stream",
     "text": [
      "---DECISION: GENERATION ADDRESSES QUESTION---\n",
      "---ROUTE QUESTION---\n",
      "---ROUTE QUESTION TO VECTOR STORE---\n",
      "---GENERATE DOCUMENT---\n",
      "---RETRIEVE---\n",
      "---CHECK DOCUMENT RELEVANCE TO QUESTION---\n",
      "---GRADE DOCUMENT (1/4)---\n",
      "---GRADE: DOCUMENT NOT RELEVANT---\n",
      "---GRADE DOCUMENT (2/4)---\n",
      "---GRADE: DOCUMENT NOT RELEVANT---\n",
      "---GRADE DOCUMENT (3/4)---\n",
      "---GRADE: DOCUMENT NOT RELEVANT---\n",
      "---GRADE DOCUMENT (4/4)---\n",
      "---GRADE: DOCUMENT NOT RELEVANT---\n",
      "final len 0\n",
      "---ASSESS GRADED DOCUMENTS---\n",
      "---DECISION: ALL DOCUMENTS ARE NOT RELEVANT TO QUESTION, INCLUDE WEB SEARCH---\n",
      "---WEB SEARCH---\n",
      "---GENERATE---\n",
      "---CHECK HALLUCINATIONS---\n",
      "---DECISION: GENERATION IS GROUNDED IN DOCUMENTS---\n",
      "---GRADE GENERATION vs QUESTION---\n"
     ]
    },
    {
     "name": "stderr",
     "output_type": "stream",
     "text": [
      "48it [09:14, 12.96s/it]"
     ]
    },
    {
     "name": "stdout",
     "output_type": "stream",
     "text": [
      "---DECISION: GENERATION ADDRESSES QUESTION---\n",
      "---ROUTE QUESTION---\n",
      "---ROUTE QUESTION TO VECTOR STORE---\n",
      "---GENERATE DOCUMENT---\n",
      "---RETRIEVE---\n",
      "---CHECK DOCUMENT RELEVANCE TO QUESTION---\n",
      "---GRADE DOCUMENT (1/4)---\n",
      "---GRADE: DOCUMENT NOT RELEVANT---\n",
      "---GRADE DOCUMENT (2/4)---\n",
      "---GRADE: DOCUMENT NOT RELEVANT---\n",
      "---GRADE DOCUMENT (3/4)---\n",
      "---GRADE: DOCUMENT NOT RELEVANT---\n",
      "---GRADE DOCUMENT (4/4)---\n",
      "---GRADE: DOCUMENT NOT RELEVANT---\n",
      "final len 0\n",
      "---ASSESS GRADED DOCUMENTS---\n",
      "---DECISION: ALL DOCUMENTS ARE NOT RELEVANT TO QUESTION, INCLUDE WEB SEARCH---\n",
      "---WEB SEARCH---\n",
      "---GENERATE---\n",
      "---CHECK HALLUCINATIONS---\n",
      "---DECISION: GENERATION IS GROUNDED IN DOCUMENTS---\n",
      "---GRADE GENERATION vs QUESTION---\n"
     ]
    },
    {
     "name": "stderr",
     "output_type": "stream",
     "text": [
      "49it [09:25, 12.58s/it]"
     ]
    },
    {
     "name": "stdout",
     "output_type": "stream",
     "text": [
      "---DECISION: GENERATION ADDRESSES QUESTION---\n",
      "---ROUTE QUESTION---\n",
      "---ROUTE QUESTION TO VECTOR STORE---\n",
      "---GENERATE DOCUMENT---\n",
      "---RETRIEVE---\n",
      "---CHECK DOCUMENT RELEVANCE TO QUESTION---\n",
      "---GRADE DOCUMENT (1/4)---\n",
      "---GRADE: DOCUMENT NOT RELEVANT---\n",
      "---GRADE DOCUMENT (2/4)---\n",
      "---GRADE: DOCUMENT NOT RELEVANT---\n",
      "---GRADE DOCUMENT (3/4)---\n",
      "---GRADE: DOCUMENT NOT RELEVANT---\n",
      "---GRADE DOCUMENT (4/4)---\n",
      "---GRADE: DOCUMENT NOT RELEVANT---\n",
      "final len 0\n",
      "---ASSESS GRADED DOCUMENTS---\n",
      "---DECISION: ALL DOCUMENTS ARE NOT RELEVANT TO QUESTION, INCLUDE WEB SEARCH---\n",
      "---WEB SEARCH---\n",
      "---GENERATE---\n",
      "---CHECK HALLUCINATIONS---\n",
      "---DECISION: GENERATION IS GROUNDED IN DOCUMENTS---\n",
      "---GRADE GENERATION vs QUESTION---\n"
     ]
    },
    {
     "name": "stderr",
     "output_type": "stream",
     "text": [
      "50it [09:38, 12.52s/it]"
     ]
    },
    {
     "name": "stdout",
     "output_type": "stream",
     "text": [
      "---DECISION: GENERATION ADDRESSES QUESTION---\n",
      "---ROUTE QUESTION---\n",
      "---ROUTE QUESTION TO VECTOR STORE---\n",
      "---GENERATE DOCUMENT---\n",
      "---RETRIEVE---\n",
      "---CHECK DOCUMENT RELEVANCE TO QUESTION---\n",
      "---GRADE DOCUMENT (1/4)---\n",
      "---GRADE: DOCUMENT NOT RELEVANT---\n",
      "---GRADE DOCUMENT (2/4)---\n",
      "---GRADE: DOCUMENT NOT RELEVANT---\n",
      "---GRADE DOCUMENT (3/4)---\n",
      "---GRADE: DOCUMENT NOT RELEVANT---\n",
      "---GRADE DOCUMENT (4/4)---\n",
      "---GRADE: DOCUMENT NOT RELEVANT---\n",
      "final len 0\n",
      "---ASSESS GRADED DOCUMENTS---\n",
      "---DECISION: ALL DOCUMENTS ARE NOT RELEVANT TO QUESTION, INCLUDE WEB SEARCH---\n",
      "---WEB SEARCH---\n",
      "---GENERATE---\n",
      "---CHECK HALLUCINATIONS---\n",
      "---DECISION: GENERATION IS GROUNDED IN DOCUMENTS---\n",
      "---GRADE GENERATION vs QUESTION---\n"
     ]
    },
    {
     "name": "stderr",
     "output_type": "stream",
     "text": [
      "51it [10:01, 15.76s/it]"
     ]
    },
    {
     "name": "stdout",
     "output_type": "stream",
     "text": [
      "---DECISION: GENERATION ADDRESSES QUESTION---\n",
      "---ROUTE QUESTION---\n",
      "---ROUTE QUESTION TO VECTOR STORE---\n",
      "---GENERATE DOCUMENT---\n",
      "---RETRIEVE---\n",
      "---CHECK DOCUMENT RELEVANCE TO QUESTION---\n",
      "---GRADE DOCUMENT (1/4)---\n",
      "---GRADE: DOCUMENT NOT RELEVANT---\n",
      "---GRADE DOCUMENT (2/4)---\n",
      "---GRADE: DOCUMENT NOT RELEVANT---\n",
      "---GRADE DOCUMENT (3/4)---\n",
      "---GRADE: DOCUMENT NOT RELEVANT---\n",
      "---GRADE DOCUMENT (4/4)---\n",
      "---GRADE: DOCUMENT NOT RELEVANT---\n",
      "final len 0\n",
      "---ASSESS GRADED DOCUMENTS---\n",
      "---DECISION: ALL DOCUMENTS ARE NOT RELEVANT TO QUESTION, INCLUDE WEB SEARCH---\n",
      "---WEB SEARCH---\n",
      "---GENERATE---\n",
      "---CHECK HALLUCINATIONS---\n",
      "---DECISION: GENERATION IS GROUNDED IN DOCUMENTS---\n",
      "---GRADE GENERATION vs QUESTION---\n"
     ]
    },
    {
     "name": "stderr",
     "output_type": "stream",
     "text": [
      "52it [10:11, 14.09s/it]"
     ]
    },
    {
     "name": "stdout",
     "output_type": "stream",
     "text": [
      "---DECISION: GENERATION ADDRESSES QUESTION---\n",
      "---ROUTE QUESTION---\n",
      "---ROUTE QUESTION TO VECTOR STORE---\n",
      "---GENERATE DOCUMENT---\n",
      "---RETRIEVE---\n",
      "---CHECK DOCUMENT RELEVANCE TO QUESTION---\n",
      "---GRADE DOCUMENT (1/4)---\n",
      "---GRADE: DOCUMENT NOT RELEVANT---\n",
      "---GRADE DOCUMENT (2/4)---\n",
      "---GRADE: DOCUMENT NOT RELEVANT---\n",
      "---GRADE DOCUMENT (3/4)---\n",
      "---GRADE: DOCUMENT NOT RELEVANT---\n",
      "---GRADE DOCUMENT (4/4)---\n",
      "---GRADE: DOCUMENT NOT RELEVANT---\n",
      "final len 0\n",
      "---ASSESS GRADED DOCUMENTS---\n",
      "---DECISION: ALL DOCUMENTS ARE NOT RELEVANT TO QUESTION, INCLUDE WEB SEARCH---\n",
      "---WEB SEARCH---\n",
      "---GENERATE---\n",
      "---CHECK HALLUCINATIONS---\n",
      "---DECISION: GENERATION IS GROUNDED IN DOCUMENTS---\n",
      "---GRADE GENERATION vs QUESTION---\n"
     ]
    },
    {
     "name": "stderr",
     "output_type": "stream",
     "text": [
      "53it [10:21, 12.79s/it]"
     ]
    },
    {
     "name": "stdout",
     "output_type": "stream",
     "text": [
      "---DECISION: GENERATION ADDRESSES QUESTION---\n",
      "---ROUTE QUESTION---\n",
      "---ROUTE QUESTION TO VECTOR STORE---\n",
      "---GENERATE DOCUMENT---\n",
      "---RETRIEVE---\n",
      "---CHECK DOCUMENT RELEVANCE TO QUESTION---\n",
      "---GRADE DOCUMENT (1/4)---\n",
      "---GRADE: DOCUMENT NOT RELEVANT---\n",
      "---GRADE DOCUMENT (2/4)---\n",
      "---GRADE: DOCUMENT NOT RELEVANT---\n",
      "---GRADE DOCUMENT (3/4)---\n",
      "---GRADE: DOCUMENT NOT RELEVANT---\n",
      "---GRADE DOCUMENT (4/4)---\n",
      "---GRADE: DOCUMENT NOT RELEVANT---\n",
      "final len 0\n",
      "---ASSESS GRADED DOCUMENTS---\n",
      "---DECISION: ALL DOCUMENTS ARE NOT RELEVANT TO QUESTION, INCLUDE WEB SEARCH---\n",
      "---WEB SEARCH---\n",
      "---GENERATE---\n",
      "---CHECK HALLUCINATIONS---\n",
      "---DECISION: GENERATION IS GROUNDED IN DOCUMENTS---\n",
      "---GRADE GENERATION vs QUESTION---\n"
     ]
    },
    {
     "name": "stderr",
     "output_type": "stream",
     "text": [
      "54it [10:30, 11.72s/it]"
     ]
    },
    {
     "name": "stdout",
     "output_type": "stream",
     "text": [
      "---DECISION: GENERATION ADDRESSES QUESTION---\n",
      "---ROUTE QUESTION---\n",
      "---ROUTE QUESTION TO VECTOR STORE---\n",
      "---GENERATE DOCUMENT---\n",
      "---RETRIEVE---\n",
      "---CHECK DOCUMENT RELEVANCE TO QUESTION---\n",
      "---GRADE DOCUMENT (1/4)---\n",
      "---GRADE: DOCUMENT NOT RELEVANT---\n",
      "---GRADE DOCUMENT (2/4)---\n",
      "---GRADE: DOCUMENT NOT RELEVANT---\n",
      "---GRADE DOCUMENT (3/4)---\n",
      "---GRADE: DOCUMENT NOT RELEVANT---\n",
      "---GRADE DOCUMENT (4/4)---\n",
      "---GRADE: DOCUMENT NOT RELEVANT---\n",
      "final len 0\n",
      "---ASSESS GRADED DOCUMENTS---\n",
      "---DECISION: ALL DOCUMENTS ARE NOT RELEVANT TO QUESTION, INCLUDE WEB SEARCH---\n",
      "---WEB SEARCH---\n",
      "---GENERATE---\n",
      "---CHECK HALLUCINATIONS---\n",
      "---DECISION: GENERATION IS GROUNDED IN DOCUMENTS---\n",
      "---GRADE GENERATION vs QUESTION---\n"
     ]
    },
    {
     "name": "stderr",
     "output_type": "stream",
     "text": [
      "55it [10:47, 13.33s/it]"
     ]
    },
    {
     "name": "stdout",
     "output_type": "stream",
     "text": [
      "---DECISION: GENERATION ADDRESSES QUESTION---\n",
      "---ROUTE QUESTION---\n",
      "---ROUTE QUESTION TO VECTOR STORE---\n",
      "---GENERATE DOCUMENT---\n",
      "---RETRIEVE---\n",
      "---CHECK DOCUMENT RELEVANCE TO QUESTION---\n",
      "---GRADE DOCUMENT (1/4)---\n",
      "---GRADE: DOCUMENT NOT RELEVANT---\n",
      "---GRADE DOCUMENT (2/4)---\n",
      "---GRADE: DOCUMENT NOT RELEVANT---\n",
      "---GRADE DOCUMENT (3/4)---\n",
      "---GRADE: DOCUMENT NOT RELEVANT---\n",
      "---GRADE DOCUMENT (4/4)---\n",
      "---GRADE: DOCUMENT NOT RELEVANT---\n",
      "final len 0\n",
      "---ASSESS GRADED DOCUMENTS---\n",
      "---DECISION: ALL DOCUMENTS ARE NOT RELEVANT TO QUESTION, INCLUDE WEB SEARCH---\n",
      "---WEB SEARCH---\n",
      "---GENERATE---\n",
      "---CHECK HALLUCINATIONS---\n",
      "---DECISION: GENERATION IS GROUNDED IN DOCUMENTS---\n",
      "---GRADE GENERATION vs QUESTION---\n"
     ]
    },
    {
     "name": "stderr",
     "output_type": "stream",
     "text": [
      "56it [10:59, 12.88s/it]"
     ]
    },
    {
     "name": "stdout",
     "output_type": "stream",
     "text": [
      "---DECISION: GENERATION ADDRESSES QUESTION---\n",
      "---ROUTE QUESTION---\n",
      "---ROUTE QUESTION TO VECTOR STORE---\n",
      "---GENERATE DOCUMENT---\n",
      "---RETRIEVE---\n",
      "---CHECK DOCUMENT RELEVANCE TO QUESTION---\n",
      "---GRADE DOCUMENT (1/4)---\n",
      "---GRADE: DOCUMENT NOT RELEVANT---\n",
      "---GRADE DOCUMENT (2/4)---\n",
      "---GRADE: DOCUMENT NOT RELEVANT---\n",
      "---GRADE DOCUMENT (3/4)---\n",
      "---GRADE: DOCUMENT NOT RELEVANT---\n",
      "---GRADE DOCUMENT (4/4)---\n",
      "---GRADE: DOCUMENT NOT RELEVANT---\n",
      "final len 0\n",
      "---ASSESS GRADED DOCUMENTS---\n",
      "---DECISION: ALL DOCUMENTS ARE NOT RELEVANT TO QUESTION, INCLUDE WEB SEARCH---\n",
      "---WEB SEARCH---\n",
      "---GENERATE---\n",
      "---CHECK HALLUCINATIONS---\n",
      "---DECISION: GENERATION IS GROUNDED IN DOCUMENTS---\n",
      "---GRADE GENERATION vs QUESTION---\n"
     ]
    },
    {
     "name": "stderr",
     "output_type": "stream",
     "text": [
      "57it [11:12, 12.98s/it]"
     ]
    },
    {
     "name": "stdout",
     "output_type": "stream",
     "text": [
      "---DECISION: GENERATION ADDRESSES QUESTION---\n",
      "---ROUTE QUESTION---\n",
      "---ROUTE QUESTION TO VECTOR STORE---\n",
      "---GENERATE DOCUMENT---\n",
      "---RETRIEVE---\n",
      "---CHECK DOCUMENT RELEVANCE TO QUESTION---\n",
      "---GRADE DOCUMENT (1/4)---\n",
      "---GRADE: DOCUMENT NOT RELEVANT---\n",
      "---GRADE DOCUMENT (2/4)---\n",
      "---GRADE: DOCUMENT NOT RELEVANT---\n",
      "---GRADE DOCUMENT (3/4)---\n",
      "---GRADE: DOCUMENT NOT RELEVANT---\n",
      "---GRADE DOCUMENT (4/4)---\n",
      "---GRADE: DOCUMENT NOT RELEVANT---\n",
      "final len 0\n",
      "---ASSESS GRADED DOCUMENTS---\n",
      "---DECISION: ALL DOCUMENTS ARE NOT RELEVANT TO QUESTION, INCLUDE WEB SEARCH---\n",
      "---WEB SEARCH---\n",
      "---GENERATE---\n",
      "---CHECK HALLUCINATIONS---\n",
      "---DECISION: GENERATION IS GROUNDED IN DOCUMENTS---\n",
      "---GRADE GENERATION vs QUESTION---\n",
      "---DECISION: GENERATION DOES NOT ADDRESS QUESTION---\n",
      "---WEB SEARCH---\n",
      "---GENERATE---\n"
     ]
    },
    {
     "name": "stderr",
     "output_type": "stream",
     "text": [
      "58it [11:26, 13.21s/it]"
     ]
    },
    {
     "name": "stdout",
     "output_type": "stream",
     "text": [
      "---CHECK HALLUCINATIONS---\n",
      "---ROUTE QUESTION---\n",
      "---ROUTE QUESTION TO VECTOR STORE---\n",
      "---GENERATE DOCUMENT---\n",
      "---RETRIEVE---\n",
      "---CHECK DOCUMENT RELEVANCE TO QUESTION---\n",
      "---GRADE DOCUMENT (1/4)---\n",
      "---GRADE: DOCUMENT NOT RELEVANT---\n",
      "---GRADE DOCUMENT (2/4)---\n",
      "---GRADE: DOCUMENT NOT RELEVANT---\n",
      "---GRADE DOCUMENT (3/4)---\n",
      "---GRADE: DOCUMENT NOT RELEVANT---\n",
      "---GRADE DOCUMENT (4/4)---\n",
      "---GRADE: DOCUMENT NOT RELEVANT---\n",
      "final len 0\n",
      "---ASSESS GRADED DOCUMENTS---\n",
      "---DECISION: ALL DOCUMENTS ARE NOT RELEVANT TO QUESTION, INCLUDE WEB SEARCH---\n",
      "---WEB SEARCH---\n",
      "---GENERATE---\n",
      "---CHECK HALLUCINATIONS---\n",
      "---DECISION: GENERATION IS GROUNDED IN DOCUMENTS---\n",
      "---GRADE GENERATION vs QUESTION---\n"
     ]
    },
    {
     "name": "stderr",
     "output_type": "stream",
     "text": [
      "59it [11:37, 12.49s/it]"
     ]
    },
    {
     "name": "stdout",
     "output_type": "stream",
     "text": [
      "---DECISION: GENERATION ADDRESSES QUESTION---\n",
      "---ROUTE QUESTION---\n",
      "---ROUTE QUESTION TO VECTOR STORE---\n",
      "---GENERATE DOCUMENT---\n",
      "---RETRIEVE---\n",
      "---CHECK DOCUMENT RELEVANCE TO QUESTION---\n",
      "---GRADE DOCUMENT (1/4)---\n",
      "---GRADE: DOCUMENT NOT RELEVANT---\n",
      "---GRADE DOCUMENT (2/4)---\n",
      "---GRADE: DOCUMENT NOT RELEVANT---\n",
      "---GRADE DOCUMENT (3/4)---\n",
      "---GRADE: DOCUMENT NOT RELEVANT---\n",
      "---GRADE DOCUMENT (4/4)---\n",
      "---GRADE: DOCUMENT NOT RELEVANT---\n",
      "final len 0\n",
      "---ASSESS GRADED DOCUMENTS---\n",
      "---DECISION: ALL DOCUMENTS ARE NOT RELEVANT TO QUESTION, INCLUDE WEB SEARCH---\n",
      "---WEB SEARCH---\n",
      "---GENERATE---\n",
      "---CHECK HALLUCINATIONS---\n",
      "---DECISION: GENERATION IS GROUNDED IN DOCUMENTS---\n",
      "---GRADE GENERATION vs QUESTION---\n"
     ]
    },
    {
     "name": "stderr",
     "output_type": "stream",
     "text": [
      "60it [11:51, 13.10s/it]"
     ]
    },
    {
     "name": "stdout",
     "output_type": "stream",
     "text": [
      "---DECISION: GENERATION ADDRESSES QUESTION---\n",
      "---ROUTE QUESTION---\n",
      "---ROUTE QUESTION TO VECTOR STORE---\n",
      "---GENERATE DOCUMENT---\n",
      "---RETRIEVE---\n",
      "---CHECK DOCUMENT RELEVANCE TO QUESTION---\n",
      "---GRADE DOCUMENT (1/4)---\n",
      "---GRADE: DOCUMENT RELEVANT---\n",
      "---GRADE DOCUMENT (2/4)---\n",
      "---GRADE: DOCUMENT NOT RELEVANT---\n",
      "---GRADE DOCUMENT (3/4)---\n",
      "---GRADE: DOCUMENT NOT RELEVANT---\n",
      "---GRADE DOCUMENT (4/4)---\n",
      "---GRADE: DOCUMENT NOT RELEVANT---\n",
      "final len 1\n",
      "---ASSESS GRADED DOCUMENTS---\n",
      "---DECISION: ALL DOCUMENTS ARE NOT RELEVANT TO QUESTION, INCLUDE WEB SEARCH---\n",
      "---WEB SEARCH---\n",
      "---GENERATE---\n",
      "---CHECK HALLUCINATIONS---\n",
      "---DECISION: GENERATION IS GROUNDED IN DOCUMENTS---\n",
      "---GRADE GENERATION vs QUESTION---\n"
     ]
    },
    {
     "name": "stderr",
     "output_type": "stream",
     "text": [
      "61it [12:02, 12.34s/it]"
     ]
    },
    {
     "name": "stdout",
     "output_type": "stream",
     "text": [
      "---DECISION: GENERATION ADDRESSES QUESTION---\n",
      "---ROUTE QUESTION---\n",
      "---ROUTE QUESTION TO VECTOR STORE---\n",
      "---GENERATE DOCUMENT---\n",
      "---RETRIEVE---\n",
      "---CHECK DOCUMENT RELEVANCE TO QUESTION---\n",
      "---GRADE DOCUMENT (1/4)---\n",
      "---GRADE: DOCUMENT NOT RELEVANT---\n",
      "---GRADE DOCUMENT (2/4)---\n",
      "---GRADE: DOCUMENT NOT RELEVANT---\n",
      "---GRADE DOCUMENT (3/4)---\n",
      "---GRADE: DOCUMENT NOT RELEVANT---\n",
      "---GRADE DOCUMENT (4/4)---\n",
      "---GRADE: DOCUMENT NOT RELEVANT---\n",
      "final len 0\n",
      "---ASSESS GRADED DOCUMENTS---\n",
      "---DECISION: ALL DOCUMENTS ARE NOT RELEVANT TO QUESTION, INCLUDE WEB SEARCH---\n",
      "---WEB SEARCH---\n",
      "---GENERATE---\n",
      "---CHECK HALLUCINATIONS---\n",
      "---DECISION: GENERATION IS GROUNDED IN DOCUMENTS---\n",
      "---GRADE GENERATION vs QUESTION---\n",
      "---DECISION: GENERATION DOES NOT ADDRESS QUESTION---\n",
      "---WEB SEARCH---\n",
      "---GENERATE---\n"
     ]
    },
    {
     "name": "stderr",
     "output_type": "stream",
     "text": [
      "62it [12:18, 13.51s/it]"
     ]
    },
    {
     "name": "stdout",
     "output_type": "stream",
     "text": [
      "---CHECK HALLUCINATIONS---\n",
      "---ROUTE QUESTION---\n",
      "---ROUTE QUESTION TO VECTOR STORE---\n",
      "---GENERATE DOCUMENT---\n",
      "---RETRIEVE---\n",
      "---CHECK DOCUMENT RELEVANCE TO QUESTION---\n",
      "---GRADE DOCUMENT (1/4)---\n",
      "---GRADE: DOCUMENT NOT RELEVANT---\n",
      "---GRADE DOCUMENT (2/4)---\n",
      "---GRADE: DOCUMENT NOT RELEVANT---\n",
      "---GRADE DOCUMENT (3/4)---\n",
      "---GRADE: DOCUMENT NOT RELEVANT---\n",
      "---GRADE DOCUMENT (4/4)---\n",
      "---GRADE: DOCUMENT NOT RELEVANT---\n",
      "final len 0\n",
      "---ASSESS GRADED DOCUMENTS---\n",
      "---DECISION: ALL DOCUMENTS ARE NOT RELEVANT TO QUESTION, INCLUDE WEB SEARCH---\n",
      "---WEB SEARCH---\n",
      "---GENERATE---\n",
      "---CHECK HALLUCINATIONS---\n",
      "---DECISION: GENERATION IS GROUNDED IN DOCUMENTS---\n",
      "---GRADE GENERATION vs QUESTION---\n"
     ]
    },
    {
     "name": "stderr",
     "output_type": "stream",
     "text": [
      "63it [12:30, 13.02s/it]"
     ]
    },
    {
     "name": "stdout",
     "output_type": "stream",
     "text": [
      "---DECISION: GENERATION ADDRESSES QUESTION---\n",
      "---ROUTE QUESTION---\n",
      "---ROUTE QUESTION TO VECTOR STORE---\n",
      "---GENERATE DOCUMENT---\n",
      "---RETRIEVE---\n",
      "---CHECK DOCUMENT RELEVANCE TO QUESTION---\n",
      "---GRADE DOCUMENT (1/4)---\n",
      "---GRADE: DOCUMENT NOT RELEVANT---\n",
      "---GRADE DOCUMENT (2/4)---\n",
      "---GRADE: DOCUMENT NOT RELEVANT---\n",
      "---GRADE DOCUMENT (3/4)---\n",
      "---GRADE: DOCUMENT NOT RELEVANT---\n",
      "---GRADE DOCUMENT (4/4)---\n",
      "---GRADE: DOCUMENT NOT RELEVANT---\n",
      "final len 0\n",
      "---ASSESS GRADED DOCUMENTS---\n",
      "---DECISION: ALL DOCUMENTS ARE NOT RELEVANT TO QUESTION, INCLUDE WEB SEARCH---\n",
      "---WEB SEARCH---\n",
      "---GENERATE---\n",
      "---CHECK HALLUCINATIONS---\n",
      "---DECISION: GENERATION IS GROUNDED IN DOCUMENTS---\n",
      "---GRADE GENERATION vs QUESTION---\n",
      "---DECISION: GENERATION DOES NOT ADDRESS QUESTION---\n",
      "---WEB SEARCH---\n",
      "---GENERATE---\n"
     ]
    },
    {
     "name": "stderr",
     "output_type": "stream",
     "text": [
      "64it [12:45, 13.65s/it]"
     ]
    },
    {
     "name": "stdout",
     "output_type": "stream",
     "text": [
      "---CHECK HALLUCINATIONS---\n",
      "---ROUTE QUESTION---\n",
      "---ROUTE QUESTION TO VECTOR STORE---\n",
      "---GENERATE DOCUMENT---\n",
      "---RETRIEVE---\n",
      "---CHECK DOCUMENT RELEVANCE TO QUESTION---\n",
      "---GRADE DOCUMENT (1/4)---\n",
      "---GRADE: DOCUMENT NOT RELEVANT---\n",
      "---GRADE DOCUMENT (2/4)---\n",
      "---GRADE: DOCUMENT NOT RELEVANT---\n",
      "---GRADE DOCUMENT (3/4)---\n",
      "---GRADE: DOCUMENT NOT RELEVANT---\n",
      "---GRADE DOCUMENT (4/4)---\n",
      "---GRADE: DOCUMENT NOT RELEVANT---\n",
      "final len 0\n",
      "---ASSESS GRADED DOCUMENTS---\n",
      "---DECISION: ALL DOCUMENTS ARE NOT RELEVANT TO QUESTION, INCLUDE WEB SEARCH---\n",
      "---WEB SEARCH---\n",
      "---GENERATE---\n",
      "---CHECK HALLUCINATIONS---\n",
      "---DECISION: GENERATION IS GROUNDED IN DOCUMENTS---\n",
      "---GRADE GENERATION vs QUESTION---\n"
     ]
    },
    {
     "name": "stderr",
     "output_type": "stream",
     "text": [
      "65it [12:56, 12.91s/it]"
     ]
    },
    {
     "name": "stdout",
     "output_type": "stream",
     "text": [
      "---DECISION: GENERATION ADDRESSES QUESTION---\n",
      "---ROUTE QUESTION---\n",
      "---ROUTE QUESTION TO VECTOR STORE---\n",
      "---GENERATE DOCUMENT---\n",
      "---RETRIEVE---\n",
      "---CHECK DOCUMENT RELEVANCE TO QUESTION---\n",
      "---GRADE DOCUMENT (1/4)---\n",
      "---GRADE: DOCUMENT NOT RELEVANT---\n",
      "---GRADE DOCUMENT (2/4)---\n",
      "---GRADE: DOCUMENT NOT RELEVANT---\n",
      "---GRADE DOCUMENT (3/4)---\n",
      "---GRADE: DOCUMENT NOT RELEVANT---\n",
      "---GRADE DOCUMENT (4/4)---\n",
      "---GRADE: DOCUMENT NOT RELEVANT---\n",
      "final len 0\n",
      "---ASSESS GRADED DOCUMENTS---\n",
      "---DECISION: ALL DOCUMENTS ARE NOT RELEVANT TO QUESTION, INCLUDE WEB SEARCH---\n",
      "---WEB SEARCH---\n",
      "---GENERATE---\n",
      "---CHECK HALLUCINATIONS---\n",
      "---DECISION: GENERATION IS GROUNDED IN DOCUMENTS---\n",
      "---GRADE GENERATION vs QUESTION---\n"
     ]
    },
    {
     "name": "stderr",
     "output_type": "stream",
     "text": [
      "66it [13:09, 12.79s/it]"
     ]
    },
    {
     "name": "stdout",
     "output_type": "stream",
     "text": [
      "---DECISION: GENERATION ADDRESSES QUESTION---\n",
      "---ROUTE QUESTION---\n",
      "---ROUTE QUESTION TO VECTOR STORE---\n",
      "---GENERATE DOCUMENT---\n",
      "---RETRIEVE---\n",
      "---CHECK DOCUMENT RELEVANCE TO QUESTION---\n",
      "---GRADE DOCUMENT (1/4)---\n",
      "---GRADE: DOCUMENT NOT RELEVANT---\n",
      "---GRADE DOCUMENT (2/4)---\n",
      "---GRADE: DOCUMENT NOT RELEVANT---\n",
      "---GRADE DOCUMENT (3/4)---\n",
      "---GRADE: DOCUMENT NOT RELEVANT---\n",
      "---GRADE DOCUMENT (4/4)---\n",
      "---GRADE: DOCUMENT NOT RELEVANT---\n",
      "final len 0\n",
      "---ASSESS GRADED DOCUMENTS---\n",
      "---DECISION: ALL DOCUMENTS ARE NOT RELEVANT TO QUESTION, INCLUDE WEB SEARCH---\n",
      "---WEB SEARCH---\n",
      "---GENERATE---\n",
      "---CHECK HALLUCINATIONS---\n",
      "---DECISION: GENERATION IS GROUNDED IN DOCUMENTS---\n",
      "---GRADE GENERATION vs QUESTION---\n"
     ]
    },
    {
     "name": "stderr",
     "output_type": "stream",
     "text": [
      "67it [13:23, 13.29s/it]"
     ]
    },
    {
     "name": "stdout",
     "output_type": "stream",
     "text": [
      "---DECISION: GENERATION ADDRESSES QUESTION---\n",
      "---ROUTE QUESTION---\n",
      "---ROUTE QUESTION TO VECTOR STORE---\n",
      "---GENERATE DOCUMENT---\n",
      "---RETRIEVE---\n",
      "---CHECK DOCUMENT RELEVANCE TO QUESTION---\n",
      "---GRADE DOCUMENT (1/4)---\n",
      "---GRADE: DOCUMENT NOT RELEVANT---\n",
      "---GRADE DOCUMENT (2/4)---\n",
      "---GRADE: DOCUMENT NOT RELEVANT---\n",
      "---GRADE DOCUMENT (3/4)---\n",
      "---GRADE: DOCUMENT NOT RELEVANT---\n",
      "---GRADE DOCUMENT (4/4)---\n",
      "---GRADE: DOCUMENT NOT RELEVANT---\n",
      "final len 0\n",
      "---ASSESS GRADED DOCUMENTS---\n",
      "---DECISION: ALL DOCUMENTS ARE NOT RELEVANT TO QUESTION, INCLUDE WEB SEARCH---\n",
      "---WEB SEARCH---\n",
      "---GENERATE---\n",
      "---CHECK HALLUCINATIONS---\n",
      "---DECISION: GENERATION IS GROUNDED IN DOCUMENTS---\n",
      "---GRADE GENERATION vs QUESTION---\n"
     ]
    },
    {
     "name": "stderr",
     "output_type": "stream",
     "text": [
      "68it [13:35, 12.71s/it]"
     ]
    },
    {
     "name": "stdout",
     "output_type": "stream",
     "text": [
      "---DECISION: GENERATION ADDRESSES QUESTION---\n",
      "---ROUTE QUESTION---\n",
      "---ROUTE QUESTION TO VECTOR STORE---\n",
      "---GENERATE DOCUMENT---\n",
      "---RETRIEVE---\n",
      "---CHECK DOCUMENT RELEVANCE TO QUESTION---\n",
      "---GRADE DOCUMENT (1/4)---\n",
      "---GRADE: DOCUMENT NOT RELEVANT---\n",
      "---GRADE DOCUMENT (2/4)---\n",
      "---GRADE: DOCUMENT NOT RELEVANT---\n",
      "---GRADE DOCUMENT (3/4)---\n",
      "---GRADE: DOCUMENT NOT RELEVANT---\n",
      "---GRADE DOCUMENT (4/4)---\n",
      "---GRADE: DOCUMENT NOT RELEVANT---\n",
      "final len 0\n",
      "---ASSESS GRADED DOCUMENTS---\n",
      "---DECISION: ALL DOCUMENTS ARE NOT RELEVANT TO QUESTION, INCLUDE WEB SEARCH---\n",
      "---WEB SEARCH---\n",
      "---GENERATE---\n",
      "---CHECK HALLUCINATIONS---\n",
      "---DECISION: GENERATION IS GROUNDED IN DOCUMENTS---\n",
      "---GRADE GENERATION vs QUESTION---\n"
     ]
    },
    {
     "name": "stderr",
     "output_type": "stream",
     "text": [
      "69it [13:47, 12.75s/it]"
     ]
    },
    {
     "name": "stdout",
     "output_type": "stream",
     "text": [
      "---DECISION: GENERATION ADDRESSES QUESTION---\n",
      "---ROUTE QUESTION---\n",
      "---ROUTE QUESTION TO VECTOR STORE---\n",
      "---GENERATE DOCUMENT---\n",
      "---RETRIEVE---\n",
      "---CHECK DOCUMENT RELEVANCE TO QUESTION---\n",
      "---GRADE DOCUMENT (1/4)---\n",
      "---GRADE: DOCUMENT NOT RELEVANT---\n",
      "---GRADE DOCUMENT (2/4)---\n",
      "---GRADE: DOCUMENT NOT RELEVANT---\n",
      "---GRADE DOCUMENT (3/4)---\n",
      "---GRADE: DOCUMENT NOT RELEVANT---\n",
      "---GRADE DOCUMENT (4/4)---\n",
      "---GRADE: DOCUMENT NOT RELEVANT---\n",
      "final len 0\n",
      "---ASSESS GRADED DOCUMENTS---\n",
      "---DECISION: ALL DOCUMENTS ARE NOT RELEVANT TO QUESTION, INCLUDE WEB SEARCH---\n",
      "---WEB SEARCH---\n",
      "---GENERATE---\n",
      "---CHECK HALLUCINATIONS---\n",
      "---DECISION: GENERATION IS GROUNDED IN DOCUMENTS---\n",
      "---GRADE GENERATION vs QUESTION---\n"
     ]
    },
    {
     "name": "stderr",
     "output_type": "stream",
     "text": [
      "70it [13:57, 11.73s/it]"
     ]
    },
    {
     "name": "stdout",
     "output_type": "stream",
     "text": [
      "---DECISION: GENERATION ADDRESSES QUESTION---\n",
      "---ROUTE QUESTION---\n",
      "---ROUTE QUESTION TO VECTOR STORE---\n",
      "---GENERATE DOCUMENT---\n",
      "---RETRIEVE---\n",
      "---CHECK DOCUMENT RELEVANCE TO QUESTION---\n",
      "---GRADE DOCUMENT (1/4)---\n",
      "---GRADE: DOCUMENT NOT RELEVANT---\n",
      "---GRADE DOCUMENT (2/4)---\n",
      "---GRADE: DOCUMENT NOT RELEVANT---\n",
      "---GRADE DOCUMENT (3/4)---\n",
      "---GRADE: DOCUMENT NOT RELEVANT---\n",
      "---GRADE DOCUMENT (4/4)---\n",
      "---GRADE: DOCUMENT NOT RELEVANT---\n",
      "final len 0\n",
      "---ASSESS GRADED DOCUMENTS---\n",
      "---DECISION: ALL DOCUMENTS ARE NOT RELEVANT TO QUESTION, INCLUDE WEB SEARCH---\n",
      "---WEB SEARCH---\n",
      "---GENERATE---\n",
      "---CHECK HALLUCINATIONS---\n",
      "---DECISION: GENERATION IS GROUNDED IN DOCUMENTS---\n",
      "---GRADE GENERATION vs QUESTION---\n"
     ]
    },
    {
     "name": "stderr",
     "output_type": "stream",
     "text": [
      "71it [14:10, 12.25s/it]"
     ]
    },
    {
     "name": "stdout",
     "output_type": "stream",
     "text": [
      "---DECISION: GENERATION ADDRESSES QUESTION---\n",
      "---ROUTE QUESTION---\n",
      "---ROUTE QUESTION TO VECTOR STORE---\n",
      "---GENERATE DOCUMENT---\n",
      "---RETRIEVE---\n",
      "---CHECK DOCUMENT RELEVANCE TO QUESTION---\n",
      "---GRADE DOCUMENT (1/4)---\n",
      "---GRADE: DOCUMENT NOT RELEVANT---\n",
      "---GRADE DOCUMENT (2/4)---\n",
      "---GRADE: DOCUMENT NOT RELEVANT---\n",
      "---GRADE DOCUMENT (3/4)---\n",
      "---GRADE: DOCUMENT NOT RELEVANT---\n",
      "---GRADE DOCUMENT (4/4)---\n",
      "---GRADE: DOCUMENT NOT RELEVANT---\n",
      "final len 0\n",
      "---ASSESS GRADED DOCUMENTS---\n",
      "---DECISION: ALL DOCUMENTS ARE NOT RELEVANT TO QUESTION, INCLUDE WEB SEARCH---\n",
      "---WEB SEARCH---\n",
      "---GENERATE---\n",
      "---CHECK HALLUCINATIONS---\n",
      "---DECISION: GENERATION IS GROUNDED IN DOCUMENTS---\n",
      "---GRADE GENERATION vs QUESTION---\n"
     ]
    },
    {
     "name": "stderr",
     "output_type": "stream",
     "text": [
      "72it [14:22, 11.96s/it]"
     ]
    },
    {
     "name": "stdout",
     "output_type": "stream",
     "text": [
      "---DECISION: GENERATION ADDRESSES QUESTION---\n",
      "---ROUTE QUESTION---\n",
      "---ROUTE QUESTION TO VECTOR STORE---\n",
      "---GENERATE DOCUMENT---\n",
      "---RETRIEVE---\n",
      "---CHECK DOCUMENT RELEVANCE TO QUESTION---\n",
      "---GRADE DOCUMENT (1/4)---\n",
      "---GRADE: DOCUMENT NOT RELEVANT---\n",
      "---GRADE DOCUMENT (2/4)---\n",
      "---GRADE: DOCUMENT NOT RELEVANT---\n",
      "---GRADE DOCUMENT (3/4)---\n",
      "---GRADE: DOCUMENT NOT RELEVANT---\n",
      "---GRADE DOCUMENT (4/4)---\n",
      "---GRADE: DOCUMENT NOT RELEVANT---\n",
      "final len 0\n",
      "---ASSESS GRADED DOCUMENTS---\n",
      "---DECISION: ALL DOCUMENTS ARE NOT RELEVANT TO QUESTION, INCLUDE WEB SEARCH---\n",
      "---WEB SEARCH---\n",
      "---GENERATE---\n",
      "---CHECK HALLUCINATIONS---\n",
      "---DECISION: GENERATION IS GROUNDED IN DOCUMENTS---\n",
      "---GRADE GENERATION vs QUESTION---\n"
     ]
    },
    {
     "name": "stderr",
     "output_type": "stream",
     "text": [
      "73it [14:32, 11.40s/it]"
     ]
    },
    {
     "name": "stdout",
     "output_type": "stream",
     "text": [
      "---DECISION: GENERATION ADDRESSES QUESTION---\n",
      "---ROUTE QUESTION---\n",
      "---ROUTE QUESTION TO VECTOR STORE---\n",
      "---GENERATE DOCUMENT---\n",
      "---RETRIEVE---\n",
      "---CHECK DOCUMENT RELEVANCE TO QUESTION---\n",
      "---GRADE DOCUMENT (1/4)---\n",
      "---GRADE: DOCUMENT NOT RELEVANT---\n",
      "---GRADE DOCUMENT (2/4)---\n",
      "---GRADE: DOCUMENT NOT RELEVANT---\n",
      "---GRADE DOCUMENT (3/4)---\n",
      "---GRADE: DOCUMENT NOT RELEVANT---\n",
      "---GRADE DOCUMENT (4/4)---\n",
      "---GRADE: DOCUMENT NOT RELEVANT---\n",
      "final len 0\n",
      "---ASSESS GRADED DOCUMENTS---\n",
      "---DECISION: ALL DOCUMENTS ARE NOT RELEVANT TO QUESTION, INCLUDE WEB SEARCH---\n",
      "---WEB SEARCH---\n",
      "---GENERATE---\n",
      "---CHECK HALLUCINATIONS---\n",
      "---DECISION: GENERATION IS GROUNDED IN DOCUMENTS---\n",
      "---GRADE GENERATION vs QUESTION---\n"
     ]
    },
    {
     "name": "stderr",
     "output_type": "stream",
     "text": [
      "74it [14:48, 12.88s/it]"
     ]
    },
    {
     "name": "stdout",
     "output_type": "stream",
     "text": [
      "---DECISION: GENERATION ADDRESSES QUESTION---\n",
      "---ROUTE QUESTION---\n",
      "---ROUTE QUESTION TO VECTOR STORE---\n",
      "---GENERATE DOCUMENT---\n",
      "---RETRIEVE---\n",
      "---CHECK DOCUMENT RELEVANCE TO QUESTION---\n",
      "---GRADE DOCUMENT (1/4)---\n",
      "---GRADE: DOCUMENT NOT RELEVANT---\n",
      "---GRADE DOCUMENT (2/4)---\n",
      "---GRADE: DOCUMENT NOT RELEVANT---\n",
      "---GRADE DOCUMENT (3/4)---\n",
      "---GRADE: DOCUMENT NOT RELEVANT---\n",
      "---GRADE DOCUMENT (4/4)---\n",
      "---GRADE: DOCUMENT NOT RELEVANT---\n",
      "final len 0\n",
      "---ASSESS GRADED DOCUMENTS---\n",
      "---DECISION: ALL DOCUMENTS ARE NOT RELEVANT TO QUESTION, INCLUDE WEB SEARCH---\n",
      "---WEB SEARCH---\n",
      "---GENERATE---\n",
      "---CHECK HALLUCINATIONS---\n",
      "---DECISION: GENERATION IS GROUNDED IN DOCUMENTS---\n",
      "---GRADE GENERATION vs QUESTION---\n"
     ]
    },
    {
     "name": "stderr",
     "output_type": "stream",
     "text": [
      "75it [14:58, 12.10s/it]"
     ]
    },
    {
     "name": "stdout",
     "output_type": "stream",
     "text": [
      "---DECISION: GENERATION ADDRESSES QUESTION---\n",
      "---ROUTE QUESTION---\n",
      "---ROUTE QUESTION TO VECTOR STORE---\n",
      "---GENERATE DOCUMENT---\n",
      "---RETRIEVE---\n",
      "---CHECK DOCUMENT RELEVANCE TO QUESTION---\n",
      "---GRADE DOCUMENT (1/4)---\n",
      "---GRADE: DOCUMENT NOT RELEVANT---\n",
      "---GRADE DOCUMENT (2/4)---\n",
      "---GRADE: DOCUMENT NOT RELEVANT---\n",
      "---GRADE DOCUMENT (3/4)---\n",
      "---GRADE: DOCUMENT RELEVANT---\n",
      "---GRADE DOCUMENT (4/4)---\n",
      "---GRADE: DOCUMENT RELEVANT---\n",
      "final len 2\n",
      "---ASSESS GRADED DOCUMENTS---\n",
      "---DECISION: ALL DOCUMENTS ARE NOT RELEVANT TO QUESTION, INCLUDE WEB SEARCH---\n",
      "---WEB SEARCH---\n",
      "---GENERATE---\n",
      "---CHECK HALLUCINATIONS---\n",
      "---DECISION: GENERATION IS GROUNDED IN DOCUMENTS---\n",
      "---GRADE GENERATION vs QUESTION---\n"
     ]
    },
    {
     "name": "stderr",
     "output_type": "stream",
     "text": [
      "76it [15:12, 12.52s/it]"
     ]
    },
    {
     "name": "stdout",
     "output_type": "stream",
     "text": [
      "---DECISION: GENERATION ADDRESSES QUESTION---\n",
      "---ROUTE QUESTION---\n",
      "---ROUTE QUESTION TO VECTOR STORE---\n",
      "---GENERATE DOCUMENT---\n",
      "---RETRIEVE---\n",
      "---CHECK DOCUMENT RELEVANCE TO QUESTION---\n",
      "---GRADE DOCUMENT (1/4)---\n",
      "---GRADE: DOCUMENT NOT RELEVANT---\n",
      "---GRADE DOCUMENT (2/4)---\n",
      "---GRADE: DOCUMENT NOT RELEVANT---\n",
      "---GRADE DOCUMENT (3/4)---\n",
      "---GRADE: DOCUMENT NOT RELEVANT---\n",
      "---GRADE DOCUMENT (4/4)---\n",
      "---GRADE: DOCUMENT NOT RELEVANT---\n",
      "final len 0\n",
      "---ASSESS GRADED DOCUMENTS---\n",
      "---DECISION: ALL DOCUMENTS ARE NOT RELEVANT TO QUESTION, INCLUDE WEB SEARCH---\n",
      "---WEB SEARCH---\n",
      "---GENERATE---\n",
      "---CHECK HALLUCINATIONS---\n",
      "---DECISION: GENERATION IS GROUNDED IN DOCUMENTS---\n",
      "---GRADE GENERATION vs QUESTION---\n",
      "---DECISION: GENERATION DOES NOT ADDRESS QUESTION---\n",
      "---WEB SEARCH---\n",
      "---GENERATE---\n"
     ]
    },
    {
     "name": "stderr",
     "output_type": "stream",
     "text": [
      "77it [15:40, 17.30s/it]"
     ]
    },
    {
     "name": "stdout",
     "output_type": "stream",
     "text": [
      "---CHECK HALLUCINATIONS---\n",
      "---ROUTE QUESTION---\n",
      "---ROUTE QUESTION TO VECTOR STORE---\n",
      "---GENERATE DOCUMENT---\n",
      "---RETRIEVE---\n",
      "---CHECK DOCUMENT RELEVANCE TO QUESTION---\n",
      "---GRADE DOCUMENT (1/4)---\n",
      "---GRADE: DOCUMENT NOT RELEVANT---\n",
      "---GRADE DOCUMENT (2/4)---\n",
      "---GRADE: DOCUMENT NOT RELEVANT---\n",
      "---GRADE DOCUMENT (3/4)---\n",
      "---GRADE: DOCUMENT NOT RELEVANT---\n",
      "---GRADE DOCUMENT (4/4)---\n",
      "---GRADE: DOCUMENT NOT RELEVANT---\n",
      "final len 0\n",
      "---ASSESS GRADED DOCUMENTS---\n",
      "---DECISION: ALL DOCUMENTS ARE NOT RELEVANT TO QUESTION, INCLUDE WEB SEARCH---\n",
      "---WEB SEARCH---\n",
      "---GENERATE---\n",
      "---CHECK HALLUCINATIONS---\n",
      "---DECISION: GENERATION IS GROUNDED IN DOCUMENTS---\n",
      "---GRADE GENERATION vs QUESTION---\n"
     ]
    },
    {
     "name": "stderr",
     "output_type": "stream",
     "text": [
      "78it [15:50, 14.99s/it]"
     ]
    },
    {
     "name": "stdout",
     "output_type": "stream",
     "text": [
      "---DECISION: GENERATION ADDRESSES QUESTION---\n",
      "---ROUTE QUESTION---\n",
      "---ROUTE QUESTION TO VECTOR STORE---\n",
      "---GENERATE DOCUMENT---\n",
      "---RETRIEVE---\n",
      "---CHECK DOCUMENT RELEVANCE TO QUESTION---\n",
      "---GRADE DOCUMENT (1/4)---\n",
      "---GRADE: DOCUMENT NOT RELEVANT---\n",
      "---GRADE DOCUMENT (2/4)---\n",
      "---GRADE: DOCUMENT NOT RELEVANT---\n",
      "---GRADE DOCUMENT (3/4)---\n",
      "---GRADE: DOCUMENT NOT RELEVANT---\n",
      "---GRADE DOCUMENT (4/4)---\n",
      "---GRADE: DOCUMENT NOT RELEVANT---\n",
      "final len 0\n",
      "---ASSESS GRADED DOCUMENTS---\n",
      "---DECISION: ALL DOCUMENTS ARE NOT RELEVANT TO QUESTION, INCLUDE WEB SEARCH---\n",
      "---WEB SEARCH---\n",
      "---GENERATE---\n",
      "---CHECK HALLUCINATIONS---\n",
      "---DECISION: GENERATION IS GROUNDED IN DOCUMENTS---\n",
      "---GRADE GENERATION vs QUESTION---\n"
     ]
    },
    {
     "name": "stderr",
     "output_type": "stream",
     "text": [
      "79it [16:00, 13.53s/it]"
     ]
    },
    {
     "name": "stdout",
     "output_type": "stream",
     "text": [
      "---DECISION: GENERATION ADDRESSES QUESTION---\n",
      "---ROUTE QUESTION---\n",
      "---ROUTE QUESTION TO VECTOR STORE---\n",
      "---GENERATE DOCUMENT---\n",
      "---RETRIEVE---\n",
      "---CHECK DOCUMENT RELEVANCE TO QUESTION---\n",
      "---GRADE DOCUMENT (1/4)---\n",
      "---GRADE: DOCUMENT NOT RELEVANT---\n",
      "---GRADE DOCUMENT (2/4)---\n",
      "---GRADE: DOCUMENT NOT RELEVANT---\n",
      "---GRADE DOCUMENT (3/4)---\n",
      "---GRADE: DOCUMENT NOT RELEVANT---\n",
      "---GRADE DOCUMENT (4/4)---\n",
      "---GRADE: DOCUMENT NOT RELEVANT---\n",
      "final len 0\n",
      "---ASSESS GRADED DOCUMENTS---\n",
      "---DECISION: ALL DOCUMENTS ARE NOT RELEVANT TO QUESTION, INCLUDE WEB SEARCH---\n",
      "---WEB SEARCH---\n",
      "---GENERATE---\n",
      "---CHECK HALLUCINATIONS---\n",
      "---DECISION: GENERATION IS GROUNDED IN DOCUMENTS---\n",
      "---GRADE GENERATION vs QUESTION---\n"
     ]
    },
    {
     "name": "stderr",
     "output_type": "stream",
     "text": [
      "80it [16:10, 12.52s/it]"
     ]
    },
    {
     "name": "stdout",
     "output_type": "stream",
     "text": [
      "---DECISION: GENERATION ADDRESSES QUESTION---\n",
      "---ROUTE QUESTION---\n",
      "---ROUTE QUESTION TO VECTOR STORE---\n",
      "---GENERATE DOCUMENT---\n",
      "---RETRIEVE---\n",
      "---CHECK DOCUMENT RELEVANCE TO QUESTION---\n",
      "---GRADE DOCUMENT (1/4)---\n",
      "---GRADE: DOCUMENT NOT RELEVANT---\n",
      "---GRADE DOCUMENT (2/4)---\n",
      "---GRADE: DOCUMENT NOT RELEVANT---\n",
      "---GRADE DOCUMENT (3/4)---\n",
      "---GRADE: DOCUMENT NOT RELEVANT---\n",
      "---GRADE DOCUMENT (4/4)---\n",
      "---GRADE: DOCUMENT NOT RELEVANT---\n",
      "final len 0\n",
      "---ASSESS GRADED DOCUMENTS---\n",
      "---DECISION: ALL DOCUMENTS ARE NOT RELEVANT TO QUESTION, INCLUDE WEB SEARCH---\n",
      "---WEB SEARCH---\n",
      "---GENERATE---\n",
      "---CHECK HALLUCINATIONS---\n",
      "---DECISION: GENERATION IS GROUNDED IN DOCUMENTS---\n",
      "---GRADE GENERATION vs QUESTION---\n"
     ]
    },
    {
     "name": "stderr",
     "output_type": "stream",
     "text": [
      "81it [16:20, 11.75s/it]"
     ]
    },
    {
     "name": "stdout",
     "output_type": "stream",
     "text": [
      "---DECISION: GENERATION ADDRESSES QUESTION---\n",
      "---ROUTE QUESTION---\n",
      "---ROUTE QUESTION TO VECTOR STORE---\n",
      "---GENERATE DOCUMENT---\n",
      "---RETRIEVE---\n",
      "---CHECK DOCUMENT RELEVANCE TO QUESTION---\n",
      "---GRADE DOCUMENT (1/4)---\n",
      "---GRADE: DOCUMENT NOT RELEVANT---\n",
      "---GRADE DOCUMENT (2/4)---\n",
      "---GRADE: DOCUMENT NOT RELEVANT---\n",
      "---GRADE DOCUMENT (3/4)---\n",
      "---GRADE: DOCUMENT NOT RELEVANT---\n",
      "---GRADE DOCUMENT (4/4)---\n",
      "---GRADE: DOCUMENT NOT RELEVANT---\n",
      "final len 0\n",
      "---ASSESS GRADED DOCUMENTS---\n",
      "---DECISION: ALL DOCUMENTS ARE NOT RELEVANT TO QUESTION, INCLUDE WEB SEARCH---\n",
      "---WEB SEARCH---\n",
      "---GENERATE---\n",
      "---CHECK HALLUCINATIONS---\n",
      "---DECISION: GENERATION IS NOT GROUNDED IN DOCUMENTS, RE-TRY---\n",
      "---GENERATE---\n"
     ]
    },
    {
     "name": "stderr",
     "output_type": "stream",
     "text": [
      "82it [16:56, 19.13s/it]"
     ]
    },
    {
     "name": "stdout",
     "output_type": "stream",
     "text": [
      "---CHECK HALLUCINATIONS---\n",
      "---ROUTE QUESTION---\n",
      "---ROUTE QUESTION TO VECTOR STORE---\n",
      "---GENERATE DOCUMENT---\n",
      "---RETRIEVE---\n",
      "---CHECK DOCUMENT RELEVANCE TO QUESTION---\n",
      "---GRADE DOCUMENT (1/4)---\n",
      "---GRADE: DOCUMENT NOT RELEVANT---\n",
      "---GRADE DOCUMENT (2/4)---\n",
      "---GRADE: DOCUMENT NOT RELEVANT---\n",
      "---GRADE DOCUMENT (3/4)---\n",
      "---GRADE: DOCUMENT NOT RELEVANT---\n",
      "---GRADE DOCUMENT (4/4)---\n",
      "---GRADE: DOCUMENT NOT RELEVANT---\n",
      "final len 0\n",
      "---ASSESS GRADED DOCUMENTS---\n",
      "---DECISION: ALL DOCUMENTS ARE NOT RELEVANT TO QUESTION, INCLUDE WEB SEARCH---\n",
      "---WEB SEARCH---\n",
      "---GENERATE---\n",
      "---CHECK HALLUCINATIONS---\n",
      "---DECISION: GENERATION IS GROUNDED IN DOCUMENTS---\n",
      "---GRADE GENERATION vs QUESTION---\n"
     ]
    },
    {
     "name": "stderr",
     "output_type": "stream",
     "text": [
      "83it [17:10, 17.35s/it]"
     ]
    },
    {
     "name": "stdout",
     "output_type": "stream",
     "text": [
      "---DECISION: GENERATION ADDRESSES QUESTION---\n",
      "---ROUTE QUESTION---\n",
      "---ROUTE QUESTION TO VECTOR STORE---\n",
      "---GENERATE DOCUMENT---\n",
      "---RETRIEVE---\n",
      "---CHECK DOCUMENT RELEVANCE TO QUESTION---\n",
      "---GRADE DOCUMENT (1/4)---\n",
      "---GRADE: DOCUMENT NOT RELEVANT---\n",
      "---GRADE DOCUMENT (2/4)---\n",
      "---GRADE: DOCUMENT NOT RELEVANT---\n",
      "---GRADE DOCUMENT (3/4)---\n",
      "---GRADE: DOCUMENT NOT RELEVANT---\n",
      "---GRADE DOCUMENT (4/4)---\n",
      "---GRADE: DOCUMENT NOT RELEVANT---\n",
      "final len 0\n",
      "---ASSESS GRADED DOCUMENTS---\n",
      "---DECISION: ALL DOCUMENTS ARE NOT RELEVANT TO QUESTION, INCLUDE WEB SEARCH---\n",
      "---WEB SEARCH---\n",
      "---GENERATE---\n",
      "---CHECK HALLUCINATIONS---\n",
      "---DECISION: GENERATION IS NOT GROUNDED IN DOCUMENTS, RE-TRY---\n",
      "---GENERATE---\n"
     ]
    },
    {
     "name": "stderr",
     "output_type": "stream",
     "text": [
      "84it [17:35, 19.90s/it]"
     ]
    },
    {
     "name": "stdout",
     "output_type": "stream",
     "text": [
      "---CHECK HALLUCINATIONS---\n",
      "---ROUTE QUESTION---\n",
      "---ROUTE QUESTION TO WEB SEARCH---\n",
      "---WEB SEARCH---\n",
      "---GENERATE---\n",
      "---CHECK HALLUCINATIONS---\n",
      "---DECISION: GENERATION IS NOT GROUNDED IN DOCUMENTS, RE-TRY---\n",
      "---GENERATE---\n"
     ]
    },
    {
     "name": "stderr",
     "output_type": "stream",
     "text": [
      "85it [17:40, 15.22s/it]"
     ]
    },
    {
     "name": "stdout",
     "output_type": "stream",
     "text": [
      "---CHECK HALLUCINATIONS---\n",
      "---ROUTE QUESTION---\n",
      "---ROUTE QUESTION TO VECTOR STORE---\n",
      "---GENERATE DOCUMENT---\n",
      "---RETRIEVE---\n",
      "---CHECK DOCUMENT RELEVANCE TO QUESTION---\n",
      "---GRADE DOCUMENT (1/4)---\n",
      "---GRADE: DOCUMENT NOT RELEVANT---\n",
      "---GRADE DOCUMENT (2/4)---\n",
      "---GRADE: DOCUMENT NOT RELEVANT---\n",
      "---GRADE DOCUMENT (3/4)---\n",
      "---GRADE: DOCUMENT NOT RELEVANT---\n",
      "---GRADE DOCUMENT (4/4)---\n",
      "---GRADE: DOCUMENT NOT RELEVANT---\n",
      "final len 0\n",
      "---ASSESS GRADED DOCUMENTS---\n",
      "---DECISION: ALL DOCUMENTS ARE NOT RELEVANT TO QUESTION, INCLUDE WEB SEARCH---\n",
      "---WEB SEARCH---\n",
      "---GENERATE---\n",
      "---CHECK HALLUCINATIONS---\n",
      "---DECISION: GENERATION IS GROUNDED IN DOCUMENTS---\n",
      "---GRADE GENERATION vs QUESTION---\n"
     ]
    },
    {
     "name": "stderr",
     "output_type": "stream",
     "text": [
      "86it [17:54, 14.95s/it]"
     ]
    },
    {
     "name": "stdout",
     "output_type": "stream",
     "text": [
      "---DECISION: GENERATION ADDRESSES QUESTION---\n",
      "---ROUTE QUESTION---\n",
      "---ROUTE QUESTION TO VECTOR STORE---\n",
      "---GENERATE DOCUMENT---\n",
      "---RETRIEVE---\n",
      "---CHECK DOCUMENT RELEVANCE TO QUESTION---\n",
      "---GRADE DOCUMENT (1/4)---\n",
      "---GRADE: DOCUMENT NOT RELEVANT---\n",
      "---GRADE DOCUMENT (2/4)---\n",
      "---GRADE: DOCUMENT NOT RELEVANT---\n",
      "---GRADE DOCUMENT (3/4)---\n",
      "---GRADE: DOCUMENT NOT RELEVANT---\n",
      "---GRADE DOCUMENT (4/4)---\n",
      "---GRADE: DOCUMENT NOT RELEVANT---\n",
      "final len 0\n",
      "---ASSESS GRADED DOCUMENTS---\n",
      "---DECISION: ALL DOCUMENTS ARE NOT RELEVANT TO QUESTION, INCLUDE WEB SEARCH---\n",
      "---WEB SEARCH---\n",
      "---GENERATE---\n",
      "---CHECK HALLUCINATIONS---\n",
      "---DECISION: GENERATION IS GROUNDED IN DOCUMENTS---\n",
      "---GRADE GENERATION vs QUESTION---\n"
     ]
    },
    {
     "name": "stderr",
     "output_type": "stream",
     "text": [
      "87it [18:07, 14.42s/it]"
     ]
    },
    {
     "name": "stdout",
     "output_type": "stream",
     "text": [
      "---DECISION: GENERATION ADDRESSES QUESTION---\n",
      "---ROUTE QUESTION---\n",
      "---ROUTE QUESTION TO VECTOR STORE---\n",
      "---GENERATE DOCUMENT---\n",
      "---RETRIEVE---\n",
      "---CHECK DOCUMENT RELEVANCE TO QUESTION---\n",
      "---GRADE DOCUMENT (1/4)---\n",
      "---GRADE: DOCUMENT NOT RELEVANT---\n",
      "---GRADE DOCUMENT (2/4)---\n",
      "---GRADE: DOCUMENT NOT RELEVANT---\n",
      "---GRADE DOCUMENT (3/4)---\n",
      "---GRADE: DOCUMENT NOT RELEVANT---\n",
      "---GRADE DOCUMENT (4/4)---\n",
      "---GRADE: DOCUMENT NOT RELEVANT---\n",
      "final len 0\n",
      "---ASSESS GRADED DOCUMENTS---\n",
      "---DECISION: ALL DOCUMENTS ARE NOT RELEVANT TO QUESTION, INCLUDE WEB SEARCH---\n",
      "---WEB SEARCH---\n",
      "---GENERATE---\n",
      "---CHECK HALLUCINATIONS---\n",
      "---DECISION: GENERATION IS GROUNDED IN DOCUMENTS---\n",
      "---GRADE GENERATION vs QUESTION---\n"
     ]
    },
    {
     "name": "stderr",
     "output_type": "stream",
     "text": [
      "88it [18:20, 13.82s/it]"
     ]
    },
    {
     "name": "stdout",
     "output_type": "stream",
     "text": [
      "---DECISION: GENERATION ADDRESSES QUESTION---\n",
      "---ROUTE QUESTION---\n",
      "---ROUTE QUESTION TO VECTOR STORE---\n",
      "---GENERATE DOCUMENT---\n",
      "---RETRIEVE---\n",
      "---CHECK DOCUMENT RELEVANCE TO QUESTION---\n",
      "---GRADE DOCUMENT (1/4)---\n",
      "---GRADE: DOCUMENT NOT RELEVANT---\n",
      "---GRADE DOCUMENT (2/4)---\n",
      "---GRADE: DOCUMENT RELEVANT---\n",
      "---GRADE DOCUMENT (3/4)---\n",
      "---GRADE: DOCUMENT NOT RELEVANT---\n",
      "---GRADE DOCUMENT (4/4)---\n",
      "---GRADE: DOCUMENT NOT RELEVANT---\n",
      "final len 1\n",
      "---ASSESS GRADED DOCUMENTS---\n",
      "---DECISION: ALL DOCUMENTS ARE NOT RELEVANT TO QUESTION, INCLUDE WEB SEARCH---\n",
      "---WEB SEARCH---\n",
      "---GENERATE---\n",
      "---CHECK HALLUCINATIONS---\n",
      "---DECISION: GENERATION IS GROUNDED IN DOCUMENTS---\n",
      "---GRADE GENERATION vs QUESTION---\n"
     ]
    },
    {
     "name": "stderr",
     "output_type": "stream",
     "text": [
      "89it [18:34, 13.94s/it]"
     ]
    },
    {
     "name": "stdout",
     "output_type": "stream",
     "text": [
      "---DECISION: GENERATION ADDRESSES QUESTION---\n",
      "---ROUTE QUESTION---\n",
      "---ROUTE QUESTION TO VECTOR STORE---\n",
      "---GENERATE DOCUMENT---\n",
      "---RETRIEVE---\n",
      "---CHECK DOCUMENT RELEVANCE TO QUESTION---\n",
      "---GRADE DOCUMENT (1/4)---\n",
      "---GRADE: DOCUMENT NOT RELEVANT---\n",
      "---GRADE DOCUMENT (2/4)---\n",
      "---GRADE: DOCUMENT NOT RELEVANT---\n",
      "---GRADE DOCUMENT (3/4)---\n",
      "---GRADE: DOCUMENT NOT RELEVANT---\n",
      "---GRADE DOCUMENT (4/4)---\n",
      "---GRADE: DOCUMENT NOT RELEVANT---\n",
      "final len 0\n",
      "---ASSESS GRADED DOCUMENTS---\n",
      "---DECISION: ALL DOCUMENTS ARE NOT RELEVANT TO QUESTION, INCLUDE WEB SEARCH---\n",
      "---WEB SEARCH---\n",
      "---GENERATE---\n",
      "---CHECK HALLUCINATIONS---\n",
      "---DECISION: GENERATION IS GROUNDED IN DOCUMENTS---\n",
      "---GRADE GENERATION vs QUESTION---\n"
     ]
    },
    {
     "name": "stderr",
     "output_type": "stream",
     "text": [
      "90it [18:45, 12.97s/it]"
     ]
    },
    {
     "name": "stdout",
     "output_type": "stream",
     "text": [
      "---DECISION: GENERATION ADDRESSES QUESTION---\n",
      "---ROUTE QUESTION---\n",
      "---ROUTE QUESTION TO VECTOR STORE---\n",
      "---GENERATE DOCUMENT---\n",
      "---RETRIEVE---\n",
      "---CHECK DOCUMENT RELEVANCE TO QUESTION---\n",
      "---GRADE DOCUMENT (1/4)---\n",
      "---GRADE: DOCUMENT NOT RELEVANT---\n",
      "---GRADE DOCUMENT (2/4)---\n",
      "---GRADE: DOCUMENT NOT RELEVANT---\n",
      "---GRADE DOCUMENT (3/4)---\n",
      "---GRADE: DOCUMENT NOT RELEVANT---\n",
      "---GRADE DOCUMENT (4/4)---\n",
      "---GRADE: DOCUMENT NOT RELEVANT---\n",
      "final len 0\n",
      "---ASSESS GRADED DOCUMENTS---\n",
      "---DECISION: ALL DOCUMENTS ARE NOT RELEVANT TO QUESTION, INCLUDE WEB SEARCH---\n",
      "---WEB SEARCH---\n",
      "---GENERATE---\n",
      "---CHECK HALLUCINATIONS---\n",
      "---DECISION: GENERATION IS NOT GROUNDED IN DOCUMENTS, RE-TRY---\n",
      "---GENERATE---\n"
     ]
    },
    {
     "name": "stderr",
     "output_type": "stream",
     "text": [
      "91it [19:03, 14.48s/it]"
     ]
    },
    {
     "name": "stdout",
     "output_type": "stream",
     "text": [
      "---CHECK HALLUCINATIONS---\n",
      "---ROUTE QUESTION---\n",
      "---ROUTE QUESTION TO VECTOR STORE---\n",
      "---GENERATE DOCUMENT---\n",
      "---RETRIEVE---\n",
      "---CHECK DOCUMENT RELEVANCE TO QUESTION---\n",
      "---GRADE DOCUMENT (1/4)---\n",
      "---GRADE: DOCUMENT NOT RELEVANT---\n",
      "---GRADE DOCUMENT (2/4)---\n",
      "---GRADE: DOCUMENT NOT RELEVANT---\n",
      "---GRADE DOCUMENT (3/4)---\n",
      "---GRADE: DOCUMENT NOT RELEVANT---\n",
      "---GRADE DOCUMENT (4/4)---\n",
      "---GRADE: DOCUMENT NOT RELEVANT---\n",
      "final len 0\n",
      "---ASSESS GRADED DOCUMENTS---\n",
      "---DECISION: ALL DOCUMENTS ARE NOT RELEVANT TO QUESTION, INCLUDE WEB SEARCH---\n",
      "---WEB SEARCH---\n",
      "---GENERATE---\n",
      "---CHECK HALLUCINATIONS---\n",
      "---DECISION: GENERATION IS GROUNDED IN DOCUMENTS---\n",
      "---GRADE GENERATION vs QUESTION---\n"
     ]
    },
    {
     "name": "stderr",
     "output_type": "stream",
     "text": [
      "92it [19:12, 12.91s/it]"
     ]
    },
    {
     "name": "stdout",
     "output_type": "stream",
     "text": [
      "---DECISION: GENERATION ADDRESSES QUESTION---\n",
      "---ROUTE QUESTION---\n",
      "---ROUTE QUESTION TO VECTOR STORE---\n",
      "---GENERATE DOCUMENT---\n",
      "---RETRIEVE---\n",
      "---CHECK DOCUMENT RELEVANCE TO QUESTION---\n",
      "---GRADE DOCUMENT (1/4)---\n",
      "---GRADE: DOCUMENT NOT RELEVANT---\n",
      "---GRADE DOCUMENT (2/4)---\n",
      "---GRADE: DOCUMENT NOT RELEVANT---\n",
      "---GRADE DOCUMENT (3/4)---\n",
      "---GRADE: DOCUMENT NOT RELEVANT---\n",
      "---GRADE DOCUMENT (4/4)---\n",
      "---GRADE: DOCUMENT NOT RELEVANT---\n",
      "final len 0\n",
      "---ASSESS GRADED DOCUMENTS---\n",
      "---DECISION: ALL DOCUMENTS ARE NOT RELEVANT TO QUESTION, INCLUDE WEB SEARCH---\n",
      "---WEB SEARCH---\n",
      "---GENERATE---\n",
      "---CHECK HALLUCINATIONS---\n",
      "---DECISION: GENERATION IS GROUNDED IN DOCUMENTS---\n",
      "---GRADE GENERATION vs QUESTION---\n"
     ]
    },
    {
     "name": "stderr",
     "output_type": "stream",
     "text": [
      "93it [19:25, 13.14s/it]"
     ]
    },
    {
     "name": "stdout",
     "output_type": "stream",
     "text": [
      "---DECISION: GENERATION ADDRESSES QUESTION---\n",
      "---ROUTE QUESTION---\n",
      "---ROUTE QUESTION TO VECTOR STORE---\n",
      "---GENERATE DOCUMENT---\n",
      "---RETRIEVE---\n",
      "---CHECK DOCUMENT RELEVANCE TO QUESTION---\n",
      "---GRADE DOCUMENT (1/4)---\n",
      "---GRADE: DOCUMENT NOT RELEVANT---\n",
      "---GRADE DOCUMENT (2/4)---\n",
      "---GRADE: DOCUMENT NOT RELEVANT---\n",
      "---GRADE DOCUMENT (3/4)---\n",
      "---GRADE: DOCUMENT NOT RELEVANT---\n",
      "---GRADE DOCUMENT (4/4)---\n",
      "---GRADE: DOCUMENT NOT RELEVANT---\n",
      "final len 0\n",
      "---ASSESS GRADED DOCUMENTS---\n",
      "---DECISION: ALL DOCUMENTS ARE NOT RELEVANT TO QUESTION, INCLUDE WEB SEARCH---\n",
      "---WEB SEARCH---\n",
      "---GENERATE---\n",
      "---CHECK HALLUCINATIONS---\n",
      "---DECISION: GENERATION IS GROUNDED IN DOCUMENTS---\n",
      "---GRADE GENERATION vs QUESTION---\n"
     ]
    },
    {
     "name": "stderr",
     "output_type": "stream",
     "text": [
      "94it [19:38, 12.96s/it]"
     ]
    },
    {
     "name": "stdout",
     "output_type": "stream",
     "text": [
      "---DECISION: GENERATION ADDRESSES QUESTION---\n",
      "---ROUTE QUESTION---\n",
      "---ROUTE QUESTION TO VECTOR STORE---\n",
      "---GENERATE DOCUMENT---\n",
      "---RETRIEVE---\n",
      "---CHECK DOCUMENT RELEVANCE TO QUESTION---\n",
      "---GRADE DOCUMENT (1/4)---\n",
      "---GRADE: DOCUMENT NOT RELEVANT---\n",
      "---GRADE DOCUMENT (2/4)---\n",
      "---GRADE: DOCUMENT NOT RELEVANT---\n",
      "---GRADE DOCUMENT (3/4)---\n",
      "---GRADE: DOCUMENT NOT RELEVANT---\n",
      "---GRADE DOCUMENT (4/4)---\n",
      "---GRADE: DOCUMENT NOT RELEVANT---\n",
      "final len 0\n",
      "---ASSESS GRADED DOCUMENTS---\n",
      "---DECISION: ALL DOCUMENTS ARE NOT RELEVANT TO QUESTION, INCLUDE WEB SEARCH---\n",
      "---WEB SEARCH---\n",
      "---GENERATE---\n",
      "---CHECK HALLUCINATIONS---\n",
      "---DECISION: GENERATION IS GROUNDED IN DOCUMENTS---\n",
      "---GRADE GENERATION vs QUESTION---\n"
     ]
    },
    {
     "name": "stderr",
     "output_type": "stream",
     "text": [
      "95it [19:49, 12.21s/it]"
     ]
    },
    {
     "name": "stdout",
     "output_type": "stream",
     "text": [
      "---DECISION: GENERATION ADDRESSES QUESTION---\n",
      "---ROUTE QUESTION---\n",
      "---ROUTE QUESTION TO VECTOR STORE---\n",
      "---GENERATE DOCUMENT---\n",
      "---RETRIEVE---\n",
      "---CHECK DOCUMENT RELEVANCE TO QUESTION---\n",
      "---GRADE DOCUMENT (1/4)---\n",
      "---GRADE: DOCUMENT NOT RELEVANT---\n",
      "---GRADE DOCUMENT (2/4)---\n",
      "---GRADE: DOCUMENT NOT RELEVANT---\n",
      "---GRADE DOCUMENT (3/4)---\n",
      "---GRADE: DOCUMENT NOT RELEVANT---\n",
      "---GRADE DOCUMENT (4/4)---\n",
      "---GRADE: DOCUMENT NOT RELEVANT---\n",
      "final len 0\n",
      "---ASSESS GRADED DOCUMENTS---\n",
      "---DECISION: ALL DOCUMENTS ARE NOT RELEVANT TO QUESTION, INCLUDE WEB SEARCH---\n",
      "---WEB SEARCH---\n",
      "---GENERATE---\n",
      "---CHECK HALLUCINATIONS---\n",
      "---DECISION: GENERATION IS GROUNDED IN DOCUMENTS---\n",
      "---GRADE GENERATION vs QUESTION---\n"
     ]
    },
    {
     "name": "stderr",
     "output_type": "stream",
     "text": [
      "96it [20:03, 13.04s/it]"
     ]
    },
    {
     "name": "stdout",
     "output_type": "stream",
     "text": [
      "---DECISION: GENERATION ADDRESSES QUESTION---\n",
      "---ROUTE QUESTION---\n",
      "---ROUTE QUESTION TO VECTOR STORE---\n",
      "---GENERATE DOCUMENT---\n",
      "---RETRIEVE---\n",
      "---CHECK DOCUMENT RELEVANCE TO QUESTION---\n",
      "---GRADE DOCUMENT (1/4)---\n",
      "---GRADE: DOCUMENT NOT RELEVANT---\n",
      "---GRADE DOCUMENT (2/4)---\n",
      "---GRADE: DOCUMENT NOT RELEVANT---\n",
      "---GRADE DOCUMENT (3/4)---\n",
      "---GRADE: DOCUMENT NOT RELEVANT---\n",
      "---GRADE DOCUMENT (4/4)---\n",
      "---GRADE: DOCUMENT NOT RELEVANT---\n",
      "final len 0\n",
      "---ASSESS GRADED DOCUMENTS---\n",
      "---DECISION: ALL DOCUMENTS ARE NOT RELEVANT TO QUESTION, INCLUDE WEB SEARCH---\n",
      "---WEB SEARCH---\n",
      "---GENERATE---\n",
      "---CHECK HALLUCINATIONS---\n",
      "---DECISION: GENERATION IS GROUNDED IN DOCUMENTS---\n",
      "---GRADE GENERATION vs QUESTION---\n"
     ]
    },
    {
     "name": "stderr",
     "output_type": "stream",
     "text": [
      "97it [20:13, 12.09s/it]"
     ]
    },
    {
     "name": "stdout",
     "output_type": "stream",
     "text": [
      "---DECISION: GENERATION ADDRESSES QUESTION---\n",
      "---ROUTE QUESTION---\n",
      "---ROUTE QUESTION TO VECTOR STORE---\n",
      "---GENERATE DOCUMENT---\n",
      "---RETRIEVE---\n",
      "---CHECK DOCUMENT RELEVANCE TO QUESTION---\n",
      "---GRADE DOCUMENT (1/4)---\n",
      "---GRADE: DOCUMENT NOT RELEVANT---\n",
      "---GRADE DOCUMENT (2/4)---\n",
      "---GRADE: DOCUMENT NOT RELEVANT---\n",
      "---GRADE DOCUMENT (3/4)---\n",
      "---GRADE: DOCUMENT NOT RELEVANT---\n",
      "---GRADE DOCUMENT (4/4)---\n",
      "---GRADE: DOCUMENT NOT RELEVANT---\n",
      "final len 0\n",
      "---ASSESS GRADED DOCUMENTS---\n",
      "---DECISION: ALL DOCUMENTS ARE NOT RELEVANT TO QUESTION, INCLUDE WEB SEARCH---\n",
      "---WEB SEARCH---\n",
      "---GENERATE---\n",
      "---CHECK HALLUCINATIONS---\n",
      "---DECISION: GENERATION IS GROUNDED IN DOCUMENTS---\n",
      "---GRADE GENERATION vs QUESTION---\n"
     ]
    },
    {
     "name": "stderr",
     "output_type": "stream",
     "text": [
      "98it [20:26, 12.23s/it]"
     ]
    },
    {
     "name": "stdout",
     "output_type": "stream",
     "text": [
      "---DECISION: GENERATION ADDRESSES QUESTION---\n",
      "---ROUTE QUESTION---\n",
      "---ROUTE QUESTION TO VECTOR STORE---\n",
      "---GENERATE DOCUMENT---\n",
      "---RETRIEVE---\n",
      "---CHECK DOCUMENT RELEVANCE TO QUESTION---\n",
      "---GRADE DOCUMENT (1/4)---\n",
      "---GRADE: DOCUMENT NOT RELEVANT---\n",
      "---GRADE DOCUMENT (2/4)---\n",
      "---GRADE: DOCUMENT NOT RELEVANT---\n",
      "---GRADE DOCUMENT (3/4)---\n",
      "---GRADE: DOCUMENT NOT RELEVANT---\n",
      "---GRADE DOCUMENT (4/4)---\n",
      "---GRADE: DOCUMENT NOT RELEVANT---\n",
      "final len 0\n",
      "---ASSESS GRADED DOCUMENTS---\n",
      "---DECISION: ALL DOCUMENTS ARE NOT RELEVANT TO QUESTION, INCLUDE WEB SEARCH---\n",
      "---WEB SEARCH---\n",
      "---GENERATE---\n",
      "---CHECK HALLUCINATIONS---\n",
      "---DECISION: GENERATION IS GROUNDED IN DOCUMENTS---\n",
      "---GRADE GENERATION vs QUESTION---\n"
     ]
    },
    {
     "name": "stderr",
     "output_type": "stream",
     "text": [
      "99it [20:39, 12.44s/it]"
     ]
    },
    {
     "name": "stdout",
     "output_type": "stream",
     "text": [
      "---DECISION: GENERATION ADDRESSES QUESTION---\n",
      "---ROUTE QUESTION---\n",
      "---ROUTE QUESTION TO VECTOR STORE---\n",
      "---GENERATE DOCUMENT---\n",
      "---RETRIEVE---\n",
      "---CHECK DOCUMENT RELEVANCE TO QUESTION---\n",
      "---GRADE DOCUMENT (1/4)---\n",
      "---GRADE: DOCUMENT NOT RELEVANT---\n",
      "---GRADE DOCUMENT (2/4)---\n",
      "---GRADE: DOCUMENT NOT RELEVANT---\n",
      "---GRADE DOCUMENT (3/4)---\n",
      "---GRADE: DOCUMENT NOT RELEVANT---\n",
      "---GRADE DOCUMENT (4/4)---\n",
      "---GRADE: DOCUMENT NOT RELEVANT---\n",
      "final len 0\n",
      "---ASSESS GRADED DOCUMENTS---\n",
      "---DECISION: ALL DOCUMENTS ARE NOT RELEVANT TO QUESTION, INCLUDE WEB SEARCH---\n",
      "---WEB SEARCH---\n",
      "---GENERATE---\n",
      "---CHECK HALLUCINATIONS---\n",
      "---DECISION: GENERATION IS GROUNDED IN DOCUMENTS---\n",
      "---GRADE GENERATION vs QUESTION---\n"
     ]
    },
    {
     "name": "stderr",
     "output_type": "stream",
     "text": [
      "100it [20:51, 12.49s/it]"
     ]
    },
    {
     "name": "stdout",
     "output_type": "stream",
     "text": [
      "---DECISION: GENERATION ADDRESSES QUESTION---\n",
      "---ROUTE QUESTION---\n",
      "---ROUTE QUESTION TO VECTOR STORE---\n",
      "---GENERATE DOCUMENT---\n",
      "---RETRIEVE---\n",
      "---CHECK DOCUMENT RELEVANCE TO QUESTION---\n",
      "---GRADE DOCUMENT (1/4)---\n",
      "---GRADE: DOCUMENT NOT RELEVANT---\n",
      "---GRADE DOCUMENT (2/4)---\n",
      "---GRADE: DOCUMENT NOT RELEVANT---\n",
      "---GRADE DOCUMENT (3/4)---\n",
      "---GRADE: DOCUMENT NOT RELEVANT---\n",
      "---GRADE DOCUMENT (4/4)---\n",
      "---GRADE: DOCUMENT NOT RELEVANT---\n",
      "final len 0\n",
      "---ASSESS GRADED DOCUMENTS---\n",
      "---DECISION: ALL DOCUMENTS ARE NOT RELEVANT TO QUESTION, INCLUDE WEB SEARCH---\n",
      "---WEB SEARCH---\n",
      "---GENERATE---\n",
      "---CHECK HALLUCINATIONS---\n",
      "---DECISION: GENERATION IS GROUNDED IN DOCUMENTS---\n",
      "---GRADE GENERATION vs QUESTION---\n"
     ]
    },
    {
     "name": "stderr",
     "output_type": "stream",
     "text": [
      "101it [21:05, 12.78s/it]"
     ]
    },
    {
     "name": "stdout",
     "output_type": "stream",
     "text": [
      "---DECISION: GENERATION ADDRESSES QUESTION---\n",
      "---ROUTE QUESTION---\n",
      "---ROUTE QUESTION TO VECTOR STORE---\n",
      "---GENERATE DOCUMENT---\n",
      "---RETRIEVE---\n",
      "---CHECK DOCUMENT RELEVANCE TO QUESTION---\n",
      "---GRADE DOCUMENT (1/4)---\n",
      "---GRADE: DOCUMENT NOT RELEVANT---\n",
      "---GRADE DOCUMENT (2/4)---\n",
      "---GRADE: DOCUMENT NOT RELEVANT---\n",
      "---GRADE DOCUMENT (3/4)---\n",
      "---GRADE: DOCUMENT NOT RELEVANT---\n",
      "---GRADE DOCUMENT (4/4)---\n",
      "---GRADE: DOCUMENT NOT RELEVANT---\n",
      "final len 0\n",
      "---ASSESS GRADED DOCUMENTS---\n",
      "---DECISION: ALL DOCUMENTS ARE NOT RELEVANT TO QUESTION, INCLUDE WEB SEARCH---\n",
      "---WEB SEARCH---\n",
      "---GENERATE---\n",
      "---CHECK HALLUCINATIONS---\n",
      "---DECISION: GENERATION IS GROUNDED IN DOCUMENTS---\n",
      "---GRADE GENERATION vs QUESTION---\n"
     ]
    },
    {
     "name": "stderr",
     "output_type": "stream",
     "text": [
      "102it [21:15, 12.08s/it]"
     ]
    },
    {
     "name": "stdout",
     "output_type": "stream",
     "text": [
      "---DECISION: GENERATION ADDRESSES QUESTION---\n",
      "---ROUTE QUESTION---\n",
      "---ROUTE QUESTION TO VECTOR STORE---\n",
      "---GENERATE DOCUMENT---\n",
      "---RETRIEVE---\n",
      "---CHECK DOCUMENT RELEVANCE TO QUESTION---\n",
      "---GRADE DOCUMENT (1/4)---\n",
      "---GRADE: DOCUMENT NOT RELEVANT---\n",
      "---GRADE DOCUMENT (2/4)---\n",
      "---GRADE: DOCUMENT NOT RELEVANT---\n",
      "---GRADE DOCUMENT (3/4)---\n",
      "---GRADE: DOCUMENT NOT RELEVANT---\n",
      "---GRADE DOCUMENT (4/4)---\n",
      "---GRADE: DOCUMENT NOT RELEVANT---\n",
      "final len 0\n",
      "---ASSESS GRADED DOCUMENTS---\n",
      "---DECISION: ALL DOCUMENTS ARE NOT RELEVANT TO QUESTION, INCLUDE WEB SEARCH---\n",
      "---WEB SEARCH---\n",
      "---GENERATE---\n",
      "---CHECK HALLUCINATIONS---\n",
      "---DECISION: GENERATION IS GROUNDED IN DOCUMENTS---\n",
      "---GRADE GENERATION vs QUESTION---\n"
     ]
    },
    {
     "name": "stderr",
     "output_type": "stream",
     "text": [
      "103it [21:25, 11.42s/it]"
     ]
    },
    {
     "name": "stdout",
     "output_type": "stream",
     "text": [
      "---DECISION: GENERATION ADDRESSES QUESTION---\n",
      "---ROUTE QUESTION---\n",
      "---ROUTE QUESTION TO VECTOR STORE---\n",
      "---GENERATE DOCUMENT---\n",
      "---RETRIEVE---\n",
      "---CHECK DOCUMENT RELEVANCE TO QUESTION---\n",
      "---GRADE DOCUMENT (1/4)---\n",
      "---GRADE: DOCUMENT NOT RELEVANT---\n",
      "---GRADE DOCUMENT (2/4)---\n",
      "---GRADE: DOCUMENT NOT RELEVANT---\n",
      "---GRADE DOCUMENT (3/4)---\n",
      "---GRADE: DOCUMENT NOT RELEVANT---\n",
      "---GRADE DOCUMENT (4/4)---\n",
      "---GRADE: DOCUMENT NOT RELEVANT---\n",
      "final len 0\n",
      "---ASSESS GRADED DOCUMENTS---\n",
      "---DECISION: ALL DOCUMENTS ARE NOT RELEVANT TO QUESTION, INCLUDE WEB SEARCH---\n",
      "---WEB SEARCH---\n",
      "---GENERATE---\n",
      "---CHECK HALLUCINATIONS---\n",
      "---DECISION: GENERATION IS GROUNDED IN DOCUMENTS---\n",
      "---GRADE GENERATION vs QUESTION---\n"
     ]
    },
    {
     "name": "stderr",
     "output_type": "stream",
     "text": [
      "104it [21:36, 11.15s/it]"
     ]
    },
    {
     "name": "stdout",
     "output_type": "stream",
     "text": [
      "---DECISION: GENERATION ADDRESSES QUESTION---\n",
      "---ROUTE QUESTION---\n",
      "---ROUTE QUESTION TO VECTOR STORE---\n",
      "---GENERATE DOCUMENT---\n",
      "---RETRIEVE---\n",
      "---CHECK DOCUMENT RELEVANCE TO QUESTION---\n",
      "---GRADE DOCUMENT (1/4)---\n",
      "---GRADE: DOCUMENT NOT RELEVANT---\n",
      "---GRADE DOCUMENT (2/4)---\n",
      "---GRADE: DOCUMENT NOT RELEVANT---\n",
      "---GRADE DOCUMENT (3/4)---\n",
      "---GRADE: DOCUMENT NOT RELEVANT---\n",
      "---GRADE DOCUMENT (4/4)---\n",
      "---GRADE: DOCUMENT NOT RELEVANT---\n",
      "final len 0\n",
      "---ASSESS GRADED DOCUMENTS---\n",
      "---DECISION: ALL DOCUMENTS ARE NOT RELEVANT TO QUESTION, INCLUDE WEB SEARCH---\n",
      "---WEB SEARCH---\n",
      "---GENERATE---\n",
      "---CHECK HALLUCINATIONS---\n",
      "---DECISION: GENERATION IS GROUNDED IN DOCUMENTS---\n",
      "---GRADE GENERATION vs QUESTION---\n"
     ]
    },
    {
     "name": "stderr",
     "output_type": "stream",
     "text": [
      "105it [21:49, 11.74s/it]"
     ]
    },
    {
     "name": "stdout",
     "output_type": "stream",
     "text": [
      "---DECISION: GENERATION ADDRESSES QUESTION---\n",
      "---ROUTE QUESTION---\n",
      "---ROUTE QUESTION TO VECTOR STORE---\n",
      "---GENERATE DOCUMENT---\n",
      "---RETRIEVE---\n",
      "---CHECK DOCUMENT RELEVANCE TO QUESTION---\n",
      "---GRADE DOCUMENT (1/4)---\n",
      "---GRADE: DOCUMENT NOT RELEVANT---\n",
      "---GRADE DOCUMENT (2/4)---\n",
      "---GRADE: DOCUMENT NOT RELEVANT---\n",
      "---GRADE DOCUMENT (3/4)---\n",
      "---GRADE: DOCUMENT NOT RELEVANT---\n",
      "---GRADE DOCUMENT (4/4)---\n",
      "---GRADE: DOCUMENT NOT RELEVANT---\n",
      "final len 0\n",
      "---ASSESS GRADED DOCUMENTS---\n",
      "---DECISION: ALL DOCUMENTS ARE NOT RELEVANT TO QUESTION, INCLUDE WEB SEARCH---\n",
      "---WEB SEARCH---\n",
      "---GENERATE---\n",
      "---CHECK HALLUCINATIONS---\n",
      "---DECISION: GENERATION IS GROUNDED IN DOCUMENTS---\n",
      "---GRADE GENERATION vs QUESTION---\n"
     ]
    },
    {
     "name": "stderr",
     "output_type": "stream",
     "text": [
      "106it [22:01, 11.99s/it]"
     ]
    },
    {
     "name": "stdout",
     "output_type": "stream",
     "text": [
      "---DECISION: GENERATION ADDRESSES QUESTION---\n",
      "---ROUTE QUESTION---\n",
      "---ROUTE QUESTION TO VECTOR STORE---\n",
      "---GENERATE DOCUMENT---\n",
      "---RETRIEVE---\n",
      "---CHECK DOCUMENT RELEVANCE TO QUESTION---\n",
      "---GRADE DOCUMENT (1/4)---\n",
      "---GRADE: DOCUMENT NOT RELEVANT---\n",
      "---GRADE DOCUMENT (2/4)---\n",
      "---GRADE: DOCUMENT NOT RELEVANT---\n",
      "---GRADE DOCUMENT (3/4)---\n",
      "---GRADE: DOCUMENT NOT RELEVANT---\n",
      "---GRADE DOCUMENT (4/4)---\n",
      "---GRADE: DOCUMENT NOT RELEVANT---\n",
      "final len 0\n",
      "---ASSESS GRADED DOCUMENTS---\n",
      "---DECISION: ALL DOCUMENTS ARE NOT RELEVANT TO QUESTION, INCLUDE WEB SEARCH---\n",
      "---WEB SEARCH---\n",
      "---GENERATE---\n",
      "---CHECK HALLUCINATIONS---\n",
      "---DECISION: GENERATION IS GROUNDED IN DOCUMENTS---\n",
      "---GRADE GENERATION vs QUESTION---\n"
     ]
    },
    {
     "name": "stderr",
     "output_type": "stream",
     "text": [
      "107it [22:13, 11.74s/it]"
     ]
    },
    {
     "name": "stdout",
     "output_type": "stream",
     "text": [
      "---DECISION: GENERATION ADDRESSES QUESTION---\n",
      "---ROUTE QUESTION---\n",
      "---ROUTE QUESTION TO VECTOR STORE---\n",
      "---GENERATE DOCUMENT---\n",
      "---RETRIEVE---\n",
      "---CHECK DOCUMENT RELEVANCE TO QUESTION---\n",
      "---GRADE DOCUMENT (1/4)---\n",
      "---GRADE: DOCUMENT NOT RELEVANT---\n",
      "---GRADE DOCUMENT (2/4)---\n",
      "---GRADE: DOCUMENT NOT RELEVANT---\n",
      "---GRADE DOCUMENT (3/4)---\n",
      "---GRADE: DOCUMENT NOT RELEVANT---\n",
      "---GRADE DOCUMENT (4/4)---\n",
      "---GRADE: DOCUMENT NOT RELEVANT---\n",
      "final len 0\n",
      "---ASSESS GRADED DOCUMENTS---\n",
      "---DECISION: ALL DOCUMENTS ARE NOT RELEVANT TO QUESTION, INCLUDE WEB SEARCH---\n",
      "---WEB SEARCH---\n",
      "---GENERATE---\n",
      "---CHECK HALLUCINATIONS---\n",
      "---DECISION: GENERATION IS GROUNDED IN DOCUMENTS---\n",
      "---GRADE GENERATION vs QUESTION---\n"
     ]
    },
    {
     "name": "stderr",
     "output_type": "stream",
     "text": [
      "108it [22:29, 13.09s/it]"
     ]
    },
    {
     "name": "stdout",
     "output_type": "stream",
     "text": [
      "---DECISION: GENERATION ADDRESSES QUESTION---\n",
      "---ROUTE QUESTION---\n",
      "---ROUTE QUESTION TO VECTOR STORE---\n",
      "---GENERATE DOCUMENT---\n",
      "---RETRIEVE---\n",
      "---CHECK DOCUMENT RELEVANCE TO QUESTION---\n",
      "---GRADE DOCUMENT (1/4)---\n",
      "---GRADE: DOCUMENT NOT RELEVANT---\n",
      "---GRADE DOCUMENT (2/4)---\n",
      "---GRADE: DOCUMENT NOT RELEVANT---\n",
      "---GRADE DOCUMENT (3/4)---\n",
      "---GRADE: DOCUMENT NOT RELEVANT---\n",
      "---GRADE DOCUMENT (4/4)---\n",
      "---GRADE: DOCUMENT NOT RELEVANT---\n",
      "final len 0\n",
      "---ASSESS GRADED DOCUMENTS---\n",
      "---DECISION: ALL DOCUMENTS ARE NOT RELEVANT TO QUESTION, INCLUDE WEB SEARCH---\n",
      "---WEB SEARCH---\n",
      "---GENERATE---\n",
      "---CHECK HALLUCINATIONS---\n",
      "---DECISION: GENERATION IS NOT GROUNDED IN DOCUMENTS, RE-TRY---\n",
      "---GENERATE---\n"
     ]
    },
    {
     "name": "stderr",
     "output_type": "stream",
     "text": [
      "109it [22:39, 12.15s/it]"
     ]
    },
    {
     "name": "stdout",
     "output_type": "stream",
     "text": [
      "---CHECK HALLUCINATIONS---\n",
      "---ROUTE QUESTION---\n",
      "---ROUTE QUESTION TO VECTOR STORE---\n",
      "---GENERATE DOCUMENT---\n",
      "---RETRIEVE---\n",
      "---CHECK DOCUMENT RELEVANCE TO QUESTION---\n",
      "---GRADE DOCUMENT (1/4)---\n",
      "---GRADE: DOCUMENT NOT RELEVANT---\n",
      "---GRADE DOCUMENT (2/4)---\n",
      "---GRADE: DOCUMENT NOT RELEVANT---\n",
      "---GRADE DOCUMENT (3/4)---\n",
      "---GRADE: DOCUMENT NOT RELEVANT---\n",
      "---GRADE DOCUMENT (4/4)---\n",
      "---GRADE: DOCUMENT NOT RELEVANT---\n",
      "final len 0\n",
      "---ASSESS GRADED DOCUMENTS---\n",
      "---DECISION: ALL DOCUMENTS ARE NOT RELEVANT TO QUESTION, INCLUDE WEB SEARCH---\n",
      "---WEB SEARCH---\n",
      "---GENERATE---\n",
      "---CHECK HALLUCINATIONS---\n",
      "---DECISION: GENERATION IS GROUNDED IN DOCUMENTS---\n",
      "---GRADE GENERATION vs QUESTION---\n"
     ]
    },
    {
     "name": "stderr",
     "output_type": "stream",
     "text": [
      "110it [22:54, 13.06s/it]"
     ]
    },
    {
     "name": "stdout",
     "output_type": "stream",
     "text": [
      "---DECISION: GENERATION ADDRESSES QUESTION---\n",
      "---ROUTE QUESTION---\n",
      "---ROUTE QUESTION TO VECTOR STORE---\n",
      "---GENERATE DOCUMENT---\n",
      "---RETRIEVE---\n",
      "---CHECK DOCUMENT RELEVANCE TO QUESTION---\n",
      "---GRADE DOCUMENT (1/4)---\n",
      "---GRADE: DOCUMENT NOT RELEVANT---\n",
      "---GRADE DOCUMENT (2/4)---\n",
      "---GRADE: DOCUMENT NOT RELEVANT---\n",
      "---GRADE DOCUMENT (3/4)---\n",
      "---GRADE: DOCUMENT NOT RELEVANT---\n",
      "---GRADE DOCUMENT (4/4)---\n",
      "---GRADE: DOCUMENT NOT RELEVANT---\n",
      "final len 0\n",
      "---ASSESS GRADED DOCUMENTS---\n",
      "---DECISION: ALL DOCUMENTS ARE NOT RELEVANT TO QUESTION, INCLUDE WEB SEARCH---\n",
      "---WEB SEARCH---\n",
      "---GENERATE---\n",
      "---CHECK HALLUCINATIONS---\n",
      "---DECISION: GENERATION IS GROUNDED IN DOCUMENTS---\n",
      "---GRADE GENERATION vs QUESTION---\n"
     ]
    },
    {
     "name": "stderr",
     "output_type": "stream",
     "text": [
      "111it [23:09, 13.58s/it]"
     ]
    },
    {
     "name": "stdout",
     "output_type": "stream",
     "text": [
      "---DECISION: GENERATION ADDRESSES QUESTION---\n",
      "---ROUTE QUESTION---\n",
      "---ROUTE QUESTION TO VECTOR STORE---\n",
      "---GENERATE DOCUMENT---\n",
      "---RETRIEVE---\n",
      "---CHECK DOCUMENT RELEVANCE TO QUESTION---\n",
      "---GRADE DOCUMENT (1/4)---\n",
      "---GRADE: DOCUMENT NOT RELEVANT---\n",
      "---GRADE DOCUMENT (2/4)---\n",
      "---GRADE: DOCUMENT NOT RELEVANT---\n",
      "---GRADE DOCUMENT (3/4)---\n",
      "---GRADE: DOCUMENT NOT RELEVANT---\n",
      "---GRADE DOCUMENT (4/4)---\n",
      "---GRADE: DOCUMENT NOT RELEVANT---\n",
      "final len 0\n",
      "---ASSESS GRADED DOCUMENTS---\n",
      "---DECISION: ALL DOCUMENTS ARE NOT RELEVANT TO QUESTION, INCLUDE WEB SEARCH---\n",
      "---WEB SEARCH---\n",
      "---GENERATE---\n",
      "---CHECK HALLUCINATIONS---\n",
      "---DECISION: GENERATION IS GROUNDED IN DOCUMENTS---\n",
      "---GRADE GENERATION vs QUESTION---\n"
     ]
    },
    {
     "name": "stderr",
     "output_type": "stream",
     "text": [
      "112it [23:21, 13.07s/it]"
     ]
    },
    {
     "name": "stdout",
     "output_type": "stream",
     "text": [
      "---DECISION: GENERATION ADDRESSES QUESTION---\n",
      "---ROUTE QUESTION---\n",
      "---ROUTE QUESTION TO VECTOR STORE---\n",
      "---GENERATE DOCUMENT---\n",
      "---RETRIEVE---\n",
      "---CHECK DOCUMENT RELEVANCE TO QUESTION---\n",
      "---GRADE DOCUMENT (1/4)---\n",
      "---GRADE: DOCUMENT NOT RELEVANT---\n",
      "---GRADE DOCUMENT (2/4)---\n",
      "---GRADE: DOCUMENT NOT RELEVANT---\n",
      "---GRADE DOCUMENT (3/4)---\n",
      "---GRADE: DOCUMENT NOT RELEVANT---\n",
      "---GRADE DOCUMENT (4/4)---\n",
      "---GRADE: DOCUMENT NOT RELEVANT---\n",
      "final len 0\n",
      "---ASSESS GRADED DOCUMENTS---\n",
      "---DECISION: ALL DOCUMENTS ARE NOT RELEVANT TO QUESTION, INCLUDE WEB SEARCH---\n",
      "---WEB SEARCH---\n",
      "---GENERATE---\n",
      "---CHECK HALLUCINATIONS---\n",
      "---DECISION: GENERATION IS GROUNDED IN DOCUMENTS---\n",
      "---GRADE GENERATION vs QUESTION---\n"
     ]
    },
    {
     "name": "stderr",
     "output_type": "stream",
     "text": [
      "113it [23:44, 16.10s/it]"
     ]
    },
    {
     "name": "stdout",
     "output_type": "stream",
     "text": [
      "---DECISION: GENERATION ADDRESSES QUESTION---\n",
      "---ROUTE QUESTION---\n",
      "---ROUTE QUESTION TO VECTOR STORE---\n",
      "---GENERATE DOCUMENT---\n",
      "---RETRIEVE---\n",
      "---CHECK DOCUMENT RELEVANCE TO QUESTION---\n",
      "---GRADE DOCUMENT (1/4)---\n",
      "---GRADE: DOCUMENT NOT RELEVANT---\n",
      "---GRADE DOCUMENT (2/4)---\n",
      "---GRADE: DOCUMENT NOT RELEVANT---\n",
      "---GRADE DOCUMENT (3/4)---\n",
      "---GRADE: DOCUMENT NOT RELEVANT---\n",
      "---GRADE DOCUMENT (4/4)---\n",
      "---GRADE: DOCUMENT NOT RELEVANT---\n",
      "final len 0\n",
      "---ASSESS GRADED DOCUMENTS---\n",
      "---DECISION: ALL DOCUMENTS ARE NOT RELEVANT TO QUESTION, INCLUDE WEB SEARCH---\n",
      "---WEB SEARCH---\n",
      "---GENERATE---\n",
      "---CHECK HALLUCINATIONS---\n",
      "---DECISION: GENERATION IS GROUNDED IN DOCUMENTS---\n",
      "---GRADE GENERATION vs QUESTION---\n"
     ]
    },
    {
     "name": "stderr",
     "output_type": "stream",
     "text": [
      "114it [23:55, 14.58s/it]"
     ]
    },
    {
     "name": "stdout",
     "output_type": "stream",
     "text": [
      "---DECISION: GENERATION ADDRESSES QUESTION---\n",
      "---ROUTE QUESTION---\n",
      "---ROUTE QUESTION TO VECTOR STORE---\n",
      "---GENERATE DOCUMENT---\n",
      "---RETRIEVE---\n",
      "---CHECK DOCUMENT RELEVANCE TO QUESTION---\n",
      "---GRADE DOCUMENT (1/4)---\n",
      "---GRADE: DOCUMENT NOT RELEVANT---\n",
      "---GRADE DOCUMENT (2/4)---\n",
      "---GRADE: DOCUMENT NOT RELEVANT---\n",
      "---GRADE DOCUMENT (3/4)---\n",
      "---GRADE: DOCUMENT NOT RELEVANT---\n",
      "---GRADE DOCUMENT (4/4)---\n",
      "---GRADE: DOCUMENT NOT RELEVANT---\n",
      "final len 0\n",
      "---ASSESS GRADED DOCUMENTS---\n",
      "---DECISION: ALL DOCUMENTS ARE NOT RELEVANT TO QUESTION, INCLUDE WEB SEARCH---\n",
      "---WEB SEARCH---\n",
      "---GENERATE---\n",
      "---CHECK HALLUCINATIONS---\n",
      "---DECISION: GENERATION IS GROUNDED IN DOCUMENTS---\n",
      "---GRADE GENERATION vs QUESTION---\n"
     ]
    },
    {
     "name": "stderr",
     "output_type": "stream",
     "text": [
      "115it [24:10, 14.69s/it]"
     ]
    },
    {
     "name": "stdout",
     "output_type": "stream",
     "text": [
      "---DECISION: GENERATION ADDRESSES QUESTION---\n",
      "---ROUTE QUESTION---\n",
      "---ROUTE QUESTION TO VECTOR STORE---\n",
      "---GENERATE DOCUMENT---\n",
      "---RETRIEVE---\n",
      "---CHECK DOCUMENT RELEVANCE TO QUESTION---\n",
      "---GRADE DOCUMENT (1/4)---\n",
      "---GRADE: DOCUMENT NOT RELEVANT---\n",
      "---GRADE DOCUMENT (2/4)---\n",
      "---GRADE: DOCUMENT NOT RELEVANT---\n",
      "---GRADE DOCUMENT (3/4)---\n",
      "---GRADE: DOCUMENT NOT RELEVANT---\n",
      "---GRADE DOCUMENT (4/4)---\n",
      "---GRADE: DOCUMENT NOT RELEVANT---\n",
      "final len 0\n",
      "---ASSESS GRADED DOCUMENTS---\n",
      "---DECISION: ALL DOCUMENTS ARE NOT RELEVANT TO QUESTION, INCLUDE WEB SEARCH---\n",
      "---WEB SEARCH---\n",
      "---GENERATE---\n",
      "---CHECK HALLUCINATIONS---\n",
      "---DECISION: GENERATION IS NOT GROUNDED IN DOCUMENTS, RE-TRY---\n",
      "---GENERATE---\n"
     ]
    },
    {
     "name": "stderr",
     "output_type": "stream",
     "text": [
      "116it [24:22, 13.82s/it]"
     ]
    },
    {
     "name": "stdout",
     "output_type": "stream",
     "text": [
      "---CHECK HALLUCINATIONS---\n",
      "---ROUTE QUESTION---\n",
      "---ROUTE QUESTION TO VECTOR STORE---\n",
      "---GENERATE DOCUMENT---\n",
      "---RETRIEVE---\n",
      "---CHECK DOCUMENT RELEVANCE TO QUESTION---\n",
      "---GRADE DOCUMENT (1/4)---\n",
      "---GRADE: DOCUMENT NOT RELEVANT---\n",
      "---GRADE DOCUMENT (2/4)---\n",
      "---GRADE: DOCUMENT NOT RELEVANT---\n",
      "---GRADE DOCUMENT (3/4)---\n",
      "---GRADE: DOCUMENT NOT RELEVANT---\n",
      "---GRADE DOCUMENT (4/4)---\n",
      "---GRADE: DOCUMENT NOT RELEVANT---\n",
      "final len 0\n",
      "---ASSESS GRADED DOCUMENTS---\n",
      "---DECISION: ALL DOCUMENTS ARE NOT RELEVANT TO QUESTION, INCLUDE WEB SEARCH---\n",
      "---WEB SEARCH---\n",
      "---GENERATE---\n",
      "---CHECK HALLUCINATIONS---\n",
      "---DECISION: GENERATION IS GROUNDED IN DOCUMENTS---\n",
      "---GRADE GENERATION vs QUESTION---\n"
     ]
    },
    {
     "name": "stderr",
     "output_type": "stream",
     "text": [
      "117it [24:32, 12.94s/it]"
     ]
    },
    {
     "name": "stdout",
     "output_type": "stream",
     "text": [
      "---DECISION: GENERATION ADDRESSES QUESTION---\n",
      "---ROUTE QUESTION---\n",
      "---ROUTE QUESTION TO VECTOR STORE---\n",
      "---GENERATE DOCUMENT---\n",
      "---RETRIEVE---\n",
      "---CHECK DOCUMENT RELEVANCE TO QUESTION---\n",
      "---GRADE DOCUMENT (1/4)---\n",
      "---GRADE: DOCUMENT NOT RELEVANT---\n",
      "---GRADE DOCUMENT (2/4)---\n",
      "---GRADE: DOCUMENT NOT RELEVANT---\n",
      "---GRADE DOCUMENT (3/4)---\n",
      "---GRADE: DOCUMENT NOT RELEVANT---\n",
      "---GRADE DOCUMENT (4/4)---\n",
      "---GRADE: DOCUMENT NOT RELEVANT---\n",
      "final len 0\n",
      "---ASSESS GRADED DOCUMENTS---\n",
      "---DECISION: ALL DOCUMENTS ARE NOT RELEVANT TO QUESTION, INCLUDE WEB SEARCH---\n",
      "---WEB SEARCH---\n",
      "---GENERATE---\n",
      "---CHECK HALLUCINATIONS---\n",
      "---DECISION: GENERATION IS GROUNDED IN DOCUMENTS---\n",
      "---GRADE GENERATION vs QUESTION---\n",
      "---DECISION: GENERATION DOES NOT ADDRESS QUESTION---\n",
      "---WEB SEARCH---\n",
      "---GENERATE---\n"
     ]
    },
    {
     "name": "stderr",
     "output_type": "stream",
     "text": [
      "118it [24:45, 12.71s/it]"
     ]
    },
    {
     "name": "stdout",
     "output_type": "stream",
     "text": [
      "---CHECK HALLUCINATIONS---\n",
      "---ROUTE QUESTION---\n",
      "---ROUTE QUESTION TO VECTOR STORE---\n",
      "---GENERATE DOCUMENT---\n",
      "---RETRIEVE---\n",
      "---CHECK DOCUMENT RELEVANCE TO QUESTION---\n",
      "---GRADE DOCUMENT (1/4)---\n",
      "---GRADE: DOCUMENT NOT RELEVANT---\n",
      "---GRADE DOCUMENT (2/4)---\n",
      "---GRADE: DOCUMENT NOT RELEVANT---\n",
      "---GRADE DOCUMENT (3/4)---\n",
      "---GRADE: DOCUMENT NOT RELEVANT---\n",
      "---GRADE DOCUMENT (4/4)---\n",
      "---GRADE: DOCUMENT NOT RELEVANT---\n",
      "final len 0\n",
      "---ASSESS GRADED DOCUMENTS---\n",
      "---DECISION: ALL DOCUMENTS ARE NOT RELEVANT TO QUESTION, INCLUDE WEB SEARCH---\n",
      "---WEB SEARCH---\n",
      "---GENERATE---\n",
      "---CHECK HALLUCINATIONS---\n",
      "---DECISION: GENERATION IS GROUNDED IN DOCUMENTS---\n",
      "---GRADE GENERATION vs QUESTION---\n"
     ]
    },
    {
     "name": "stderr",
     "output_type": "stream",
     "text": [
      "119it [24:57, 12.70s/it]"
     ]
    },
    {
     "name": "stdout",
     "output_type": "stream",
     "text": [
      "---DECISION: GENERATION ADDRESSES QUESTION---\n",
      "---ROUTE QUESTION---\n",
      "---ROUTE QUESTION TO VECTOR STORE---\n",
      "---GENERATE DOCUMENT---\n",
      "---RETRIEVE---\n",
      "---CHECK DOCUMENT RELEVANCE TO QUESTION---\n",
      "---GRADE DOCUMENT (1/4)---\n",
      "---GRADE: DOCUMENT NOT RELEVANT---\n",
      "---GRADE DOCUMENT (2/4)---\n",
      "---GRADE: DOCUMENT NOT RELEVANT---\n",
      "---GRADE DOCUMENT (3/4)---\n",
      "---GRADE: DOCUMENT NOT RELEVANT---\n",
      "---GRADE DOCUMENT (4/4)---\n",
      "---GRADE: DOCUMENT NOT RELEVANT---\n",
      "final len 0\n",
      "---ASSESS GRADED DOCUMENTS---\n",
      "---DECISION: ALL DOCUMENTS ARE NOT RELEVANT TO QUESTION, INCLUDE WEB SEARCH---\n",
      "---WEB SEARCH---\n",
      "---GENERATE---\n",
      "---CHECK HALLUCINATIONS---\n",
      "---DECISION: GENERATION IS GROUNDED IN DOCUMENTS---\n",
      "---GRADE GENERATION vs QUESTION---\n"
     ]
    },
    {
     "name": "stderr",
     "output_type": "stream",
     "text": [
      "120it [25:11, 12.91s/it]"
     ]
    },
    {
     "name": "stdout",
     "output_type": "stream",
     "text": [
      "---DECISION: GENERATION ADDRESSES QUESTION---\n",
      "---ROUTE QUESTION---\n",
      "---ROUTE QUESTION TO VECTOR STORE---\n",
      "---GENERATE DOCUMENT---\n",
      "---RETRIEVE---\n",
      "---CHECK DOCUMENT RELEVANCE TO QUESTION---\n",
      "---GRADE DOCUMENT (1/4)---\n",
      "---GRADE: DOCUMENT NOT RELEVANT---\n",
      "---GRADE DOCUMENT (2/4)---\n",
      "---GRADE: DOCUMENT NOT RELEVANT---\n",
      "---GRADE DOCUMENT (3/4)---\n",
      "---GRADE: DOCUMENT NOT RELEVANT---\n",
      "---GRADE DOCUMENT (4/4)---\n",
      "---GRADE: DOCUMENT NOT RELEVANT---\n",
      "final len 0\n",
      "---ASSESS GRADED DOCUMENTS---\n",
      "---DECISION: ALL DOCUMENTS ARE NOT RELEVANT TO QUESTION, INCLUDE WEB SEARCH---\n",
      "---WEB SEARCH---\n",
      "---GENERATE---\n",
      "---CHECK HALLUCINATIONS---\n",
      "---DECISION: GENERATION IS GROUNDED IN DOCUMENTS---\n",
      "---GRADE GENERATION vs QUESTION---\n"
     ]
    },
    {
     "name": "stderr",
     "output_type": "stream",
     "text": [
      "121it [25:32, 15.50s/it]"
     ]
    },
    {
     "name": "stdout",
     "output_type": "stream",
     "text": [
      "---DECISION: GENERATION ADDRESSES QUESTION---\n",
      "---ROUTE QUESTION---\n",
      "---ROUTE QUESTION TO VECTOR STORE---\n",
      "---GENERATE DOCUMENT---\n",
      "---RETRIEVE---\n",
      "---CHECK DOCUMENT RELEVANCE TO QUESTION---\n",
      "---GRADE DOCUMENT (1/4)---\n",
      "---GRADE: DOCUMENT NOT RELEVANT---\n",
      "---GRADE DOCUMENT (2/4)---\n",
      "---GRADE: DOCUMENT NOT RELEVANT---\n",
      "---GRADE DOCUMENT (3/4)---\n",
      "---GRADE: DOCUMENT NOT RELEVANT---\n",
      "---GRADE DOCUMENT (4/4)---\n",
      "---GRADE: DOCUMENT NOT RELEVANT---\n",
      "final len 0\n",
      "---ASSESS GRADED DOCUMENTS---\n",
      "---DECISION: ALL DOCUMENTS ARE NOT RELEVANT TO QUESTION, INCLUDE WEB SEARCH---\n",
      "---WEB SEARCH---\n",
      "---GENERATE---\n",
      "---CHECK HALLUCINATIONS---\n",
      "---DECISION: GENERATION IS GROUNDED IN DOCUMENTS---\n",
      "---GRADE GENERATION vs QUESTION---\n"
     ]
    },
    {
     "name": "stderr",
     "output_type": "stream",
     "text": [
      "122it [25:48, 15.61s/it]"
     ]
    },
    {
     "name": "stdout",
     "output_type": "stream",
     "text": [
      "---DECISION: GENERATION ADDRESSES QUESTION---\n",
      "---ROUTE QUESTION---\n",
      "---ROUTE QUESTION TO WEB SEARCH---\n",
      "---WEB SEARCH---\n",
      "---GENERATE---\n",
      "---CHECK HALLUCINATIONS---\n",
      "---DECISION: GENERATION IS GROUNDED IN DOCUMENTS---\n",
      "---GRADE GENERATION vs QUESTION---\n"
     ]
    },
    {
     "name": "stderr",
     "output_type": "stream",
     "text": [
      "123it [25:52, 12.14s/it]"
     ]
    },
    {
     "name": "stdout",
     "output_type": "stream",
     "text": [
      "---DECISION: GENERATION ADDRESSES QUESTION---\n",
      "---ROUTE QUESTION---\n",
      "---ROUTE QUESTION TO VECTOR STORE---\n",
      "---GENERATE DOCUMENT---\n",
      "---RETRIEVE---\n",
      "---CHECK DOCUMENT RELEVANCE TO QUESTION---\n",
      "---GRADE DOCUMENT (1/4)---\n",
      "---GRADE: DOCUMENT NOT RELEVANT---\n",
      "---GRADE DOCUMENT (2/4)---\n",
      "---GRADE: DOCUMENT NOT RELEVANT---\n",
      "---GRADE DOCUMENT (3/4)---\n",
      "---GRADE: DOCUMENT NOT RELEVANT---\n",
      "---GRADE DOCUMENT (4/4)---\n",
      "---GRADE: DOCUMENT NOT RELEVANT---\n",
      "final len 0\n",
      "---ASSESS GRADED DOCUMENTS---\n",
      "---DECISION: ALL DOCUMENTS ARE NOT RELEVANT TO QUESTION, INCLUDE WEB SEARCH---\n",
      "---WEB SEARCH---\n",
      "---GENERATE---\n",
      "---CHECK HALLUCINATIONS---\n",
      "---DECISION: GENERATION IS GROUNDED IN DOCUMENTS---\n",
      "---GRADE GENERATION vs QUESTION---\n"
     ]
    },
    {
     "name": "stderr",
     "output_type": "stream",
     "text": [
      "124it [26:05, 12.26s/it]"
     ]
    },
    {
     "name": "stdout",
     "output_type": "stream",
     "text": [
      "---DECISION: GENERATION ADDRESSES QUESTION---\n",
      "---ROUTE QUESTION---\n",
      "---ROUTE QUESTION TO VECTOR STORE---\n",
      "---GENERATE DOCUMENT---\n",
      "---RETRIEVE---\n",
      "---CHECK DOCUMENT RELEVANCE TO QUESTION---\n",
      "---GRADE DOCUMENT (1/4)---\n",
      "---GRADE: DOCUMENT NOT RELEVANT---\n",
      "---GRADE DOCUMENT (2/4)---\n",
      "---GRADE: DOCUMENT NOT RELEVANT---\n",
      "---GRADE DOCUMENT (3/4)---\n",
      "---GRADE: DOCUMENT NOT RELEVANT---\n",
      "---GRADE DOCUMENT (4/4)---\n",
      "---GRADE: DOCUMENT NOT RELEVANT---\n",
      "final len 0\n",
      "---ASSESS GRADED DOCUMENTS---\n",
      "---DECISION: ALL DOCUMENTS ARE NOT RELEVANT TO QUESTION, INCLUDE WEB SEARCH---\n",
      "---WEB SEARCH---\n",
      "---GENERATE---\n",
      "---CHECK HALLUCINATIONS---\n",
      "---DECISION: GENERATION IS GROUNDED IN DOCUMENTS---\n",
      "---GRADE GENERATION vs QUESTION---\n"
     ]
    },
    {
     "name": "stderr",
     "output_type": "stream",
     "text": [
      "125it [26:17, 12.25s/it]"
     ]
    },
    {
     "name": "stdout",
     "output_type": "stream",
     "text": [
      "---DECISION: GENERATION ADDRESSES QUESTION---\n",
      "---ROUTE QUESTION---\n",
      "---ROUTE QUESTION TO VECTOR STORE---\n",
      "---GENERATE DOCUMENT---\n",
      "---RETRIEVE---\n",
      "---CHECK DOCUMENT RELEVANCE TO QUESTION---\n",
      "---GRADE DOCUMENT (1/4)---\n",
      "---GRADE: DOCUMENT NOT RELEVANT---\n",
      "---GRADE DOCUMENT (2/4)---\n",
      "---GRADE: DOCUMENT NOT RELEVANT---\n",
      "---GRADE DOCUMENT (3/4)---\n",
      "---GRADE: DOCUMENT NOT RELEVANT---\n",
      "---GRADE DOCUMENT (4/4)---\n",
      "---GRADE: DOCUMENT NOT RELEVANT---\n",
      "final len 0\n",
      "---ASSESS GRADED DOCUMENTS---\n",
      "---DECISION: ALL DOCUMENTS ARE NOT RELEVANT TO QUESTION, INCLUDE WEB SEARCH---\n",
      "---WEB SEARCH---\n",
      "---GENERATE---\n",
      "---CHECK HALLUCINATIONS---\n",
      "---DECISION: GENERATION IS GROUNDED IN DOCUMENTS---\n",
      "---GRADE GENERATION vs QUESTION---\n"
     ]
    },
    {
     "name": "stderr",
     "output_type": "stream",
     "text": [
      "126it [26:27, 11.72s/it]"
     ]
    },
    {
     "name": "stdout",
     "output_type": "stream",
     "text": [
      "---DECISION: GENERATION ADDRESSES QUESTION---\n",
      "---ROUTE QUESTION---\n",
      "---ROUTE QUESTION TO VECTOR STORE---\n",
      "---GENERATE DOCUMENT---\n",
      "---RETRIEVE---\n",
      "---CHECK DOCUMENT RELEVANCE TO QUESTION---\n",
      "---GRADE DOCUMENT (1/4)---\n",
      "---GRADE: DOCUMENT NOT RELEVANT---\n",
      "---GRADE DOCUMENT (2/4)---\n",
      "---GRADE: DOCUMENT NOT RELEVANT---\n",
      "---GRADE DOCUMENT (3/4)---\n",
      "---GRADE: DOCUMENT NOT RELEVANT---\n",
      "---GRADE DOCUMENT (4/4)---\n",
      "---GRADE: DOCUMENT NOT RELEVANT---\n",
      "final len 0\n",
      "---ASSESS GRADED DOCUMENTS---\n",
      "---DECISION: ALL DOCUMENTS ARE NOT RELEVANT TO QUESTION, INCLUDE WEB SEARCH---\n",
      "---WEB SEARCH---\n",
      "---GENERATE---\n",
      "---CHECK HALLUCINATIONS---\n",
      "---DECISION: GENERATION IS GROUNDED IN DOCUMENTS---\n",
      "---GRADE GENERATION vs QUESTION---\n"
     ]
    },
    {
     "name": "stderr",
     "output_type": "stream",
     "text": [
      "127it [26:39, 11.70s/it]"
     ]
    },
    {
     "name": "stdout",
     "output_type": "stream",
     "text": [
      "---DECISION: GENERATION ADDRESSES QUESTION---\n",
      "---ROUTE QUESTION---\n",
      "---ROUTE QUESTION TO VECTOR STORE---\n",
      "---GENERATE DOCUMENT---\n",
      "---RETRIEVE---\n",
      "---CHECK DOCUMENT RELEVANCE TO QUESTION---\n",
      "---GRADE DOCUMENT (1/4)---\n",
      "---GRADE: DOCUMENT NOT RELEVANT---\n",
      "---GRADE DOCUMENT (2/4)---\n",
      "---GRADE: DOCUMENT NOT RELEVANT---\n",
      "---GRADE DOCUMENT (3/4)---\n",
      "---GRADE: DOCUMENT RELEVANT---\n",
      "---GRADE DOCUMENT (4/4)---\n",
      "---GRADE: DOCUMENT NOT RELEVANT---\n",
      "final len 1\n",
      "---ASSESS GRADED DOCUMENTS---\n",
      "---DECISION: ALL DOCUMENTS ARE NOT RELEVANT TO QUESTION, INCLUDE WEB SEARCH---\n",
      "---WEB SEARCH---\n",
      "---GENERATE---\n",
      "---CHECK HALLUCINATIONS---\n",
      "---DECISION: GENERATION IS GROUNDED IN DOCUMENTS---\n",
      "---GRADE GENERATION vs QUESTION---\n"
     ]
    },
    {
     "name": "stderr",
     "output_type": "stream",
     "text": [
      "128it [26:48, 10.85s/it]"
     ]
    },
    {
     "name": "stdout",
     "output_type": "stream",
     "text": [
      "---DECISION: GENERATION ADDRESSES QUESTION---\n",
      "---ROUTE QUESTION---\n",
      "---ROUTE QUESTION TO VECTOR STORE---\n",
      "---GENERATE DOCUMENT---\n",
      "---RETRIEVE---\n",
      "---CHECK DOCUMENT RELEVANCE TO QUESTION---\n",
      "---GRADE DOCUMENT (1/4)---\n",
      "---GRADE: DOCUMENT NOT RELEVANT---\n",
      "---GRADE DOCUMENT (2/4)---\n",
      "---GRADE: DOCUMENT NOT RELEVANT---\n",
      "---GRADE DOCUMENT (3/4)---\n",
      "---GRADE: DOCUMENT NOT RELEVANT---\n",
      "---GRADE DOCUMENT (4/4)---\n",
      "---GRADE: DOCUMENT NOT RELEVANT---\n",
      "final len 0\n",
      "---ASSESS GRADED DOCUMENTS---\n",
      "---DECISION: ALL DOCUMENTS ARE NOT RELEVANT TO QUESTION, INCLUDE WEB SEARCH---\n",
      "---WEB SEARCH---\n",
      "---GENERATE---\n",
      "---CHECK HALLUCINATIONS---\n",
      "---DECISION: GENERATION IS GROUNDED IN DOCUMENTS---\n",
      "---GRADE GENERATION vs QUESTION---\n"
     ]
    },
    {
     "name": "stderr",
     "output_type": "stream",
     "text": [
      "129it [26:59, 11.00s/it]"
     ]
    },
    {
     "name": "stdout",
     "output_type": "stream",
     "text": [
      "---DECISION: GENERATION ADDRESSES QUESTION---\n",
      "---ROUTE QUESTION---\n",
      "---ROUTE QUESTION TO VECTOR STORE---\n",
      "---GENERATE DOCUMENT---\n",
      "---RETRIEVE---\n",
      "---CHECK DOCUMENT RELEVANCE TO QUESTION---\n",
      "---GRADE DOCUMENT (1/4)---\n",
      "---GRADE: DOCUMENT NOT RELEVANT---\n",
      "---GRADE DOCUMENT (2/4)---\n",
      "---GRADE: DOCUMENT NOT RELEVANT---\n",
      "---GRADE DOCUMENT (3/4)---\n",
      "---GRADE: DOCUMENT NOT RELEVANT---\n",
      "---GRADE DOCUMENT (4/4)---\n",
      "---GRADE: DOCUMENT NOT RELEVANT---\n",
      "final len 0\n",
      "---ASSESS GRADED DOCUMENTS---\n",
      "---DECISION: ALL DOCUMENTS ARE NOT RELEVANT TO QUESTION, INCLUDE WEB SEARCH---\n",
      "---WEB SEARCH---\n",
      "---GENERATE---\n",
      "---CHECK HALLUCINATIONS---\n",
      "---DECISION: GENERATION IS GROUNDED IN DOCUMENTS---\n",
      "---GRADE GENERATION vs QUESTION---\n"
     ]
    },
    {
     "name": "stderr",
     "output_type": "stream",
     "text": [
      "130it [27:11, 11.12s/it]"
     ]
    },
    {
     "name": "stdout",
     "output_type": "stream",
     "text": [
      "---DECISION: GENERATION ADDRESSES QUESTION---\n",
      "---ROUTE QUESTION---\n",
      "---ROUTE QUESTION TO VECTOR STORE---\n",
      "---GENERATE DOCUMENT---\n",
      "---RETRIEVE---\n",
      "---CHECK DOCUMENT RELEVANCE TO QUESTION---\n",
      "---GRADE DOCUMENT (1/4)---\n",
      "---GRADE: DOCUMENT NOT RELEVANT---\n",
      "---GRADE DOCUMENT (2/4)---\n",
      "---GRADE: DOCUMENT NOT RELEVANT---\n",
      "---GRADE DOCUMENT (3/4)---\n",
      "---GRADE: DOCUMENT NOT RELEVANT---\n",
      "---GRADE DOCUMENT (4/4)---\n",
      "---GRADE: DOCUMENT NOT RELEVANT---\n",
      "final len 0\n",
      "---ASSESS GRADED DOCUMENTS---\n",
      "---DECISION: ALL DOCUMENTS ARE NOT RELEVANT TO QUESTION, INCLUDE WEB SEARCH---\n",
      "---WEB SEARCH---\n",
      "---GENERATE---\n",
      "---CHECK HALLUCINATIONS---\n",
      "---DECISION: GENERATION IS GROUNDED IN DOCUMENTS---\n",
      "---GRADE GENERATION vs QUESTION---\n"
     ]
    },
    {
     "name": "stderr",
     "output_type": "stream",
     "text": [
      "131it [27:26, 12.24s/it]"
     ]
    },
    {
     "name": "stdout",
     "output_type": "stream",
     "text": [
      "---DECISION: GENERATION ADDRESSES QUESTION---\n",
      "---ROUTE QUESTION---\n",
      "---ROUTE QUESTION TO VECTOR STORE---\n",
      "---GENERATE DOCUMENT---\n",
      "---RETRIEVE---\n",
      "---CHECK DOCUMENT RELEVANCE TO QUESTION---\n",
      "---GRADE DOCUMENT (1/4)---\n",
      "---GRADE: DOCUMENT NOT RELEVANT---\n",
      "---GRADE DOCUMENT (2/4)---\n",
      "---GRADE: DOCUMENT NOT RELEVANT---\n",
      "---GRADE DOCUMENT (3/4)---\n",
      "---GRADE: DOCUMENT NOT RELEVANT---\n",
      "---GRADE DOCUMENT (4/4)---\n",
      "---GRADE: DOCUMENT NOT RELEVANT---\n",
      "final len 0\n",
      "---ASSESS GRADED DOCUMENTS---\n",
      "---DECISION: ALL DOCUMENTS ARE NOT RELEVANT TO QUESTION, INCLUDE WEB SEARCH---\n",
      "---WEB SEARCH---\n",
      "---GENERATE---\n",
      "---CHECK HALLUCINATIONS---\n",
      "---DECISION: GENERATION IS GROUNDED IN DOCUMENTS---\n",
      "---GRADE GENERATION vs QUESTION---\n"
     ]
    },
    {
     "name": "stderr",
     "output_type": "stream",
     "text": [
      "132it [27:33, 10.82s/it]"
     ]
    },
    {
     "name": "stdout",
     "output_type": "stream",
     "text": [
      "---DECISION: GENERATION ADDRESSES QUESTION---\n",
      "---ROUTE QUESTION---\n",
      "---ROUTE QUESTION TO VECTOR STORE---\n",
      "---GENERATE DOCUMENT---\n",
      "---RETRIEVE---\n",
      "---CHECK DOCUMENT RELEVANCE TO QUESTION---\n",
      "---GRADE DOCUMENT (1/4)---\n",
      "---GRADE: DOCUMENT NOT RELEVANT---\n",
      "---GRADE DOCUMENT (2/4)---\n",
      "---GRADE: DOCUMENT NOT RELEVANT---\n",
      "---GRADE DOCUMENT (3/4)---\n",
      "---GRADE: DOCUMENT NOT RELEVANT---\n",
      "---GRADE DOCUMENT (4/4)---\n",
      "---GRADE: DOCUMENT NOT RELEVANT---\n",
      "final len 0\n",
      "---ASSESS GRADED DOCUMENTS---\n",
      "---DECISION: ALL DOCUMENTS ARE NOT RELEVANT TO QUESTION, INCLUDE WEB SEARCH---\n",
      "---WEB SEARCH---\n",
      "---GENERATE---\n",
      "---CHECK HALLUCINATIONS---\n",
      "---DECISION: GENERATION IS GROUNDED IN DOCUMENTS---\n",
      "---GRADE GENERATION vs QUESTION---\n"
     ]
    },
    {
     "name": "stderr",
     "output_type": "stream",
     "text": [
      "133it [27:42, 10.27s/it]"
     ]
    },
    {
     "name": "stdout",
     "output_type": "stream",
     "text": [
      "---DECISION: GENERATION ADDRESSES QUESTION---\n",
      "---ROUTE QUESTION---\n",
      "---ROUTE QUESTION TO VECTOR STORE---\n",
      "---GENERATE DOCUMENT---\n",
      "---RETRIEVE---\n",
      "---CHECK DOCUMENT RELEVANCE TO QUESTION---\n",
      "---GRADE DOCUMENT (1/4)---\n",
      "---GRADE: DOCUMENT NOT RELEVANT---\n",
      "---GRADE DOCUMENT (2/4)---\n",
      "---GRADE: DOCUMENT NOT RELEVANT---\n",
      "---GRADE DOCUMENT (3/4)---\n",
      "---GRADE: DOCUMENT NOT RELEVANT---\n",
      "---GRADE DOCUMENT (4/4)---\n",
      "---GRADE: DOCUMENT NOT RELEVANT---\n",
      "final len 0\n",
      "---ASSESS GRADED DOCUMENTS---\n",
      "---DECISION: ALL DOCUMENTS ARE NOT RELEVANT TO QUESTION, INCLUDE WEB SEARCH---\n",
      "---WEB SEARCH---\n",
      "---GENERATE---\n",
      "---CHECK HALLUCINATIONS---\n",
      "---DECISION: GENERATION IS GROUNDED IN DOCUMENTS---\n",
      "---GRADE GENERATION vs QUESTION---\n"
     ]
    },
    {
     "name": "stderr",
     "output_type": "stream",
     "text": [
      "134it [27:53, 10.56s/it]"
     ]
    },
    {
     "name": "stdout",
     "output_type": "stream",
     "text": [
      "---DECISION: GENERATION ADDRESSES QUESTION---\n",
      "---ROUTE QUESTION---\n",
      "---ROUTE QUESTION TO VECTOR STORE---\n",
      "---GENERATE DOCUMENT---\n",
      "---RETRIEVE---\n",
      "---CHECK DOCUMENT RELEVANCE TO QUESTION---\n",
      "---GRADE DOCUMENT (1/4)---\n",
      "---GRADE: DOCUMENT NOT RELEVANT---\n",
      "---GRADE DOCUMENT (2/4)---\n",
      "---GRADE: DOCUMENT NOT RELEVANT---\n",
      "---GRADE DOCUMENT (3/4)---\n",
      "---GRADE: DOCUMENT NOT RELEVANT---\n",
      "---GRADE DOCUMENT (4/4)---\n",
      "---GRADE: DOCUMENT NOT RELEVANT---\n",
      "final len 0\n",
      "---ASSESS GRADED DOCUMENTS---\n",
      "---DECISION: ALL DOCUMENTS ARE NOT RELEVANT TO QUESTION, INCLUDE WEB SEARCH---\n",
      "---WEB SEARCH---\n",
      "---GENERATE---\n",
      "---CHECK HALLUCINATIONS---\n",
      "---DECISION: GENERATION IS GROUNDED IN DOCUMENTS---\n",
      "---GRADE GENERATION vs QUESTION---\n"
     ]
    },
    {
     "name": "stderr",
     "output_type": "stream",
     "text": [
      "135it [28:04, 10.59s/it]"
     ]
    },
    {
     "name": "stdout",
     "output_type": "stream",
     "text": [
      "---DECISION: GENERATION ADDRESSES QUESTION---\n",
      "---ROUTE QUESTION---\n",
      "---ROUTE QUESTION TO VECTOR STORE---\n",
      "---GENERATE DOCUMENT---\n",
      "---RETRIEVE---\n",
      "---CHECK DOCUMENT RELEVANCE TO QUESTION---\n",
      "---GRADE DOCUMENT (1/4)---\n",
      "---GRADE: DOCUMENT NOT RELEVANT---\n",
      "---GRADE DOCUMENT (2/4)---\n",
      "---GRADE: DOCUMENT NOT RELEVANT---\n",
      "---GRADE DOCUMENT (3/4)---\n",
      "---GRADE: DOCUMENT NOT RELEVANT---\n",
      "---GRADE DOCUMENT (4/4)---\n",
      "---GRADE: DOCUMENT NOT RELEVANT---\n",
      "final len 0\n",
      "---ASSESS GRADED DOCUMENTS---\n",
      "---DECISION: ALL DOCUMENTS ARE NOT RELEVANT TO QUESTION, INCLUDE WEB SEARCH---\n",
      "---WEB SEARCH---\n",
      "---GENERATE---\n",
      "---CHECK HALLUCINATIONS---\n",
      "---DECISION: GENERATION IS GROUNDED IN DOCUMENTS---\n",
      "---GRADE GENERATION vs QUESTION---\n"
     ]
    },
    {
     "name": "stderr",
     "output_type": "stream",
     "text": [
      "136it [28:13,  9.98s/it]"
     ]
    },
    {
     "name": "stdout",
     "output_type": "stream",
     "text": [
      "---DECISION: GENERATION ADDRESSES QUESTION---\n",
      "---ROUTE QUESTION---\n",
      "---ROUTE QUESTION TO VECTOR STORE---\n",
      "---GENERATE DOCUMENT---\n",
      "---RETRIEVE---\n",
      "---CHECK DOCUMENT RELEVANCE TO QUESTION---\n",
      "---GRADE DOCUMENT (1/4)---\n",
      "---GRADE: DOCUMENT NOT RELEVANT---\n",
      "---GRADE DOCUMENT (2/4)---\n",
      "---GRADE: DOCUMENT NOT RELEVANT---\n",
      "---GRADE DOCUMENT (3/4)---\n",
      "---GRADE: DOCUMENT NOT RELEVANT---\n",
      "---GRADE DOCUMENT (4/4)---\n",
      "---GRADE: DOCUMENT NOT RELEVANT---\n",
      "final len 0\n",
      "---ASSESS GRADED DOCUMENTS---\n",
      "---DECISION: ALL DOCUMENTS ARE NOT RELEVANT TO QUESTION, INCLUDE WEB SEARCH---\n",
      "---WEB SEARCH---\n",
      "---GENERATE---\n",
      "---CHECK HALLUCINATIONS---\n",
      "---DECISION: GENERATION IS GROUNDED IN DOCUMENTS---\n",
      "---GRADE GENERATION vs QUESTION---\n",
      "---DECISION: GENERATION DOES NOT ADDRESS QUESTION---\n",
      "---WEB SEARCH---\n",
      "---GENERATE---\n"
     ]
    },
    {
     "name": "stderr",
     "output_type": "stream",
     "text": [
      "137it [28:26, 10.95s/it]"
     ]
    },
    {
     "name": "stdout",
     "output_type": "stream",
     "text": [
      "---CHECK HALLUCINATIONS---\n",
      "---ROUTE QUESTION---\n",
      "---ROUTE QUESTION TO VECTOR STORE---\n",
      "---GENERATE DOCUMENT---\n",
      "---RETRIEVE---\n",
      "---CHECK DOCUMENT RELEVANCE TO QUESTION---\n",
      "---GRADE DOCUMENT (1/4)---\n",
      "---GRADE: DOCUMENT NOT RELEVANT---\n",
      "---GRADE DOCUMENT (2/4)---\n",
      "---GRADE: DOCUMENT NOT RELEVANT---\n",
      "---GRADE DOCUMENT (3/4)---\n",
      "---GRADE: DOCUMENT NOT RELEVANT---\n",
      "---GRADE DOCUMENT (4/4)---\n",
      "---GRADE: DOCUMENT NOT RELEVANT---\n",
      "final len 0\n",
      "---ASSESS GRADED DOCUMENTS---\n",
      "---DECISION: ALL DOCUMENTS ARE NOT RELEVANT TO QUESTION, INCLUDE WEB SEARCH---\n",
      "---WEB SEARCH---\n",
      "---GENERATE---\n",
      "---CHECK HALLUCINATIONS---\n",
      "---DECISION: GENERATION IS GROUNDED IN DOCUMENTS---\n",
      "---GRADE GENERATION vs QUESTION---\n"
     ]
    },
    {
     "name": "stderr",
     "output_type": "stream",
     "text": [
      "138it [28:43, 12.96s/it]"
     ]
    },
    {
     "name": "stdout",
     "output_type": "stream",
     "text": [
      "---DECISION: GENERATION ADDRESSES QUESTION---\n",
      "---ROUTE QUESTION---\n",
      "---ROUTE QUESTION TO VECTOR STORE---\n",
      "---GENERATE DOCUMENT---\n",
      "---RETRIEVE---\n",
      "---CHECK DOCUMENT RELEVANCE TO QUESTION---\n",
      "---GRADE DOCUMENT (1/4)---\n",
      "---GRADE: DOCUMENT NOT RELEVANT---\n",
      "---GRADE DOCUMENT (2/4)---\n",
      "---GRADE: DOCUMENT NOT RELEVANT---\n",
      "---GRADE DOCUMENT (3/4)---\n",
      "---GRADE: DOCUMENT NOT RELEVANT---\n",
      "---GRADE DOCUMENT (4/4)---\n",
      "---GRADE: DOCUMENT NOT RELEVANT---\n",
      "final len 0\n",
      "---ASSESS GRADED DOCUMENTS---\n",
      "---DECISION: ALL DOCUMENTS ARE NOT RELEVANT TO QUESTION, INCLUDE WEB SEARCH---\n",
      "---WEB SEARCH---\n",
      "---GENERATE---\n",
      "---CHECK HALLUCINATIONS---\n",
      "---DECISION: GENERATION IS GROUNDED IN DOCUMENTS---\n",
      "---GRADE GENERATION vs QUESTION---\n"
     ]
    },
    {
     "name": "stderr",
     "output_type": "stream",
     "text": [
      "139it [28:56, 12.79s/it]"
     ]
    },
    {
     "name": "stdout",
     "output_type": "stream",
     "text": [
      "---DECISION: GENERATION ADDRESSES QUESTION---\n",
      "---ROUTE QUESTION---\n",
      "---ROUTE QUESTION TO VECTOR STORE---\n",
      "---GENERATE DOCUMENT---\n",
      "---RETRIEVE---\n",
      "---CHECK DOCUMENT RELEVANCE TO QUESTION---\n",
      "---GRADE DOCUMENT (1/4)---\n",
      "---GRADE: DOCUMENT NOT RELEVANT---\n",
      "---GRADE DOCUMENT (2/4)---\n",
      "---GRADE: DOCUMENT NOT RELEVANT---\n",
      "---GRADE DOCUMENT (3/4)---\n",
      "---GRADE: DOCUMENT NOT RELEVANT---\n",
      "---GRADE DOCUMENT (4/4)---\n",
      "---GRADE: DOCUMENT NOT RELEVANT---\n",
      "final len 0\n",
      "---ASSESS GRADED DOCUMENTS---\n",
      "---DECISION: ALL DOCUMENTS ARE NOT RELEVANT TO QUESTION, INCLUDE WEB SEARCH---\n",
      "---WEB SEARCH---\n",
      "---GENERATE---\n",
      "---CHECK HALLUCINATIONS---\n",
      "---DECISION: GENERATION IS GROUNDED IN DOCUMENTS---\n",
      "---GRADE GENERATION vs QUESTION---\n"
     ]
    },
    {
     "name": "stderr",
     "output_type": "stream",
     "text": [
      "140it [29:08, 12.63s/it]"
     ]
    },
    {
     "name": "stdout",
     "output_type": "stream",
     "text": [
      "---DECISION: GENERATION ADDRESSES QUESTION---\n",
      "---ROUTE QUESTION---\n",
      "---ROUTE QUESTION TO VECTOR STORE---\n",
      "---GENERATE DOCUMENT---\n",
      "---RETRIEVE---\n",
      "---CHECK DOCUMENT RELEVANCE TO QUESTION---\n",
      "---GRADE DOCUMENT (1/4)---\n",
      "---GRADE: DOCUMENT NOT RELEVANT---\n",
      "---GRADE DOCUMENT (2/4)---\n",
      "---GRADE: DOCUMENT NOT RELEVANT---\n",
      "---GRADE DOCUMENT (3/4)---\n",
      "---GRADE: DOCUMENT NOT RELEVANT---\n",
      "---GRADE DOCUMENT (4/4)---\n",
      "---GRADE: DOCUMENT NOT RELEVANT---\n",
      "final len 0\n",
      "---ASSESS GRADED DOCUMENTS---\n",
      "---DECISION: ALL DOCUMENTS ARE NOT RELEVANT TO QUESTION, INCLUDE WEB SEARCH---\n",
      "---WEB SEARCH---\n",
      "---GENERATE---\n",
      "---CHECK HALLUCINATIONS---\n",
      "---DECISION: GENERATION IS GROUNDED IN DOCUMENTS---\n",
      "---GRADE GENERATION vs QUESTION---\n"
     ]
    },
    {
     "name": "stderr",
     "output_type": "stream",
     "text": [
      "141it [29:20, 12.32s/it]"
     ]
    },
    {
     "name": "stdout",
     "output_type": "stream",
     "text": [
      "---DECISION: GENERATION ADDRESSES QUESTION---\n",
      "---ROUTE QUESTION---\n",
      "---ROUTE QUESTION TO VECTOR STORE---\n",
      "---GENERATE DOCUMENT---\n",
      "---RETRIEVE---\n",
      "---CHECK DOCUMENT RELEVANCE TO QUESTION---\n",
      "---GRADE DOCUMENT (1/4)---\n",
      "---GRADE: DOCUMENT NOT RELEVANT---\n",
      "---GRADE DOCUMENT (2/4)---\n",
      "---GRADE: DOCUMENT NOT RELEVANT---\n",
      "---GRADE DOCUMENT (3/4)---\n",
      "---GRADE: DOCUMENT NOT RELEVANT---\n",
      "---GRADE DOCUMENT (4/4)---\n",
      "---GRADE: DOCUMENT NOT RELEVANT---\n",
      "final len 0\n",
      "---ASSESS GRADED DOCUMENTS---\n",
      "---DECISION: ALL DOCUMENTS ARE NOT RELEVANT TO QUESTION, INCLUDE WEB SEARCH---\n",
      "---WEB SEARCH---\n",
      "---GENERATE---\n",
      "---CHECK HALLUCINATIONS---\n",
      "---DECISION: GENERATION IS GROUNDED IN DOCUMENTS---\n",
      "---GRADE GENERATION vs QUESTION---\n"
     ]
    },
    {
     "name": "stderr",
     "output_type": "stream",
     "text": [
      "142it [29:32, 12.45s/it]"
     ]
    },
    {
     "name": "stdout",
     "output_type": "stream",
     "text": [
      "---DECISION: GENERATION ADDRESSES QUESTION---\n",
      "---ROUTE QUESTION---\n",
      "---ROUTE QUESTION TO VECTOR STORE---\n",
      "---GENERATE DOCUMENT---\n",
      "---RETRIEVE---\n",
      "---CHECK DOCUMENT RELEVANCE TO QUESTION---\n",
      "---GRADE DOCUMENT (1/4)---\n",
      "---GRADE: DOCUMENT NOT RELEVANT---\n",
      "---GRADE DOCUMENT (2/4)---\n",
      "---GRADE: DOCUMENT NOT RELEVANT---\n",
      "---GRADE DOCUMENT (3/4)---\n",
      "---GRADE: DOCUMENT NOT RELEVANT---\n",
      "---GRADE DOCUMENT (4/4)---\n",
      "---GRADE: DOCUMENT NOT RELEVANT---\n",
      "final len 0\n",
      "---ASSESS GRADED DOCUMENTS---\n",
      "---DECISION: ALL DOCUMENTS ARE NOT RELEVANT TO QUESTION, INCLUDE WEB SEARCH---\n",
      "---WEB SEARCH---\n",
      "---GENERATE---\n",
      "---CHECK HALLUCINATIONS---\n",
      "---DECISION: GENERATION IS GROUNDED IN DOCUMENTS---\n",
      "---GRADE GENERATION vs QUESTION---\n",
      "---DECISION: GENERATION DOES NOT ADDRESS QUESTION---\n",
      "---WEB SEARCH---\n",
      "---GENERATE---\n"
     ]
    },
    {
     "name": "stderr",
     "output_type": "stream",
     "text": [
      "143it [29:45, 12.45s/it]"
     ]
    },
    {
     "name": "stdout",
     "output_type": "stream",
     "text": [
      "---CHECK HALLUCINATIONS---\n",
      "---ROUTE QUESTION---\n",
      "---ROUTE QUESTION TO VECTOR STORE---\n",
      "---GENERATE DOCUMENT---\n",
      "---RETRIEVE---\n",
      "---CHECK DOCUMENT RELEVANCE TO QUESTION---\n",
      "---GRADE DOCUMENT (1/4)---\n",
      "---GRADE: DOCUMENT NOT RELEVANT---\n",
      "---GRADE DOCUMENT (2/4)---\n",
      "---GRADE: DOCUMENT NOT RELEVANT---\n",
      "---GRADE DOCUMENT (3/4)---\n",
      "---GRADE: DOCUMENT NOT RELEVANT---\n",
      "---GRADE DOCUMENT (4/4)---\n",
      "---GRADE: DOCUMENT NOT RELEVANT---\n",
      "final len 0\n",
      "---ASSESS GRADED DOCUMENTS---\n",
      "---DECISION: ALL DOCUMENTS ARE NOT RELEVANT TO QUESTION, INCLUDE WEB SEARCH---\n",
      "---WEB SEARCH---\n",
      "---GENERATE---\n",
      "---CHECK HALLUCINATIONS---\n",
      "---DECISION: GENERATION IS GROUNDED IN DOCUMENTS---\n",
      "---GRADE GENERATION vs QUESTION---\n",
      "---DECISION: GENERATION DOES NOT ADDRESS QUESTION---\n",
      "---WEB SEARCH---\n",
      "---GENERATE---\n"
     ]
    },
    {
     "name": "stderr",
     "output_type": "stream",
     "text": [
      "144it [30:00, 13.19s/it]"
     ]
    },
    {
     "name": "stdout",
     "output_type": "stream",
     "text": [
      "---CHECK HALLUCINATIONS---\n",
      "---ROUTE QUESTION---\n",
      "---ROUTE QUESTION TO VECTOR STORE---\n",
      "---GENERATE DOCUMENT---\n",
      "---RETRIEVE---\n",
      "---CHECK DOCUMENT RELEVANCE TO QUESTION---\n",
      "---GRADE DOCUMENT (1/4)---\n",
      "---GRADE: DOCUMENT NOT RELEVANT---\n",
      "---GRADE DOCUMENT (2/4)---\n",
      "---GRADE: DOCUMENT NOT RELEVANT---\n",
      "---GRADE DOCUMENT (3/4)---\n",
      "---GRADE: DOCUMENT NOT RELEVANT---\n",
      "---GRADE DOCUMENT (4/4)---\n",
      "---GRADE: DOCUMENT NOT RELEVANT---\n",
      "final len 0\n",
      "---ASSESS GRADED DOCUMENTS---\n",
      "---DECISION: ALL DOCUMENTS ARE NOT RELEVANT TO QUESTION, INCLUDE WEB SEARCH---\n",
      "---WEB SEARCH---\n",
      "---GENERATE---\n",
      "---CHECK HALLUCINATIONS---\n",
      "---DECISION: GENERATION IS GROUNDED IN DOCUMENTS---\n",
      "---GRADE GENERATION vs QUESTION---\n"
     ]
    },
    {
     "name": "stderr",
     "output_type": "stream",
     "text": [
      "145it [30:10, 12.31s/it]"
     ]
    },
    {
     "name": "stdout",
     "output_type": "stream",
     "text": [
      "---DECISION: GENERATION ADDRESSES QUESTION---\n",
      "---ROUTE QUESTION---\n",
      "---ROUTE QUESTION TO VECTOR STORE---\n",
      "---GENERATE DOCUMENT---\n",
      "---RETRIEVE---\n",
      "---CHECK DOCUMENT RELEVANCE TO QUESTION---\n",
      "---GRADE DOCUMENT (1/4)---\n",
      "---GRADE: DOCUMENT NOT RELEVANT---\n",
      "---GRADE DOCUMENT (2/4)---\n",
      "---GRADE: DOCUMENT NOT RELEVANT---\n",
      "---GRADE DOCUMENT (3/4)---\n",
      "---GRADE: DOCUMENT NOT RELEVANT---\n",
      "---GRADE DOCUMENT (4/4)---\n",
      "---GRADE: DOCUMENT NOT RELEVANT---\n",
      "final len 0\n",
      "---ASSESS GRADED DOCUMENTS---\n",
      "---DECISION: ALL DOCUMENTS ARE NOT RELEVANT TO QUESTION, INCLUDE WEB SEARCH---\n",
      "---WEB SEARCH---\n",
      "---GENERATE---\n",
      "---CHECK HALLUCINATIONS---\n",
      "---DECISION: GENERATION IS GROUNDED IN DOCUMENTS---\n",
      "---GRADE GENERATION vs QUESTION---\n"
     ]
    },
    {
     "name": "stderr",
     "output_type": "stream",
     "text": [
      "146it [30:23, 12.64s/it]"
     ]
    },
    {
     "name": "stdout",
     "output_type": "stream",
     "text": [
      "---DECISION: GENERATION ADDRESSES QUESTION---\n",
      "---ROUTE QUESTION---\n",
      "---ROUTE QUESTION TO VECTOR STORE---\n",
      "---GENERATE DOCUMENT---\n",
      "---RETRIEVE---\n",
      "---CHECK DOCUMENT RELEVANCE TO QUESTION---\n",
      "---GRADE DOCUMENT (1/4)---\n",
      "---GRADE: DOCUMENT NOT RELEVANT---\n",
      "---GRADE DOCUMENT (2/4)---\n",
      "---GRADE: DOCUMENT NOT RELEVANT---\n",
      "---GRADE DOCUMENT (3/4)---\n",
      "---GRADE: DOCUMENT NOT RELEVANT---\n",
      "---GRADE DOCUMENT (4/4)---\n",
      "---GRADE: DOCUMENT NOT RELEVANT---\n",
      "final len 0\n",
      "---ASSESS GRADED DOCUMENTS---\n",
      "---DECISION: ALL DOCUMENTS ARE NOT RELEVANT TO QUESTION, INCLUDE WEB SEARCH---\n",
      "---WEB SEARCH---\n",
      "---GENERATE---\n",
      "---CHECK HALLUCINATIONS---\n",
      "---DECISION: GENERATION IS GROUNDED IN DOCUMENTS---\n",
      "---GRADE GENERATION vs QUESTION---\n"
     ]
    },
    {
     "name": "stderr",
     "output_type": "stream",
     "text": [
      "147it [30:45, 15.45s/it]"
     ]
    },
    {
     "name": "stdout",
     "output_type": "stream",
     "text": [
      "---DECISION: GENERATION ADDRESSES QUESTION---\n",
      "---ROUTE QUESTION---\n",
      "---ROUTE QUESTION TO VECTOR STORE---\n",
      "---GENERATE DOCUMENT---\n",
      "---RETRIEVE---\n",
      "---CHECK DOCUMENT RELEVANCE TO QUESTION---\n",
      "---GRADE DOCUMENT (1/4)---\n",
      "---GRADE: DOCUMENT NOT RELEVANT---\n",
      "---GRADE DOCUMENT (2/4)---\n",
      "---GRADE: DOCUMENT NOT RELEVANT---\n",
      "---GRADE DOCUMENT (3/4)---\n",
      "---GRADE: DOCUMENT NOT RELEVANT---\n",
      "---GRADE DOCUMENT (4/4)---\n",
      "---GRADE: DOCUMENT NOT RELEVANT---\n",
      "final len 0\n",
      "---ASSESS GRADED DOCUMENTS---\n",
      "---DECISION: ALL DOCUMENTS ARE NOT RELEVANT TO QUESTION, INCLUDE WEB SEARCH---\n",
      "---WEB SEARCH---\n",
      "---GENERATE---\n",
      "---CHECK HALLUCINATIONS---\n",
      "---DECISION: GENERATION IS GROUNDED IN DOCUMENTS---\n",
      "---GRADE GENERATION vs QUESTION---\n"
     ]
    },
    {
     "name": "stderr",
     "output_type": "stream",
     "text": [
      "148it [30:57, 14.27s/it]"
     ]
    },
    {
     "name": "stdout",
     "output_type": "stream",
     "text": [
      "---DECISION: GENERATION ADDRESSES QUESTION---\n",
      "---ROUTE QUESTION---\n",
      "---ROUTE QUESTION TO VECTOR STORE---\n",
      "---GENERATE DOCUMENT---\n",
      "---RETRIEVE---\n",
      "---CHECK DOCUMENT RELEVANCE TO QUESTION---\n",
      "---GRADE DOCUMENT (1/4)---\n",
      "---GRADE: DOCUMENT NOT RELEVANT---\n",
      "---GRADE DOCUMENT (2/4)---\n",
      "---GRADE: DOCUMENT NOT RELEVANT---\n",
      "---GRADE DOCUMENT (3/4)---\n",
      "---GRADE: DOCUMENT NOT RELEVANT---\n",
      "---GRADE DOCUMENT (4/4)---\n",
      "---GRADE: DOCUMENT NOT RELEVANT---\n",
      "final len 0\n",
      "---ASSESS GRADED DOCUMENTS---\n",
      "---DECISION: ALL DOCUMENTS ARE NOT RELEVANT TO QUESTION, INCLUDE WEB SEARCH---\n",
      "---WEB SEARCH---\n",
      "---GENERATE---\n",
      "---CHECK HALLUCINATIONS---\n",
      "---DECISION: GENERATION IS GROUNDED IN DOCUMENTS---\n",
      "---GRADE GENERATION vs QUESTION---\n"
     ]
    },
    {
     "name": "stderr",
     "output_type": "stream",
     "text": [
      "149it [31:07, 12.99s/it]"
     ]
    },
    {
     "name": "stdout",
     "output_type": "stream",
     "text": [
      "---DECISION: GENERATION ADDRESSES QUESTION---\n",
      "---ROUTE QUESTION---\n",
      "---ROUTE QUESTION TO VECTOR STORE---\n",
      "---GENERATE DOCUMENT---\n",
      "---RETRIEVE---\n",
      "---CHECK DOCUMENT RELEVANCE TO QUESTION---\n",
      "---GRADE DOCUMENT (1/4)---\n",
      "---GRADE: DOCUMENT NOT RELEVANT---\n",
      "---GRADE DOCUMENT (2/4)---\n",
      "---GRADE: DOCUMENT NOT RELEVANT---\n",
      "---GRADE DOCUMENT (3/4)---\n",
      "---GRADE: DOCUMENT NOT RELEVANT---\n",
      "---GRADE DOCUMENT (4/4)---\n",
      "---GRADE: DOCUMENT RELEVANT---\n",
      "final len 1\n",
      "---ASSESS GRADED DOCUMENTS---\n",
      "---DECISION: ALL DOCUMENTS ARE NOT RELEVANT TO QUESTION, INCLUDE WEB SEARCH---\n",
      "---WEB SEARCH---\n",
      "---GENERATE---\n",
      "---CHECK HALLUCINATIONS---\n",
      "---DECISION: GENERATION IS GROUNDED IN DOCUMENTS---\n",
      "---GRADE GENERATION vs QUESTION---\n"
     ]
    },
    {
     "name": "stderr",
     "output_type": "stream",
     "text": [
      "150it [31:21, 13.36s/it]"
     ]
    },
    {
     "name": "stdout",
     "output_type": "stream",
     "text": [
      "---DECISION: GENERATION ADDRESSES QUESTION---\n",
      "---ROUTE QUESTION---\n",
      "---ROUTE QUESTION TO VECTOR STORE---\n",
      "---GENERATE DOCUMENT---\n",
      "---RETRIEVE---\n",
      "---CHECK DOCUMENT RELEVANCE TO QUESTION---\n",
      "---GRADE DOCUMENT (1/4)---\n",
      "---GRADE: DOCUMENT NOT RELEVANT---\n",
      "---GRADE DOCUMENT (2/4)---\n",
      "---GRADE: DOCUMENT NOT RELEVANT---\n",
      "---GRADE DOCUMENT (3/4)---\n",
      "---GRADE: DOCUMENT NOT RELEVANT---\n",
      "---GRADE DOCUMENT (4/4)---\n",
      "---GRADE: DOCUMENT NOT RELEVANT---\n",
      "final len 0\n",
      "---ASSESS GRADED DOCUMENTS---\n",
      "---DECISION: ALL DOCUMENTS ARE NOT RELEVANT TO QUESTION, INCLUDE WEB SEARCH---\n",
      "---WEB SEARCH---\n",
      "---GENERATE---\n",
      "---CHECK HALLUCINATIONS---\n",
      "---DECISION: GENERATION IS GROUNDED IN DOCUMENTS---\n",
      "---GRADE GENERATION vs QUESTION---\n"
     ]
    },
    {
     "name": "stderr",
     "output_type": "stream",
     "text": [
      "151it [31:31, 12.37s/it]"
     ]
    },
    {
     "name": "stdout",
     "output_type": "stream",
     "text": [
      "---DECISION: GENERATION ADDRESSES QUESTION---\n",
      "---ROUTE QUESTION---\n",
      "---ROUTE QUESTION TO VECTOR STORE---\n",
      "---GENERATE DOCUMENT---\n",
      "---RETRIEVE---\n",
      "---CHECK DOCUMENT RELEVANCE TO QUESTION---\n",
      "---GRADE DOCUMENT (1/4)---\n",
      "---GRADE: DOCUMENT NOT RELEVANT---\n",
      "---GRADE DOCUMENT (2/4)---\n",
      "---GRADE: DOCUMENT NOT RELEVANT---\n",
      "---GRADE DOCUMENT (3/4)---\n",
      "---GRADE: DOCUMENT NOT RELEVANT---\n",
      "---GRADE DOCUMENT (4/4)---\n",
      "---GRADE: DOCUMENT NOT RELEVANT---\n",
      "final len 0\n",
      "---ASSESS GRADED DOCUMENTS---\n",
      "---DECISION: ALL DOCUMENTS ARE NOT RELEVANT TO QUESTION, INCLUDE WEB SEARCH---\n",
      "---WEB SEARCH---\n",
      "---GENERATE---\n",
      "---CHECK HALLUCINATIONS---\n",
      "---DECISION: GENERATION IS GROUNDED IN DOCUMENTS---\n",
      "---GRADE GENERATION vs QUESTION---\n"
     ]
    },
    {
     "name": "stderr",
     "output_type": "stream",
     "text": [
      "152it [31:43, 12.09s/it]"
     ]
    },
    {
     "name": "stdout",
     "output_type": "stream",
     "text": [
      "---DECISION: GENERATION ADDRESSES QUESTION---\n",
      "---ROUTE QUESTION---\n",
      "---ROUTE QUESTION TO VECTOR STORE---\n",
      "---GENERATE DOCUMENT---\n",
      "---RETRIEVE---\n",
      "---CHECK DOCUMENT RELEVANCE TO QUESTION---\n",
      "---GRADE DOCUMENT (1/4)---\n",
      "---GRADE: DOCUMENT NOT RELEVANT---\n",
      "---GRADE DOCUMENT (2/4)---\n",
      "---GRADE: DOCUMENT NOT RELEVANT---\n",
      "---GRADE DOCUMENT (3/4)---\n",
      "---GRADE: DOCUMENT NOT RELEVANT---\n",
      "---GRADE DOCUMENT (4/4)---\n",
      "---GRADE: DOCUMENT NOT RELEVANT---\n",
      "final len 0\n",
      "---ASSESS GRADED DOCUMENTS---\n",
      "---DECISION: ALL DOCUMENTS ARE NOT RELEVANT TO QUESTION, INCLUDE WEB SEARCH---\n",
      "---WEB SEARCH---\n",
      "---GENERATE---\n",
      "---CHECK HALLUCINATIONS---\n",
      "---DECISION: GENERATION IS GROUNDED IN DOCUMENTS---\n",
      "---GRADE GENERATION vs QUESTION---\n"
     ]
    },
    {
     "name": "stderr",
     "output_type": "stream",
     "text": [
      "153it [31:53, 11.63s/it]"
     ]
    },
    {
     "name": "stdout",
     "output_type": "stream",
     "text": [
      "---DECISION: GENERATION ADDRESSES QUESTION---\n",
      "---ROUTE QUESTION---\n",
      "---ROUTE QUESTION TO VECTOR STORE---\n",
      "---GENERATE DOCUMENT---\n",
      "---RETRIEVE---\n",
      "---CHECK DOCUMENT RELEVANCE TO QUESTION---\n",
      "---GRADE DOCUMENT (1/4)---\n",
      "---GRADE: DOCUMENT NOT RELEVANT---\n",
      "---GRADE DOCUMENT (2/4)---\n",
      "---GRADE: DOCUMENT NOT RELEVANT---\n",
      "---GRADE DOCUMENT (3/4)---\n",
      "---GRADE: DOCUMENT NOT RELEVANT---\n",
      "---GRADE DOCUMENT (4/4)---\n",
      "---GRADE: DOCUMENT NOT RELEVANT---\n",
      "final len 0\n",
      "---ASSESS GRADED DOCUMENTS---\n",
      "---DECISION: ALL DOCUMENTS ARE NOT RELEVANT TO QUESTION, INCLUDE WEB SEARCH---\n",
      "---WEB SEARCH---\n",
      "---GENERATE---\n",
      "---CHECK HALLUCINATIONS---\n",
      "---DECISION: GENERATION IS GROUNDED IN DOCUMENTS---\n",
      "---GRADE GENERATION vs QUESTION---\n",
      "---DECISION: GENERATION DOES NOT ADDRESS QUESTION---\n",
      "---WEB SEARCH---\n",
      "---GENERATE---\n"
     ]
    },
    {
     "name": "stderr",
     "output_type": "stream",
     "text": [
      "154it [32:08, 12.73s/it]"
     ]
    },
    {
     "name": "stdout",
     "output_type": "stream",
     "text": [
      "---CHECK HALLUCINATIONS---\n",
      "---ROUTE QUESTION---\n",
      "---ROUTE QUESTION TO VECTOR STORE---\n",
      "---GENERATE DOCUMENT---\n",
      "---RETRIEVE---\n",
      "---CHECK DOCUMENT RELEVANCE TO QUESTION---\n",
      "---GRADE DOCUMENT (1/4)---\n",
      "---GRADE: DOCUMENT NOT RELEVANT---\n",
      "---GRADE DOCUMENT (2/4)---\n",
      "---GRADE: DOCUMENT RELEVANT---\n",
      "---GRADE DOCUMENT (3/4)---\n",
      "---GRADE: DOCUMENT NOT RELEVANT---\n",
      "---GRADE DOCUMENT (4/4)---\n",
      "---GRADE: DOCUMENT NOT RELEVANT---\n",
      "final len 1\n",
      "---ASSESS GRADED DOCUMENTS---\n",
      "---DECISION: ALL DOCUMENTS ARE NOT RELEVANT TO QUESTION, INCLUDE WEB SEARCH---\n",
      "---WEB SEARCH---\n",
      "---GENERATE---\n",
      "---CHECK HALLUCINATIONS---\n",
      "---DECISION: GENERATION IS NOT GROUNDED IN DOCUMENTS, RE-TRY---\n",
      "---GENERATE---\n"
     ]
    },
    {
     "name": "stderr",
     "output_type": "stream",
     "text": [
      "155it [32:24, 13.48s/it]"
     ]
    },
    {
     "name": "stdout",
     "output_type": "stream",
     "text": [
      "---CHECK HALLUCINATIONS---\n",
      "---ROUTE QUESTION---\n",
      "---ROUTE QUESTION TO VECTOR STORE---\n",
      "---GENERATE DOCUMENT---\n",
      "---RETRIEVE---\n",
      "---CHECK DOCUMENT RELEVANCE TO QUESTION---\n",
      "---GRADE DOCUMENT (1/4)---\n",
      "---GRADE: DOCUMENT NOT RELEVANT---\n",
      "---GRADE DOCUMENT (2/4)---\n",
      "---GRADE: DOCUMENT NOT RELEVANT---\n",
      "---GRADE DOCUMENT (3/4)---\n",
      "---GRADE: DOCUMENT NOT RELEVANT---\n",
      "---GRADE DOCUMENT (4/4)---\n",
      "---GRADE: DOCUMENT NOT RELEVANT---\n",
      "final len 0\n",
      "---ASSESS GRADED DOCUMENTS---\n",
      "---DECISION: ALL DOCUMENTS ARE NOT RELEVANT TO QUESTION, INCLUDE WEB SEARCH---\n",
      "---WEB SEARCH---\n",
      "---GENERATE---\n",
      "---CHECK HALLUCINATIONS---\n",
      "---DECISION: GENERATION IS GROUNDED IN DOCUMENTS---\n",
      "---GRADE GENERATION vs QUESTION---\n"
     ]
    },
    {
     "name": "stderr",
     "output_type": "stream",
     "text": [
      "156it [32:34, 12.40s/it]"
     ]
    },
    {
     "name": "stdout",
     "output_type": "stream",
     "text": [
      "---DECISION: GENERATION ADDRESSES QUESTION---\n",
      "---ROUTE QUESTION---\n",
      "---ROUTE QUESTION TO VECTOR STORE---\n",
      "---GENERATE DOCUMENT---\n",
      "---RETRIEVE---\n",
      "---CHECK DOCUMENT RELEVANCE TO QUESTION---\n",
      "---GRADE DOCUMENT (1/4)---\n",
      "---GRADE: DOCUMENT NOT RELEVANT---\n",
      "---GRADE DOCUMENT (2/4)---\n",
      "---GRADE: DOCUMENT NOT RELEVANT---\n",
      "---GRADE DOCUMENT (3/4)---\n",
      "---GRADE: DOCUMENT NOT RELEVANT---\n",
      "---GRADE DOCUMENT (4/4)---\n",
      "---GRADE: DOCUMENT NOT RELEVANT---\n",
      "final len 0\n",
      "---ASSESS GRADED DOCUMENTS---\n",
      "---DECISION: ALL DOCUMENTS ARE NOT RELEVANT TO QUESTION, INCLUDE WEB SEARCH---\n",
      "---WEB SEARCH---\n",
      "---GENERATE---\n",
      "---CHECK HALLUCINATIONS---\n",
      "---DECISION: GENERATION IS GROUNDED IN DOCUMENTS---\n",
      "---GRADE GENERATION vs QUESTION---\n"
     ]
    },
    {
     "name": "stderr",
     "output_type": "stream",
     "text": [
      "157it [32:46, 12.37s/it]"
     ]
    },
    {
     "name": "stdout",
     "output_type": "stream",
     "text": [
      "---DECISION: GENERATION ADDRESSES QUESTION---\n",
      "---ROUTE QUESTION---\n",
      "---ROUTE QUESTION TO VECTOR STORE---\n",
      "---GENERATE DOCUMENT---\n",
      "---RETRIEVE---\n",
      "---CHECK DOCUMENT RELEVANCE TO QUESTION---\n",
      "---GRADE DOCUMENT (1/4)---\n",
      "---GRADE: DOCUMENT NOT RELEVANT---\n",
      "---GRADE DOCUMENT (2/4)---\n",
      "---GRADE: DOCUMENT NOT RELEVANT---\n",
      "---GRADE DOCUMENT (3/4)---\n",
      "---GRADE: DOCUMENT NOT RELEVANT---\n",
      "---GRADE DOCUMENT (4/4)---\n",
      "---GRADE: DOCUMENT NOT RELEVANT---\n",
      "final len 0\n",
      "---ASSESS GRADED DOCUMENTS---\n",
      "---DECISION: ALL DOCUMENTS ARE NOT RELEVANT TO QUESTION, INCLUDE WEB SEARCH---\n",
      "---WEB SEARCH---\n",
      "---GENERATE---\n",
      "---CHECK HALLUCINATIONS---\n",
      "---DECISION: GENERATION IS GROUNDED IN DOCUMENTS---\n",
      "---GRADE GENERATION vs QUESTION---\n"
     ]
    },
    {
     "name": "stderr",
     "output_type": "stream",
     "text": [
      "158it [32:59, 12.44s/it]"
     ]
    },
    {
     "name": "stdout",
     "output_type": "stream",
     "text": [
      "---DECISION: GENERATION ADDRESSES QUESTION---\n",
      "---ROUTE QUESTION---\n",
      "---ROUTE QUESTION TO VECTOR STORE---\n",
      "---GENERATE DOCUMENT---\n",
      "---RETRIEVE---\n",
      "---CHECK DOCUMENT RELEVANCE TO QUESTION---\n",
      "---GRADE DOCUMENT (1/4)---\n",
      "---GRADE: DOCUMENT NOT RELEVANT---\n",
      "---GRADE DOCUMENT (2/4)---\n",
      "---GRADE: DOCUMENT NOT RELEVANT---\n",
      "---GRADE DOCUMENT (3/4)---\n",
      "---GRADE: DOCUMENT NOT RELEVANT---\n",
      "---GRADE DOCUMENT (4/4)---\n",
      "---GRADE: DOCUMENT NOT RELEVANT---\n",
      "final len 0\n",
      "---ASSESS GRADED DOCUMENTS---\n",
      "---DECISION: ALL DOCUMENTS ARE NOT RELEVANT TO QUESTION, INCLUDE WEB SEARCH---\n",
      "---WEB SEARCH---\n",
      "---GENERATE---\n",
      "---CHECK HALLUCINATIONS---\n",
      "---DECISION: GENERATION IS GROUNDED IN DOCUMENTS---\n",
      "---GRADE GENERATION vs QUESTION---\n"
     ]
    },
    {
     "name": "stderr",
     "output_type": "stream",
     "text": [
      "159it [33:07, 11.12s/it]"
     ]
    },
    {
     "name": "stdout",
     "output_type": "stream",
     "text": [
      "---DECISION: GENERATION ADDRESSES QUESTION---\n",
      "---ROUTE QUESTION---\n",
      "---ROUTE QUESTION TO VECTOR STORE---\n",
      "---GENERATE DOCUMENT---\n",
      "---RETRIEVE---\n",
      "---CHECK DOCUMENT RELEVANCE TO QUESTION---\n",
      "---GRADE DOCUMENT (1/4)---\n",
      "---GRADE: DOCUMENT NOT RELEVANT---\n",
      "---GRADE DOCUMENT (2/4)---\n",
      "---GRADE: DOCUMENT NOT RELEVANT---\n",
      "---GRADE DOCUMENT (3/4)---\n",
      "---GRADE: DOCUMENT NOT RELEVANT---\n",
      "---GRADE DOCUMENT (4/4)---\n",
      "---GRADE: DOCUMENT NOT RELEVANT---\n",
      "final len 0\n",
      "---ASSESS GRADED DOCUMENTS---\n",
      "---DECISION: ALL DOCUMENTS ARE NOT RELEVANT TO QUESTION, INCLUDE WEB SEARCH---\n",
      "---WEB SEARCH---\n",
      "---GENERATE---\n",
      "---CHECK HALLUCINATIONS---\n",
      "---DECISION: GENERATION IS GROUNDED IN DOCUMENTS---\n",
      "---GRADE GENERATION vs QUESTION---\n"
     ]
    },
    {
     "name": "stderr",
     "output_type": "stream",
     "text": [
      "160it [33:16, 10.60s/it]"
     ]
    },
    {
     "name": "stdout",
     "output_type": "stream",
     "text": [
      "---DECISION: GENERATION ADDRESSES QUESTION---\n",
      "---ROUTE QUESTION---\n",
      "---ROUTE QUESTION TO VECTOR STORE---\n",
      "---GENERATE DOCUMENT---\n",
      "---RETRIEVE---\n",
      "---CHECK DOCUMENT RELEVANCE TO QUESTION---\n",
      "---GRADE DOCUMENT (1/4)---\n",
      "---GRADE: DOCUMENT NOT RELEVANT---\n",
      "---GRADE DOCUMENT (2/4)---\n",
      "---GRADE: DOCUMENT NOT RELEVANT---\n",
      "---GRADE DOCUMENT (3/4)---\n",
      "---GRADE: DOCUMENT NOT RELEVANT---\n",
      "---GRADE DOCUMENT (4/4)---\n",
      "---GRADE: DOCUMENT NOT RELEVANT---\n",
      "final len 0\n",
      "---ASSESS GRADED DOCUMENTS---\n",
      "---DECISION: ALL DOCUMENTS ARE NOT RELEVANT TO QUESTION, INCLUDE WEB SEARCH---\n",
      "---WEB SEARCH---\n",
      "---GENERATE---\n",
      "---CHECK HALLUCINATIONS---\n",
      "---DECISION: GENERATION IS GROUNDED IN DOCUMENTS---\n",
      "---GRADE GENERATION vs QUESTION---\n"
     ]
    },
    {
     "name": "stderr",
     "output_type": "stream",
     "text": [
      "161it [33:28, 11.17s/it]"
     ]
    },
    {
     "name": "stdout",
     "output_type": "stream",
     "text": [
      "---DECISION: GENERATION ADDRESSES QUESTION---\n",
      "---ROUTE QUESTION---\n",
      "---ROUTE QUESTION TO VECTOR STORE---\n",
      "---GENERATE DOCUMENT---\n",
      "---RETRIEVE---\n",
      "---CHECK DOCUMENT RELEVANCE TO QUESTION---\n",
      "---GRADE DOCUMENT (1/4)---\n",
      "---GRADE: DOCUMENT NOT RELEVANT---\n",
      "---GRADE DOCUMENT (2/4)---\n",
      "---GRADE: DOCUMENT NOT RELEVANT---\n",
      "---GRADE DOCUMENT (3/4)---\n",
      "---GRADE: DOCUMENT NOT RELEVANT---\n",
      "---GRADE DOCUMENT (4/4)---\n",
      "---GRADE: DOCUMENT NOT RELEVANT---\n",
      "final len 0\n",
      "---ASSESS GRADED DOCUMENTS---\n",
      "---DECISION: ALL DOCUMENTS ARE NOT RELEVANT TO QUESTION, INCLUDE WEB SEARCH---\n",
      "---WEB SEARCH---\n",
      "---GENERATE---\n",
      "---CHECK HALLUCINATIONS---\n",
      "---DECISION: GENERATION IS GROUNDED IN DOCUMENTS---\n",
      "---GRADE GENERATION vs QUESTION---\n"
     ]
    },
    {
     "name": "stderr",
     "output_type": "stream",
     "text": [
      "162it [33:39, 11.09s/it]"
     ]
    },
    {
     "name": "stdout",
     "output_type": "stream",
     "text": [
      "---DECISION: GENERATION ADDRESSES QUESTION---\n",
      "---ROUTE QUESTION---\n",
      "---ROUTE QUESTION TO VECTOR STORE---\n",
      "---GENERATE DOCUMENT---\n",
      "---RETRIEVE---\n",
      "---CHECK DOCUMENT RELEVANCE TO QUESTION---\n",
      "---GRADE DOCUMENT (1/4)---\n",
      "---GRADE: DOCUMENT RELEVANT---\n",
      "---GRADE DOCUMENT (2/4)---\n",
      "---GRADE: DOCUMENT NOT RELEVANT---\n",
      "---GRADE DOCUMENT (3/4)---\n",
      "---GRADE: DOCUMENT NOT RELEVANT---\n",
      "---GRADE DOCUMENT (4/4)---\n",
      "---GRADE: DOCUMENT NOT RELEVANT---\n",
      "final len 1\n",
      "---ASSESS GRADED DOCUMENTS---\n",
      "---DECISION: ALL DOCUMENTS ARE NOT RELEVANT TO QUESTION, INCLUDE WEB SEARCH---\n",
      "---WEB SEARCH---\n",
      "---GENERATE---\n",
      "---CHECK HALLUCINATIONS---\n",
      "---DECISION: GENERATION IS GROUNDED IN DOCUMENTS---\n",
      "---GRADE GENERATION vs QUESTION---\n"
     ]
    },
    {
     "name": "stderr",
     "output_type": "stream",
     "text": [
      "163it [33:49, 10.55s/it]"
     ]
    },
    {
     "name": "stdout",
     "output_type": "stream",
     "text": [
      "---DECISION: GENERATION ADDRESSES QUESTION---\n",
      "---ROUTE QUESTION---\n",
      "---ROUTE QUESTION TO VECTOR STORE---\n",
      "---GENERATE DOCUMENT---\n",
      "---RETRIEVE---\n",
      "---CHECK DOCUMENT RELEVANCE TO QUESTION---\n",
      "---GRADE DOCUMENT (1/4)---\n",
      "---GRADE: DOCUMENT NOT RELEVANT---\n",
      "---GRADE DOCUMENT (2/4)---\n",
      "---GRADE: DOCUMENT NOT RELEVANT---\n",
      "---GRADE DOCUMENT (3/4)---\n",
      "---GRADE: DOCUMENT NOT RELEVANT---\n",
      "---GRADE DOCUMENT (4/4)---\n",
      "---GRADE: DOCUMENT NOT RELEVANT---\n",
      "final len 0\n",
      "---ASSESS GRADED DOCUMENTS---\n",
      "---DECISION: ALL DOCUMENTS ARE NOT RELEVANT TO QUESTION, INCLUDE WEB SEARCH---\n",
      "---WEB SEARCH---\n",
      "---GENERATE---\n",
      "---CHECK HALLUCINATIONS---\n",
      "---DECISION: GENERATION IS GROUNDED IN DOCUMENTS---\n",
      "---GRADE GENERATION vs QUESTION---\n"
     ]
    },
    {
     "name": "stderr",
     "output_type": "stream",
     "text": [
      "164it [33:58, 10.15s/it]"
     ]
    },
    {
     "name": "stdout",
     "output_type": "stream",
     "text": [
      "---DECISION: GENERATION ADDRESSES QUESTION---\n",
      "---ROUTE QUESTION---\n",
      "---ROUTE QUESTION TO VECTOR STORE---\n",
      "---GENERATE DOCUMENT---\n",
      "---RETRIEVE---\n",
      "---CHECK DOCUMENT RELEVANCE TO QUESTION---\n",
      "---GRADE DOCUMENT (1/4)---\n",
      "---GRADE: DOCUMENT NOT RELEVANT---\n",
      "---GRADE DOCUMENT (2/4)---\n",
      "---GRADE: DOCUMENT NOT RELEVANT---\n",
      "---GRADE DOCUMENT (3/4)---\n",
      "---GRADE: DOCUMENT NOT RELEVANT---\n",
      "---GRADE DOCUMENT (4/4)---\n",
      "---GRADE: DOCUMENT NOT RELEVANT---\n",
      "final len 0\n",
      "---ASSESS GRADED DOCUMENTS---\n",
      "---DECISION: ALL DOCUMENTS ARE NOT RELEVANT TO QUESTION, INCLUDE WEB SEARCH---\n",
      "---WEB SEARCH---\n",
      "---GENERATE---\n",
      "---CHECK HALLUCINATIONS---\n",
      "---DECISION: GENERATION IS GROUNDED IN DOCUMENTS---\n",
      "---GRADE GENERATION vs QUESTION---\n"
     ]
    },
    {
     "name": "stderr",
     "output_type": "stream",
     "text": [
      "165it [34:13, 11.66s/it]"
     ]
    },
    {
     "name": "stdout",
     "output_type": "stream",
     "text": [
      "---DECISION: GENERATION ADDRESSES QUESTION---\n",
      "---ROUTE QUESTION---\n",
      "---ROUTE QUESTION TO VECTOR STORE---\n",
      "---GENERATE DOCUMENT---\n",
      "---RETRIEVE---\n",
      "---CHECK DOCUMENT RELEVANCE TO QUESTION---\n",
      "---GRADE DOCUMENT (1/4)---\n",
      "---GRADE: DOCUMENT NOT RELEVANT---\n",
      "---GRADE DOCUMENT (2/4)---\n",
      "---GRADE: DOCUMENT NOT RELEVANT---\n",
      "---GRADE DOCUMENT (3/4)---\n",
      "---GRADE: DOCUMENT NOT RELEVANT---\n",
      "---GRADE DOCUMENT (4/4)---\n",
      "---GRADE: DOCUMENT NOT RELEVANT---\n",
      "final len 0\n",
      "---ASSESS GRADED DOCUMENTS---\n",
      "---DECISION: ALL DOCUMENTS ARE NOT RELEVANT TO QUESTION, INCLUDE WEB SEARCH---\n",
      "---WEB SEARCH---\n",
      "---GENERATE---\n",
      "---CHECK HALLUCINATIONS---\n",
      "---DECISION: GENERATION IS GROUNDED IN DOCUMENTS---\n",
      "---GRADE GENERATION vs QUESTION---\n"
     ]
    },
    {
     "name": "stderr",
     "output_type": "stream",
     "text": [
      "166it [34:25, 11.72s/it]"
     ]
    },
    {
     "name": "stdout",
     "output_type": "stream",
     "text": [
      "---DECISION: GENERATION ADDRESSES QUESTION---\n",
      "---ROUTE QUESTION---\n",
      "---ROUTE QUESTION TO VECTOR STORE---\n",
      "---GENERATE DOCUMENT---\n",
      "---RETRIEVE---\n",
      "---CHECK DOCUMENT RELEVANCE TO QUESTION---\n",
      "---GRADE DOCUMENT (1/4)---\n",
      "---GRADE: DOCUMENT NOT RELEVANT---\n",
      "---GRADE DOCUMENT (2/4)---\n",
      "---GRADE: DOCUMENT NOT RELEVANT---\n",
      "---GRADE DOCUMENT (3/4)---\n",
      "---GRADE: DOCUMENT NOT RELEVANT---\n",
      "---GRADE DOCUMENT (4/4)---\n",
      "---GRADE: DOCUMENT NOT RELEVANT---\n",
      "final len 0\n",
      "---ASSESS GRADED DOCUMENTS---\n",
      "---DECISION: ALL DOCUMENTS ARE NOT RELEVANT TO QUESTION, INCLUDE WEB SEARCH---\n",
      "---WEB SEARCH---\n",
      "---GENERATE---\n",
      "---CHECK HALLUCINATIONS---\n",
      "---DECISION: GENERATION IS GROUNDED IN DOCUMENTS---\n",
      "---GRADE GENERATION vs QUESTION---\n"
     ]
    },
    {
     "name": "stderr",
     "output_type": "stream",
     "text": [
      "167it [34:38, 12.04s/it]"
     ]
    },
    {
     "name": "stdout",
     "output_type": "stream",
     "text": [
      "---DECISION: GENERATION ADDRESSES QUESTION---\n",
      "---ROUTE QUESTION---\n",
      "---ROUTE QUESTION TO VECTOR STORE---\n",
      "---GENERATE DOCUMENT---\n",
      "---RETRIEVE---\n",
      "---CHECK DOCUMENT RELEVANCE TO QUESTION---\n",
      "---GRADE DOCUMENT (1/4)---\n",
      "---GRADE: DOCUMENT NOT RELEVANT---\n",
      "---GRADE DOCUMENT (2/4)---\n",
      "---GRADE: DOCUMENT NOT RELEVANT---\n",
      "---GRADE DOCUMENT (3/4)---\n",
      "---GRADE: DOCUMENT NOT RELEVANT---\n",
      "---GRADE DOCUMENT (4/4)---\n",
      "---GRADE: DOCUMENT NOT RELEVANT---\n",
      "final len 0\n",
      "---ASSESS GRADED DOCUMENTS---\n",
      "---DECISION: ALL DOCUMENTS ARE NOT RELEVANT TO QUESTION, INCLUDE WEB SEARCH---\n",
      "---WEB SEARCH---\n",
      "---GENERATE---\n",
      "---CHECK HALLUCINATIONS---\n",
      "---DECISION: GENERATION IS GROUNDED IN DOCUMENTS---\n",
      "---GRADE GENERATION vs QUESTION---\n"
     ]
    },
    {
     "name": "stderr",
     "output_type": "stream",
     "text": [
      "168it [34:50, 12.10s/it]"
     ]
    },
    {
     "name": "stdout",
     "output_type": "stream",
     "text": [
      "---DECISION: GENERATION ADDRESSES QUESTION---\n",
      "---ROUTE QUESTION---\n",
      "---ROUTE QUESTION TO VECTOR STORE---\n",
      "---GENERATE DOCUMENT---\n",
      "---RETRIEVE---\n",
      "---CHECK DOCUMENT RELEVANCE TO QUESTION---\n",
      "---GRADE DOCUMENT (1/4)---\n",
      "---GRADE: DOCUMENT NOT RELEVANT---\n",
      "---GRADE DOCUMENT (2/4)---\n",
      "---GRADE: DOCUMENT NOT RELEVANT---\n",
      "---GRADE DOCUMENT (3/4)---\n",
      "---GRADE: DOCUMENT NOT RELEVANT---\n",
      "---GRADE DOCUMENT (4/4)---\n",
      "---GRADE: DOCUMENT NOT RELEVANT---\n",
      "final len 0\n",
      "---ASSESS GRADED DOCUMENTS---\n",
      "---DECISION: ALL DOCUMENTS ARE NOT RELEVANT TO QUESTION, INCLUDE WEB SEARCH---\n",
      "---WEB SEARCH---\n",
      "---GENERATE---\n",
      "---CHECK HALLUCINATIONS---\n",
      "---DECISION: GENERATION IS GROUNDED IN DOCUMENTS---\n",
      "---GRADE GENERATION vs QUESTION---\n"
     ]
    },
    {
     "name": "stderr",
     "output_type": "stream",
     "text": [
      "169it [35:00, 11.41s/it]"
     ]
    },
    {
     "name": "stdout",
     "output_type": "stream",
     "text": [
      "---DECISION: GENERATION ADDRESSES QUESTION---\n",
      "---ROUTE QUESTION---\n",
      "---ROUTE QUESTION TO VECTOR STORE---\n",
      "---GENERATE DOCUMENT---\n",
      "---RETRIEVE---\n",
      "---CHECK DOCUMENT RELEVANCE TO QUESTION---\n",
      "---GRADE DOCUMENT (1/4)---\n",
      "---GRADE: DOCUMENT NOT RELEVANT---\n",
      "---GRADE DOCUMENT (2/4)---\n",
      "---GRADE: DOCUMENT NOT RELEVANT---\n",
      "---GRADE DOCUMENT (3/4)---\n",
      "---GRADE: DOCUMENT NOT RELEVANT---\n",
      "---GRADE DOCUMENT (4/4)---\n",
      "---GRADE: DOCUMENT NOT RELEVANT---\n",
      "final len 0\n",
      "---ASSESS GRADED DOCUMENTS---\n",
      "---DECISION: ALL DOCUMENTS ARE NOT RELEVANT TO QUESTION, INCLUDE WEB SEARCH---\n",
      "---WEB SEARCH---\n",
      "---GENERATE---\n",
      "---CHECK HALLUCINATIONS---\n",
      "---DECISION: GENERATION IS GROUNDED IN DOCUMENTS---\n",
      "---GRADE GENERATION vs QUESTION---\n"
     ]
    },
    {
     "name": "stderr",
     "output_type": "stream",
     "text": [
      "170it [35:12, 11.72s/it]"
     ]
    },
    {
     "name": "stdout",
     "output_type": "stream",
     "text": [
      "---DECISION: GENERATION ADDRESSES QUESTION---\n",
      "---ROUTE QUESTION---\n",
      "---ROUTE QUESTION TO VECTOR STORE---\n",
      "---GENERATE DOCUMENT---\n",
      "---RETRIEVE---\n",
      "---CHECK DOCUMENT RELEVANCE TO QUESTION---\n",
      "---GRADE DOCUMENT (1/4)---\n",
      "---GRADE: DOCUMENT NOT RELEVANT---\n",
      "---GRADE DOCUMENT (2/4)---\n",
      "---GRADE: DOCUMENT NOT RELEVANT---\n",
      "---GRADE DOCUMENT (3/4)---\n",
      "---GRADE: DOCUMENT NOT RELEVANT---\n",
      "---GRADE DOCUMENT (4/4)---\n",
      "---GRADE: DOCUMENT NOT RELEVANT---\n",
      "final len 0\n",
      "---ASSESS GRADED DOCUMENTS---\n",
      "---DECISION: ALL DOCUMENTS ARE NOT RELEVANT TO QUESTION, INCLUDE WEB SEARCH---\n",
      "---WEB SEARCH---\n",
      "---GENERATE---\n",
      "---CHECK HALLUCINATIONS---\n",
      "---DECISION: GENERATION IS GROUNDED IN DOCUMENTS---\n",
      "---GRADE GENERATION vs QUESTION---\n"
     ]
    },
    {
     "name": "stderr",
     "output_type": "stream",
     "text": [
      "171it [35:26, 12.44s/it]"
     ]
    },
    {
     "name": "stdout",
     "output_type": "stream",
     "text": [
      "---DECISION: GENERATION ADDRESSES QUESTION---\n",
      "---ROUTE QUESTION---\n",
      "---ROUTE QUESTION TO VECTOR STORE---\n",
      "---GENERATE DOCUMENT---\n",
      "---RETRIEVE---\n",
      "---CHECK DOCUMENT RELEVANCE TO QUESTION---\n",
      "---GRADE DOCUMENT (1/4)---\n",
      "---GRADE: DOCUMENT NOT RELEVANT---\n",
      "---GRADE DOCUMENT (2/4)---\n",
      "---GRADE: DOCUMENT NOT RELEVANT---\n",
      "---GRADE DOCUMENT (3/4)---\n",
      "---GRADE: DOCUMENT NOT RELEVANT---\n",
      "---GRADE DOCUMENT (4/4)---\n",
      "---GRADE: DOCUMENT NOT RELEVANT---\n",
      "final len 0\n",
      "---ASSESS GRADED DOCUMENTS---\n",
      "---DECISION: ALL DOCUMENTS ARE NOT RELEVANT TO QUESTION, INCLUDE WEB SEARCH---\n",
      "---WEB SEARCH---\n",
      "---GENERATE---\n",
      "---CHECK HALLUCINATIONS---\n",
      "---DECISION: GENERATION IS GROUNDED IN DOCUMENTS---\n",
      "---GRADE GENERATION vs QUESTION---\n"
     ]
    },
    {
     "name": "stderr",
     "output_type": "stream",
     "text": [
      "172it [35:41, 13.09s/it]"
     ]
    },
    {
     "name": "stdout",
     "output_type": "stream",
     "text": [
      "---DECISION: GENERATION ADDRESSES QUESTION---\n",
      "---ROUTE QUESTION---\n",
      "---ROUTE QUESTION TO VECTOR STORE---\n",
      "---GENERATE DOCUMENT---\n",
      "---RETRIEVE---\n",
      "---CHECK DOCUMENT RELEVANCE TO QUESTION---\n",
      "---GRADE DOCUMENT (1/4)---\n",
      "---GRADE: DOCUMENT NOT RELEVANT---\n",
      "---GRADE DOCUMENT (2/4)---\n",
      "---GRADE: DOCUMENT NOT RELEVANT---\n",
      "---GRADE DOCUMENT (3/4)---\n",
      "---GRADE: DOCUMENT NOT RELEVANT---\n",
      "---GRADE DOCUMENT (4/4)---\n",
      "---GRADE: DOCUMENT NOT RELEVANT---\n",
      "final len 0\n",
      "---ASSESS GRADED DOCUMENTS---\n",
      "---DECISION: ALL DOCUMENTS ARE NOT RELEVANT TO QUESTION, INCLUDE WEB SEARCH---\n",
      "---WEB SEARCH---\n",
      "---GENERATE---\n",
      "---CHECK HALLUCINATIONS---\n",
      "---DECISION: GENERATION IS GROUNDED IN DOCUMENTS---\n",
      "---GRADE GENERATION vs QUESTION---\n"
     ]
    },
    {
     "name": "stderr",
     "output_type": "stream",
     "text": [
      "173it [35:51, 12.05s/it]"
     ]
    },
    {
     "name": "stdout",
     "output_type": "stream",
     "text": [
      "---DECISION: GENERATION ADDRESSES QUESTION---\n",
      "---ROUTE QUESTION---\n",
      "---ROUTE QUESTION TO VECTOR STORE---\n",
      "---GENERATE DOCUMENT---\n",
      "---RETRIEVE---\n",
      "---CHECK DOCUMENT RELEVANCE TO QUESTION---\n",
      "---GRADE DOCUMENT (1/4)---\n",
      "---GRADE: DOCUMENT NOT RELEVANT---\n",
      "---GRADE DOCUMENT (2/4)---\n",
      "---GRADE: DOCUMENT NOT RELEVANT---\n",
      "---GRADE DOCUMENT (3/4)---\n",
      "---GRADE: DOCUMENT NOT RELEVANT---\n",
      "---GRADE DOCUMENT (4/4)---\n",
      "---GRADE: DOCUMENT NOT RELEVANT---\n",
      "final len 0\n",
      "---ASSESS GRADED DOCUMENTS---\n",
      "---DECISION: ALL DOCUMENTS ARE NOT RELEVANT TO QUESTION, INCLUDE WEB SEARCH---\n",
      "---WEB SEARCH---\n",
      "---GENERATE---\n",
      "---CHECK HALLUCINATIONS---\n",
      "---DECISION: GENERATION IS GROUNDED IN DOCUMENTS---\n",
      "---GRADE GENERATION vs QUESTION---\n"
     ]
    },
    {
     "name": "stderr",
     "output_type": "stream",
     "text": [
      "174it [36:02, 11.93s/it]"
     ]
    },
    {
     "name": "stdout",
     "output_type": "stream",
     "text": [
      "---DECISION: GENERATION ADDRESSES QUESTION---\n",
      "---ROUTE QUESTION---\n",
      "---ROUTE QUESTION TO VECTOR STORE---\n",
      "---GENERATE DOCUMENT---\n",
      "---RETRIEVE---\n",
      "---CHECK DOCUMENT RELEVANCE TO QUESTION---\n",
      "---GRADE DOCUMENT (1/4)---\n",
      "---GRADE: DOCUMENT NOT RELEVANT---\n",
      "---GRADE DOCUMENT (2/4)---\n",
      "---GRADE: DOCUMENT RELEVANT---\n",
      "---GRADE DOCUMENT (3/4)---\n",
      "---GRADE: DOCUMENT NOT RELEVANT---\n",
      "---GRADE DOCUMENT (4/4)---\n",
      "---GRADE: DOCUMENT NOT RELEVANT---\n",
      "final len 1\n",
      "---ASSESS GRADED DOCUMENTS---\n",
      "---DECISION: ALL DOCUMENTS ARE NOT RELEVANT TO QUESTION, INCLUDE WEB SEARCH---\n",
      "---WEB SEARCH---\n",
      "---GENERATE---\n",
      "---CHECK HALLUCINATIONS---\n",
      "---DECISION: GENERATION IS GROUNDED IN DOCUMENTS---\n",
      "---GRADE GENERATION vs QUESTION---\n"
     ]
    },
    {
     "name": "stderr",
     "output_type": "stream",
     "text": [
      "175it [36:18, 12.96s/it]"
     ]
    },
    {
     "name": "stdout",
     "output_type": "stream",
     "text": [
      "---DECISION: GENERATION ADDRESSES QUESTION---\n",
      "---ROUTE QUESTION---\n",
      "---ROUTE QUESTION TO VECTOR STORE---\n",
      "---GENERATE DOCUMENT---\n",
      "---RETRIEVE---\n",
      "---CHECK DOCUMENT RELEVANCE TO QUESTION---\n",
      "---GRADE DOCUMENT (1/4)---\n",
      "---GRADE: DOCUMENT NOT RELEVANT---\n",
      "---GRADE DOCUMENT (2/4)---\n",
      "---GRADE: DOCUMENT NOT RELEVANT---\n",
      "---GRADE DOCUMENT (3/4)---\n",
      "---GRADE: DOCUMENT NOT RELEVANT---\n",
      "---GRADE DOCUMENT (4/4)---\n",
      "---GRADE: DOCUMENT NOT RELEVANT---\n",
      "final len 0\n",
      "---ASSESS GRADED DOCUMENTS---\n",
      "---DECISION: ALL DOCUMENTS ARE NOT RELEVANT TO QUESTION, INCLUDE WEB SEARCH---\n",
      "---WEB SEARCH---\n",
      "---GENERATE---\n",
      "---CHECK HALLUCINATIONS---\n",
      "---DECISION: GENERATION IS GROUNDED IN DOCUMENTS---\n",
      "---GRADE GENERATION vs QUESTION---\n"
     ]
    },
    {
     "name": "stderr",
     "output_type": "stream",
     "text": [
      "176it [36:33, 13.72s/it]"
     ]
    },
    {
     "name": "stdout",
     "output_type": "stream",
     "text": [
      "---DECISION: GENERATION ADDRESSES QUESTION---\n",
      "---ROUTE QUESTION---\n",
      "---ROUTE QUESTION TO VECTOR STORE---\n",
      "---GENERATE DOCUMENT---\n",
      "---RETRIEVE---\n",
      "---CHECK DOCUMENT RELEVANCE TO QUESTION---\n",
      "---GRADE DOCUMENT (1/4)---\n",
      "---GRADE: DOCUMENT NOT RELEVANT---\n",
      "---GRADE DOCUMENT (2/4)---\n",
      "---GRADE: DOCUMENT NOT RELEVANT---\n",
      "---GRADE DOCUMENT (3/4)---\n",
      "---GRADE: DOCUMENT NOT RELEVANT---\n",
      "---GRADE DOCUMENT (4/4)---\n",
      "---GRADE: DOCUMENT NOT RELEVANT---\n",
      "final len 0\n",
      "---ASSESS GRADED DOCUMENTS---\n",
      "---DECISION: ALL DOCUMENTS ARE NOT RELEVANT TO QUESTION, INCLUDE WEB SEARCH---\n",
      "---WEB SEARCH---\n",
      "---GENERATE---\n",
      "---CHECK HALLUCINATIONS---\n",
      "---DECISION: GENERATION IS GROUNDED IN DOCUMENTS---\n",
      "---GRADE GENERATION vs QUESTION---\n"
     ]
    },
    {
     "name": "stderr",
     "output_type": "stream",
     "text": [
      "177it [36:58, 17.09s/it]"
     ]
    },
    {
     "name": "stdout",
     "output_type": "stream",
     "text": [
      "---DECISION: GENERATION ADDRESSES QUESTION---\n",
      "---ROUTE QUESTION---\n",
      "---ROUTE QUESTION TO VECTOR STORE---\n",
      "---GENERATE DOCUMENT---\n",
      "---RETRIEVE---\n",
      "---CHECK DOCUMENT RELEVANCE TO QUESTION---\n",
      "---GRADE DOCUMENT (1/4)---\n",
      "---GRADE: DOCUMENT NOT RELEVANT---\n",
      "---GRADE DOCUMENT (2/4)---\n",
      "---GRADE: DOCUMENT NOT RELEVANT---\n",
      "---GRADE DOCUMENT (3/4)---\n",
      "---GRADE: DOCUMENT NOT RELEVANT---\n",
      "---GRADE DOCUMENT (4/4)---\n",
      "---GRADE: DOCUMENT NOT RELEVANT---\n",
      "final len 0\n",
      "---ASSESS GRADED DOCUMENTS---\n",
      "---DECISION: ALL DOCUMENTS ARE NOT RELEVANT TO QUESTION, INCLUDE WEB SEARCH---\n",
      "---WEB SEARCH---\n",
      "---GENERATE---\n",
      "---CHECK HALLUCINATIONS---\n",
      "---DECISION: GENERATION IS GROUNDED IN DOCUMENTS---\n",
      "---GRADE GENERATION vs QUESTION---\n"
     ]
    },
    {
     "name": "stderr",
     "output_type": "stream",
     "text": [
      "178it [37:10, 15.67s/it]"
     ]
    },
    {
     "name": "stdout",
     "output_type": "stream",
     "text": [
      "---DECISION: GENERATION ADDRESSES QUESTION---\n",
      "---ROUTE QUESTION---\n",
      "---ROUTE QUESTION TO VECTOR STORE---\n",
      "---GENERATE DOCUMENT---\n",
      "---RETRIEVE---\n",
      "---CHECK DOCUMENT RELEVANCE TO QUESTION---\n",
      "---GRADE DOCUMENT (1/4)---\n",
      "---GRADE: DOCUMENT NOT RELEVANT---\n",
      "---GRADE DOCUMENT (2/4)---\n",
      "---GRADE: DOCUMENT NOT RELEVANT---\n",
      "---GRADE DOCUMENT (3/4)---\n",
      "---GRADE: DOCUMENT NOT RELEVANT---\n",
      "---GRADE DOCUMENT (4/4)---\n",
      "---GRADE: DOCUMENT NOT RELEVANT---\n",
      "final len 0\n",
      "---ASSESS GRADED DOCUMENTS---\n",
      "---DECISION: ALL DOCUMENTS ARE NOT RELEVANT TO QUESTION, INCLUDE WEB SEARCH---\n",
      "---WEB SEARCH---\n",
      "---GENERATE---\n",
      "---CHECK HALLUCINATIONS---\n",
      "---DECISION: GENERATION IS GROUNDED IN DOCUMENTS---\n",
      "---GRADE GENERATION vs QUESTION---\n"
     ]
    },
    {
     "name": "stderr",
     "output_type": "stream",
     "text": [
      "179it [37:19, 13.63s/it]"
     ]
    },
    {
     "name": "stdout",
     "output_type": "stream",
     "text": [
      "---DECISION: GENERATION ADDRESSES QUESTION---\n",
      "---ROUTE QUESTION---\n",
      "---ROUTE QUESTION TO VECTOR STORE---\n",
      "---GENERATE DOCUMENT---\n",
      "---RETRIEVE---\n",
      "---CHECK DOCUMENT RELEVANCE TO QUESTION---\n",
      "---GRADE DOCUMENT (1/4)---\n",
      "---GRADE: DOCUMENT NOT RELEVANT---\n",
      "---GRADE DOCUMENT (2/4)---\n",
      "---GRADE: DOCUMENT NOT RELEVANT---\n",
      "---GRADE DOCUMENT (3/4)---\n",
      "---GRADE: DOCUMENT NOT RELEVANT---\n",
      "---GRADE DOCUMENT (4/4)---\n",
      "---GRADE: DOCUMENT NOT RELEVANT---\n",
      "final len 0\n",
      "---ASSESS GRADED DOCUMENTS---\n",
      "---DECISION: ALL DOCUMENTS ARE NOT RELEVANT TO QUESTION, INCLUDE WEB SEARCH---\n",
      "---WEB SEARCH---\n",
      "---GENERATE---\n",
      "---CHECK HALLUCINATIONS---\n",
      "---DECISION: GENERATION IS GROUNDED IN DOCUMENTS---\n",
      "---GRADE GENERATION vs QUESTION---\n"
     ]
    },
    {
     "name": "stderr",
     "output_type": "stream",
     "text": [
      "180it [37:28, 12.21s/it]"
     ]
    },
    {
     "name": "stdout",
     "output_type": "stream",
     "text": [
      "---DECISION: GENERATION ADDRESSES QUESTION---\n",
      "---ROUTE QUESTION---\n",
      "---ROUTE QUESTION TO VECTOR STORE---\n",
      "---GENERATE DOCUMENT---\n",
      "---RETRIEVE---\n",
      "---CHECK DOCUMENT RELEVANCE TO QUESTION---\n",
      "---GRADE DOCUMENT (1/4)---\n",
      "---GRADE: DOCUMENT NOT RELEVANT---\n",
      "---GRADE DOCUMENT (2/4)---\n",
      "---GRADE: DOCUMENT NOT RELEVANT---\n",
      "---GRADE DOCUMENT (3/4)---\n",
      "---GRADE: DOCUMENT NOT RELEVANT---\n",
      "---GRADE DOCUMENT (4/4)---\n",
      "---GRADE: DOCUMENT NOT RELEVANT---\n",
      "final len 0\n",
      "---ASSESS GRADED DOCUMENTS---\n",
      "---DECISION: ALL DOCUMENTS ARE NOT RELEVANT TO QUESTION, INCLUDE WEB SEARCH---\n",
      "---WEB SEARCH---\n",
      "---GENERATE---\n",
      "---CHECK HALLUCINATIONS---\n",
      "---DECISION: GENERATION IS GROUNDED IN DOCUMENTS---\n",
      "---GRADE GENERATION vs QUESTION---\n"
     ]
    },
    {
     "name": "stderr",
     "output_type": "stream",
     "text": [
      "181it [37:40, 11.97s/it]"
     ]
    },
    {
     "name": "stdout",
     "output_type": "stream",
     "text": [
      "---DECISION: GENERATION ADDRESSES QUESTION---\n",
      "---ROUTE QUESTION---\n",
      "---ROUTE QUESTION TO VECTOR STORE---\n",
      "---GENERATE DOCUMENT---\n",
      "---RETRIEVE---\n",
      "---CHECK DOCUMENT RELEVANCE TO QUESTION---\n",
      "---GRADE DOCUMENT (1/4)---\n",
      "---GRADE: DOCUMENT NOT RELEVANT---\n",
      "---GRADE DOCUMENT (2/4)---\n",
      "---GRADE: DOCUMENT NOT RELEVANT---\n",
      "---GRADE DOCUMENT (3/4)---\n",
      "---GRADE: DOCUMENT NOT RELEVANT---\n",
      "---GRADE DOCUMENT (4/4)---\n",
      "---GRADE: DOCUMENT NOT RELEVANT---\n",
      "final len 0\n",
      "---ASSESS GRADED DOCUMENTS---\n",
      "---DECISION: ALL DOCUMENTS ARE NOT RELEVANT TO QUESTION, INCLUDE WEB SEARCH---\n",
      "---WEB SEARCH---\n",
      "---GENERATE---\n",
      "---CHECK HALLUCINATIONS---\n",
      "---DECISION: GENERATION IS NOT GROUNDED IN DOCUMENTS, RE-TRY---\n",
      "---GENERATE---\n"
     ]
    },
    {
     "name": "stderr",
     "output_type": "stream",
     "text": [
      "182it [37:56, 13.20s/it]"
     ]
    },
    {
     "name": "stdout",
     "output_type": "stream",
     "text": [
      "---CHECK HALLUCINATIONS---\n",
      "---ROUTE QUESTION---\n",
      "---ROUTE QUESTION TO VECTOR STORE---\n",
      "---GENERATE DOCUMENT---\n",
      "---RETRIEVE---\n",
      "---CHECK DOCUMENT RELEVANCE TO QUESTION---\n",
      "---GRADE DOCUMENT (1/4)---\n",
      "---GRADE: DOCUMENT NOT RELEVANT---\n",
      "---GRADE DOCUMENT (2/4)---\n",
      "---GRADE: DOCUMENT NOT RELEVANT---\n",
      "---GRADE DOCUMENT (3/4)---\n",
      "---GRADE: DOCUMENT NOT RELEVANT---\n",
      "---GRADE DOCUMENT (4/4)---\n",
      "---GRADE: DOCUMENT NOT RELEVANT---\n",
      "final len 0\n",
      "---ASSESS GRADED DOCUMENTS---\n",
      "---DECISION: ALL DOCUMENTS ARE NOT RELEVANT TO QUESTION, INCLUDE WEB SEARCH---\n",
      "---WEB SEARCH---\n",
      "---GENERATE---\n",
      "---CHECK HALLUCINATIONS---\n",
      "---DECISION: GENERATION IS GROUNDED IN DOCUMENTS---\n",
      "---GRADE GENERATION vs QUESTION---\n"
     ]
    },
    {
     "name": "stderr",
     "output_type": "stream",
     "text": [
      "183it [38:05, 12.18s/it]"
     ]
    },
    {
     "name": "stdout",
     "output_type": "stream",
     "text": [
      "---DECISION: GENERATION ADDRESSES QUESTION---\n",
      "---ROUTE QUESTION---\n",
      "---ROUTE QUESTION TO VECTOR STORE---\n",
      "---GENERATE DOCUMENT---\n",
      "---RETRIEVE---\n",
      "---CHECK DOCUMENT RELEVANCE TO QUESTION---\n",
      "---GRADE DOCUMENT (1/4)---\n",
      "---GRADE: DOCUMENT RELEVANT---\n",
      "---GRADE DOCUMENT (2/4)---\n",
      "---GRADE: DOCUMENT NOT RELEVANT---\n",
      "---GRADE DOCUMENT (3/4)---\n",
      "---GRADE: DOCUMENT RELEVANT---\n",
      "---GRADE DOCUMENT (4/4)---\n",
      "---GRADE: DOCUMENT NOT RELEVANT---\n",
      "final len 2\n",
      "---ASSESS GRADED DOCUMENTS---\n",
      "---DECISION: ALL DOCUMENTS ARE NOT RELEVANT TO QUESTION, INCLUDE WEB SEARCH---\n",
      "---WEB SEARCH---\n",
      "---GENERATE---\n",
      "---CHECK HALLUCINATIONS---\n",
      "---DECISION: GENERATION IS GROUNDED IN DOCUMENTS---\n",
      "---GRADE GENERATION vs QUESTION---\n"
     ]
    },
    {
     "name": "stderr",
     "output_type": "stream",
     "text": [
      "184it [38:16, 11.67s/it]"
     ]
    },
    {
     "name": "stdout",
     "output_type": "stream",
     "text": [
      "---DECISION: GENERATION ADDRESSES QUESTION---\n",
      "---ROUTE QUESTION---\n",
      "---ROUTE QUESTION TO VECTOR STORE---\n",
      "---GENERATE DOCUMENT---\n",
      "---RETRIEVE---\n",
      "---CHECK DOCUMENT RELEVANCE TO QUESTION---\n",
      "---GRADE DOCUMENT (1/4)---\n",
      "---GRADE: DOCUMENT NOT RELEVANT---\n",
      "---GRADE DOCUMENT (2/4)---\n",
      "---GRADE: DOCUMENT NOT RELEVANT---\n",
      "---GRADE DOCUMENT (3/4)---\n",
      "---GRADE: DOCUMENT NOT RELEVANT---\n",
      "---GRADE DOCUMENT (4/4)---\n",
      "---GRADE: DOCUMENT NOT RELEVANT---\n",
      "final len 0\n",
      "---ASSESS GRADED DOCUMENTS---\n",
      "---DECISION: ALL DOCUMENTS ARE NOT RELEVANT TO QUESTION, INCLUDE WEB SEARCH---\n",
      "---WEB SEARCH---\n",
      "---GENERATE---\n",
      "---CHECK HALLUCINATIONS---\n",
      "---DECISION: GENERATION IS GROUNDED IN DOCUMENTS---\n",
      "---GRADE GENERATION vs QUESTION---\n"
     ]
    },
    {
     "name": "stderr",
     "output_type": "stream",
     "text": [
      "185it [38:25, 10.85s/it]"
     ]
    },
    {
     "name": "stdout",
     "output_type": "stream",
     "text": [
      "---DECISION: GENERATION ADDRESSES QUESTION---\n",
      "---ROUTE QUESTION---\n",
      "---ROUTE QUESTION TO VECTOR STORE---\n",
      "---GENERATE DOCUMENT---\n",
      "---RETRIEVE---\n",
      "---CHECK DOCUMENT RELEVANCE TO QUESTION---\n",
      "---GRADE DOCUMENT (1/4)---\n",
      "---GRADE: DOCUMENT NOT RELEVANT---\n",
      "---GRADE DOCUMENT (2/4)---\n",
      "---GRADE: DOCUMENT NOT RELEVANT---\n",
      "---GRADE DOCUMENT (3/4)---\n",
      "---GRADE: DOCUMENT NOT RELEVANT---\n",
      "---GRADE DOCUMENT (4/4)---\n",
      "---GRADE: DOCUMENT NOT RELEVANT---\n",
      "final len 0\n",
      "---ASSESS GRADED DOCUMENTS---\n",
      "---DECISION: ALL DOCUMENTS ARE NOT RELEVANT TO QUESTION, INCLUDE WEB SEARCH---\n",
      "---WEB SEARCH---\n",
      "---GENERATE---\n",
      "---CHECK HALLUCINATIONS---\n",
      "---DECISION: GENERATION IS GROUNDED IN DOCUMENTS---\n",
      "---GRADE GENERATION vs QUESTION---\n"
     ]
    },
    {
     "name": "stderr",
     "output_type": "stream",
     "text": [
      "186it [38:37, 11.21s/it]"
     ]
    },
    {
     "name": "stdout",
     "output_type": "stream",
     "text": [
      "---DECISION: GENERATION ADDRESSES QUESTION---\n",
      "---ROUTE QUESTION---\n",
      "---ROUTE QUESTION TO VECTOR STORE---\n",
      "---GENERATE DOCUMENT---\n",
      "---RETRIEVE---\n",
      "---CHECK DOCUMENT RELEVANCE TO QUESTION---\n",
      "---GRADE DOCUMENT (1/4)---\n",
      "---GRADE: DOCUMENT NOT RELEVANT---\n",
      "---GRADE DOCUMENT (2/4)---\n",
      "---GRADE: DOCUMENT NOT RELEVANT---\n",
      "---GRADE DOCUMENT (3/4)---\n",
      "---GRADE: DOCUMENT NOT RELEVANT---\n",
      "---GRADE DOCUMENT (4/4)---\n",
      "---GRADE: DOCUMENT NOT RELEVANT---\n",
      "final len 0\n",
      "---ASSESS GRADED DOCUMENTS---\n",
      "---DECISION: ALL DOCUMENTS ARE NOT RELEVANT TO QUESTION, INCLUDE WEB SEARCH---\n",
      "---WEB SEARCH---\n",
      "---GENERATE---\n",
      "---CHECK HALLUCINATIONS---\n",
      "---DECISION: GENERATION IS GROUNDED IN DOCUMENTS---\n",
      "---GRADE GENERATION vs QUESTION---\n"
     ]
    },
    {
     "name": "stderr",
     "output_type": "stream",
     "text": [
      "187it [38:48, 11.12s/it]"
     ]
    },
    {
     "name": "stdout",
     "output_type": "stream",
     "text": [
      "---DECISION: GENERATION ADDRESSES QUESTION---\n",
      "---ROUTE QUESTION---\n",
      "---ROUTE QUESTION TO VECTOR STORE---\n",
      "---GENERATE DOCUMENT---\n",
      "---RETRIEVE---\n",
      "---CHECK DOCUMENT RELEVANCE TO QUESTION---\n",
      "---GRADE DOCUMENT (1/4)---\n",
      "---GRADE: DOCUMENT RELEVANT---\n",
      "---GRADE DOCUMENT (2/4)---\n",
      "---GRADE: DOCUMENT NOT RELEVANT---\n",
      "---GRADE DOCUMENT (3/4)---\n",
      "---GRADE: DOCUMENT NOT RELEVANT---\n",
      "---GRADE DOCUMENT (4/4)---\n",
      "---GRADE: DOCUMENT NOT RELEVANT---\n",
      "final len 1\n",
      "---ASSESS GRADED DOCUMENTS---\n",
      "---DECISION: ALL DOCUMENTS ARE NOT RELEVANT TO QUESTION, INCLUDE WEB SEARCH---\n",
      "---WEB SEARCH---\n",
      "---GENERATE---\n",
      "---CHECK HALLUCINATIONS---\n",
      "---DECISION: GENERATION IS GROUNDED IN DOCUMENTS---\n",
      "---GRADE GENERATION vs QUESTION---\n"
     ]
    },
    {
     "name": "stderr",
     "output_type": "stream",
     "text": [
      "188it [38:58, 10.92s/it]"
     ]
    },
    {
     "name": "stdout",
     "output_type": "stream",
     "text": [
      "---DECISION: GENERATION ADDRESSES QUESTION---\n",
      "---ROUTE QUESTION---\n",
      "---ROUTE QUESTION TO VECTOR STORE---\n",
      "---GENERATE DOCUMENT---\n",
      "---RETRIEVE---\n",
      "---CHECK DOCUMENT RELEVANCE TO QUESTION---\n",
      "---GRADE DOCUMENT (1/4)---\n",
      "---GRADE: DOCUMENT NOT RELEVANT---\n",
      "---GRADE DOCUMENT (2/4)---\n",
      "---GRADE: DOCUMENT NOT RELEVANT---\n",
      "---GRADE DOCUMENT (3/4)---\n",
      "---GRADE: DOCUMENT NOT RELEVANT---\n",
      "---GRADE DOCUMENT (4/4)---\n",
      "---GRADE: DOCUMENT NOT RELEVANT---\n",
      "final len 0\n",
      "---ASSESS GRADED DOCUMENTS---\n",
      "---DECISION: ALL DOCUMENTS ARE NOT RELEVANT TO QUESTION, INCLUDE WEB SEARCH---\n",
      "---WEB SEARCH---\n",
      "---GENERATE---\n",
      "---CHECK HALLUCINATIONS---\n",
      "---DECISION: GENERATION IS GROUNDED IN DOCUMENTS---\n",
      "---GRADE GENERATION vs QUESTION---\n"
     ]
    },
    {
     "name": "stderr",
     "output_type": "stream",
     "text": [
      "189it [39:10, 11.21s/it]"
     ]
    },
    {
     "name": "stdout",
     "output_type": "stream",
     "text": [
      "---DECISION: GENERATION ADDRESSES QUESTION---\n",
      "---ROUTE QUESTION---\n",
      "---ROUTE QUESTION TO VECTOR STORE---\n",
      "---GENERATE DOCUMENT---\n",
      "---RETRIEVE---\n",
      "---CHECK DOCUMENT RELEVANCE TO QUESTION---\n",
      "---GRADE DOCUMENT (1/4)---\n",
      "---GRADE: DOCUMENT NOT RELEVANT---\n",
      "---GRADE DOCUMENT (2/4)---\n",
      "---GRADE: DOCUMENT NOT RELEVANT---\n",
      "---GRADE DOCUMENT (3/4)---\n",
      "---GRADE: DOCUMENT NOT RELEVANT---\n",
      "---GRADE DOCUMENT (4/4)---\n",
      "---GRADE: DOCUMENT NOT RELEVANT---\n",
      "final len 0\n",
      "---ASSESS GRADED DOCUMENTS---\n",
      "---DECISION: ALL DOCUMENTS ARE NOT RELEVANT TO QUESTION, INCLUDE WEB SEARCH---\n",
      "---WEB SEARCH---\n",
      "---GENERATE---\n",
      "---CHECK HALLUCINATIONS---\n",
      "---DECISION: GENERATION IS GROUNDED IN DOCUMENTS---\n",
      "---GRADE GENERATION vs QUESTION---\n",
      "---DECISION: GENERATION DOES NOT ADDRESS QUESTION---\n",
      "---WEB SEARCH---\n",
      "---GENERATE---\n"
     ]
    },
    {
     "name": "stderr",
     "output_type": "stream",
     "text": [
      "190it [39:31, 14.05s/it]"
     ]
    },
    {
     "name": "stdout",
     "output_type": "stream",
     "text": [
      "---CHECK HALLUCINATIONS---\n",
      "---ROUTE QUESTION---\n",
      "---ROUTE QUESTION TO VECTOR STORE---\n",
      "---GENERATE DOCUMENT---\n",
      "---RETRIEVE---\n",
      "---CHECK DOCUMENT RELEVANCE TO QUESTION---\n",
      "---GRADE DOCUMENT (1/4)---\n",
      "---GRADE: DOCUMENT NOT RELEVANT---\n",
      "---GRADE DOCUMENT (2/4)---\n",
      "---GRADE: DOCUMENT NOT RELEVANT---\n",
      "---GRADE DOCUMENT (3/4)---\n",
      "---GRADE: DOCUMENT NOT RELEVANT---\n",
      "---GRADE DOCUMENT (4/4)---\n",
      "---GRADE: DOCUMENT NOT RELEVANT---\n",
      "final len 0\n",
      "---ASSESS GRADED DOCUMENTS---\n",
      "---DECISION: ALL DOCUMENTS ARE NOT RELEVANT TO QUESTION, INCLUDE WEB SEARCH---\n",
      "---WEB SEARCH---\n",
      "---GENERATE---\n",
      "---CHECK HALLUCINATIONS---\n",
      "---DECISION: GENERATION IS GROUNDED IN DOCUMENTS---\n",
      "---GRADE GENERATION vs QUESTION---\n"
     ]
    },
    {
     "name": "stderr",
     "output_type": "stream",
     "text": [
      "191it [39:43, 13.41s/it]"
     ]
    },
    {
     "name": "stdout",
     "output_type": "stream",
     "text": [
      "---DECISION: GENERATION ADDRESSES QUESTION---\n",
      "---ROUTE QUESTION---\n",
      "---ROUTE QUESTION TO VECTOR STORE---\n",
      "---GENERATE DOCUMENT---\n",
      "---RETRIEVE---\n",
      "---CHECK DOCUMENT RELEVANCE TO QUESTION---\n",
      "---GRADE DOCUMENT (1/4)---\n",
      "---GRADE: DOCUMENT NOT RELEVANT---\n",
      "---GRADE DOCUMENT (2/4)---\n",
      "---GRADE: DOCUMENT NOT RELEVANT---\n",
      "---GRADE DOCUMENT (3/4)---\n",
      "---GRADE: DOCUMENT NOT RELEVANT---\n",
      "---GRADE DOCUMENT (4/4)---\n",
      "---GRADE: DOCUMENT NOT RELEVANT---\n",
      "final len 0\n",
      "---ASSESS GRADED DOCUMENTS---\n",
      "---DECISION: ALL DOCUMENTS ARE NOT RELEVANT TO QUESTION, INCLUDE WEB SEARCH---\n",
      "---WEB SEARCH---\n",
      "---GENERATE---\n",
      "---CHECK HALLUCINATIONS---\n",
      "---DECISION: GENERATION IS GROUNDED IN DOCUMENTS---\n",
      "---GRADE GENERATION vs QUESTION---\n"
     ]
    },
    {
     "name": "stderr",
     "output_type": "stream",
     "text": [
      "192it [39:56, 13.44s/it]"
     ]
    },
    {
     "name": "stdout",
     "output_type": "stream",
     "text": [
      "---DECISION: GENERATION ADDRESSES QUESTION---\n",
      "---ROUTE QUESTION---\n",
      "---ROUTE QUESTION TO VECTOR STORE---\n",
      "---GENERATE DOCUMENT---\n",
      "---RETRIEVE---\n",
      "---CHECK DOCUMENT RELEVANCE TO QUESTION---\n",
      "---GRADE DOCUMENT (1/4)---\n",
      "---GRADE: DOCUMENT NOT RELEVANT---\n",
      "---GRADE DOCUMENT (2/4)---\n",
      "---GRADE: DOCUMENT NOT RELEVANT---\n",
      "---GRADE DOCUMENT (3/4)---\n",
      "---GRADE: DOCUMENT NOT RELEVANT---\n",
      "---GRADE DOCUMENT (4/4)---\n",
      "---GRADE: DOCUMENT NOT RELEVANT---\n",
      "final len 0\n",
      "---ASSESS GRADED DOCUMENTS---\n",
      "---DECISION: ALL DOCUMENTS ARE NOT RELEVANT TO QUESTION, INCLUDE WEB SEARCH---\n",
      "---WEB SEARCH---\n",
      "---GENERATE---\n",
      "---CHECK HALLUCINATIONS---\n",
      "---DECISION: GENERATION IS GROUNDED IN DOCUMENTS---\n",
      "---GRADE GENERATION vs QUESTION---\n"
     ]
    },
    {
     "name": "stderr",
     "output_type": "stream",
     "text": [
      "193it [40:06, 12.33s/it]"
     ]
    },
    {
     "name": "stdout",
     "output_type": "stream",
     "text": [
      "---DECISION: GENERATION ADDRESSES QUESTION---\n",
      "---ROUTE QUESTION---\n",
      "---ROUTE QUESTION TO VECTOR STORE---\n",
      "---GENERATE DOCUMENT---\n",
      "---RETRIEVE---\n",
      "---CHECK DOCUMENT RELEVANCE TO QUESTION---\n",
      "---GRADE DOCUMENT (1/4)---\n",
      "---GRADE: DOCUMENT NOT RELEVANT---\n",
      "---GRADE DOCUMENT (2/4)---\n",
      "---GRADE: DOCUMENT NOT RELEVANT---\n",
      "---GRADE DOCUMENT (3/4)---\n",
      "---GRADE: DOCUMENT NOT RELEVANT---\n",
      "---GRADE DOCUMENT (4/4)---\n",
      "---GRADE: DOCUMENT NOT RELEVANT---\n",
      "final len 0\n",
      "---ASSESS GRADED DOCUMENTS---\n",
      "---DECISION: ALL DOCUMENTS ARE NOT RELEVANT TO QUESTION, INCLUDE WEB SEARCH---\n",
      "---WEB SEARCH---\n",
      "---GENERATE---\n",
      "---CHECK HALLUCINATIONS---\n",
      "---DECISION: GENERATION IS GROUNDED IN DOCUMENTS---\n",
      "---GRADE GENERATION vs QUESTION---\n"
     ]
    },
    {
     "name": "stderr",
     "output_type": "stream",
     "text": [
      "194it [40:17, 12.08s/it]"
     ]
    },
    {
     "name": "stdout",
     "output_type": "stream",
     "text": [
      "---DECISION: GENERATION ADDRESSES QUESTION---\n",
      "---ROUTE QUESTION---\n",
      "---ROUTE QUESTION TO VECTOR STORE---\n",
      "---GENERATE DOCUMENT---\n",
      "---RETRIEVE---\n",
      "---CHECK DOCUMENT RELEVANCE TO QUESTION---\n",
      "---GRADE DOCUMENT (1/4)---\n",
      "---GRADE: DOCUMENT NOT RELEVANT---\n",
      "---GRADE DOCUMENT (2/4)---\n",
      "---GRADE: DOCUMENT NOT RELEVANT---\n",
      "---GRADE DOCUMENT (3/4)---\n",
      "---GRADE: DOCUMENT NOT RELEVANT---\n",
      "---GRADE DOCUMENT (4/4)---\n",
      "---GRADE: DOCUMENT NOT RELEVANT---\n",
      "final len 0\n",
      "---ASSESS GRADED DOCUMENTS---\n",
      "---DECISION: ALL DOCUMENTS ARE NOT RELEVANT TO QUESTION, INCLUDE WEB SEARCH---\n",
      "---WEB SEARCH---\n",
      "---GENERATE---\n",
      "---CHECK HALLUCINATIONS---\n",
      "---DECISION: GENERATION IS GROUNDED IN DOCUMENTS---\n",
      "---GRADE GENERATION vs QUESTION---\n"
     ]
    },
    {
     "name": "stderr",
     "output_type": "stream",
     "text": [
      "195it [40:27, 11.19s/it]"
     ]
    },
    {
     "name": "stdout",
     "output_type": "stream",
     "text": [
      "---DECISION: GENERATION ADDRESSES QUESTION---\n",
      "---ROUTE QUESTION---\n",
      "---ROUTE QUESTION TO VECTOR STORE---\n",
      "---GENERATE DOCUMENT---\n",
      "---RETRIEVE---\n",
      "---CHECK DOCUMENT RELEVANCE TO QUESTION---\n",
      "---GRADE DOCUMENT (1/4)---\n",
      "---GRADE: DOCUMENT NOT RELEVANT---\n",
      "---GRADE DOCUMENT (2/4)---\n",
      "---GRADE: DOCUMENT NOT RELEVANT---\n",
      "---GRADE DOCUMENT (3/4)---\n",
      "---GRADE: DOCUMENT NOT RELEVANT---\n",
      "---GRADE DOCUMENT (4/4)---\n",
      "---GRADE: DOCUMENT NOT RELEVANT---\n",
      "final len 0\n",
      "---ASSESS GRADED DOCUMENTS---\n",
      "---DECISION: ALL DOCUMENTS ARE NOT RELEVANT TO QUESTION, INCLUDE WEB SEARCH---\n",
      "---WEB SEARCH---\n",
      "---GENERATE---\n",
      "---CHECK HALLUCINATIONS---\n",
      "---DECISION: GENERATION IS GROUNDED IN DOCUMENTS---\n",
      "---GRADE GENERATION vs QUESTION---\n"
     ]
    },
    {
     "name": "stderr",
     "output_type": "stream",
     "text": [
      "196it [40:35, 10.30s/it]"
     ]
    },
    {
     "name": "stdout",
     "output_type": "stream",
     "text": [
      "---DECISION: GENERATION ADDRESSES QUESTION---\n",
      "---ROUTE QUESTION---\n",
      "---ROUTE QUESTION TO VECTOR STORE---\n",
      "---GENERATE DOCUMENT---\n",
      "---RETRIEVE---\n",
      "---CHECK DOCUMENT RELEVANCE TO QUESTION---\n",
      "---GRADE DOCUMENT (1/4)---\n",
      "---GRADE: DOCUMENT NOT RELEVANT---\n",
      "---GRADE DOCUMENT (2/4)---\n",
      "---GRADE: DOCUMENT NOT RELEVANT---\n",
      "---GRADE DOCUMENT (3/4)---\n",
      "---GRADE: DOCUMENT NOT RELEVANT---\n",
      "---GRADE DOCUMENT (4/4)---\n",
      "---GRADE: DOCUMENT NOT RELEVANT---\n",
      "final len 0\n",
      "---ASSESS GRADED DOCUMENTS---\n",
      "---DECISION: ALL DOCUMENTS ARE NOT RELEVANT TO QUESTION, INCLUDE WEB SEARCH---\n",
      "---WEB SEARCH---\n",
      "---GENERATE---\n",
      "---CHECK HALLUCINATIONS---\n",
      "---DECISION: GENERATION IS GROUNDED IN DOCUMENTS---\n",
      "---GRADE GENERATION vs QUESTION---\n"
     ]
    },
    {
     "name": "stderr",
     "output_type": "stream",
     "text": [
      "197it [40:46, 10.47s/it]"
     ]
    },
    {
     "name": "stdout",
     "output_type": "stream",
     "text": [
      "---DECISION: GENERATION ADDRESSES QUESTION---\n",
      "---ROUTE QUESTION---\n",
      "---ROUTE QUESTION TO VECTOR STORE---\n",
      "---GENERATE DOCUMENT---\n",
      "---RETRIEVE---\n",
      "---CHECK DOCUMENT RELEVANCE TO QUESTION---\n",
      "---GRADE DOCUMENT (1/4)---\n",
      "---GRADE: DOCUMENT NOT RELEVANT---\n",
      "---GRADE DOCUMENT (2/4)---\n",
      "---GRADE: DOCUMENT NOT RELEVANT---\n",
      "---GRADE DOCUMENT (3/4)---\n",
      "---GRADE: DOCUMENT NOT RELEVANT---\n",
      "---GRADE DOCUMENT (4/4)---\n",
      "---GRADE: DOCUMENT NOT RELEVANT---\n",
      "final len 0\n",
      "---ASSESS GRADED DOCUMENTS---\n",
      "---DECISION: ALL DOCUMENTS ARE NOT RELEVANT TO QUESTION, INCLUDE WEB SEARCH---\n",
      "---WEB SEARCH---\n",
      "---GENERATE---\n",
      "---CHECK HALLUCINATIONS---\n",
      "---DECISION: GENERATION IS GROUNDED IN DOCUMENTS---\n",
      "---GRADE GENERATION vs QUESTION---\n"
     ]
    },
    {
     "name": "stderr",
     "output_type": "stream",
     "text": [
      "198it [40:59, 11.22s/it]"
     ]
    },
    {
     "name": "stdout",
     "output_type": "stream",
     "text": [
      "---DECISION: GENERATION ADDRESSES QUESTION---\n",
      "---ROUTE QUESTION---\n",
      "---ROUTE QUESTION TO VECTOR STORE---\n",
      "---GENERATE DOCUMENT---\n",
      "---RETRIEVE---\n",
      "---CHECK DOCUMENT RELEVANCE TO QUESTION---\n",
      "---GRADE DOCUMENT (1/4)---\n",
      "---GRADE: DOCUMENT NOT RELEVANT---\n",
      "---GRADE DOCUMENT (2/4)---\n",
      "---GRADE: DOCUMENT NOT RELEVANT---\n",
      "---GRADE DOCUMENT (3/4)---\n",
      "---GRADE: DOCUMENT NOT RELEVANT---\n",
      "---GRADE DOCUMENT (4/4)---\n",
      "---GRADE: DOCUMENT RELEVANT---\n",
      "final len 1\n",
      "---ASSESS GRADED DOCUMENTS---\n",
      "---DECISION: ALL DOCUMENTS ARE NOT RELEVANT TO QUESTION, INCLUDE WEB SEARCH---\n",
      "---WEB SEARCH---\n",
      "---GENERATE---\n",
      "---CHECK HALLUCINATIONS---\n",
      "---DECISION: GENERATION IS GROUNDED IN DOCUMENTS---\n",
      "---GRADE GENERATION vs QUESTION---\n"
     ]
    },
    {
     "name": "stderr",
     "output_type": "stream",
     "text": [
      "199it [41:09, 11.05s/it]"
     ]
    },
    {
     "name": "stdout",
     "output_type": "stream",
     "text": [
      "---DECISION: GENERATION ADDRESSES QUESTION---\n",
      "---ROUTE QUESTION---\n",
      "---ROUTE QUESTION TO VECTOR STORE---\n",
      "---GENERATE DOCUMENT---\n",
      "---RETRIEVE---\n",
      "---CHECK DOCUMENT RELEVANCE TO QUESTION---\n",
      "---GRADE DOCUMENT (1/4)---\n",
      "---GRADE: DOCUMENT NOT RELEVANT---\n",
      "---GRADE DOCUMENT (2/4)---\n",
      "---GRADE: DOCUMENT NOT RELEVANT---\n",
      "---GRADE DOCUMENT (3/4)---\n",
      "---GRADE: DOCUMENT NOT RELEVANT---\n",
      "---GRADE DOCUMENT (4/4)---\n",
      "---GRADE: DOCUMENT NOT RELEVANT---\n",
      "final len 0\n",
      "---ASSESS GRADED DOCUMENTS---\n",
      "---DECISION: ALL DOCUMENTS ARE NOT RELEVANT TO QUESTION, INCLUDE WEB SEARCH---\n",
      "---WEB SEARCH---\n",
      "---GENERATE---\n",
      "---CHECK HALLUCINATIONS---\n",
      "---DECISION: GENERATION IS GROUNDED IN DOCUMENTS---\n",
      "---GRADE GENERATION vs QUESTION---\n"
     ]
    },
    {
     "name": "stderr",
     "output_type": "stream",
     "text": [
      "200it [41:23, 11.79s/it]"
     ]
    },
    {
     "name": "stdout",
     "output_type": "stream",
     "text": [
      "---DECISION: GENERATION ADDRESSES QUESTION---\n",
      "---ROUTE QUESTION---\n",
      "---ROUTE QUESTION TO VECTOR STORE---\n",
      "---GENERATE DOCUMENT---\n",
      "---RETRIEVE---\n",
      "---CHECK DOCUMENT RELEVANCE TO QUESTION---\n",
      "---GRADE DOCUMENT (1/4)---\n",
      "---GRADE: DOCUMENT NOT RELEVANT---\n",
      "---GRADE DOCUMENT (2/4)---\n",
      "---GRADE: DOCUMENT NOT RELEVANT---\n",
      "---GRADE DOCUMENT (3/4)---\n",
      "---GRADE: DOCUMENT NOT RELEVANT---\n",
      "---GRADE DOCUMENT (4/4)---\n",
      "---GRADE: DOCUMENT NOT RELEVANT---\n",
      "final len 0\n",
      "---ASSESS GRADED DOCUMENTS---\n",
      "---DECISION: ALL DOCUMENTS ARE NOT RELEVANT TO QUESTION, INCLUDE WEB SEARCH---\n",
      "---WEB SEARCH---\n",
      "---GENERATE---\n",
      "---CHECK HALLUCINATIONS---\n",
      "---DECISION: GENERATION IS GROUNDED IN DOCUMENTS---\n",
      "---GRADE GENERATION vs QUESTION---\n"
     ]
    },
    {
     "name": "stderr",
     "output_type": "stream",
     "text": [
      "201it [41:33, 11.30s/it]"
     ]
    },
    {
     "name": "stdout",
     "output_type": "stream",
     "text": [
      "---DECISION: GENERATION ADDRESSES QUESTION---\n",
      "---ROUTE QUESTION---\n",
      "---ROUTE QUESTION TO VECTOR STORE---\n",
      "---GENERATE DOCUMENT---\n",
      "---RETRIEVE---\n",
      "---CHECK DOCUMENT RELEVANCE TO QUESTION---\n",
      "---GRADE DOCUMENT (1/4)---\n",
      "---GRADE: DOCUMENT NOT RELEVANT---\n",
      "---GRADE DOCUMENT (2/4)---\n",
      "---GRADE: DOCUMENT NOT RELEVANT---\n",
      "---GRADE DOCUMENT (3/4)---\n",
      "---GRADE: DOCUMENT NOT RELEVANT---\n",
      "---GRADE DOCUMENT (4/4)---\n",
      "---GRADE: DOCUMENT NOT RELEVANT---\n",
      "final len 0\n",
      "---ASSESS GRADED DOCUMENTS---\n",
      "---DECISION: ALL DOCUMENTS ARE NOT RELEVANT TO QUESTION, INCLUDE WEB SEARCH---\n",
      "---WEB SEARCH---\n",
      "---GENERATE---\n",
      "---CHECK HALLUCINATIONS---\n",
      "---DECISION: GENERATION IS GROUNDED IN DOCUMENTS---\n",
      "---GRADE GENERATION vs QUESTION---\n"
     ]
    },
    {
     "name": "stderr",
     "output_type": "stream",
     "text": [
      "202it [41:46, 11.74s/it]"
     ]
    },
    {
     "name": "stdout",
     "output_type": "stream",
     "text": [
      "---DECISION: GENERATION ADDRESSES QUESTION---\n",
      "---ROUTE QUESTION---\n",
      "---ROUTE QUESTION TO VECTOR STORE---\n",
      "---GENERATE DOCUMENT---\n",
      "---RETRIEVE---\n",
      "---CHECK DOCUMENT RELEVANCE TO QUESTION---\n",
      "---GRADE DOCUMENT (1/4)---\n",
      "---GRADE: DOCUMENT NOT RELEVANT---\n",
      "---GRADE DOCUMENT (2/4)---\n",
      "---GRADE: DOCUMENT NOT RELEVANT---\n",
      "---GRADE DOCUMENT (3/4)---\n",
      "---GRADE: DOCUMENT NOT RELEVANT---\n",
      "---GRADE DOCUMENT (4/4)---\n",
      "---GRADE: DOCUMENT NOT RELEVANT---\n",
      "final len 0\n",
      "---ASSESS GRADED DOCUMENTS---\n",
      "---DECISION: ALL DOCUMENTS ARE NOT RELEVANT TO QUESTION, INCLUDE WEB SEARCH---\n",
      "---WEB SEARCH---\n",
      "---GENERATE---\n",
      "---CHECK HALLUCINATIONS---\n",
      "---DECISION: GENERATION IS GROUNDED IN DOCUMENTS---\n",
      "---GRADE GENERATION vs QUESTION---\n"
     ]
    },
    {
     "name": "stderr",
     "output_type": "stream",
     "text": [
      "203it [42:00, 12.43s/it]"
     ]
    },
    {
     "name": "stdout",
     "output_type": "stream",
     "text": [
      "---DECISION: GENERATION ADDRESSES QUESTION---\n",
      "---ROUTE QUESTION---\n",
      "---ROUTE QUESTION TO VECTOR STORE---\n",
      "---GENERATE DOCUMENT---\n",
      "---RETRIEVE---\n",
      "---CHECK DOCUMENT RELEVANCE TO QUESTION---\n",
      "---GRADE DOCUMENT (1/4)---\n",
      "---GRADE: DOCUMENT NOT RELEVANT---\n",
      "---GRADE DOCUMENT (2/4)---\n",
      "---GRADE: DOCUMENT NOT RELEVANT---\n",
      "---GRADE DOCUMENT (3/4)---\n",
      "---GRADE: DOCUMENT NOT RELEVANT---\n",
      "---GRADE DOCUMENT (4/4)---\n",
      "---GRADE: DOCUMENT NOT RELEVANT---\n",
      "final len 0\n",
      "---ASSESS GRADED DOCUMENTS---\n",
      "---DECISION: ALL DOCUMENTS ARE NOT RELEVANT TO QUESTION, INCLUDE WEB SEARCH---\n",
      "---WEB SEARCH---\n",
      "---GENERATE---\n",
      "---CHECK HALLUCINATIONS---\n",
      "---DECISION: GENERATION IS GROUNDED IN DOCUMENTS---\n",
      "---GRADE GENERATION vs QUESTION---\n"
     ]
    },
    {
     "name": "stderr",
     "output_type": "stream",
     "text": [
      "204it [42:10, 11.73s/it]"
     ]
    },
    {
     "name": "stdout",
     "output_type": "stream",
     "text": [
      "---DECISION: GENERATION ADDRESSES QUESTION---\n",
      "---ROUTE QUESTION---\n",
      "---ROUTE QUESTION TO VECTOR STORE---\n",
      "---GENERATE DOCUMENT---\n",
      "---RETRIEVE---\n",
      "---CHECK DOCUMENT RELEVANCE TO QUESTION---\n",
      "---GRADE DOCUMENT (1/4)---\n",
      "---GRADE: DOCUMENT NOT RELEVANT---\n",
      "---GRADE DOCUMENT (2/4)---\n",
      "---GRADE: DOCUMENT NOT RELEVANT---\n",
      "---GRADE DOCUMENT (3/4)---\n",
      "---GRADE: DOCUMENT NOT RELEVANT---\n",
      "---GRADE DOCUMENT (4/4)---\n",
      "---GRADE: DOCUMENT NOT RELEVANT---\n",
      "final len 0\n",
      "---ASSESS GRADED DOCUMENTS---\n",
      "---DECISION: ALL DOCUMENTS ARE NOT RELEVANT TO QUESTION, INCLUDE WEB SEARCH---\n",
      "---WEB SEARCH---\n",
      "---GENERATE---\n",
      "---CHECK HALLUCINATIONS---\n",
      "---DECISION: GENERATION IS GROUNDED IN DOCUMENTS---\n",
      "---GRADE GENERATION vs QUESTION---\n",
      "---DECISION: GENERATION DOES NOT ADDRESS QUESTION---\n",
      "---WEB SEARCH---\n",
      "---GENERATE---\n"
     ]
    },
    {
     "name": "stderr",
     "output_type": "stream",
     "text": [
      "205it [42:21, 11.58s/it]"
     ]
    },
    {
     "name": "stdout",
     "output_type": "stream",
     "text": [
      "---CHECK HALLUCINATIONS---\n",
      "---ROUTE QUESTION---\n",
      "---ROUTE QUESTION TO VECTOR STORE---\n",
      "---GENERATE DOCUMENT---\n",
      "---RETRIEVE---\n",
      "---CHECK DOCUMENT RELEVANCE TO QUESTION---\n",
      "---GRADE DOCUMENT (1/4)---\n",
      "---GRADE: DOCUMENT NOT RELEVANT---\n",
      "---GRADE DOCUMENT (2/4)---\n",
      "---GRADE: DOCUMENT NOT RELEVANT---\n",
      "---GRADE DOCUMENT (3/4)---\n",
      "---GRADE: DOCUMENT NOT RELEVANT---\n",
      "---GRADE DOCUMENT (4/4)---\n",
      "---GRADE: DOCUMENT NOT RELEVANT---\n",
      "final len 0\n",
      "---ASSESS GRADED DOCUMENTS---\n",
      "---DECISION: ALL DOCUMENTS ARE NOT RELEVANT TO QUESTION, INCLUDE WEB SEARCH---\n",
      "---WEB SEARCH---\n",
      "---GENERATE---\n",
      "---CHECK HALLUCINATIONS---\n",
      "---DECISION: GENERATION IS GROUNDED IN DOCUMENTS---\n",
      "---GRADE GENERATION vs QUESTION---\n"
     ]
    },
    {
     "name": "stderr",
     "output_type": "stream",
     "text": [
      "206it [42:32, 11.36s/it]"
     ]
    },
    {
     "name": "stdout",
     "output_type": "stream",
     "text": [
      "---DECISION: GENERATION ADDRESSES QUESTION---\n",
      "---ROUTE QUESTION---\n",
      "---ROUTE QUESTION TO VECTOR STORE---\n",
      "---GENERATE DOCUMENT---\n",
      "---RETRIEVE---\n",
      "---CHECK DOCUMENT RELEVANCE TO QUESTION---\n",
      "---GRADE DOCUMENT (1/4)---\n",
      "---GRADE: DOCUMENT NOT RELEVANT---\n",
      "---GRADE DOCUMENT (2/4)---\n",
      "---GRADE: DOCUMENT NOT RELEVANT---\n",
      "---GRADE DOCUMENT (3/4)---\n",
      "---GRADE: DOCUMENT NOT RELEVANT---\n",
      "---GRADE DOCUMENT (4/4)---\n",
      "---GRADE: DOCUMENT NOT RELEVANT---\n",
      "final len 0\n",
      "---ASSESS GRADED DOCUMENTS---\n",
      "---DECISION: ALL DOCUMENTS ARE NOT RELEVANT TO QUESTION, INCLUDE WEB SEARCH---\n",
      "---WEB SEARCH---\n",
      "---GENERATE---\n",
      "---CHECK HALLUCINATIONS---\n",
      "---DECISION: GENERATION IS GROUNDED IN DOCUMENTS---\n",
      "---GRADE GENERATION vs QUESTION---\n",
      "---DECISION: GENERATION DOES NOT ADDRESS QUESTION---\n",
      "---WEB SEARCH---\n",
      "---GENERATE---\n"
     ]
    },
    {
     "name": "stderr",
     "output_type": "stream",
     "text": [
      "207it [42:49, 12.97s/it]"
     ]
    },
    {
     "name": "stdout",
     "output_type": "stream",
     "text": [
      "---CHECK HALLUCINATIONS---\n",
      "---ROUTE QUESTION---\n",
      "---ROUTE QUESTION TO VECTOR STORE---\n",
      "---GENERATE DOCUMENT---\n",
      "---RETRIEVE---\n",
      "---CHECK DOCUMENT RELEVANCE TO QUESTION---\n",
      "---GRADE DOCUMENT (1/4)---\n",
      "---GRADE: DOCUMENT RELEVANT---\n",
      "---GRADE DOCUMENT (2/4)---\n",
      "---GRADE: DOCUMENT NOT RELEVANT---\n",
      "---GRADE DOCUMENT (3/4)---\n",
      "---GRADE: DOCUMENT NOT RELEVANT---\n",
      "---GRADE DOCUMENT (4/4)---\n",
      "---GRADE: DOCUMENT NOT RELEVANT---\n",
      "final len 1\n",
      "---ASSESS GRADED DOCUMENTS---\n",
      "---DECISION: ALL DOCUMENTS ARE NOT RELEVANT TO QUESTION, INCLUDE WEB SEARCH---\n",
      "---WEB SEARCH---\n",
      "---GENERATE---\n",
      "---CHECK HALLUCINATIONS---\n",
      "---DECISION: GENERATION IS GROUNDED IN DOCUMENTS---\n",
      "---GRADE GENERATION vs QUESTION---\n"
     ]
    },
    {
     "name": "stderr",
     "output_type": "stream",
     "text": [
      "208it [43:00, 12.60s/it]"
     ]
    },
    {
     "name": "stdout",
     "output_type": "stream",
     "text": [
      "---DECISION: GENERATION ADDRESSES QUESTION---\n",
      "---ROUTE QUESTION---\n",
      "---ROUTE QUESTION TO VECTOR STORE---\n",
      "---GENERATE DOCUMENT---\n",
      "---RETRIEVE---\n",
      "---CHECK DOCUMENT RELEVANCE TO QUESTION---\n",
      "---GRADE DOCUMENT (1/4)---\n",
      "---GRADE: DOCUMENT NOT RELEVANT---\n",
      "---GRADE DOCUMENT (2/4)---\n",
      "---GRADE: DOCUMENT NOT RELEVANT---\n",
      "---GRADE DOCUMENT (3/4)---\n",
      "---GRADE: DOCUMENT NOT RELEVANT---\n",
      "---GRADE DOCUMENT (4/4)---\n",
      "---GRADE: DOCUMENT NOT RELEVANT---\n",
      "final len 0\n",
      "---ASSESS GRADED DOCUMENTS---\n",
      "---DECISION: ALL DOCUMENTS ARE NOT RELEVANT TO QUESTION, INCLUDE WEB SEARCH---\n",
      "---WEB SEARCH---\n",
      "---GENERATE---\n",
      "---CHECK HALLUCINATIONS---\n",
      "---DECISION: GENERATION IS GROUNDED IN DOCUMENTS---\n",
      "---GRADE GENERATION vs QUESTION---\n"
     ]
    },
    {
     "name": "stderr",
     "output_type": "stream",
     "text": [
      "209it [43:11, 12.01s/it]"
     ]
    },
    {
     "name": "stdout",
     "output_type": "stream",
     "text": [
      "---DECISION: GENERATION ADDRESSES QUESTION---\n",
      "---ROUTE QUESTION---\n",
      "---ROUTE QUESTION TO VECTOR STORE---\n",
      "---GENERATE DOCUMENT---\n",
      "---RETRIEVE---\n",
      "---CHECK DOCUMENT RELEVANCE TO QUESTION---\n",
      "---GRADE DOCUMENT (1/4)---\n",
      "---GRADE: DOCUMENT NOT RELEVANT---\n",
      "---GRADE DOCUMENT (2/4)---\n",
      "---GRADE: DOCUMENT NOT RELEVANT---\n",
      "---GRADE DOCUMENT (3/4)---\n",
      "---GRADE: DOCUMENT NOT RELEVANT---\n",
      "---GRADE DOCUMENT (4/4)---\n",
      "---GRADE: DOCUMENT NOT RELEVANT---\n",
      "final len 0\n",
      "---ASSESS GRADED DOCUMENTS---\n",
      "---DECISION: ALL DOCUMENTS ARE NOT RELEVANT TO QUESTION, INCLUDE WEB SEARCH---\n",
      "---WEB SEARCH---\n",
      "---GENERATE---\n",
      "---CHECK HALLUCINATIONS---\n",
      "---DECISION: GENERATION IS GROUNDED IN DOCUMENTS---\n",
      "---GRADE GENERATION vs QUESTION---\n"
     ]
    },
    {
     "name": "stderr",
     "output_type": "stream",
     "text": [
      "210it [43:21, 11.38s/it]"
     ]
    },
    {
     "name": "stdout",
     "output_type": "stream",
     "text": [
      "---DECISION: GENERATION ADDRESSES QUESTION---\n",
      "---ROUTE QUESTION---\n",
      "---ROUTE QUESTION TO VECTOR STORE---\n",
      "---GENERATE DOCUMENT---\n",
      "---RETRIEVE---\n",
      "---CHECK DOCUMENT RELEVANCE TO QUESTION---\n",
      "---GRADE DOCUMENT (1/4)---\n",
      "---GRADE: DOCUMENT NOT RELEVANT---\n",
      "---GRADE DOCUMENT (2/4)---\n",
      "---GRADE: DOCUMENT NOT RELEVANT---\n",
      "---GRADE DOCUMENT (3/4)---\n",
      "---GRADE: DOCUMENT NOT RELEVANT---\n",
      "---GRADE DOCUMENT (4/4)---\n",
      "---GRADE: DOCUMENT NOT RELEVANT---\n",
      "final len 0\n",
      "---ASSESS GRADED DOCUMENTS---\n",
      "---DECISION: ALL DOCUMENTS ARE NOT RELEVANT TO QUESTION, INCLUDE WEB SEARCH---\n",
      "---WEB SEARCH---\n",
      "---GENERATE---\n",
      "---CHECK HALLUCINATIONS---\n",
      "---DECISION: GENERATION IS GROUNDED IN DOCUMENTS---\n",
      "---GRADE GENERATION vs QUESTION---\n"
     ]
    },
    {
     "name": "stderr",
     "output_type": "stream",
     "text": [
      "211it [43:33, 11.73s/it]"
     ]
    },
    {
     "name": "stdout",
     "output_type": "stream",
     "text": [
      "---DECISION: GENERATION ADDRESSES QUESTION---\n",
      "---ROUTE QUESTION---\n",
      "---ROUTE QUESTION TO VECTOR STORE---\n",
      "---GENERATE DOCUMENT---\n",
      "---RETRIEVE---\n",
      "---CHECK DOCUMENT RELEVANCE TO QUESTION---\n",
      "---GRADE DOCUMENT (1/4)---\n",
      "---GRADE: DOCUMENT NOT RELEVANT---\n",
      "---GRADE DOCUMENT (2/4)---\n",
      "---GRADE: DOCUMENT NOT RELEVANT---\n",
      "---GRADE DOCUMENT (3/4)---\n",
      "---GRADE: DOCUMENT NOT RELEVANT---\n",
      "---GRADE DOCUMENT (4/4)---\n",
      "---GRADE: DOCUMENT NOT RELEVANT---\n",
      "final len 0\n",
      "---ASSESS GRADED DOCUMENTS---\n",
      "---DECISION: ALL DOCUMENTS ARE NOT RELEVANT TO QUESTION, INCLUDE WEB SEARCH---\n",
      "---WEB SEARCH---\n",
      "---GENERATE---\n",
      "---CHECK HALLUCINATIONS---\n",
      "---DECISION: GENERATION IS GROUNDED IN DOCUMENTS---\n",
      "---GRADE GENERATION vs QUESTION---\n"
     ]
    },
    {
     "name": "stderr",
     "output_type": "stream",
     "text": [
      "212it [43:43, 11.01s/it]"
     ]
    },
    {
     "name": "stdout",
     "output_type": "stream",
     "text": [
      "---DECISION: GENERATION ADDRESSES QUESTION---\n",
      "---ROUTE QUESTION---\n",
      "---ROUTE QUESTION TO VECTOR STORE---\n",
      "---GENERATE DOCUMENT---\n",
      "---RETRIEVE---\n",
      "---CHECK DOCUMENT RELEVANCE TO QUESTION---\n",
      "---GRADE DOCUMENT (1/4)---\n",
      "---GRADE: DOCUMENT NOT RELEVANT---\n",
      "---GRADE DOCUMENT (2/4)---\n",
      "---GRADE: DOCUMENT NOT RELEVANT---\n",
      "---GRADE DOCUMENT (3/4)---\n",
      "---GRADE: DOCUMENT NOT RELEVANT---\n",
      "---GRADE DOCUMENT (4/4)---\n",
      "---GRADE: DOCUMENT NOT RELEVANT---\n",
      "final len 0\n",
      "---ASSESS GRADED DOCUMENTS---\n",
      "---DECISION: ALL DOCUMENTS ARE NOT RELEVANT TO QUESTION, INCLUDE WEB SEARCH---\n",
      "---WEB SEARCH---\n",
      "---GENERATE---\n",
      "---CHECK HALLUCINATIONS---\n",
      "---DECISION: GENERATION IS GROUNDED IN DOCUMENTS---\n",
      "---GRADE GENERATION vs QUESTION---\n"
     ]
    },
    {
     "name": "stderr",
     "output_type": "stream",
     "text": [
      "213it [43:51, 10.17s/it]"
     ]
    },
    {
     "name": "stdout",
     "output_type": "stream",
     "text": [
      "---DECISION: GENERATION ADDRESSES QUESTION---\n",
      "---ROUTE QUESTION---\n",
      "---ROUTE QUESTION TO VECTOR STORE---\n",
      "---GENERATE DOCUMENT---\n",
      "---RETRIEVE---\n",
      "---CHECK DOCUMENT RELEVANCE TO QUESTION---\n",
      "---GRADE DOCUMENT (1/4)---\n",
      "---GRADE: DOCUMENT NOT RELEVANT---\n",
      "---GRADE DOCUMENT (2/4)---\n",
      "---GRADE: DOCUMENT NOT RELEVANT---\n",
      "---GRADE DOCUMENT (3/4)---\n",
      "---GRADE: DOCUMENT NOT RELEVANT---\n",
      "---GRADE DOCUMENT (4/4)---\n",
      "---GRADE: DOCUMENT NOT RELEVANT---\n",
      "final len 0\n",
      "---ASSESS GRADED DOCUMENTS---\n",
      "---DECISION: ALL DOCUMENTS ARE NOT RELEVANT TO QUESTION, INCLUDE WEB SEARCH---\n",
      "---WEB SEARCH---\n",
      "---GENERATE---\n",
      "---CHECK HALLUCINATIONS---\n",
      "---DECISION: GENERATION IS GROUNDED IN DOCUMENTS---\n",
      "---GRADE GENERATION vs QUESTION---\n",
      "---DECISION: GENERATION DOES NOT ADDRESS QUESTION---\n",
      "---WEB SEARCH---\n",
      "---GENERATE---\n"
     ]
    },
    {
     "name": "stderr",
     "output_type": "stream",
     "text": [
      "214it [44:10, 12.38s/it]"
     ]
    },
    {
     "name": "stdout",
     "output_type": "stream",
     "text": [
      "---CHECK HALLUCINATIONS---\n"
     ]
    },
    {
     "name": "stderr",
     "output_type": "stream",
     "text": [
      "\n"
     ]
    }
   ],
   "source": [
    "questions = list(qa_df['question'].tolist())\n",
    "expected_answers = list(qa_df['answer'].tolist())\n",
    "predicted_answers = []\n",
    "\n",
    "for index, question in tqdm(enumerate(questions)):\n",
    "  answer = app.invoke({'question': question})['generation']\n",
    "  predicted_answers.append(answer)"
   ]
  },
  {
   "cell_type": "code",
   "execution_count": 27,
   "metadata": {},
   "outputs": [
    {
     "data": {
      "text/plain": [
       "(0.6234251400832006,\n",
       " 0.018905001222402712,\n",
       " 0.2127606292570124,\n",
       " 0.17643369262342895)"
      ]
     },
     "execution_count": 27,
     "metadata": {},
     "output_type": "execute_result"
    }
   ],
   "source": [
    "cos_score = embeddings_cosine_sim_metric(expected_answers, predicted_answers)\n",
    "bleu_score = bleu_metric(expected_answers, predicted_answers)\n",
    "rogue_1_score = rogue_1_metric(expected_answers, predicted_answers)\n",
    "rogue_l_score = rogue_l_metric(expected_answers, predicted_answers)\n",
    "\n",
    "cos_score, bleu_score, rogue_1_score, rogue_l_score"
   ]
  }
 ],
 "metadata": {
  "kernelspec": {
   "display_name": "base",
   "language": "python",
   "name": "python3"
  },
  "language_info": {
   "codemirror_mode": {
    "name": "ipython",
    "version": 3
   },
   "file_extension": ".py",
   "mimetype": "text/x-python",
   "name": "python",
   "nbconvert_exporter": "python",
   "pygments_lexer": "ipython3",
   "version": "3.9.19"
  }
 },
 "nbformat": 4,
 "nbformat_minor": 2
}
