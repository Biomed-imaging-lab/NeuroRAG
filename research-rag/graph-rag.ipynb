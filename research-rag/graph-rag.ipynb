{
 "cells": [
  {
   "cell_type": "markdown",
   "metadata": {},
   "source": [
    "# GraphRAG"
   ]
  },
  {
   "cell_type": "markdown",
   "metadata": {},
   "source": [
    "## Import packages"
   ]
  },
  {
   "cell_type": "code",
   "execution_count": 163,
   "metadata": {},
   "outputs": [
    {
     "name": "stdout",
     "output_type": "stream",
     "text": [
      "Requirement already satisfied: nltk in /home/super-pc-linux/miniconda3/envs/biorag/lib/python3.9/site-packages (3.9.1)\n",
      "Requirement already satisfied: numpy in /home/super-pc-linux/miniconda3/envs/biorag/lib/python3.9/site-packages (1.26.4)\n",
      "Requirement already satisfied: pandas in /home/super-pc-linux/miniconda3/envs/biorag/lib/python3.9/site-packages (2.2.2)\n",
      "Requirement already satisfied: unidecode in /home/super-pc-linux/miniconda3/envs/biorag/lib/python3.9/site-packages (1.3.8)\n",
      "Requirement already satisfied: scikit-learn in /home/super-pc-linux/miniconda3/envs/biorag/lib/python3.9/site-packages (1.5.2)\n",
      "Requirement already satisfied: tqdm in /home/super-pc-linux/miniconda3/envs/biorag/lib/python3.9/site-packages (4.66.5)\n",
      "Requirement already satisfied: click in /home/super-pc-linux/miniconda3/envs/biorag/lib/python3.9/site-packages (from nltk) (8.1.7)\n",
      "Requirement already satisfied: joblib in /home/super-pc-linux/miniconda3/envs/biorag/lib/python3.9/site-packages (from nltk) (1.4.2)\n",
      "Requirement already satisfied: regex>=2021.8.3 in /home/super-pc-linux/miniconda3/envs/biorag/lib/python3.9/site-packages (from nltk) (2024.9.11)\n",
      "Requirement already satisfied: python-dateutil>=2.8.2 in /home/super-pc-linux/miniconda3/envs/biorag/lib/python3.9/site-packages (from pandas) (2.9.0)\n",
      "Requirement already satisfied: pytz>=2020.1 in /home/super-pc-linux/miniconda3/envs/biorag/lib/python3.9/site-packages (from pandas) (2024.2)\n",
      "Requirement already satisfied: tzdata>=2022.7 in /home/super-pc-linux/miniconda3/envs/biorag/lib/python3.9/site-packages (from pandas) (2024.1)\n",
      "Requirement already satisfied: scipy>=1.6.0 in /home/super-pc-linux/miniconda3/envs/biorag/lib/python3.9/site-packages (from scikit-learn) (1.13.1)\n",
      "Requirement already satisfied: threadpoolctl>=3.1.0 in /home/super-pc-linux/miniconda3/envs/biorag/lib/python3.9/site-packages (from scikit-learn) (3.5.0)\n",
      "Requirement already satisfied: six>=1.5 in /home/super-pc-linux/miniconda3/envs/biorag/lib/python3.9/site-packages (from python-dateutil>=2.8.2->pandas) (1.16.0)\n",
      "Requirement already satisfied: langchain in /home/super-pc-linux/miniconda3/envs/biorag/lib/python3.9/site-packages (0.2.16)\n",
      "Requirement already satisfied: langchain-core in /home/super-pc-linux/miniconda3/envs/biorag/lib/python3.9/site-packages (0.2.40)\n",
      "Requirement already satisfied: langchain-community in /home/super-pc-linux/miniconda3/envs/biorag/lib/python3.9/site-packages (0.2.17)\n",
      "Requirement already satisfied: langchain_experimental in /home/super-pc-linux/miniconda3/envs/biorag/lib/python3.9/site-packages (0.0.65)\n",
      "Requirement already satisfied: langchain-chroma in /home/super-pc-linux/miniconda3/envs/biorag/lib/python3.9/site-packages (0.1.4)\n",
      "Requirement already satisfied: langchain_mistralai in /home/super-pc-linux/miniconda3/envs/biorag/lib/python3.9/site-packages (0.1.13)\n",
      "Requirement already satisfied: langgraph in /home/super-pc-linux/miniconda3/envs/biorag/lib/python3.9/site-packages (0.2.21)\n",
      "Requirement already satisfied: PyYAML>=5.3 in /home/super-pc-linux/miniconda3/envs/biorag/lib/python3.9/site-packages (from langchain) (6.0.2)\n",
      "Requirement already satisfied: SQLAlchemy<3,>=1.4 in /home/super-pc-linux/miniconda3/envs/biorag/lib/python3.9/site-packages (from langchain) (2.0.34)\n",
      "Requirement already satisfied: aiohttp<4.0.0,>=3.8.3 in /home/super-pc-linux/miniconda3/envs/biorag/lib/python3.9/site-packages (from langchain) (3.10.5)\n",
      "Requirement already satisfied: async-timeout<5.0.0,>=4.0.0 in /home/super-pc-linux/miniconda3/envs/biorag/lib/python3.9/site-packages (from langchain) (4.0.3)\n",
      "Requirement already satisfied: langchain-text-splitters<0.3.0,>=0.2.0 in /home/super-pc-linux/miniconda3/envs/biorag/lib/python3.9/site-packages (from langchain) (0.2.4)\n",
      "Requirement already satisfied: langsmith<0.2.0,>=0.1.17 in /home/super-pc-linux/miniconda3/envs/biorag/lib/python3.9/site-packages (from langchain) (0.1.120)\n",
      "Requirement already satisfied: numpy<2,>=1 in /home/super-pc-linux/miniconda3/envs/biorag/lib/python3.9/site-packages (from langchain) (1.26.4)\n",
      "Requirement already satisfied: pydantic<3,>=1 in /home/super-pc-linux/miniconda3/envs/biorag/lib/python3.9/site-packages (from langchain) (2.9.1)\n",
      "Requirement already satisfied: requests<3,>=2 in /home/super-pc-linux/miniconda3/envs/biorag/lib/python3.9/site-packages (from langchain) (2.32.3)\n",
      "Requirement already satisfied: tenacity!=8.4.0,<9.0.0,>=8.1.0 in /home/super-pc-linux/miniconda3/envs/biorag/lib/python3.9/site-packages (from langchain) (8.5.0)\n",
      "Requirement already satisfied: jsonpatch<2.0,>=1.33 in /home/super-pc-linux/miniconda3/envs/biorag/lib/python3.9/site-packages (from langchain-core) (1.33)\n",
      "Requirement already satisfied: packaging<25,>=23.2 in /home/super-pc-linux/miniconda3/envs/biorag/lib/python3.9/site-packages (from langchain-core) (24.1)\n",
      "Requirement already satisfied: typing-extensions>=4.7 in /home/super-pc-linux/miniconda3/envs/biorag/lib/python3.9/site-packages (from langchain-core) (4.12.2)\n",
      "Requirement already satisfied: dataclasses-json<0.7,>=0.5.7 in /home/super-pc-linux/miniconda3/envs/biorag/lib/python3.9/site-packages (from langchain-community) (0.6.7)\n",
      "Requirement already satisfied: chromadb!=0.5.4,!=0.5.5,<0.6.0,>=0.4.0 in /home/super-pc-linux/miniconda3/envs/biorag/lib/python3.9/site-packages (from langchain-chroma) (0.5.3)\n",
      "Requirement already satisfied: fastapi<1,>=0.95.2 in /home/super-pc-linux/miniconda3/envs/biorag/lib/python3.9/site-packages (from langchain-chroma) (0.114.2)\n",
      "Requirement already satisfied: httpx<1,>=0.25.2 in /home/super-pc-linux/miniconda3/envs/biorag/lib/python3.9/site-packages (from langchain_mistralai) (0.27.2)\n",
      "Requirement already satisfied: httpx-sse<1,>=0.3.1 in /home/super-pc-linux/miniconda3/envs/biorag/lib/python3.9/site-packages (from langchain_mistralai) (0.4.0)\n",
      "Requirement already satisfied: tokenizers<1,>=0.15.1 in /home/super-pc-linux/miniconda3/envs/biorag/lib/python3.9/site-packages (from langchain_mistralai) (0.20.0)\n",
      "Requirement already satisfied: langgraph-checkpoint<2.0.0,>=1.0.2 in /home/super-pc-linux/miniconda3/envs/biorag/lib/python3.9/site-packages (from langgraph) (1.0.9)\n",
      "Requirement already satisfied: aiohappyeyeballs>=2.3.0 in /home/super-pc-linux/miniconda3/envs/biorag/lib/python3.9/site-packages (from aiohttp<4.0.0,>=3.8.3->langchain) (2.4.0)\n",
      "Requirement already satisfied: aiosignal>=1.1.2 in /home/super-pc-linux/miniconda3/envs/biorag/lib/python3.9/site-packages (from aiohttp<4.0.0,>=3.8.3->langchain) (1.3.1)\n",
      "Requirement already satisfied: attrs>=17.3.0 in /home/super-pc-linux/miniconda3/envs/biorag/lib/python3.9/site-packages (from aiohttp<4.0.0,>=3.8.3->langchain) (24.2.0)\n",
      "Requirement already satisfied: frozenlist>=1.1.1 in /home/super-pc-linux/miniconda3/envs/biorag/lib/python3.9/site-packages (from aiohttp<4.0.0,>=3.8.3->langchain) (1.4.1)\n",
      "Requirement already satisfied: multidict<7.0,>=4.5 in /home/super-pc-linux/miniconda3/envs/biorag/lib/python3.9/site-packages (from aiohttp<4.0.0,>=3.8.3->langchain) (6.1.0)\n",
      "Requirement already satisfied: yarl<2.0,>=1.0 in /home/super-pc-linux/miniconda3/envs/biorag/lib/python3.9/site-packages (from aiohttp<4.0.0,>=3.8.3->langchain) (1.11.1)\n",
      "Requirement already satisfied: build>=1.0.3 in /home/super-pc-linux/miniconda3/envs/biorag/lib/python3.9/site-packages (from chromadb!=0.5.4,!=0.5.5,<0.6.0,>=0.4.0->langchain-chroma) (1.2.2)\n",
      "Requirement already satisfied: chroma-hnswlib==0.7.3 in /home/super-pc-linux/miniconda3/envs/biorag/lib/python3.9/site-packages (from chromadb!=0.5.4,!=0.5.5,<0.6.0,>=0.4.0->langchain-chroma) (0.7.3)\n",
      "Requirement already satisfied: uvicorn>=0.18.3 in /home/super-pc-linux/miniconda3/envs/biorag/lib/python3.9/site-packages (from uvicorn[standard]>=0.18.3->chromadb!=0.5.4,!=0.5.5,<0.6.0,>=0.4.0->langchain-chroma) (0.30.6)\n",
      "Requirement already satisfied: posthog>=2.4.0 in /home/super-pc-linux/miniconda3/envs/biorag/lib/python3.9/site-packages (from chromadb!=0.5.4,!=0.5.5,<0.6.0,>=0.4.0->langchain-chroma) (3.6.5)\n",
      "Requirement already satisfied: onnxruntime>=1.14.1 in /home/super-pc-linux/miniconda3/envs/biorag/lib/python3.9/site-packages (from chromadb!=0.5.4,!=0.5.5,<0.6.0,>=0.4.0->langchain-chroma) (1.19.2)\n",
      "Requirement already satisfied: opentelemetry-api>=1.2.0 in /home/super-pc-linux/miniconda3/envs/biorag/lib/python3.9/site-packages (from chromadb!=0.5.4,!=0.5.5,<0.6.0,>=0.4.0->langchain-chroma) (1.27.0)\n",
      "Requirement already satisfied: opentelemetry-exporter-otlp-proto-grpc>=1.2.0 in /home/super-pc-linux/miniconda3/envs/biorag/lib/python3.9/site-packages (from chromadb!=0.5.4,!=0.5.5,<0.6.0,>=0.4.0->langchain-chroma) (1.27.0)\n",
      "Requirement already satisfied: opentelemetry-instrumentation-fastapi>=0.41b0 in /home/super-pc-linux/miniconda3/envs/biorag/lib/python3.9/site-packages (from chromadb!=0.5.4,!=0.5.5,<0.6.0,>=0.4.0->langchain-chroma) (0.48b0)\n",
      "Requirement already satisfied: opentelemetry-sdk>=1.2.0 in /home/super-pc-linux/miniconda3/envs/biorag/lib/python3.9/site-packages (from chromadb!=0.5.4,!=0.5.5,<0.6.0,>=0.4.0->langchain-chroma) (1.27.0)\n",
      "Requirement already satisfied: pypika>=0.48.9 in /home/super-pc-linux/miniconda3/envs/biorag/lib/python3.9/site-packages (from chromadb!=0.5.4,!=0.5.5,<0.6.0,>=0.4.0->langchain-chroma) (0.48.9)\n",
      "Requirement already satisfied: tqdm>=4.65.0 in /home/super-pc-linux/miniconda3/envs/biorag/lib/python3.9/site-packages (from chromadb!=0.5.4,!=0.5.5,<0.6.0,>=0.4.0->langchain-chroma) (4.66.5)\n",
      "Requirement already satisfied: overrides>=7.3.1 in /home/super-pc-linux/miniconda3/envs/biorag/lib/python3.9/site-packages (from chromadb!=0.5.4,!=0.5.5,<0.6.0,>=0.4.0->langchain-chroma) (7.7.0)\n",
      "Requirement already satisfied: importlib-resources in /home/super-pc-linux/miniconda3/envs/biorag/lib/python3.9/site-packages (from chromadb!=0.5.4,!=0.5.5,<0.6.0,>=0.4.0->langchain-chroma) (6.4.5)\n",
      "Requirement already satisfied: grpcio>=1.58.0 in /home/super-pc-linux/miniconda3/envs/biorag/lib/python3.9/site-packages (from chromadb!=0.5.4,!=0.5.5,<0.6.0,>=0.4.0->langchain-chroma) (1.66.1)\n",
      "Requirement already satisfied: bcrypt>=4.0.1 in /home/super-pc-linux/miniconda3/envs/biorag/lib/python3.9/site-packages (from chromadb!=0.5.4,!=0.5.5,<0.6.0,>=0.4.0->langchain-chroma) (4.2.0)\n",
      "Requirement already satisfied: typer>=0.9.0 in /home/super-pc-linux/miniconda3/envs/biorag/lib/python3.9/site-packages (from chromadb!=0.5.4,!=0.5.5,<0.6.0,>=0.4.0->langchain-chroma) (0.12.5)\n",
      "Requirement already satisfied: kubernetes>=28.1.0 in /home/super-pc-linux/miniconda3/envs/biorag/lib/python3.9/site-packages (from chromadb!=0.5.4,!=0.5.5,<0.6.0,>=0.4.0->langchain-chroma) (30.1.0)\n",
      "Requirement already satisfied: mmh3>=4.0.1 in /home/super-pc-linux/miniconda3/envs/biorag/lib/python3.9/site-packages (from chromadb!=0.5.4,!=0.5.5,<0.6.0,>=0.4.0->langchain-chroma) (4.1.0)\n",
      "Requirement already satisfied: orjson>=3.9.12 in /home/super-pc-linux/miniconda3/envs/biorag/lib/python3.9/site-packages (from chromadb!=0.5.4,!=0.5.5,<0.6.0,>=0.4.0->langchain-chroma) (3.10.7)\n",
      "Requirement already satisfied: marshmallow<4.0.0,>=3.18.0 in /home/super-pc-linux/miniconda3/envs/biorag/lib/python3.9/site-packages (from dataclasses-json<0.7,>=0.5.7->langchain-community) (3.22.0)\n",
      "Requirement already satisfied: typing-inspect<1,>=0.4.0 in /home/super-pc-linux/miniconda3/envs/biorag/lib/python3.9/site-packages (from dataclasses-json<0.7,>=0.5.7->langchain-community) (0.9.0)\n",
      "Requirement already satisfied: starlette<0.39.0,>=0.37.2 in /home/super-pc-linux/miniconda3/envs/biorag/lib/python3.9/site-packages (from fastapi<1,>=0.95.2->langchain-chroma) (0.38.5)\n",
      "Requirement already satisfied: anyio in /home/super-pc-linux/miniconda3/envs/biorag/lib/python3.9/site-packages (from httpx<1,>=0.25.2->langchain_mistralai) (4.4.0)\n",
      "Requirement already satisfied: certifi in /home/super-pc-linux/miniconda3/envs/biorag/lib/python3.9/site-packages (from httpx<1,>=0.25.2->langchain_mistralai) (2024.8.30)\n",
      "Requirement already satisfied: httpcore==1.* in /home/super-pc-linux/miniconda3/envs/biorag/lib/python3.9/site-packages (from httpx<1,>=0.25.2->langchain_mistralai) (1.0.5)\n",
      "Requirement already satisfied: idna in /home/super-pc-linux/miniconda3/envs/biorag/lib/python3.9/site-packages (from httpx<1,>=0.25.2->langchain_mistralai) (3.10)\n",
      "Requirement already satisfied: sniffio in /home/super-pc-linux/miniconda3/envs/biorag/lib/python3.9/site-packages (from httpx<1,>=0.25.2->langchain_mistralai) (1.3.1)\n",
      "Requirement already satisfied: h11<0.15,>=0.13 in /home/super-pc-linux/miniconda3/envs/biorag/lib/python3.9/site-packages (from httpcore==1.*->httpx<1,>=0.25.2->langchain_mistralai) (0.14.0)\n",
      "Requirement already satisfied: jsonpointer>=1.9 in /home/super-pc-linux/miniconda3/envs/biorag/lib/python3.9/site-packages (from jsonpatch<2.0,>=1.33->langchain-core) (3.0.0)\n",
      "Requirement already satisfied: annotated-types>=0.6.0 in /home/super-pc-linux/miniconda3/envs/biorag/lib/python3.9/site-packages (from pydantic<3,>=1->langchain) (0.7.0)\n",
      "Requirement already satisfied: pydantic-core==2.23.3 in /home/super-pc-linux/miniconda3/envs/biorag/lib/python3.9/site-packages (from pydantic<3,>=1->langchain) (2.23.3)\n",
      "Requirement already satisfied: charset-normalizer<4,>=2 in /home/super-pc-linux/miniconda3/envs/biorag/lib/python3.9/site-packages (from requests<3,>=2->langchain) (3.3.2)\n",
      "Requirement already satisfied: urllib3<3,>=1.21.1 in /home/super-pc-linux/miniconda3/envs/biorag/lib/python3.9/site-packages (from requests<3,>=2->langchain) (2.2.3)\n",
      "Requirement already satisfied: greenlet!=0.4.17 in /home/super-pc-linux/miniconda3/envs/biorag/lib/python3.9/site-packages (from SQLAlchemy<3,>=1.4->langchain) (3.1.0)\n",
      "Requirement already satisfied: huggingface-hub<1.0,>=0.16.4 in /home/super-pc-linux/miniconda3/envs/biorag/lib/python3.9/site-packages (from tokenizers<1,>=0.15.1->langchain_mistralai) (0.24.7)\n",
      "Requirement already satisfied: pyproject_hooks in /home/super-pc-linux/miniconda3/envs/biorag/lib/python3.9/site-packages (from build>=1.0.3->chromadb!=0.5.4,!=0.5.5,<0.6.0,>=0.4.0->langchain-chroma) (1.1.0)\n",
      "Requirement already satisfied: importlib-metadata>=4.6 in /home/super-pc-linux/miniconda3/envs/biorag/lib/python3.9/site-packages (from build>=1.0.3->chromadb!=0.5.4,!=0.5.5,<0.6.0,>=0.4.0->langchain-chroma) (8.4.0)\n",
      "Requirement already satisfied: tomli>=1.1.0 in /home/super-pc-linux/miniconda3/envs/biorag/lib/python3.9/site-packages (from build>=1.0.3->chromadb!=0.5.4,!=0.5.5,<0.6.0,>=0.4.0->langchain-chroma) (2.0.1)\n",
      "Requirement already satisfied: filelock in /home/super-pc-linux/miniconda3/envs/biorag/lib/python3.9/site-packages (from huggingface-hub<1.0,>=0.16.4->tokenizers<1,>=0.15.1->langchain_mistralai) (3.16.0)\n",
      "Requirement already satisfied: fsspec>=2023.5.0 in /home/super-pc-linux/miniconda3/envs/biorag/lib/python3.9/site-packages (from huggingface-hub<1.0,>=0.16.4->tokenizers<1,>=0.15.1->langchain_mistralai) (2024.9.0)\n",
      "Requirement already satisfied: six>=1.9.0 in /home/super-pc-linux/miniconda3/envs/biorag/lib/python3.9/site-packages (from kubernetes>=28.1.0->chromadb!=0.5.4,!=0.5.5,<0.6.0,>=0.4.0->langchain-chroma) (1.16.0)\n",
      "Requirement already satisfied: python-dateutil>=2.5.3 in /home/super-pc-linux/miniconda3/envs/biorag/lib/python3.9/site-packages (from kubernetes>=28.1.0->chromadb!=0.5.4,!=0.5.5,<0.6.0,>=0.4.0->langchain-chroma) (2.9.0)\n",
      "Requirement already satisfied: google-auth>=1.0.1 in /home/super-pc-linux/miniconda3/envs/biorag/lib/python3.9/site-packages (from kubernetes>=28.1.0->chromadb!=0.5.4,!=0.5.5,<0.6.0,>=0.4.0->langchain-chroma) (2.34.0)\n",
      "Requirement already satisfied: websocket-client!=0.40.0,!=0.41.*,!=0.42.*,>=0.32.0 in /home/super-pc-linux/miniconda3/envs/biorag/lib/python3.9/site-packages (from kubernetes>=28.1.0->chromadb!=0.5.4,!=0.5.5,<0.6.0,>=0.4.0->langchain-chroma) (1.8.0)\n",
      "Requirement already satisfied: requests-oauthlib in /home/super-pc-linux/miniconda3/envs/biorag/lib/python3.9/site-packages (from kubernetes>=28.1.0->chromadb!=0.5.4,!=0.5.5,<0.6.0,>=0.4.0->langchain-chroma) (2.0.0)\n",
      "Requirement already satisfied: oauthlib>=3.2.2 in /home/super-pc-linux/miniconda3/envs/biorag/lib/python3.9/site-packages (from kubernetes>=28.1.0->chromadb!=0.5.4,!=0.5.5,<0.6.0,>=0.4.0->langchain-chroma) (3.2.2)\n",
      "Requirement already satisfied: coloredlogs in /home/super-pc-linux/miniconda3/envs/biorag/lib/python3.9/site-packages (from onnxruntime>=1.14.1->chromadb!=0.5.4,!=0.5.5,<0.6.0,>=0.4.0->langchain-chroma) (15.0.1)\n",
      "Requirement already satisfied: flatbuffers in /home/super-pc-linux/miniconda3/envs/biorag/lib/python3.9/site-packages (from onnxruntime>=1.14.1->chromadb!=0.5.4,!=0.5.5,<0.6.0,>=0.4.0->langchain-chroma) (24.3.25)\n",
      "Requirement already satisfied: protobuf in /home/super-pc-linux/miniconda3/envs/biorag/lib/python3.9/site-packages (from onnxruntime>=1.14.1->chromadb!=0.5.4,!=0.5.5,<0.6.0,>=0.4.0->langchain-chroma) (4.25.4)\n",
      "Requirement already satisfied: sympy in /home/super-pc-linux/miniconda3/envs/biorag/lib/python3.9/site-packages (from onnxruntime>=1.14.1->chromadb!=0.5.4,!=0.5.5,<0.6.0,>=0.4.0->langchain-chroma) (1.13.2)\n",
      "Requirement already satisfied: deprecated>=1.2.6 in /home/super-pc-linux/miniconda3/envs/biorag/lib/python3.9/site-packages (from opentelemetry-api>=1.2.0->chromadb!=0.5.4,!=0.5.5,<0.6.0,>=0.4.0->langchain-chroma) (1.2.14)\n",
      "Requirement already satisfied: googleapis-common-protos~=1.52 in /home/super-pc-linux/miniconda3/envs/biorag/lib/python3.9/site-packages (from opentelemetry-exporter-otlp-proto-grpc>=1.2.0->chromadb!=0.5.4,!=0.5.5,<0.6.0,>=0.4.0->langchain-chroma) (1.65.0)\n",
      "Requirement already satisfied: opentelemetry-exporter-otlp-proto-common==1.27.0 in /home/super-pc-linux/miniconda3/envs/biorag/lib/python3.9/site-packages (from opentelemetry-exporter-otlp-proto-grpc>=1.2.0->chromadb!=0.5.4,!=0.5.5,<0.6.0,>=0.4.0->langchain-chroma) (1.27.0)\n",
      "Requirement already satisfied: opentelemetry-proto==1.27.0 in /home/super-pc-linux/miniconda3/envs/biorag/lib/python3.9/site-packages (from opentelemetry-exporter-otlp-proto-grpc>=1.2.0->chromadb!=0.5.4,!=0.5.5,<0.6.0,>=0.4.0->langchain-chroma) (1.27.0)\n",
      "Requirement already satisfied: opentelemetry-instrumentation-asgi==0.48b0 in /home/super-pc-linux/miniconda3/envs/biorag/lib/python3.9/site-packages (from opentelemetry-instrumentation-fastapi>=0.41b0->chromadb!=0.5.4,!=0.5.5,<0.6.0,>=0.4.0->langchain-chroma) (0.48b0)\n",
      "Requirement already satisfied: opentelemetry-instrumentation==0.48b0 in /home/super-pc-linux/miniconda3/envs/biorag/lib/python3.9/site-packages (from opentelemetry-instrumentation-fastapi>=0.41b0->chromadb!=0.5.4,!=0.5.5,<0.6.0,>=0.4.0->langchain-chroma) (0.48b0)\n",
      "Requirement already satisfied: opentelemetry-semantic-conventions==0.48b0 in /home/super-pc-linux/miniconda3/envs/biorag/lib/python3.9/site-packages (from opentelemetry-instrumentation-fastapi>=0.41b0->chromadb!=0.5.4,!=0.5.5,<0.6.0,>=0.4.0->langchain-chroma) (0.48b0)\n",
      "Requirement already satisfied: opentelemetry-util-http==0.48b0 in /home/super-pc-linux/miniconda3/envs/biorag/lib/python3.9/site-packages (from opentelemetry-instrumentation-fastapi>=0.41b0->chromadb!=0.5.4,!=0.5.5,<0.6.0,>=0.4.0->langchain-chroma) (0.48b0)\n",
      "Requirement already satisfied: setuptools>=16.0 in /home/super-pc-linux/miniconda3/envs/biorag/lib/python3.9/site-packages (from opentelemetry-instrumentation==0.48b0->opentelemetry-instrumentation-fastapi>=0.41b0->chromadb!=0.5.4,!=0.5.5,<0.6.0,>=0.4.0->langchain-chroma) (73.0.1)\n",
      "Requirement already satisfied: wrapt<2.0.0,>=1.0.0 in /home/super-pc-linux/miniconda3/envs/biorag/lib/python3.9/site-packages (from opentelemetry-instrumentation==0.48b0->opentelemetry-instrumentation-fastapi>=0.41b0->chromadb!=0.5.4,!=0.5.5,<0.6.0,>=0.4.0->langchain-chroma) (1.16.0)\n",
      "Requirement already satisfied: asgiref~=3.0 in /home/super-pc-linux/miniconda3/envs/biorag/lib/python3.9/site-packages (from opentelemetry-instrumentation-asgi==0.48b0->opentelemetry-instrumentation-fastapi>=0.41b0->chromadb!=0.5.4,!=0.5.5,<0.6.0,>=0.4.0->langchain-chroma) (3.8.1)\n",
      "Requirement already satisfied: monotonic>=1.5 in /home/super-pc-linux/miniconda3/envs/biorag/lib/python3.9/site-packages (from posthog>=2.4.0->chromadb!=0.5.4,!=0.5.5,<0.6.0,>=0.4.0->langchain-chroma) (1.6)\n",
      "Requirement already satisfied: backoff>=1.10.0 in /home/super-pc-linux/miniconda3/envs/biorag/lib/python3.9/site-packages (from posthog>=2.4.0->chromadb!=0.5.4,!=0.5.5,<0.6.0,>=0.4.0->langchain-chroma) (2.2.1)\n",
      "Requirement already satisfied: exceptiongroup>=1.0.2 in /home/super-pc-linux/miniconda3/envs/biorag/lib/python3.9/site-packages (from anyio->httpx<1,>=0.25.2->langchain_mistralai) (1.2.2)\n",
      "Requirement already satisfied: click>=8.0.0 in /home/super-pc-linux/miniconda3/envs/biorag/lib/python3.9/site-packages (from typer>=0.9.0->chromadb!=0.5.4,!=0.5.5,<0.6.0,>=0.4.0->langchain-chroma) (8.1.7)\n",
      "Requirement already satisfied: shellingham>=1.3.0 in /home/super-pc-linux/miniconda3/envs/biorag/lib/python3.9/site-packages (from typer>=0.9.0->chromadb!=0.5.4,!=0.5.5,<0.6.0,>=0.4.0->langchain-chroma) (1.5.4)\n",
      "Requirement already satisfied: rich>=10.11.0 in /home/super-pc-linux/miniconda3/envs/biorag/lib/python3.9/site-packages (from typer>=0.9.0->chromadb!=0.5.4,!=0.5.5,<0.6.0,>=0.4.0->langchain-chroma) (13.8.1)\n",
      "Requirement already satisfied: mypy-extensions>=0.3.0 in /home/super-pc-linux/miniconda3/envs/biorag/lib/python3.9/site-packages (from typing-inspect<1,>=0.4.0->dataclasses-json<0.7,>=0.5.7->langchain-community) (1.0.0)\n",
      "Requirement already satisfied: httptools>=0.5.0 in /home/super-pc-linux/miniconda3/envs/biorag/lib/python3.9/site-packages (from uvicorn[standard]>=0.18.3->chromadb!=0.5.4,!=0.5.5,<0.6.0,>=0.4.0->langchain-chroma) (0.6.1)\n",
      "Requirement already satisfied: python-dotenv>=0.13 in /home/super-pc-linux/miniconda3/envs/biorag/lib/python3.9/site-packages (from uvicorn[standard]>=0.18.3->chromadb!=0.5.4,!=0.5.5,<0.6.0,>=0.4.0->langchain-chroma) (1.0.1)\n",
      "Requirement already satisfied: uvloop!=0.15.0,!=0.15.1,>=0.14.0 in /home/super-pc-linux/miniconda3/envs/biorag/lib/python3.9/site-packages (from uvicorn[standard]>=0.18.3->chromadb!=0.5.4,!=0.5.5,<0.6.0,>=0.4.0->langchain-chroma) (0.20.0)\n",
      "Requirement already satisfied: watchfiles>=0.13 in /home/super-pc-linux/miniconda3/envs/biorag/lib/python3.9/site-packages (from uvicorn[standard]>=0.18.3->chromadb!=0.5.4,!=0.5.5,<0.6.0,>=0.4.0->langchain-chroma) (0.24.0)\n",
      "Requirement already satisfied: websockets>=10.4 in /home/super-pc-linux/miniconda3/envs/biorag/lib/python3.9/site-packages (from uvicorn[standard]>=0.18.3->chromadb!=0.5.4,!=0.5.5,<0.6.0,>=0.4.0->langchain-chroma) (13.0.1)\n",
      "Requirement already satisfied: zipp>=3.1.0 in /home/super-pc-linux/miniconda3/envs/biorag/lib/python3.9/site-packages (from importlib-resources->chromadb!=0.5.4,!=0.5.5,<0.6.0,>=0.4.0->langchain-chroma) (3.20.2)\n",
      "Requirement already satisfied: cachetools<6.0,>=2.0.0 in /home/super-pc-linux/miniconda3/envs/biorag/lib/python3.9/site-packages (from google-auth>=1.0.1->kubernetes>=28.1.0->chromadb!=0.5.4,!=0.5.5,<0.6.0,>=0.4.0->langchain-chroma) (5.5.0)\n",
      "Requirement already satisfied: pyasn1-modules>=0.2.1 in /home/super-pc-linux/miniconda3/envs/biorag/lib/python3.9/site-packages (from google-auth>=1.0.1->kubernetes>=28.1.0->chromadb!=0.5.4,!=0.5.5,<0.6.0,>=0.4.0->langchain-chroma) (0.4.1)\n",
      "Requirement already satisfied: rsa<5,>=3.1.4 in /home/super-pc-linux/miniconda3/envs/biorag/lib/python3.9/site-packages (from google-auth>=1.0.1->kubernetes>=28.1.0->chromadb!=0.5.4,!=0.5.5,<0.6.0,>=0.4.0->langchain-chroma) (4.9)\n",
      "Requirement already satisfied: markdown-it-py>=2.2.0 in /home/super-pc-linux/miniconda3/envs/biorag/lib/python3.9/site-packages (from rich>=10.11.0->typer>=0.9.0->chromadb!=0.5.4,!=0.5.5,<0.6.0,>=0.4.0->langchain-chroma) (3.0.0)\n",
      "Requirement already satisfied: pygments<3.0.0,>=2.13.0 in /home/super-pc-linux/miniconda3/envs/biorag/lib/python3.9/site-packages (from rich>=10.11.0->typer>=0.9.0->chromadb!=0.5.4,!=0.5.5,<0.6.0,>=0.4.0->langchain-chroma) (2.18.0)\n",
      "Requirement already satisfied: humanfriendly>=9.1 in /home/super-pc-linux/miniconda3/envs/biorag/lib/python3.9/site-packages (from coloredlogs->onnxruntime>=1.14.1->chromadb!=0.5.4,!=0.5.5,<0.6.0,>=0.4.0->langchain-chroma) (10.0)\n",
      "Requirement already satisfied: mpmath<1.4,>=1.1.0 in /home/super-pc-linux/miniconda3/envs/biorag/lib/python3.9/site-packages (from sympy->onnxruntime>=1.14.1->chromadb!=0.5.4,!=0.5.5,<0.6.0,>=0.4.0->langchain-chroma) (1.3.0)\n",
      "Requirement already satisfied: mdurl~=0.1 in /home/super-pc-linux/miniconda3/envs/biorag/lib/python3.9/site-packages (from markdown-it-py>=2.2.0->rich>=10.11.0->typer>=0.9.0->chromadb!=0.5.4,!=0.5.5,<0.6.0,>=0.4.0->langchain-chroma) (0.1.2)\n",
      "Requirement already satisfied: pyasn1<0.7.0,>=0.4.6 in /home/super-pc-linux/miniconda3/envs/biorag/lib/python3.9/site-packages (from pyasn1-modules>=0.2.1->google-auth>=1.0.1->kubernetes>=28.1.0->chromadb!=0.5.4,!=0.5.5,<0.6.0,>=0.4.0->langchain-chroma) (0.6.1)\n"
     ]
    }
   ],
   "source": [
    "! pip install nltk numpy pandas unidecode scikit-learn tqdm\n",
    "! pip install langchain langchain-core langchain-community langchain_experimental langchain-chroma langchain_mistralai langgraph"
   ]
  },
  {
   "cell_type": "code",
   "execution_count": 164,
   "metadata": {},
   "outputs": [],
   "source": [
    "import os\n",
    "import re\n",
    "import nltk\n",
    "import string\n",
    "import numpy as np\n",
    "import pandas as pd\n",
    "from unidecode import unidecode\n",
    "from sklearn.metrics.pairwise import cosine_similarity\n",
    "from tqdm import tqdm\n",
    "from pathlib import Path\n",
    "import pickle\n",
    "from rouge_score import rouge_scorer\n",
    "\n",
    "from langchain_community.document_loaders import PDFMinerLoader\n",
    "from langchain_text_splitters import RecursiveCharacterTextSplitter\n",
    "from langchain_chroma import Chroma\n",
    "from langchain_community.embeddings import OllamaEmbeddings\n",
    "from langchain.embeddings.cache import CacheBackedEmbeddings\n",
    "from langchain.storage import LocalFileStore\n",
    "from langchain_community.llms import Ollama\n",
    "from langgraph.graph import END, StateGraph\n",
    "from langchain_core.output_parsers import PydanticOutputParser\n",
    "from langchain.output_parsers import RetryOutputParser\n",
    "from typing import Literal\n",
    "from langchain_core.prompts import PromptTemplate\n",
    "from langchain_core.pydantic_v1 import BaseModel, Field\n",
    "from langchain_core.runnables import RunnableLambda, RunnableParallel\n",
    "from langchain import hub\n",
    "from langchain_core.output_parsers import StrOutputParser"
   ]
  },
  {
   "cell_type": "markdown",
   "metadata": {},
   "source": [
    "## Disable warnings"
   ]
  },
  {
   "cell_type": "code",
   "execution_count": 165,
   "metadata": {},
   "outputs": [],
   "source": [
    "import warnings\n",
    "warnings.filterwarnings('ignore')"
   ]
  },
  {
   "cell_type": "markdown",
   "metadata": {},
   "source": [
    "## Setup metrics"
   ]
  },
  {
   "cell_type": "markdown",
   "metadata": {},
   "source": [
    "### Download NLTK dictionaries\n",
    "\n",
    "These dictionaries are needed for further text preprocessing."
   ]
  },
  {
   "cell_type": "code",
   "execution_count": null,
   "metadata": {},
   "outputs": [],
   "source": [
    "dict_ids = [\n",
    "  'punkt_tab',\n",
    "  'punkt',\n",
    "  'stopwords',\n",
    "  'wordnet',\n",
    "]\n",
    "\n",
    "for dict_id in dict_ids:\n",
    "  nltk.download(dict_id, quiet=True)"
   ]
  },
  {
   "cell_type": "markdown",
   "metadata": {},
   "source": [
    "### Text preprocessing\n",
    "\n",
    "Define a function for text preprocessing, which is an important step before calculating any metrics. This preprocessing function will help in cleaning the text data, making it ready for further analysis. The preprocessing involves several steps:\n",
    "1. Lowercasing\n",
    "2. Stopwords removal\n",
    "3. Lemmatization\n",
    "4. Remove accents from characters"
   ]
  },
  {
   "cell_type": "code",
   "execution_count": 166,
   "metadata": {},
   "outputs": [],
   "source": [
    "lemmatizer = nltk.stem.WordNetLemmatizer()\n",
    "\n",
    "def preprocess(corpus: str) -> str:\n",
    "  corpus = corpus.lower()\n",
    "  stopset = nltk.corpus.stopwords.words('english') + nltk.corpus.stopwords.words('russian') + list(string.punctuation)\n",
    "  tokens = nltk.word_tokenize(corpus)\n",
    "  tokens = [t for t in tokens if t not in stopset]\n",
    "  tokens = [lemmatizer.lemmatize(t) for t in tokens]\n",
    "  corpus = ' '.join(tokens)\n",
    "  corpus = unidecode(corpus)\n",
    "  return corpus"
   ]
  },
  {
   "cell_type": "markdown",
   "metadata": {},
   "source": [
    "### Embedding Initialization\n",
    "\n",
    "Here we are initializing the Llama 3 embeddings model. The `OllamaEmbeddings` class is a component of the Ollama library, a set of pre-trained language models. This model is capable of embedding corpora of any length into a 4096-dimensional vector.\n",
    "\n",
    "The use of `OllamaEmbeddings` requires the installation of a local Ollama server, which can be found at https://ollama.com."
   ]
  },
  {
   "cell_type": "code",
   "execution_count": 167,
   "metadata": {},
   "outputs": [],
   "source": [
    "embeddings = OllamaEmbeddings(model='llama3.1')\n",
    "store = LocalFileStore(\"./.embeddings_cache\")\n",
    "\n",
    "cached_embeddings = CacheBackedEmbeddings.from_bytes_store(\n",
    "  embeddings,\n",
    "  store,\n",
    "  namespace=embeddings.model,\n",
    ")"
   ]
  },
  {
   "cell_type": "markdown",
   "metadata": {},
   "source": [
    "### Average embeddings cosine similarity metric\n",
    "\n",
    "This function calculates the average cosine similarity between expected answers and LLM predicted answers using their respective embeddings. Cosine similarity is a measure of similarity between two non-zero vectors of an inner product space that measures the cosine of the angle between them:\n",
    "\n",
    "$$\n",
    "K(a, b) = \\frac{\\sum \\limits_{i=1}^n a_i b_i}{\\sqrt{\\sum \\limits_{i=1}^n a_i^2} \\cdot \\sqrt{\\sum \\limits_{i=1}^n b_i^2}}\n",
    "$$"
   ]
  },
  {
   "cell_type": "code",
   "execution_count": 168,
   "metadata": {},
   "outputs": [],
   "source": [
    "def embeddings_cosine_sim_metric(expected_answers: list[str], predicted_answers: list[str]) -> float:\n",
    "  results = []\n",
    "\n",
    "  for expected_answer, predicted_answer in zip(expected_answers, predicted_answers):\n",
    "    expected_answer = preprocess(expected_answer)\n",
    "    predicted_answer = preprocess(predicted_answer)\n",
    "\n",
    "    expected_embedding = np.array(cached_embeddings.embed_query(expected_answer))\n",
    "    predicted_embedding = np.array(cached_embeddings.embed_query(predicted_answer))\n",
    "\n",
    "    sim = cosine_similarity(\n",
    "      expected_embedding.reshape(1, -1),\n",
    "      predicted_embedding.reshape(1, -1),\n",
    "    )[0][0]\n",
    "\n",
    "    results.append(sim)\n",
    "\n",
    "  return np.mean(results)"
   ]
  },
  {
   "cell_type": "code",
   "execution_count": null,
   "metadata": {},
   "outputs": [],
   "source": [
    "smoothie_f = nltk.translate.bleu_score.SmoothingFunction().method4\n",
    "\n",
    "def bleu_metric(expected_answers, predicted_answers):\n",
    "  scores = []\n",
    "\n",
    "  for expected_answer, predicted_answer in zip(expected_answers, predicted_answers):\n",
    "    expected_answer = preprocess(expected_answer)\n",
    "    predicted_answer = preprocess(predicted_answer)\n",
    "\n",
    "    predicted_tokens = nltk.word_tokenize(predicted_answer)\n",
    "    expected_tokens = [nltk.word_tokenize(expected_answer)]\n",
    "\n",
    "    score = nltk.translate.bleu_score.sentence_bleu(\n",
    "      expected_tokens,\n",
    "      predicted_tokens,\n",
    "      smoothing_function=smoothie_f,\n",
    "    )\n",
    "\n",
    "    scores.append(score)\n",
    "\n",
    "  return np.mean(scores)"
   ]
  },
  {
   "cell_type": "code",
   "execution_count": null,
   "metadata": {},
   "outputs": [],
   "source": [
    "rogue_1_scorer = rouge_scorer.RougeScorer(['rouge1'], use_stemmer=True)\n",
    "\n",
    "def rogue_1_metric(expected_answers, predicted_answers):\n",
    "  scores = []\n",
    "\n",
    "  for expected_answer, predicted_answer in zip(expected_answers, predicted_answers):\n",
    "    expected_answer = preprocess(expected_answer)\n",
    "    predicted_answer = preprocess(predicted_answer)\n",
    "\n",
    "    result = rogue_1_scorer.score(expected_answer, predicted_answer)\n",
    "\n",
    "    scores.append(result['rouge1'])\n",
    "\n",
    "  return np.mean(scores)"
   ]
  },
  {
   "cell_type": "code",
   "execution_count": null,
   "metadata": {},
   "outputs": [],
   "source": [
    "rogue_l_scorer = rouge_scorer.RougeScorer(['rougeL'], use_stemmer=True)\n",
    "\n",
    "def rogue_l_metric(expected_answers, predicted_answers):\n",
    "  scores = []\n",
    "\n",
    "  for expected_answer, predicted_answer in zip(expected_answers, predicted_answers):\n",
    "    expected_answer = preprocess(expected_answer)\n",
    "    predicted_answer = preprocess(predicted_answer)\n",
    "\n",
    "    result = rogue_l_scorer.score(expected_answer, predicted_answer)\n",
    "\n",
    "    scores.append(result['rougeL'])\n",
    "\n",
    "  return np.mean(scores)"
   ]
  },
  {
   "cell_type": "markdown",
   "metadata": {},
   "source": [
    "## Load documents"
   ]
  },
  {
   "cell_type": "code",
   "execution_count": 169,
   "metadata": {},
   "outputs": [],
   "source": [
    "docs_dir = Path('./docs')\n",
    "docs_cache_dir = Path('./.docs_cache')\n",
    "raw_docs_pkl_path = docs_cache_dir / 'parsed_docs_cache.pkl'\n",
    "\n",
    "docs = None\n",
    "\n",
    "if os.path.exists(raw_docs_pkl_path):\n",
    "  with open(raw_docs_pkl_path, 'rb') as f:\n",
    "    docs = pickle.load(f)\n",
    "else:\n",
    "  docs = []\n",
    "  for file in docs_dir.iterdir():\n",
    "    docs.extend(PDFMinerLoader(file).load())\n",
    "\n",
    "  with open(raw_docs_pkl_path, 'wb') as f:\n",
    "    pickle.dump(docs, f)"
   ]
  },
  {
   "cell_type": "markdown",
   "metadata": {},
   "source": [
    "## Split documents"
   ]
  },
  {
   "cell_type": "code",
   "execution_count": 170,
   "metadata": {},
   "outputs": [],
   "source": [
    "from langchain_text_splitters import RecursiveCharacterTextSplitter\n",
    "\n",
    "splitted_docs_pkl_path = docs_cache_dir / 'splitted_docs_cache.pkl'\n",
    "\n",
    "if os.path.exists(splitted_docs_pkl_path):\n",
    "  with open(splitted_docs_pkl_path, 'rb') as f:\n",
    "    splitted_docs = pickle.load(f)\n",
    "else:\n",
    "  text_splitter = RecursiveCharacterTextSplitter(\n",
    "    chunk_size=750,\n",
    "    chunk_overlap=250,\n",
    "    length_function=len,\n",
    "    is_separator_regex=False,\n",
    "  )\n",
    "  splitted_docs = text_splitter.create_documents([doc.page_content for doc in docs])\n",
    "\n",
    "  with open(splitted_docs_pkl_path, 'wb') as f:\n",
    "    pickle.dump(splitted_docs, f)\n",
    "\n",
    "len(splitted_docs)"
   ]
  },
  {
   "cell_type": "markdown",
   "metadata": {},
   "source": [
    "## Setup vector store"
   ]
  },
  {
   "cell_type": "code",
   "execution_count": 172,
   "metadata": {},
   "outputs": [],
   "source": [
    "vector_store = Chroma.from_documents(\n",
    "  documents=splitted_docs,\n",
    "  embedding=cached_embeddings,\n",
    ")\n",
    "retriever = vector_store.as_retriever()"
   ]
  },
  {
   "cell_type": "markdown",
   "metadata": {},
   "source": [
    "## Define JSON extractor"
   ]
  },
  {
   "cell_type": "code",
   "execution_count": 173,
   "metadata": {},
   "outputs": [],
   "source": [
    "def extract_json(response):\n",
    "  json_pattern = r'\\{.*?\\}'\n",
    "  match = re.search(json_pattern, response, re.DOTALL)\n",
    "\n",
    "  if match:\n",
    "    return match.group().strip()\n",
    "\n",
    "  return response"
   ]
  },
  {
   "cell_type": "markdown",
   "metadata": {},
   "source": [
    "## Build LLM"
   ]
  },
  {
   "cell_type": "code",
   "execution_count": null,
   "metadata": {},
   "outputs": [],
   "source": [
    "llm = Ollama(model='llama3.1', temperature=0)"
   ]
  },
  {
   "cell_type": "markdown",
   "metadata": {},
   "source": [
    "## Build chains"
   ]
  },
  {
   "cell_type": "markdown",
   "metadata": {},
   "source": [
    "### Route chain"
   ]
  },
  {
   "cell_type": "code",
   "execution_count": 174,
   "metadata": {},
   "outputs": [
    {
     "name": "stdout",
     "output_type": "stream",
     "text": [
      "data_source='websearch'\n",
      "data_source='vectorstore'\n"
     ]
    }
   ],
   "source": [
    "class RouteQuery(BaseModel):\n",
    "  data_source: Literal['vectorstore', 'websearch'] = Field(\n",
    "    description='Given a user question choose to route it to web search or a vectorstore.',\n",
    "  )\n",
    "\n",
    "route_parser = PydanticOutputParser(pydantic_object=RouteQuery)\n",
    "route_retry_parser = RetryOutputParser.from_llm(\n",
    "  parser=route_parser,\n",
    "  llm=llm,\n",
    "  max_retries=3,\n",
    ")\n",
    "\n",
    "route_template = \"\"\"\n",
    "You are an expert at routing a user question to a vectorstore or web search.\n",
    "The vectorstore contains documents related to neurobiology and medicine.\n",
    "Use the vectorstore for questions on these topics. For all else, use web-search.\n",
    "\n",
    "{format_instructions}\n",
    "\n",
    "{question}\n",
    "\"\"\"\n",
    "route_prompt = PromptTemplate(\n",
    "  template=route_template,\n",
    "  input_variables=['question'],\n",
    "  partial_variables={'format_instructions': route_parser.get_format_instructions()},\n",
    ")\n",
    "\n",
    "question_router = RunnableParallel(\n",
    "  completion=route_prompt | llm | extract_json, prompt_value=route_prompt\n",
    ") | RunnableLambda(lambda x: route_retry_parser.parse_with_prompt(**x))\n",
    "print(question_router.invoke({'question': 'Who will the Bears draft first in the NFL draft?'}))\n",
    "print(question_router.invoke({'question': 'What is the order of the cranial nerves?'}))"
   ]
  },
  {
   "cell_type": "markdown",
   "metadata": {},
   "source": [
    "### Grade documents chain"
   ]
  },
  {
   "cell_type": "code",
   "execution_count": 175,
   "metadata": {},
   "outputs": [
    {
     "data": {
      "text/plain": [
       "GradeDocuments(binary_score='yes')"
      ]
     },
     "execution_count": 175,
     "metadata": {},
     "output_type": "execute_result"
    }
   ],
   "source": [
    "class GradeDocuments(BaseModel):\n",
    "  binary_score: str = Field(description=\"Documents are relevant to the question, 'yes' or 'no'\")\n",
    "\n",
    "docs_grade_parser = PydanticOutputParser(pydantic_object=GradeDocuments)\n",
    "docs_grade_retry_parser = RetryOutputParser.from_llm(\n",
    "  parser=docs_grade_parser,\n",
    "  llm=llm,\n",
    "  max_retries=3,\n",
    ")\n",
    "\n",
    "docs_grade_template = \"\"\"\n",
    "You are a grader assessing relevance of a retrieved document to a user question.\n",
    "If the document contains keyword(s) or semantic meaning related to the question, grade it as relevant.\n",
    "Give a binary score 'yes' or 'no' score to indicate whether the document is relevant to the question.\n",
    "\n",
    "{format_instructions}\n",
    "\n",
    "User question:\n",
    "{question}\n",
    "\n",
    "Retrieved document:\n",
    "{document}\n",
    "\"\"\"\n",
    "docs_grade_prompt = PromptTemplate(\n",
    "  template=docs_grade_template,\n",
    "  input_variables=['document', 'question'],\n",
    "  partial_variables={'format_instructions': docs_grade_parser.get_format_instructions()},\n",
    ")\n",
    "\n",
    "docs_grade_grader = RunnableParallel(\n",
    "  completion=docs_grade_prompt | llm | extract_json, prompt_value=docs_grade_prompt\n",
    ") | RunnableLambda(lambda x: docs_grade_retry_parser.parse_with_prompt(**x))\n",
    "docs_grade_grader.invoke({'question': 'What is the color of the sky?', 'document': 'The color of the sky is blue'})"
   ]
  },
  {
   "cell_type": "markdown",
   "metadata": {},
   "source": [
    "### Hallucinations chain"
   ]
  },
  {
   "cell_type": "code",
   "execution_count": 176,
   "metadata": {},
   "outputs": [
    {
     "name": "stdout",
     "output_type": "stream",
     "text": [
      "binary_score='yes'\n"
     ]
    }
   ],
   "source": [
    "class GradeHallucinations(BaseModel):\n",
    "  binary_score: str = Field(description=\"Answer is grounded in the facts, 'yes' or 'no'\")\n",
    "\n",
    "hallucination_parser = PydanticOutputParser(pydantic_object=GradeHallucinations)\n",
    "hallucination_retry_parser = RetryOutputParser.from_llm(\n",
    "  parser=hallucination_parser,\n",
    "  llm=llm,\n",
    "  max_retries=3,\n",
    ")\n",
    "\n",
    "hallucination_template = \"\"\"\n",
    "You are a grader assessing whether an LLM generation is grounded in / supported by a set of retrieved facts. \\n\n",
    "Give a binary score 'yes' or 'no'. 'Yes' means that the answer is grounded in / supported by the set of facts.\"\n",
    "\n",
    "{format_instructions}\n",
    "\n",
    "Set of facts:\n",
    "{documents}\n",
    "\n",
    "LLM generation:\n",
    "{generation}\n",
    "\"\"\"\n",
    "hallucination_prompt = PromptTemplate(\n",
    "  template=hallucination_template,\n",
    "  input_variables=['question', 'generation'],\n",
    "  partial_variables={'format_instructions': hallucination_parser.get_format_instructions()},\n",
    ")\n",
    "\n",
    "hallucination_grader = RunnableParallel(\n",
    "  completion=hallucination_prompt | llm | extract_json, prompt_value=hallucination_prompt\n",
    ") | RunnableLambda(lambda x: hallucination_retry_parser.parse_with_prompt(**x))\n",
    "print(hallucination_grader.invoke({'documents': ['Sky is blue'], 'generation': 'The color of the sky is blue'}))"
   ]
  },
  {
   "cell_type": "markdown",
   "metadata": {},
   "source": [
    "### Answer grade chain"
   ]
  },
  {
   "cell_type": "code",
   "execution_count": 177,
   "metadata": {},
   "outputs": [
    {
     "name": "stdout",
     "output_type": "stream",
     "text": [
      "binary_score='no'\n"
     ]
    }
   ],
   "source": [
    "class GradeAnswer(BaseModel):\n",
    "  binary_score: str = Field(description=\"Answer addresses the question, 'yes' or 'no'\")\n",
    "\n",
    "grade_parser = PydanticOutputParser(pydantic_object=GradeAnswer)\n",
    "grade_retry_parser = RetryOutputParser.from_llm(\n",
    "  parser=grade_parser,\n",
    "  llm=llm,\n",
    "  max_retries=3,\n",
    ")\n",
    "\n",
    "grade_template = \"\"\"\n",
    "You are a grader assessing whether an answer addresses / resolves a question. \\n\n",
    "Give a binary score 'yes' or 'no'. 'yes' means that the answer resolves the question.\n",
    "\n",
    "User question:\n",
    "{question}\n",
    "\n",
    "LLM generation:\n",
    "{generation}\n",
    "\n",
    "{format_instructions}\n",
    "\"\"\"\n",
    "grade_prompt = PromptTemplate(\n",
    "  template=grade_template,\n",
    "  input_variables=['question', 'generation'],\n",
    "  partial_variables={'format_instructions': grade_parser.get_format_instructions()},\n",
    ")\n",
    "\n",
    "answer_grader = RunnableParallel(\n",
    "  completion=grade_prompt | llm | extract_json, prompt_value=grade_prompt\n",
    ") | RunnableLambda(lambda x: grade_retry_parser.parse_with_prompt(**x))\n",
    "print(answer_grader.invoke({\"question\": \"What is the order of the cranial nerves?\", 'generation': 'I do not know.'}))"
   ]
  },
  {
   "cell_type": "markdown",
   "metadata": {},
   "source": [
    "## HyDE chain"
   ]
  },
  {
   "cell_type": "code",
   "execution_count": 178,
   "metadata": {},
   "outputs": [
    {
     "data": {
      "text/plain": [
       "'Here\\'s a scientific paper-style passage answering the question:\\n\\n**Title:** The Cranial Nerve Plexus: A Review of the Anatomical and Neurological Organization\\n\\n**Abstract:**\\n\\nThe cranial nerves are a complex system of 12 pairs of nerves that arise from the brain and play crucial roles in various physiological functions, including sensation, motor control, and autonomic regulation. Understanding the order and organization of these nerves is essential for clinical diagnosis and treatment of neurological disorders. This review aims to provide an overview of the cranial nerve plexus, highlighting their anatomical and functional characteristics.\\n\\n**Introduction:**\\n\\nThe cranial nerves are a unique group of nerves that arise from the brain and traverse through the skull, innervating various structures within the head and neck region. The order of these nerves is traditionally remembered using the mnemonic \"ON OFFENSE\" (Olfactory, Optic, Oculomotor, Trochlear, Abducens, Facial, Auditory-Vestibular, Glossopharyngeal, Vagus, Spinal Accessory, Hypoglossal). However, a more systematic and clinically relevant approach is to group them into three categories: the special visceral efferent (SVE) nerves, which control voluntary movements; the general visceral efferent (GVE) nerves, which regulate autonomic functions; and the somatic sensory (SS) nerves, which convey sensory information.\\n\\n**The Order of the Cranial Nerves:**\\n\\n1. **Olfactory (I)**: The first cranial nerve, responsible for transmitting olfactory sensations from the nasal cavity to the brain.\\n2. **Optic (II)**: The second cranial nerve, involved in visual perception and transmission of light information from the retina to the brain.\\n3. **Oculomotor (III)**: The third cranial nerve, controlling eye movements, including convergence and divergence.\\n4. **Trochlear (IV)**: The fourth cranial nerve, responsible for superior oblique muscle function, which rotates the eyeball.\\n5. **Abducens (VI)**: The sixth cranial nerve, involved in lateral rectus muscle function, which abducts the eyeball.\\n6. **Facial (VII)**: The seventh cranial nerve, controlling facial expressions, taste sensation from the anterior two-thirds of the tongue, and stapedius muscle function.\\n7. **Auditory-Vestibular (VIII)**: The eighth cranial nerve, responsible for transmitting sound and balance information from the inner ear to the brain.\\n8. **Glossopharyngeal (IX)**: The ninth cranial nerve, involved in swallowing, taste sensation from the posterior one-third of the tongue, and parasympathetic regulation of various structures.\\n9. **Vagus (X)**: The tenth cranial nerve, controlling a wide range of autonomic functions, including heart rate, digestion, and respiration.\\n10. **Spinal Accessory (XI)**: The eleventh cranial nerve, responsible for motor control of the sternocleidomastoid and trapezius muscles.\\n11. **Hypoglossal (XII)**: The twelfth cranial nerve, controlling tongue movements and protrusion.\\n\\n**Conclusion:**\\n\\nIn conclusion, the order of the cranial nerves is a complex system that can be remembered using various mnemonics or grouped into functional categories. Understanding this organization is essential for clinical diagnosis and treatment of neurological disorders affecting these nerves.'"
      ]
     },
     "execution_count": 178,
     "metadata": {},
     "output_type": "execute_result"
    }
   ],
   "source": [
    "from langchain_core.prompts import ChatPromptTemplate\n",
    "from langchain_core.output_parsers import StrOutputParser\n",
    "\n",
    "hyde_template = \"\"\"\n",
    "Please write a scientific paper passage to answer the question\n",
    "\n",
    "Question: {question}\n",
    "\n",
    "Passage:\n",
    "\"\"\"\n",
    "hyde_prompt = ChatPromptTemplate.from_template(hyde_template)\n",
    "hyde_chain = hyde_prompt | llm | StrOutputParser()\n",
    "\n",
    "hyde_chain.invoke({\"question\": 'What is the order of the cranial nerves ?'})"
   ]
  },
  {
   "cell_type": "code",
   "execution_count": 1,
   "metadata": {},
   "outputs": [
    {
     "name": "stderr",
     "output_type": "stream",
     "text": [
      "/opt/homebrew/Caskroom/miniconda/base/envs/test/lib/python3.9/site-packages/langsmith/client.py:322: LangSmithMissingAPIKeyWarning: API key must be provided when using hosted LangSmith API\n",
      "  warnings.warn(\n",
      "/opt/homebrew/Caskroom/miniconda/base/envs/test/lib/python3.9/site-packages/langsmith/client.py:5301: LangChainBetaWarning: The function `loads` is in beta. It is actively being worked on, so the API may change.\n",
      "  prompt = loads(json.dumps(prompt_object.manifest))\n"
     ]
    },
    {
     "ename": "NameError",
     "evalue": "name 'llm' is not defined",
     "output_type": "error",
     "traceback": [
      "\u001b[0;31m---------------------------------------------------------------------------\u001b[0m",
      "\u001b[0;31mNameError\u001b[0m                                 Traceback (most recent call last)",
      "Cell \u001b[0;32mIn[1], line 6\u001b[0m\n\u001b[1;32m      2\u001b[0m \u001b[38;5;28;01mfrom\u001b[39;00m \u001b[38;5;21;01mlangchain_core\u001b[39;00m\u001b[38;5;21;01m.\u001b[39;00m\u001b[38;5;21;01moutput_parsers\u001b[39;00m \u001b[38;5;28;01mimport\u001b[39;00m StrOutputParser\n\u001b[1;32m      4\u001b[0m prompt \u001b[38;5;241m=\u001b[39m hub\u001b[38;5;241m.\u001b[39mpull(\u001b[38;5;124m'\u001b[39m\u001b[38;5;124mrlm/rag-prompt\u001b[39m\u001b[38;5;124m'\u001b[39m)\n\u001b[0;32m----> 6\u001b[0m rag_chain \u001b[38;5;241m=\u001b[39m prompt \u001b[38;5;241m|\u001b[39m \u001b[43mllm\u001b[49m \u001b[38;5;241m|\u001b[39m StrOutputParser()\n\u001b[1;32m      8\u001b[0m rag_chain\u001b[38;5;241m.\u001b[39minvoke({\u001b[38;5;124m\"\u001b[39m\u001b[38;5;124mcontext\u001b[39m\u001b[38;5;124m\"\u001b[39m: \u001b[38;5;124m'\u001b[39m\u001b[38;5;124m'\u001b[39m, \u001b[38;5;124m\"\u001b[39m\u001b[38;5;124mquestion\u001b[39m\u001b[38;5;124m\"\u001b[39m: \u001b[38;5;124m'\u001b[39m\u001b[38;5;124mWhat is the order of the cranial nerves ?\u001b[39m\u001b[38;5;124m'\u001b[39m})\n",
      "\u001b[0;31mNameError\u001b[0m: name 'llm' is not defined"
     ]
    }
   ],
   "source": [
    "prompt = hub.pull('rlm/rag-prompt')\n",
    "rag_chain = prompt | llm | StrOutputParser()\n",
    "\n",
    "rag_chain.invoke({\"context\": '', \"question\": 'What is the order of the cranial nerves ?'})"
   ]
  },
  {
   "cell_type": "markdown",
   "metadata": {},
   "source": [
    "### Web search chain"
   ]
  },
  {
   "cell_type": "code",
   "execution_count": 181,
   "metadata": {},
   "outputs": [],
   "source": [
    "from langchain_community.tools.tavily_search import TavilySearchResults\n",
    "os.environ['TAVILY_API_KEY'] = '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'\n",
    "web_search_tool = TavilySearchResults(k=5)"
   ]
  },
  {
   "cell_type": "markdown",
   "metadata": {},
   "source": [
    "## Build graph app"
   ]
  },
  {
   "cell_type": "code",
   "execution_count": 182,
   "metadata": {},
   "outputs": [],
   "source": [
    "from typing_extensions import TypedDict\n",
    "from typing import List\n",
    "from langchain.schema import Document\n",
    "\n",
    "class GraphState(TypedDict):\n",
    "    question: str\n",
    "    generated_doc: str\n",
    "    documents: List[str]\n",
    "    web_search: str\n",
    "    generation: str\n",
    "    generations_num: int\n",
    "\n",
    "def route_question(state):\n",
    "    print('---ROUTE QUESTION---')\n",
    "\n",
    "    question = state['question']\n",
    "\n",
    "    source = question_router.invoke({'question': question})\n",
    "\n",
    "    if source.data_source == 'websearch':\n",
    "        print('---ROUTE QUESTION TO WEB SEARCH---')\n",
    "        return 'websearch'\n",
    "    elif source.data_source == 'vectorstore':\n",
    "        print('---ROUTE QUESTION TO VECTOR STORE---')\n",
    "        return 'vectorstore'\n",
    "\n",
    "def generate_doc(state):\n",
    "    print('---GENERATE DOCUMENT---')\n",
    "\n",
    "    question = state['question']\n",
    "\n",
    "    generated_doc = hyde_chain.invoke({'question': question})\n",
    "\n",
    "    return {'question': question, 'generated_doc': generated_doc}\n",
    "\n",
    "def retrieve(state):\n",
    "    print('---RETRIEVE---')\n",
    "\n",
    "    question = state['question']\n",
    "    generated_doc = state['generated_doc']\n",
    "\n",
    "    documents = retriever.invoke(generated_doc)\n",
    "\n",
    "    return {'question': question, 'documents': documents}\n",
    "\n",
    "def grade_documents(state):\n",
    "    print('---CHECK DOCUMENT RELEVANCE TO QUESTION---')\n",
    "\n",
    "    question = state['question']\n",
    "    documents = state['documents']\n",
    "\n",
    "    # Score each doc\n",
    "    filtered_docs = []\n",
    "    web_search = 'No'\n",
    "    for index, d in enumerate(documents):\n",
    "        print(f'---GRADE DOCUMENT ({index + 1}/{len(documents)})---')\n",
    "        try:\n",
    "            score = docs_grade_grader.invoke({'question': question, 'document': d.page_content})\n",
    "            grade = score.binary_score\n",
    "        except:\n",
    "            grade = 'No'\n",
    "        # Document relevant\n",
    "        if grade.lower() == 'yes':\n",
    "            print('---GRADE: DOCUMENT RELEVANT---')\n",
    "            filtered_docs.append(d)\n",
    "        # Document not relevant\n",
    "        else:\n",
    "            print('---GRADE: DOCUMENT NOT RELEVANT---')\n",
    "            # We do not include the document in filtered_docs\n",
    "            # We set a flag to indicate that we want to run web search\n",
    "            web_search = 'Yes'\n",
    "            continue\n",
    "\n",
    "    print('final len', len(filtered_docs))\n",
    "\n",
    "    return {\n",
    "        'question': question,\n",
    "        'documents': filtered_docs,\n",
    "        'web_search': web_search,\n",
    "    }\n",
    "\n",
    "def decide_to_generate(state):\n",
    "    print('---ASSESS GRADED DOCUMENTS---')\n",
    "\n",
    "    web_search = state['web_search']\n",
    "\n",
    "    if web_search == 'Yes':\n",
    "        # All documents have been filtered check_relevance\n",
    "        # We will re-generate a new query\n",
    "        print('---DECISION: ALL DOCUMENTS ARE NOT RELEVANT TO QUESTION, INCLUDE WEB SEARCH---')\n",
    "        return 'websearch'\n",
    "    else:\n",
    "        # We have relevant documents, so generate answer\n",
    "        print('---DECISION: GENERATE---')\n",
    "        return 'generate'\n",
    "\n",
    "def web_search(state):\n",
    "    print('---WEB SEARCH---')\n",
    "\n",
    "    question = state['question']\n",
    "    documents = state.get('documents')\n",
    "\n",
    "    try:\n",
    "        docs = web_search_tool.invoke({'query': question})\n",
    "        web_results = '\\n'.join([d['content'] for d in docs])\n",
    "        web_results = Document(page_content=web_results)\n",
    "        if documents is not None:\n",
    "            documents.append(web_results)\n",
    "        else:\n",
    "            documents = [web_results]\n",
    "    except:\n",
    "        pass\n",
    "\n",
    "    return {\n",
    "        'question': question,\n",
    "        'documents': documents,\n",
    "    }\n",
    "\n",
    "def generate(state):\n",
    "    print('---GENERATE---')\n",
    "\n",
    "    question = state['question']\n",
    "    documents = state['documents']\n",
    "    generations_num = state.get('generations_num', 0)\n",
    "\n",
    "    # RAG generation\n",
    "    generation = rag_chain.invoke({'context': documents, 'question': question})\n",
    "    return {\n",
    "        'question': question,\n",
    "        'documents': documents,\n",
    "        'generation': generation,\n",
    "        'generations_num': generations_num + 1,\n",
    "    }\n",
    "\n",
    "def grade_generation(state):\n",
    "    print('---CHECK HALLUCINATIONS---')\n",
    "\n",
    "    question = state['question']\n",
    "    documents = state['documents']\n",
    "    generation = state['generation']\n",
    "    generations_num = state['generations_num']\n",
    "\n",
    "    if generations_num >= 2:\n",
    "        return 'useful'\n",
    "\n",
    "    try:\n",
    "        score = hallucination_grader.invoke({'documents': documents, 'generation': generation})\n",
    "        grade = score.binary_score\n",
    "    except:\n",
    "        grade = 'no'\n",
    "\n",
    "    # Check hallucination\n",
    "    if grade == 'yes':\n",
    "        print('---DECISION: GENERATION IS GROUNDED IN DOCUMENTS---')\n",
    "        # Check question-answering\n",
    "        print('---GRADE GENERATION vs QUESTION---')\n",
    "        try:\n",
    "            score = answer_grader.invoke({'question': question,'generation': generation})\n",
    "            grade = score.binary_score\n",
    "        except:\n",
    "            grade = 'no'\n",
    "\n",
    "        if grade == 'yes':\n",
    "            print('---DECISION: GENERATION ADDRESSES QUESTION---')\n",
    "            return 'useful'\n",
    "        else:\n",
    "            print('---DECISION: GENERATION DOES NOT ADDRESS QUESTION---')\n",
    "            return 'not useful'\n",
    "    else:\n",
    "        print('---DECISION: GENERATION IS NOT GROUNDED IN DOCUMENTS, RE-TRY---')\n",
    "        return 'not supported'\n",
    "\n",
    "workflow = StateGraph(GraphState)\n",
    "workflow.add_node('generate_doc', generate_doc)\n",
    "workflow.add_node('retrieve', retrieve)\n",
    "workflow.add_node('websearch', web_search)\n",
    "workflow.add_node('generate', generate)\n",
    "workflow.add_node('grade_documents', grade_documents)\n",
    "workflow.set_conditional_entry_point(\n",
    "    route_question,\n",
    "    {\n",
    "        'websearch': 'websearch',\n",
    "        'vectorstore': 'generate_doc',\n",
    "    },\n",
    ")\n",
    "workflow.add_edge('generate_doc', 'retrieve')\n",
    "workflow.add_edge('retrieve', 'grade_documents')\n",
    "workflow.add_conditional_edges(\n",
    "    'grade_documents',\n",
    "    decide_to_generate,\n",
    "    {\n",
    "        'websearch': 'websearch',\n",
    "        'generate': 'generate',\n",
    "    },\n",
    ")\n",
    "workflow.add_edge('websearch', 'generate')\n",
    "workflow.add_conditional_edges(\n",
    "    'generate',\n",
    "    grade_generation,\n",
    "    {\n",
    "        'not supported': 'generate',\n",
    "        'useful': END,\n",
    "        'not useful': 'websearch',\n",
    "    },\n",
    ")\n",
    "\n",
    "app = workflow.compile()"
   ]
  },
  {
   "cell_type": "code",
   "execution_count": 183,
   "metadata": {},
   "outputs": [
    {
     "name": "stdout",
     "output_type": "stream",
     "text": [
      "---ROUTE QUESTION---\n",
      "---ROUTE QUESTION TO VECTOR STORE---\n",
      "---GENERATE DOCUMENT---\n",
      "---RETRIEVE---\n",
      "---CHECK DOCUMENT RELEVANCE TO QUESTION---\n",
      "---GRADE DOCUMENT (1/4)---\n",
      "---GRADE: DOCUMENT NOT RELEVANT---\n",
      "---GRADE DOCUMENT (2/4)---\n",
      "---GRADE: DOCUMENT NOT RELEVANT---\n",
      "---GRADE DOCUMENT (3/4)---\n",
      "---GRADE: DOCUMENT NOT RELEVANT---\n",
      "---GRADE DOCUMENT (4/4)---\n",
      "---GRADE: DOCUMENT NOT RELEVANT---\n",
      "final len 0\n",
      "---ASSESS GRADED DOCUMENTS---\n",
      "---DECISION: ALL DOCUMENTS ARE NOT RELEVANT TO QUESTION, INCLUDE WEB SEARCH---\n",
      "---WEB SEARCH---\n",
      "Web results Anatomy. Cranial nerves are the 12 nerves of the peripheral nervous system that emerge from the foramina and fissures of the cranium.Their numerical order (1-12) is determined by their skull exit location (rostral to caudal). All cranial nerves originate from nuclei in the brain.Two originate from the forebrain (Olfactory and Optic), one has a nucleus in the spinal cord (Accessory) while the ...\n",
      "The numbering of the cranial nerves is based on the order in which they emerge from the brain and brainstem, from front to back. [2] The terminal nerves (0), olfactory nerves (I) and optic nerves (II) emerge from the cerebrum, and the remaining ten pairs arise from the brainstem, which is the lower part of the brain. [3]\n",
      "The cranial nerves are numbered by their location on the brainstem (superior to inferior, then medial to lateral) and the order of their exit from the cranium (anterior to posterior) (Figures 1 & 2). By Patrick J. Lynch, medical illustrator derivative work: Beao derivative work: Dwstultz [CC BY 2.5], via Wikimedia Commons\n",
      "The cranial nerves are named and numbered, based on their location, from the front of the brain to the back. ... Many different mnemonics can help with memorising or recalling the order, names, and functions of the twelve cranial nerves. These mnemonics use the first letter of each cranial nerve name to create a memorable expression and help ...\n",
      "Cranial nerve mnemonics are memory devices to help you remember the names of the nerves in order of one through 12. They can also help you remember whether the nerves are sensory, motor or both. Cranial nerve mnemonics to remember the names of the nerves in order include:\n",
      "---GENERATE---\n",
      "---CHECK HALLUCINATIONS---\n",
      "---DECISION: GENERATION IS GROUNDED IN DOCUMENTS---\n",
      "---GRADE GENERATION vs QUESTION---\n",
      "---DECISION: GENERATION ADDRESSES QUESTION---\n"
     ]
    },
    {
     "data": {
      "text/plain": [
       "{'question': 'What is the order of the cranial nerves?',\n",
       " 'generated_doc': \"Here's a scientific paper-style passage answering the question:\\n\\n**Title:** The Cranial Nerve Order: A Review and Classification\\n\\n**Abstract:**\\nThe cranial nerves are a complex group of 12 pairs of nerves that arise directly from the brain, playing crucial roles in various physiological functions. Despite their importance, there is often confusion regarding the order in which these nerves are typically listed. This review aims to provide a comprehensive overview of the cranial nerve order, highlighting their classification and functional significance.\\n\\n**Introduction:**\\nThe cranial nerves are a vital component of the nervous system, responsible for controlling various bodily functions such as sensation, movement, and autonomic regulation. Traditionally, these nerves have been grouped into three categories based on their embryological origin: somatic (sensory and motor), parasympathetic (autonomic), and special senses (vision, hearing, taste, and smell). However, the order in which they are listed has varied across anatomical texts.\\n\\n**The Cranial Nerve Order:**\\nThe 12 pairs of cranial nerves are typically listed in the following order:\\n\\n1. **Olfactory nerve (I)**: responsible for transmitting sensory information related to smell.\\n2. **Optic nerve (II)**: transmits visual information from the retina to the brain.\\n3. **Occulomotor nerve (III)**: controls eye movement, pupil constriction, and accommodation.\\n4. **Trochlear nerve (IV)**: innervates the superior oblique muscle of the eye.\\n5. **Trigeminal nerve (V)**: responsible for facial sensation, motor control of mastication, and autonomic regulation.\\n6. **Abducens nerve (VI)**: controls lateral eye movement.\\n7. **Facial nerve (VII)**: regulates facial expression, taste, and autonomic functions.\\n8. **Vestibulocochlear nerve (VIII)**: transmits auditory and vestibular information.\\n9. **Glossopharyngeal nerve (IX)**: responsible for swallowing, taste, and autonomic regulation.\\n10. **Vagus nerve (X)**: regulates various visceral functions, including heart rate, digestion, and respiration.\\n11. **Spinal accessory nerve (XI)**: innervates the sternocleidomastoid and trapezius muscles.\\n12. **Hypoglossal nerve (XII)**: controls tongue movement.\\n\\n**Conclusion:**\\nIn conclusion, the cranial nerves are a diverse group of nerves that play critical roles in various physiological functions. The order listed above provides a standardized classification for these nerves, facilitating their identification and understanding in anatomical and clinical contexts.\",\n",
       " 'documents': [Document(page_content='Anatomy. Cranial nerves are the 12 nerves of the peripheral nervous system that emerge from the foramina and fissures of the cranium.Their numerical order (1-12) is determined by their skull exit location (rostral to caudal). All cranial nerves originate from nuclei in the brain.Two originate from the forebrain (Olfactory and Optic), one has a nucleus in the spinal cord (Accessory) while the ...\\nThe numbering of the cranial nerves is based on the order in which they emerge from the brain and brainstem, from front to back. [2] The terminal nerves (0), olfactory nerves (I) and optic nerves (II) emerge from the cerebrum, and the remaining ten pairs arise from the brainstem, which is the lower part of the brain. [3]\\nThe cranial nerves are numbered by their location on the brainstem (superior to inferior, then medial to lateral) and the order of their exit from the cranium (anterior to posterior) (Figures 1 & 2). By Patrick J. Lynch, medical illustrator derivative work: Beao derivative work: Dwstultz [CC BY 2.5], via Wikimedia Commons\\nThe cranial nerves are named and numbered, based on their location, from the front of the brain to the back. ... Many different mnemonics can help with memorising or recalling the order, names, and functions of the twelve cranial nerves. These mnemonics use the first letter of each cranial nerve name to create a memorable expression and help ...\\nCranial nerve mnemonics are memory devices to help you remember the names of the nerves in order of one through 12. They can also help you remember whether the nerves are sensory, motor or both. Cranial nerve mnemonics to remember the names of the nerves in order include:')],\n",
       " 'web_search': 'Yes',\n",
       " 'generation': 'The cranial nerves emerge from the brain and brainstem in a specific order, with their numerical order (1-12) determined by their skull exit location. The numbering is based on their location on the brainstem (superior to inferior, then medial to lateral) and the order of their exit from the cranium (anterior to posterior). This results in the following order: Olfactory (I), Optic (II), Occulomotor (III), Trochlear (IV), Trigeminal (V), Abducens (VI), Facial (VII), Auditory-Vestibular (VIII), Glossopharyngeal (IX), Vagus (X), Spinal Accessory (XI), and Hypoglossal (XII).',\n",
       " 'generations_num': 1}"
      ]
     },
     "execution_count": 183,
     "metadata": {},
     "output_type": "execute_result"
    }
   ],
   "source": [
    "app.invoke({\"question\": 'What is the order of the cranial nerves?'})"
   ]
  },
  {
   "cell_type": "markdown",
   "metadata": {},
   "source": [
    "## Evaluate RAG"
   ]
  },
  {
   "cell_type": "code",
   "execution_count": 184,
   "metadata": {},
   "outputs": [
    {
     "data": {
      "text/html": [
       "<div>\n",
       "<style scoped>\n",
       "    .dataframe tbody tr th:only-of-type {\n",
       "        vertical-align: middle;\n",
       "    }\n",
       "\n",
       "    .dataframe tbody tr th {\n",
       "        vertical-align: top;\n",
       "    }\n",
       "\n",
       "    .dataframe thead th {\n",
       "        text-align: right;\n",
       "    }\n",
       "</style>\n",
       "<table border=\"1\" class=\"dataframe\">\n",
       "  <thead>\n",
       "    <tr style=\"text-align: right;\">\n",
       "      <th></th>\n",
       "      <th>question</th>\n",
       "      <th>answer</th>\n",
       "    </tr>\n",
       "  </thead>\n",
       "  <tbody>\n",
       "    <tr>\n",
       "      <th>0</th>\n",
       "      <td>What are the afferent cranial nerve nuclei?</td>\n",
       "      <td>Trigeminal sensory nucleus- fibres carry gener...</td>\n",
       "    </tr>\n",
       "    <tr>\n",
       "      <th>1</th>\n",
       "      <td>What is the order of the cranial nerves ?</td>\n",
       "      <td>1-olfactory\\n2-optic\\n3-oculomotor\\n4-trochlea...</td>\n",
       "    </tr>\n",
       "    <tr>\n",
       "      <th>2</th>\n",
       "      <td>What are the efferent cranial nerve nuclei?</td>\n",
       "      <td>Edinger-westphal nucleus\\nOculomotor nucleus\\n...</td>\n",
       "    </tr>\n",
       "    <tr>\n",
       "      <th>3</th>\n",
       "      <td>Which nuclei share the embryo logical origin -...</td>\n",
       "      <td>Oculomotor nucleus Trochlear nucleus Abducens ...</td>\n",
       "    </tr>\n",
       "    <tr>\n",
       "      <th>4</th>\n",
       "      <td>Which nuclei share the embryo logical origin- ...</td>\n",
       "      <td>Trigeminal motor nucleus Facial motor nucleus ...</td>\n",
       "    </tr>\n",
       "    <tr>\n",
       "      <th>5</th>\n",
       "      <td>Which nuclei share the embryo logical origin- ...</td>\n",
       "      <td>Edinger-Westphal nucleus Superior and inferior...</td>\n",
       "    </tr>\n",
       "    <tr>\n",
       "      <th>6</th>\n",
       "      <td>Which cranial nerves are sensory ?</td>\n",
       "      <td>Olfactory Optic Vestibulocochlear</td>\n",
       "    </tr>\n",
       "    <tr>\n",
       "      <th>7</th>\n",
       "      <td>Which cranial nerves are motor?</td>\n",
       "      <td>Oculomotor\\nTrochlear \\nAbducens\\nAccessory\\nH...</td>\n",
       "    </tr>\n",
       "    <tr>\n",
       "      <th>8</th>\n",
       "      <td>Which of the cranial nerves have both sensory ...</td>\n",
       "      <td>TrigeminalFacial GlossopharyngealVagus</td>\n",
       "    </tr>\n",
       "    <tr>\n",
       "      <th>9</th>\n",
       "      <td>What is the function of cranial nerve 1?</td>\n",
       "      <td>The olfactory nerve is a sensory fibre for the...</td>\n",
       "    </tr>\n",
       "  </tbody>\n",
       "</table>\n",
       "</div>"
      ],
      "text/plain": [
       "                                            question  \\\n",
       "0        What are the afferent cranial nerve nuclei?   \n",
       "1          What is the order of the cranial nerves ?   \n",
       "2        What are the efferent cranial nerve nuclei?   \n",
       "3  Which nuclei share the embryo logical origin -...   \n",
       "4  Which nuclei share the embryo logical origin- ...   \n",
       "5  Which nuclei share the embryo logical origin- ...   \n",
       "6                 Which cranial nerves are sensory ?   \n",
       "7                    Which cranial nerves are motor?   \n",
       "8  Which of the cranial nerves have both sensory ...   \n",
       "9           What is the function of cranial nerve 1?   \n",
       "\n",
       "                                              answer  \n",
       "0  Trigeminal sensory nucleus- fibres carry gener...  \n",
       "1  1-olfactory\\n2-optic\\n3-oculomotor\\n4-trochlea...  \n",
       "2  Edinger-westphal nucleus\\nOculomotor nucleus\\n...  \n",
       "3  Oculomotor nucleus Trochlear nucleus Abducens ...  \n",
       "4  Trigeminal motor nucleus Facial motor nucleus ...  \n",
       "5  Edinger-Westphal nucleus Superior and inferior...  \n",
       "6                  Olfactory Optic Vestibulocochlear  \n",
       "7  Oculomotor\\nTrochlear \\nAbducens\\nAccessory\\nH...  \n",
       "8             TrigeminalFacial GlossopharyngealVagus  \n",
       "9  The olfactory nerve is a sensory fibre for the...  "
      ]
     },
     "execution_count": 184,
     "metadata": {},
     "output_type": "execute_result"
    }
   ],
   "source": [
    "qa_df = pd.read_csv('brainscape.csv')[:800]\n",
    "qa_df"
   ]
  },
  {
   "cell_type": "code",
   "execution_count": 185,
   "metadata": {},
   "outputs": [
    {
     "name": "stderr",
     "output_type": "stream",
     "text": [
      "0it [00:00, ?it/s]"
     ]
    },
    {
     "name": "stdout",
     "output_type": "stream",
     "text": [
      "---ROUTE QUESTION---\n",
      "---ROUTE QUESTION TO VECTOR STORE---\n",
      "---GENERATE DOCUMENT---\n",
      "---RETRIEVE---\n",
      "---CHECK DOCUMENT RELEVANCE TO QUESTION---\n",
      "---GRADE DOCUMENT (1/4)---\n",
      "---GRADE: DOCUMENT NOT RELEVANT---\n",
      "---GRADE DOCUMENT (2/4)---\n",
      "---GRADE: DOCUMENT NOT RELEVANT---\n",
      "---GRADE DOCUMENT (3/4)---\n",
      "---GRADE: DOCUMENT NOT RELEVANT---\n",
      "---GRADE DOCUMENT (4/4)---\n",
      "---GRADE: DOCUMENT NOT RELEVANT---\n",
      "final len 0\n",
      "---ASSESS GRADED DOCUMENTS---\n",
      "---DECISION: ALL DOCUMENTS ARE NOT RELEVANT TO QUESTION, INCLUDE WEB SEARCH---\n",
      "---WEB SEARCH---\n",
      "Web results Cranial Nerve Nuclei Cranial Nerve Nuclei Locations of cranial nerve nuclei are shown in transverse sections (left), a dorsal view of the brain stem (lower right), and a medial view of the right half of the brain stem (top right). General somatic afferent nuclei are red. Special somatic afferent nuclei (vision, hearing, vestibular sense) are not shown, except as landmarks. (III-XII = cranial nerves; motorV = motor nucleus of V; nucl. mes.tr.V & mes.tr.V = nucleus of the mesencephalic tract of V and mesencephalic tract of V; nucl.pon.sen.V = pontine sensory nucleus of V; nucl.sp.tr.V & sp.tr.V = nucleus of the spinal tract of V and spinal tract of V; nucl.sol.tr. = nucleus of the solitary tract and solitary tract; p.III, p.VII, p.IX, and p.X = parasympathetic nuclei of the respective cranial nerves.\n",
      "A cranial nerve nucleus is a collection of neurons ... Just lateral to this are the autonomic (or visceral) efferent nuclei. There is a separation, called the sulcus limitans, and lateral to this are the sensory nuclei. Near the sulcus limitans are the visceral afferent nuclei, ...\n",
      "Cranial nerves innervate mainly head structures. The nerves are composed of axons traveling to or from brainstem nuclei (or to olfactory bulbs).Thus axons within cranial nerves are afferent or efferent relative to brainstem nuclei.Cranial nerve nuclei form interrupted columns of neuron cell bodies within the brainstem. Each nuclear column represents a particular fiber-type.\n",
      "An official website of the United States government Federal government websites often end in .gov or .mil. official website and that any information you provide is encrypted Save citation to file Neuroanatomy, Cranial Nerve The cranial nerves provide afferent and efferent innervation principally to the head and neck structures. Unlike spinal nerves, whose roots are neural fibers from the spinal grey matter, cranial nerves are composed of the neural processes associated with distinct brainstem nuclei and cortical structures. Unlike the spinal nerves, cranial nerve nuclei are functionally organized into distinct nuclei within the brainstem. Cranial Nerves. PubMed Disclaimer Disclosure: James Sonne declares no relevant financial relationships with ineligible companies. Disclosure: Wilfredo Lopez-Ojeda declares no relevant financial relationships with ineligible companies.\n",
      "At the level of the midbrain and medulla, there is a grey matter region called periaqueductal grey/central grey matter which surrounds the cerebral aqueduct and gives origin to some cranial nerve nuclei including the mesencephalic nucleus of the trigeminal nerve. Most of the cranial nerve nuclei that migrated from their original position (in relation to the floor of fourth ventricle) during embryonic development are situated in this grey matter region (central grey matter). During embryonic development, the cranial nerve nuclei related to the various components – GSE, SVE, GVE, GSA, SSA, GVA and SVA, are arranged in vertical rows called columns in a definitive sequence in the grey matter related to the floor of the fourth ventricle.\n",
      "---GENERATE---\n",
      "---CHECK HALLUCINATIONS---\n",
      "---DECISION: GENERATION IS GROUNDED IN DOCUMENTS---\n",
      "---GRADE GENERATION vs QUESTION---\n"
     ]
    },
    {
     "name": "stderr",
     "output_type": "stream",
     "text": [
      "1it [00:12, 12.99s/it]"
     ]
    },
    {
     "name": "stdout",
     "output_type": "stream",
     "text": [
      "---DECISION: GENERATION ADDRESSES QUESTION---\n",
      "---ROUTE QUESTION---\n",
      "---ROUTE QUESTION TO VECTOR STORE---\n",
      "---GENERATE DOCUMENT---\n",
      "---RETRIEVE---\n",
      "---CHECK DOCUMENT RELEVANCE TO QUESTION---\n",
      "---GRADE DOCUMENT (1/4)---\n",
      "---GRADE: DOCUMENT NOT RELEVANT---\n",
      "---GRADE DOCUMENT (2/4)---\n",
      "---GRADE: DOCUMENT NOT RELEVANT---\n",
      "---GRADE DOCUMENT (3/4)---\n",
      "---GRADE: DOCUMENT NOT RELEVANT---\n",
      "---GRADE DOCUMENT (4/4)---\n",
      "---GRADE: DOCUMENT NOT RELEVANT---\n",
      "final len 0\n",
      "---ASSESS GRADED DOCUMENTS---\n",
      "---DECISION: ALL DOCUMENTS ARE NOT RELEVANT TO QUESTION, INCLUDE WEB SEARCH---\n",
      "---WEB SEARCH---\n",
      "Web results Anatomy. Cranial nerves are the 12 nerves of the peripheral nervous system that emerge from the foramina and fissures of the cranium.Their numerical order (1-12) is determined by their skull exit location (rostral to caudal). All cranial nerves originate from nuclei in the brain.Two originate from the forebrain (Olfactory and Optic), one has a nucleus in the spinal cord (Accessory) while the ...\n",
      "The numbering of the cranial nerves is based on the order in which they emerge from the brain and brainstem, from front to back. [2] The terminal nerves (0), olfactory nerves (I) and optic nerves (II) emerge from the cerebrum, and the remaining ten pairs arise from the brainstem, which is the lower part of the brain. [3]\n",
      "The cranial nerves are numbered by their location on the brainstem (superior to inferior, then medial to lateral) and the order of their exit from the cranium (anterior to posterior) (Figures 1 & 2). By Patrick J. Lynch, medical illustrator derivative work: Beao derivative work: Dwstultz [CC BY 2.5], via Wikimedia Commons\n",
      "The 12 cranial nerves are essential nerve pathways that originate in the brain and serve critical functions in the body, primarily in the head and neck. These nerves are: I. Olfactory (smell), II. Optic (vision), III. Oculomotor (eye movement), IV. Trochlear (eye movement), V. Trigeminal (facial sensation and chewing), VI. Abducent (eye movement), VII.\n",
      "Cranial nerve mnemonics are memory devices to help you remember the names of the nerves in order of one through 12. They can also help you remember whether the nerves are sensory, motor or both. Cranial nerve mnemonics to remember the names of the nerves in order include:\n",
      "---GENERATE---\n",
      "---CHECK HALLUCINATIONS---\n",
      "---DECISION: GENERATION IS GROUNDED IN DOCUMENTS---\n",
      "---GRADE GENERATION vs QUESTION---\n"
     ]
    },
    {
     "name": "stderr",
     "output_type": "stream",
     "text": [
      "2it [00:27, 14.00s/it]"
     ]
    },
    {
     "name": "stdout",
     "output_type": "stream",
     "text": [
      "---DECISION: GENERATION ADDRESSES QUESTION---\n",
      "---ROUTE QUESTION---\n",
      "---ROUTE QUESTION TO VECTOR STORE---\n",
      "---GENERATE DOCUMENT---\n",
      "---RETRIEVE---\n",
      "---CHECK DOCUMENT RELEVANCE TO QUESTION---\n",
      "---GRADE DOCUMENT (1/4)---\n",
      "---GRADE: DOCUMENT NOT RELEVANT---\n",
      "---GRADE DOCUMENT (2/4)---\n",
      "---GRADE: DOCUMENT NOT RELEVANT---\n",
      "---GRADE DOCUMENT (3/4)---\n",
      "---GRADE: DOCUMENT NOT RELEVANT---\n",
      "---GRADE DOCUMENT (4/4)---\n",
      "---GRADE: DOCUMENT NOT RELEVANT---\n",
      "final len 0\n",
      "---ASSESS GRADED DOCUMENTS---\n",
      "---DECISION: ALL DOCUMENTS ARE NOT RELEVANT TO QUESTION, INCLUDE WEB SEARCH---\n",
      "---WEB SEARCH---\n",
      "Web results A cranial nerve nucleus is a collection of neurons (gray matter) ... Close to the midline are the motor efferent nuclei, such as the oculomotor nucleus, which control skeletal muscle. Just lateral to this are the autonomic (or visceral) efferent nuclei.\n",
      "Inferior salivary nucleus fibers travel with cranial nerve IX to provide general visceral efferent (GVE) innervation to parotid, buccal, and labial glands. Cranial nerve XI, the spinal accessory nerve, is responsible for the general somatic efferent (GSE) motor innervation of the trapezius and sternocleidomastoid muscles by way of the spinal nucleus of the accessory nerve. Cranial nerves V, VII, IX, and X are considered mixed cranial nerves due to afferent and efferent fibers with sensory and motor components.\n",
      "Cranial nerve 3 is both a somatic and visceral efferent motor nerve. This means it has two nuclei and carries two types of efferent fibers. As the name suggests, the oculomotor nerve is the chief motor nerve supplying the eye.\n",
      "Cranial Nerve Nuclei Cranial Nerve Nuclei Locations of cranial nerve nuclei are shown in transverse sections (left), a dorsal view of the brain stem (lower right), and a medial view of the right half of the brain stem (top right). General somatic afferent nuclei are red. Special somatic afferent nuclei (vision, hearing, vestibular sense) are not shown, except as landmarks. (III-XII = cranial nerves; motorV = motor nucleus of V; nucl. mes.tr.V & mes.tr.V = nucleus of the mesencephalic tract of V and mesencephalic tract of V; nucl.pon.sen.V = pontine sensory nucleus of V; nucl.sp.tr.V & sp.tr.V = nucleus of the spinal tract of V and spinal tract of V; nucl.sol.tr. = nucleus of the solitary tract and solitary tract; p.III, p.VII, p.IX, and p.X = parasympathetic nuclei of the respective cranial nerves.\n",
      "An official website of the United States government Federal government websites often end in .gov or .mil. official website and that any information you provide is encrypted Save citation to file Neuroanatomy, Cranial Nerve The cranial nerves provide afferent and efferent innervation principally to the head and neck structures. Unlike spinal nerves, whose roots are neural fibers from the spinal grey matter, cranial nerves are composed of the neural processes associated with distinct brainstem nuclei and cortical structures. Unlike the spinal nerves, cranial nerve nuclei are functionally organized into distinct nuclei within the brainstem. Cranial Nerves. PubMed Disclaimer Disclosure: James Sonne declares no relevant financial relationships with ineligible companies. Disclosure: Wilfredo Lopez-Ojeda declares no relevant financial relationships with ineligible companies.\n",
      "---GENERATE---\n",
      "---CHECK HALLUCINATIONS---\n",
      "---DECISION: GENERATION IS GROUNDED IN DOCUMENTS---\n",
      "---GRADE GENERATION vs QUESTION---\n"
     ]
    },
    {
     "name": "stderr",
     "output_type": "stream",
     "text": [
      "3it [00:38, 12.71s/it]"
     ]
    },
    {
     "name": "stdout",
     "output_type": "stream",
     "text": [
      "---DECISION: GENERATION ADDRESSES QUESTION---\n",
      "---ROUTE QUESTION---\n",
      "---ROUTE QUESTION TO VECTOR STORE---\n",
      "---GENERATE DOCUMENT---\n",
      "---RETRIEVE---\n",
      "---CHECK DOCUMENT RELEVANCE TO QUESTION---\n",
      "---GRADE DOCUMENT (1/4)---\n",
      "---GRADE: DOCUMENT NOT RELEVANT---\n",
      "---GRADE DOCUMENT (2/4)---\n",
      "---GRADE: DOCUMENT NOT RELEVANT---\n",
      "---GRADE DOCUMENT (3/4)---\n",
      "---GRADE: DOCUMENT NOT RELEVANT---\n",
      "---GRADE DOCUMENT (4/4)---\n",
      "---GRADE: DOCUMENT NOT RELEVANT---\n",
      "final len 0\n",
      "---ASSESS GRADED DOCUMENTS---\n",
      "---DECISION: ALL DOCUMENTS ARE NOT RELEVANT TO QUESTION, INCLUDE WEB SEARCH---\n",
      "---WEB SEARCH---\n",
      "Web results Dimensionality reduction of all cells based on non-discretized IMC protein data lead to a general separation by media conditions, but visually no distinct fate enriched populations indicated by neuroectoderm (Sox1) and endoderm fate marker expression (Sox17, FoxA2) separate from the overall population were observed (Fig. 1D, Supplementary Fig. 2B). In addition to SOX1 expressing cells, which is expected in neuroectoderm promoting RA, we also observed a considerable proportion of cells (4%) expressing the endoderm marker FOXA2 (Fig. 3C)34. Sox1+FOXA2+ cells display a unique cell state wherein both neuroectoderm and endoderm markers are expressed at intermediate levels (Fig. 5C, D, Supplementary Fig. 6A, B).\n",
      "---GENERATE---\n",
      "---CHECK HALLUCINATIONS---\n",
      "---DECISION: GENERATION IS NOT GROUNDED IN DOCUMENTS, RE-TRY---\n",
      "---GENERATE---\n"
     ]
    },
    {
     "name": "stderr",
     "output_type": "stream",
     "text": [
      "4it [00:47, 10.93s/it]"
     ]
    },
    {
     "name": "stdout",
     "output_type": "stream",
     "text": [
      "---CHECK HALLUCINATIONS---\n",
      "---ROUTE QUESTION---\n",
      "---ROUTE QUESTION TO VECTOR STORE---\n",
      "---GENERATE DOCUMENT---\n",
      "---RETRIEVE---\n",
      "---CHECK DOCUMENT RELEVANCE TO QUESTION---\n",
      "---GRADE DOCUMENT (1/4)---\n",
      "---GRADE: DOCUMENT NOT RELEVANT---\n",
      "---GRADE DOCUMENT (2/4)---\n",
      "---GRADE: DOCUMENT NOT RELEVANT---\n",
      "---GRADE DOCUMENT (3/4)---\n",
      "---GRADE: DOCUMENT NOT RELEVANT---\n",
      "---GRADE DOCUMENT (4/4)---\n",
      "---GRADE: DOCUMENT NOT RELEVANT---\n",
      "final len 0\n",
      "---ASSESS GRADED DOCUMENTS---\n",
      "---DECISION: ALL DOCUMENTS ARE NOT RELEVANT TO QUESTION, INCLUDE WEB SEARCH---\n",
      "---WEB SEARCH---\n",
      "Web results another. Additionally, both somatic and branchiomotor nuclei initially form loosely deﬁned nuclei and coalesce into charac-teristic, distinct locations within the brainstem. Thus, cranial motor nucleogenesis involves an active process of segrega-tion of the nuclei, despite early differences in progenitor cell location.\n",
      "A. Edinger-Westphal nucleus. B. dorsal motor nucleus of vagus. C. hypoglossal nucleus. D. abducens nucleus. E. facial motor nucleus. E. Study with Quizlet and memorize flashcards containing terms like Which of the following structures of the brainstem are largely present in more than one embryological subdivision (i.e., midbrain and pons, pons ...\n",
      "The real origin of the PCC fibers surrounding the main nucleus is a complex population of nuclei: the Perlia, Edinger-Westphal and Darkschewitsch nuclei (Ramón y Cajal, 1911). Of the above-mentioned nuclei the only one that was considered related to CN III was the Edinger-Westphal nucleus that supplies the intraocular muscles (Brodal, 1981 ).\n",
      "In spinal nerves, it is useful to distinguish between somatic and visceral motor fibres. Somatic motor (voluntary) fibres innervate muscles which develop from somites: striated muscle. Visceral motor (autonomic, involuntary) fibres innervate muscles which develop in association with the gut tube and its derivatives (e.g. bronchial tree), in glands, hair follicles and the heart. Branchial arch muscles are concerned only with the cephalic end of the gut tube and have no equivalents below the neck; they are innervated by branchiomotor fibres, found only in cranial nerves, which originate from branchiomotor nuclei in the brain stem. Save book to Kindle To save this book to your Kindle, first ensure coreplatform@cambridge.org Find out more about saving to your Kindle.\n",
      "At the level of the midbrain and medulla, there is a grey matter region called periaqueductal grey/central grey matter which surrounds the cerebral aqueduct and gives origin to some cranial nerve nuclei including the mesencephalic nucleus of the trigeminal nerve. Most of the cranial nerve nuclei that migrated from their original position (in relation to the floor of fourth ventricle) during embryonic development are situated in this grey matter region (central grey matter). During embryonic development, the cranial nerve nuclei related to the various components – GSE, SVE, GVE, GSA, SSA, GVA and SVA, are arranged in vertical rows called columns in a definitive sequence in the grey matter related to the floor of the fourth ventricle.\n",
      "---GENERATE---\n",
      "---CHECK HALLUCINATIONS---\n",
      "---DECISION: GENERATION IS GROUNDED IN DOCUMENTS---\n",
      "---GRADE GENERATION vs QUESTION---\n"
     ]
    },
    {
     "name": "stderr",
     "output_type": "stream",
     "text": [
      "5it [00:55, 10.13s/it]"
     ]
    },
    {
     "name": "stdout",
     "output_type": "stream",
     "text": [
      "---DECISION: GENERATION ADDRESSES QUESTION---\n",
      "---ROUTE QUESTION---\n",
      "---ROUTE QUESTION TO VECTOR STORE---\n",
      "---GENERATE DOCUMENT---\n",
      "---RETRIEVE---\n",
      "---CHECK DOCUMENT RELEVANCE TO QUESTION---\n",
      "---GRADE DOCUMENT (1/4)---\n",
      "---GRADE: DOCUMENT NOT RELEVANT---\n",
      "---GRADE DOCUMENT (2/4)---\n",
      "---GRADE: DOCUMENT NOT RELEVANT---\n",
      "---GRADE DOCUMENT (3/4)---\n",
      "---GRADE: DOCUMENT NOT RELEVANT---\n",
      "---GRADE DOCUMENT (4/4)---\n",
      "---GRADE: DOCUMENT NOT RELEVANT---\n",
      "final len 0\n",
      "---ASSESS GRADED DOCUMENTS---\n",
      "---DECISION: ALL DOCUMENTS ARE NOT RELEVANT TO QUESTION, INCLUDE WEB SEARCH---\n",
      "---WEB SEARCH---\n",
      "Web results A. Edinger-Westphal nucleus. B. dorsal motor nucleus of vagus. C. hypoglossal nucleus. D. abducens nucleus. E. facial motor nucleus. E. Study with Quizlet and memorize flashcards containing terms like Which of the following structures of the brainstem are largely present in more than one embryological subdivision (i.e., midbrain and pons, pons ...\n",
      "The real origin of the PCC fibers surrounding the main nucleus is a complex population of nuclei: the Perlia, Edinger-Westphal and Darkschewitsch nuclei (Ramón y Cajal, 1911). Of the above-mentioned nuclei the only one that was considered related to CN III was the Edinger-Westphal nucleus that supplies the intraocular muscles (Brodal, 1981 ).\n",
      "It has 2 motor nuclei: (1) the main motor nucleus and (2) the accessory parasympathetic nucleus, which form together the oculomotor complex. The main oculomotor nucleus lies in the periaqueductal gray matter in the midbrain at the level of the superior colliculus, ventral to the cerebral aqueduct and dorsal to the medial longitudinal fasciculus ...\n",
      "At the level of the midbrain and medulla, there is a grey matter region called periaqueductal grey/central grey matter which surrounds the cerebral aqueduct and gives origin to some cranial nerve nuclei including the mesencephalic nucleus of the trigeminal nerve. Most of the cranial nerve nuclei that migrated from their original position (in relation to the floor of fourth ventricle) during embryonic development are situated in this grey matter region (central grey matter). During embryonic development, the cranial nerve nuclei related to the various components – GSE, SVE, GVE, GSA, SSA, GVA and SVA, are arranged in vertical rows called columns in a definitive sequence in the grey matter related to the floor of the fourth ventricle.\n",
      "Study with Quizlet and memorize flashcards containing terms like What is the Edinger-Westphal Nucleus?, What is Trigeminal Sensory Nucleus?, What is Trigeminal Motor Nucleus (mid-pons)? and more.\n",
      "---GENERATE---\n",
      "---CHECK HALLUCINATIONS---\n",
      "---DECISION: GENERATION IS GROUNDED IN DOCUMENTS---\n",
      "---GRADE GENERATION vs QUESTION---\n"
     ]
    },
    {
     "name": "stderr",
     "output_type": "stream",
     "text": [
      "6it [01:04,  9.49s/it]"
     ]
    },
    {
     "name": "stdout",
     "output_type": "stream",
     "text": [
      "---DECISION: GENERATION ADDRESSES QUESTION---\n",
      "---ROUTE QUESTION---\n",
      "---ROUTE QUESTION TO VECTOR STORE---\n",
      "---GENERATE DOCUMENT---\n",
      "---RETRIEVE---\n",
      "---CHECK DOCUMENT RELEVANCE TO QUESTION---\n",
      "---GRADE DOCUMENT (1/4)---\n",
      "---GRADE: DOCUMENT NOT RELEVANT---\n",
      "---GRADE DOCUMENT (2/4)---\n",
      "---GRADE: DOCUMENT NOT RELEVANT---\n",
      "---GRADE DOCUMENT (3/4)---\n",
      "---GRADE: DOCUMENT NOT RELEVANT---\n",
      "---GRADE DOCUMENT (4/4)---\n",
      "---GRADE: DOCUMENT NOT RELEVANT---\n",
      "final len 0\n",
      "---ASSESS GRADED DOCUMENTS---\n",
      "---DECISION: ALL DOCUMENTS ARE NOT RELEVANT TO QUESTION, INCLUDE WEB SEARCH---\n",
      "---WEB SEARCH---\n",
      "Web results The functions of the cranial nerves are sensory, motor, or both. Sensory cranial nerves help a person see, smell, and hear. Conversely, motor cranial nerves help control muscle movements in the ...\n",
      "Sensory cranial nerves: Anatomy, functions and diagram | Kenhub Deutsch Português Español Français Basics Upper limb Lower limb Spine and back Thorax Abdomen Pelvis and perineum Head and neck Neuroanatomy Cross sections Radiological anatomy Optic nerve (cranial view) Optic nerve (cranial view) Signals received and transmitted by the vestibular branches of the vestibulocochlear nerve influence eye movements by way of the vestibular nuclei, which in turn project axons to the oculomotor, trochlear, and abducens nuclei which influence movement of the extraocular muscles. Optic nerve (lateral-left view) - Paul Kim Optic nerve (cranial view) - Paul Kim Vestibular nerve (anterior view) - Paul Kim Vestibular nerve (anterior view) - Paul Kim\n",
      "The cranial nerves give rise to a number of ganglia, collections of the cell bodies of neurons in the nerves that are outside of the brain. These ganglia are both parasympathetic and sensory ganglia. [10] The sensory ganglia of the cranial nerves, directly correspond to the dorsal root ganglia of spinal nerves and are known as cranial nerve ...\n",
      "Motor nerves play a role in controlling specific muscles. Some cranial nerves have both sensory and motor functions. Your 12 cranial nerves each have a specific function. Healthcare providers categorize the cranial nerves based on number and function: Olfactory nerve (CN I): Providing the sense of smell. Optic nerve (CN II): Providing vision.\n",
      "Inferior salivary nucleus fibers travel with cranial nerve IX to provide general visceral efferent (GVE) innervation to parotid, buccal, and labial glands. Cranial nerve XI, the spinal accessory nerve, is responsible for the general somatic efferent (GSE) motor innervation of the trapezius and sternocleidomastoid muscles by way of the spinal nucleus of the accessory nerve. Cranial nerves V, VII, IX, and X are considered mixed cranial nerves due to afferent and efferent fibers with sensory and motor components.\n",
      "---GENERATE---\n",
      "---CHECK HALLUCINATIONS---\n",
      "---DECISION: GENERATION IS GROUNDED IN DOCUMENTS---\n",
      "---GRADE GENERATION vs QUESTION---\n"
     ]
    },
    {
     "name": "stderr",
     "output_type": "stream",
     "text": [
      "7it [01:15, 10.29s/it]"
     ]
    },
    {
     "name": "stdout",
     "output_type": "stream",
     "text": [
      "---DECISION: GENERATION ADDRESSES QUESTION---\n",
      "---ROUTE QUESTION---\n",
      "---ROUTE QUESTION TO VECTOR STORE---\n",
      "---GENERATE DOCUMENT---\n",
      "---RETRIEVE---\n",
      "---CHECK DOCUMENT RELEVANCE TO QUESTION---\n",
      "---GRADE DOCUMENT (1/4)---\n",
      "---GRADE: DOCUMENT NOT RELEVANT---\n",
      "---GRADE DOCUMENT (2/4)---\n",
      "---GRADE: DOCUMENT NOT RELEVANT---\n",
      "---GRADE DOCUMENT (3/4)---\n",
      "---GRADE: DOCUMENT NOT RELEVANT---\n",
      "---GRADE DOCUMENT (4/4)---\n",
      "---GRADE: DOCUMENT NOT RELEVANT---\n",
      "final len 0\n",
      "---ASSESS GRADED DOCUMENTS---\n",
      "---DECISION: ALL DOCUMENTS ARE NOT RELEVANT TO QUESTION, INCLUDE WEB SEARCH---\n",
      "---WEB SEARCH---\n",
      "Web results Motor cranial nerves: Anatomy, functions and components | Kenhub Deutsch Português Español Français Basics Upper limb Lower limb Spine and back Thorax Abdomen Pelvis and perineum Head and neck Neuroanatomy Cross sections Radiological anatomy Basics Upper limb Lower limb Spine and back Thorax Abdomen Pelvis and perineum Head and neck Neuroanatomy Cross sections Radiological anatomy Finally, the oculomotor nerve, the trochlear nerve, the mandibular branch of the trigeminal nerve (V3), the abducens nerve, the facial nerve, the glossopharyngeal nerve, the vagus nerve, the spinal accessory nerve, and the hypoglossal nerve are responsible for motor functions. Motor cranial nerves: want to learn more about it?\n",
      "Motor nerves play a role in controlling specific muscles. Some cranial nerves have both sensory and motor functions. Your 12 cranial nerves each have a specific function. Healthcare providers categorize the cranial nerves based on number and function: Olfactory nerve (CN I): Providing the sense of smell. Optic nerve (CN II): Providing vision.\n",
      "The functions of the cranial nerves are sensory, motor, or both. Sensory cranial nerves help a person see, smell, and hear. Conversely, motor cranial nerves help control muscle movements in the ...\n",
      "The cranial nerves are a set of 12 paired nerves that arise directly from the brain. The first two (olfactory and optic) arise from the cerebrum, whereas the remaining ten emerge from the brain stem. ... Motor (efferent) modalities: General somatic motor (GSM) - skeletal muscles. General visceral motor (GVM) - smooth muscles of gut and ...\n",
      "Cranial nerve 3 is both a somatic and visceral efferent motor nerve. This means it has two nuclei and carries two types of efferent fibers. As the name suggests, the oculomotor nerve is the chief motor nerve supplying the eye.\n",
      "---GENERATE---\n",
      "---CHECK HALLUCINATIONS---\n",
      "---DECISION: GENERATION IS GROUNDED IN DOCUMENTS---\n",
      "---GRADE GENERATION vs QUESTION---\n"
     ]
    },
    {
     "name": "stderr",
     "output_type": "stream",
     "text": [
      "8it [01:33, 12.54s/it]"
     ]
    },
    {
     "name": "stdout",
     "output_type": "stream",
     "text": [
      "---DECISION: GENERATION ADDRESSES QUESTION---\n",
      "---ROUTE QUESTION---\n",
      "---ROUTE QUESTION TO VECTOR STORE---\n",
      "---GENERATE DOCUMENT---\n",
      "---RETRIEVE---\n",
      "---CHECK DOCUMENT RELEVANCE TO QUESTION---\n",
      "---GRADE DOCUMENT (1/4)---\n",
      "---GRADE: DOCUMENT NOT RELEVANT---\n",
      "---GRADE DOCUMENT (2/4)---\n",
      "---GRADE: DOCUMENT NOT RELEVANT---\n",
      "---GRADE DOCUMENT (3/4)---\n",
      "---GRADE: DOCUMENT NOT RELEVANT---\n",
      "---GRADE DOCUMENT (4/4)---\n",
      "---GRADE: DOCUMENT NOT RELEVANT---\n",
      "final len 0\n",
      "---ASSESS GRADED DOCUMENTS---\n",
      "---DECISION: ALL DOCUMENTS ARE NOT RELEVANT TO QUESTION, INCLUDE WEB SEARCH---\n",
      "---WEB SEARCH---\n",
      "Web results Motor nerves play a role in controlling specific muscles. Some cranial nerves have both sensory and motor functions. Your 12 cranial nerves each have a specific function. Healthcare providers categorize the cranial nerves based on number and function: Olfactory nerve (CN I): Providing the sense of smell. Optic nerve (CN II): Providing vision.\n",
      "Cranial nerves anatomy is essential for almost any medical specialty since they control so many body ... Cranial nerves supply sensory and motor information to structures of the ... If it travels from the periphery to the brain, then it is an afferent (sensory) nerve. Nerves that do both are mixed nerves. Unlike spinal nerves which are ...\n",
      "The functions of the cranial nerves are sensory, motor, or both. Sensory cranial nerves help a person see, smell, and hear. Conversely, motor cranial nerves help control muscle movements in the ...\n",
      "They each emerge separately from the brain stem, which is the lower part of the brain that links the brain with the spinal cord. Each cranial nerve has a specific set of functions. Some of the cranial nerves control sensation, some control muscle movement, and some have both sensory and motor effects. Several of the cranial nerves run through ...\n",
      "Each cranial nerve can be described as being sensory, motor or both. They can more specifically transmit seven types of information; three are unique to cranial nerves (SSS, SVS and SVM). Sensory (afferent) modalities: General somatic sensory (GSS) - general sensation from skin. General visceral sensory (GVS) - general sensation from viscera.\n",
      "---GENERATE---\n",
      "---CHECK HALLUCINATIONS---\n",
      "---DECISION: GENERATION IS GROUNDED IN DOCUMENTS---\n",
      "---GRADE GENERATION vs QUESTION---\n"
     ]
    },
    {
     "name": "stderr",
     "output_type": "stream",
     "text": [
      "9it [01:42, 11.38s/it]"
     ]
    },
    {
     "name": "stdout",
     "output_type": "stream",
     "text": [
      "---DECISION: GENERATION ADDRESSES QUESTION---\n",
      "---ROUTE QUESTION---\n",
      "---ROUTE QUESTION TO VECTOR STORE---\n",
      "---GENERATE DOCUMENT---\n",
      "---RETRIEVE---\n",
      "---CHECK DOCUMENT RELEVANCE TO QUESTION---\n",
      "---GRADE DOCUMENT (1/4)---\n",
      "---GRADE: DOCUMENT NOT RELEVANT---\n",
      "---GRADE DOCUMENT (2/4)---\n",
      "---GRADE: DOCUMENT NOT RELEVANT---\n",
      "---GRADE DOCUMENT (3/4)---\n",
      "---GRADE: DOCUMENT NOT RELEVANT---\n",
      "---GRADE DOCUMENT (4/4)---\n",
      "---GRADE: DOCUMENT NOT RELEVANT---\n",
      "final len 0\n",
      "---ASSESS GRADED DOCUMENTS---\n",
      "---DECISION: ALL DOCUMENTS ARE NOT RELEVANT TO QUESTION, INCLUDE WEB SEARCH---\n",
      "---WEB SEARCH---\n",
      "Web results What is the function of the cranial nerves? Your cranial nerves play a role in relaying sensory and/or movement (motor) information. Sensory nerves can help you: Feel touch and sense pain and temperature. Hear. See. Smell. Taste. Motor nerves play a role in controlling specific muscles. Some cranial nerves have both sensory and motor functions.\n",
      "The functions of the cranial nerves are sensory, motor, or both. Sensory cranial nerves help a person see, smell, and hear. Conversely, motor cranial nerves help control muscle movements in the ...\n",
      "Olfactory nerve. The olfactory nerve, also known as the first cranial nerve, cranial nerve I, or simply CN I, is a cranial nerve that contains sensory nerve fibers relating to the sense of smell. The afferent nerve fibers of the olfactory receptor neurons transmit nerve impulses about odors to the central nervous system (olfaction).\n",
      "The olfactory nerve is the first cranial nerve and is instrumental in our sense of smell. The olfactory nerve contains only afferent sensory nerve fibers and, like all cranial nerves, is paired. The olfactory nerve is the shortest cranial nerve, and along with the optic nerve is one of the only two cranial nerves that do not converge with the brainstem. Embryologically, the olfactory nerve is ...\n",
      "The olfactory nerve (CN I) is the first and shortest cranial nerve. It is a special visceral afferent nerve, which transmits information relating to smell. Embryologicallly, the olfactory nerve is derived from the olfactory placode (a thickening of the ectoderm layer), which also give rise to the glial cells which support the nerve.\n",
      "---GENERATE---\n",
      "---CHECK HALLUCINATIONS---\n",
      "---DECISION: GENERATION IS GROUNDED IN DOCUMENTS---\n",
      "---GRADE GENERATION vs QUESTION---\n"
     ]
    },
    {
     "name": "stderr",
     "output_type": "stream",
     "text": [
      "10it [01:51, 11.19s/it]"
     ]
    },
    {
     "name": "stdout",
     "output_type": "stream",
     "text": [
      "---DECISION: GENERATION ADDRESSES QUESTION---\n"
     ]
    },
    {
     "name": "stderr",
     "output_type": "stream",
     "text": [
      "\n"
     ]
    },
    {
     "data": {
      "text/plain": [
       "0.5889750513776735"
      ]
     },
     "execution_count": 185,
     "metadata": {},
     "output_type": "execute_result"
    }
   ],
   "source": [
    "questions = list(qa_df['question'].tolist())\n",
    "expected_answers = list(qa_df['answer'].tolist())\n",
    "predicted_answers = []\n",
    "\n",
    "for index, question in tqdm(enumerate(questions)):\n",
    "  answer = app.invoke({'question': question})['generation']\n",
    "  predicted_answers.append(answer)"
   ]
  },
  {
   "cell_type": "code",
   "execution_count": null,
   "metadata": {},
   "outputs": [],
   "source": [
    "cos_score = embeddings_cosine_sim_metric(expected_answers, predicted_answers)\n",
    "bleu_score = bleu_metric(expected_answers, predicted_answers)\n",
    "rogue_1_score = rogue_1_metric(expected_answers, predicted_answers)\n",
    "rogue_l_score = rogue_l_metric(expected_answers, predicted_answers)\n",
    "\n",
    "cos_score, bleu_score, rogue_1_score, rogue_l_score"
   ]
  }
 ],
 "metadata": {
  "kernelspec": {
   "display_name": "base",
   "language": "python",
   "name": "python3"
  },
  "language_info": {
   "codemirror_mode": {
    "name": "ipython",
    "version": 3
   },
   "file_extension": ".py",
   "mimetype": "text/x-python",
   "name": "python",
   "nbconvert_exporter": "python",
   "pygments_lexer": "ipython3",
   "version": "3.9.19"
  }
 },
 "nbformat": 4,
 "nbformat_minor": 2
}
